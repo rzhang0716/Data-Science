{
  "nbformat": 4,
  "nbformat_minor": 0,
  "metadata": {
    "colab": {
      "name": "Random Survival Forests.ipynb",
      "provenance": [],
      "collapsed_sections": [],
      "machine_shape": "hm"
    },
    "kernelspec": {
      "name": "python3",
      "display_name": "Python 3"
    },
    "language_info": {
      "name": "python"
    },
    "accelerator": "GPU"
  },
  "cells": [
    {
      "cell_type": "code",
      "metadata": {
        "colab": {
          "base_uri": "https://localhost:8080/",
          "height": 0
        },
        "id": "zB-myJDqLSvn",
        "outputId": "b3b58154-e6f3-4dde-94b2-ef1ed21af31b"
      },
      "source": [
        "gpu_info = !nvidia-smi\n",
        "gpu_info = '\\n'.join(gpu_info)\n",
        "if gpu_info.find('failed') >= 0:\n",
        "  print('Not connected to a GPU')\n",
        "else:\n",
        "  print(gpu_info)"
      ],
      "execution_count": 1,
      "outputs": [
        {
          "output_type": "stream",
          "name": "stdout",
          "text": [
            "Wed Nov  3 19:17:22 2021       \n",
            "+-----------------------------------------------------------------------------+\n",
            "| NVIDIA-SMI 495.44       Driver Version: 460.32.03    CUDA Version: 11.2     |\n",
            "|-------------------------------+----------------------+----------------------+\n",
            "| GPU  Name        Persistence-M| Bus-Id        Disp.A | Volatile Uncorr. ECC |\n",
            "| Fan  Temp  Perf  Pwr:Usage/Cap|         Memory-Usage | GPU-Util  Compute M. |\n",
            "|                               |                      |               MIG M. |\n",
            "|===============================+======================+======================|\n",
            "|   0  Tesla P100-PCIE...  Off  | 00000000:00:04.0 Off |                    0 |\n",
            "| N/A   44C    P0    28W / 250W |      0MiB / 16280MiB |      0%      Default |\n",
            "|                               |                      |                  N/A |\n",
            "+-------------------------------+----------------------+----------------------+\n",
            "                                                                               \n",
            "+-----------------------------------------------------------------------------+\n",
            "| Processes:                                                                  |\n",
            "|  GPU   GI   CI        PID   Type   Process name                  GPU Memory |\n",
            "|        ID   ID                                                   Usage      |\n",
            "|=============================================================================|\n",
            "|  No running processes found                                                 |\n",
            "+-----------------------------------------------------------------------------+\n"
          ]
        }
      ]
    },
    {
      "cell_type": "code",
      "metadata": {
        "colab": {
          "base_uri": "https://localhost:8080/",
          "height": 0
        },
        "id": "mYA2GlMtLswt",
        "outputId": "7211c916-28f8-4e31-f790-0f6943a80ce8"
      },
      "source": [
        "from psutil import virtual_memory\n",
        "ram_gb = virtual_memory().total / 1e9\n",
        "print('Your runtime has {:.1f} gigabytes of available RAM\\n'.format(ram_gb))\n",
        "\n",
        "if ram_gb < 20:\n",
        "  print('Not using a high-RAM runtime')\n",
        "else:\n",
        "  print('You are using a high-RAM runtime!')"
      ],
      "execution_count": 2,
      "outputs": [
        {
          "output_type": "stream",
          "name": "stdout",
          "text": [
            "Your runtime has 27.3 gigabytes of available RAM\n",
            "\n",
            "You are using a high-RAM runtime!\n"
          ]
        }
      ]
    },
    {
      "cell_type": "code",
      "metadata": {
        "colab": {
          "base_uri": "https://localhost:8080/",
          "height": 0
        },
        "id": "vTc2T1hUJJ2_",
        "outputId": "9244b1ac-8bde-4b33-81c2-4601ef1a4d2e"
      },
      "source": [
        "!pip install pysurvival"
      ],
      "execution_count": 3,
      "outputs": [
        {
          "output_type": "stream",
          "name": "stdout",
          "text": [
            "Collecting pysurvival\n",
            "  Downloading pysurvival-0.1.2.tar.gz (4.7 MB)\n",
            "\u001b[K     |████████████████████████████████| 4.7 MB 3.1 MB/s \n",
            "\u001b[?25hRequirement already satisfied: matplotlib in /usr/local/lib/python3.7/dist-packages (from pysurvival) (3.2.2)\n",
            "Requirement already satisfied: numpy in /usr/local/lib/python3.7/dist-packages (from pysurvival) (1.19.5)\n",
            "Requirement already satisfied: pandas in /usr/local/lib/python3.7/dist-packages (from pysurvival) (1.1.5)\n",
            "Requirement already satisfied: pip in /usr/local/lib/python3.7/dist-packages (from pysurvival) (21.1.3)\n",
            "Collecting progressbar\n",
            "  Downloading progressbar-2.5.tar.gz (10 kB)\n",
            "Requirement already satisfied: pyarrow in /usr/local/lib/python3.7/dist-packages (from pysurvival) (3.0.0)\n",
            "Requirement already satisfied: scikit-learn in /usr/local/lib/python3.7/dist-packages (from pysurvival) (0.22.2.post1)\n",
            "Requirement already satisfied: scipy in /usr/local/lib/python3.7/dist-packages (from pysurvival) (1.4.1)\n",
            "Requirement already satisfied: sklearn in /usr/local/lib/python3.7/dist-packages (from pysurvival) (0.0)\n",
            "Requirement already satisfied: torch in /usr/local/lib/python3.7/dist-packages (from pysurvival) (1.9.0+cu111)\n",
            "Requirement already satisfied: kiwisolver>=1.0.1 in /usr/local/lib/python3.7/dist-packages (from matplotlib->pysurvival) (1.3.2)\n",
            "Requirement already satisfied: cycler>=0.10 in /usr/local/lib/python3.7/dist-packages (from matplotlib->pysurvival) (0.10.0)\n",
            "Requirement already satisfied: pyparsing!=2.0.4,!=2.1.2,!=2.1.6,>=2.0.1 in /usr/local/lib/python3.7/dist-packages (from matplotlib->pysurvival) (2.4.7)\n",
            "Requirement already satisfied: python-dateutil>=2.1 in /usr/local/lib/python3.7/dist-packages (from matplotlib->pysurvival) (2.8.2)\n",
            "Requirement already satisfied: six in /usr/local/lib/python3.7/dist-packages (from cycler>=0.10->matplotlib->pysurvival) (1.15.0)\n",
            "Requirement already satisfied: pytz>=2017.2 in /usr/local/lib/python3.7/dist-packages (from pandas->pysurvival) (2018.9)\n",
            "Requirement already satisfied: joblib>=0.11 in /usr/local/lib/python3.7/dist-packages (from scikit-learn->pysurvival) (1.0.1)\n",
            "Requirement already satisfied: typing-extensions in /usr/local/lib/python3.7/dist-packages (from torch->pysurvival) (3.7.4.3)\n",
            "Building wheels for collected packages: pysurvival, progressbar\n",
            "  Building wheel for pysurvival (setup.py) ... \u001b[?25l\u001b[?25hdone\n",
            "  Created wheel for pysurvival: filename=pysurvival-0.1.2-cp37-cp37m-linux_x86_64.whl size=3773294 sha256=5638bd4de390b4236a6bde4f43507248ecdd453adda52e51969e804f2558e225\n",
            "  Stored in directory: /root/.cache/pip/wheels/1a/63/e2/32273d765a4e2f4ccac69c8adf97425ca80bab5d0c8447f120\n",
            "  Building wheel for progressbar (setup.py) ... \u001b[?25l\u001b[?25hdone\n",
            "  Created wheel for progressbar: filename=progressbar-2.5-py3-none-any.whl size=12082 sha256=ac9e360cfc34486faf1670e800a9930ec6f571e3558fbe0651b52b8d427fb61a\n",
            "  Stored in directory: /root/.cache/pip/wheels/f0/fd/1f/3e35ed57e94cd8ced38dd46771f1f0f94f65fec548659ed855\n",
            "Successfully built pysurvival progressbar\n",
            "Installing collected packages: progressbar, pysurvival\n",
            "Successfully installed progressbar-2.5 pysurvival-0.1.2\n"
          ]
        }
      ]
    },
    {
      "cell_type": "code",
      "metadata": {
        "id": "ytVUvcOz6Nxx"
      },
      "source": [
        "import numpy as np\n",
        "import pandas as pd\n",
        "from matplotlib import pyplot as plt\n",
        "from sklearn.model_selection import train_test_split\n",
        "from pysurvival.models.simulations import SimulationModel\n",
        "from pysurvival.models.survival_forest import RandomSurvivalForestModel\n",
        "from pysurvival.utils.metrics import concordance_index\n",
        "from pysurvival.utils.display import integrated_brier_score\n",
        "from sklearn.model_selection import StratifiedKFold"
      ],
      "execution_count": 9,
      "outputs": []
    },
    {
      "cell_type": "code",
      "metadata": {
        "id": "fvmd0smJGSYK"
      },
      "source": [
        "np.random.RandomState(666)\n",
        "df = pd.read_excel('partdata.xlsx')"
      ],
      "execution_count": 8,
      "outputs": []
    },
    {
      "cell_type": "code",
      "metadata": {
        "id": "tI2ZfEGBKNDP",
        "colab": {
          "base_uri": "https://localhost:8080/",
          "height": 0
        },
        "outputId": "75afa328-d58e-4297-9789-203d36ce4a7c"
      },
      "source": [
        "df_new = df.dropna()\n",
        "print(df_new.head(5))"
      ],
      "execution_count": 13,
      "outputs": [
        {
          "output_type": "stream",
          "name": "stdout",
          "text": [
            "    time  status    col1    col2   col3  ...   col21  col22  col23  col24  col25\n",
            "0  261.0       0  2117.0  1281.0  666.0  ...  8645.0  696.0  377.0  148.0  134.0\n",
            "1  343.0       0  2036.0  2031.0  379.0  ...  8625.0  581.0  548.0  153.0   92.0\n",
            "2   22.0       1  2117.0  1281.0  666.0  ...  8645.0  696.0  377.0  148.0  134.0\n",
            "3   27.0       1  2327.0  1457.0  585.0  ...  8664.0  741.0  386.0  118.0   91.0\n",
            "4   66.0       1  2327.0  1457.0  585.0  ...  8664.0  741.0  386.0  118.0   91.0\n",
            "\n",
            "[5 rows x 27 columns]\n"
          ]
        }
      ]
    },
    {
      "cell_type": "code",
      "metadata": {
        "id": "4oUCzucSPWVZ"
      },
      "source": [
        "X = df_new.iloc[:,2:]\n",
        "y = df_new[['status','time']]"
      ],
      "execution_count": 30,
      "outputs": []
    },
    {
      "cell_type": "code",
      "metadata": {
        "colab": {
          "base_uri": "https://localhost:8080/",
          "height": 0
        },
        "id": "y0puChPEQ1Vp",
        "outputId": "e6a5c2fe-ab25-4625-a80b-22c341c1cacd"
      },
      "source": [
        "df_status0 = df_new[df_new['status']==0]\n",
        "df_status1= df_new[df_new['status']==1]\n",
        "print(df_status0.shape[0])\n",
        "print(df_status1.shape[0])\n",
        "index_0 = int(df_status0.shape[0]/10)\n",
        "index_1 = int(df_status1.shape[0]/10)\n",
        "df_sub_status0 = df_status0.loc[np.random.choice(df_status0.index, index_0, replace=False)]\n",
        "df_sub_status1 = df_status1.loc[np.random.choice(df_status1.index, index_1, replace=False)]\n",
        "\n"
      ],
      "execution_count": 48,
      "outputs": [
        {
          "output_type": "stream",
          "name": "stdout",
          "text": [
            "76953\n",
            "24036\n"
          ]
        }
      ]
    },
    {
      "cell_type": "code",
      "metadata": {
        "colab": {
          "base_uri": "https://localhost:8080/",
          "height": 0
        },
        "id": "yIfJL0WARBuX",
        "outputId": "76adc3ce-d309-4fe3-9b4d-b70629089d62"
      },
      "source": [
        "df_sub = pd.concat([df_sub_status0,df_sub_status1])\n",
        "print(df_sub.head(5))\n",
        "# shuffle the rows\n",
        "df_sub_new = df_sub.sample(frac=1).reset_index(drop=True)\n",
        "print(df_sub_new.head(5))"
      ],
      "execution_count": 56,
      "outputs": [
        {
          "output_type": "stream",
          "name": "stdout",
          "text": [
            "        time  status    col1    col2  ...   col22  col23  col24  col25\n",
            "12641   71.0       0  2318.0  1488.0  ...   720.0   84.0  272.0   97.0\n",
            "34611  302.0       0  2073.0  1246.0  ...  1190.0  193.0  360.0  155.0\n",
            "42922  309.0       0  3452.0   725.0  ...  1233.0  297.0  424.0  126.0\n",
            "35621  232.0       0  1760.0  2744.0  ...   857.0  223.0  320.0   43.0\n",
            "48861   76.0       0  2766.0   887.0  ...   612.0  307.0  265.0   72.0\n",
            "\n",
            "[5 rows x 27 columns]\n",
            "    time  status    col1    col2    col3  ...   col21   col22  col23  col24  col25\n",
            "0  145.0       0  2912.0  1185.0   215.0  ...  7967.0   864.0  562.0  576.0   31.0\n",
            "1  113.0       0  2250.0  1252.0  1288.0  ...  8860.0   852.0  111.0  100.0   77.0\n",
            "2  164.0       0  2606.0  1346.0   926.0  ...  8587.0   867.0  380.0  113.0   53.0\n",
            "3  181.0       0  2705.0  1062.0   932.0  ...  8546.0   876.0  402.0  126.0   51.0\n",
            "4  145.0       0  2397.0  1438.0   452.0  ...  8636.0  1000.0  200.0  115.0   49.0\n",
            "\n",
            "[5 rows x 27 columns]\n"
          ]
        }
      ]
    },
    {
      "cell_type": "code",
      "metadata": {
        "id": "AEM9lLfvZ-QF"
      },
      "source": [
        "N = df_sub_new.shape[0]"
      ],
      "execution_count": 57,
      "outputs": []
    },
    {
      "cell_type": "code",
      "metadata": {
        "id": "bY9VxDRZar48"
      },
      "source": [
        "# Defining the features\n",
        "features = df_sub_new.columns[2:]\n",
        "\n",
        "# Building training and testing sets #\n",
        "index_train, index_test = train_test_split( range(N), test_size = 0.2)\n",
        "data_train = df_sub_new.iloc[index_train].reset_index( drop = True )\n",
        "data_test  = df_sub_new.iloc[index_test].reset_index( drop = True )"
      ],
      "execution_count": 58,
      "outputs": []
    },
    {
      "cell_type": "code",
      "metadata": {
        "id": "SfMSc01BbFPR"
      },
      "source": [
        "# Creating the X, T and E input\n",
        "X_train, X_test = data_train[features], data_test[features]\n",
        "T_train, T_test = data_train['time'].values, data_test['time'].values\n",
        "E_train, E_test = data_train['status'].values, data_test['status'].values"
      ],
      "execution_count": 59,
      "outputs": []
    },
    {
      "cell_type": "code",
      "metadata": {
        "id": "736LvhqabxYj",
        "colab": {
          "base_uri": "https://localhost:8080/",
          "height": 0
        },
        "outputId": "aee12e35-8301-4020-dd5d-054e6a16d625"
      },
      "source": [
        "#### 4 - Creating an instance of the Conditional model and fitting the data.\n",
        "# Building the model\n",
        "rsf = RandomSurvivalForestModel(num_trees=200)\n",
        "rsf.fit(X_train, T_train, E_train,\n",
        "        max_features=\"sqrt\", max_depth=5, min_node_size=20)"
      ],
      "execution_count": 60,
      "outputs": [
        {
          "output_type": "execute_result",
          "data": {
            "text/plain": [
              "RandomSurvivalForestModel"
            ]
          },
          "metadata": {},
          "execution_count": 60
        }
      ]
    },
    {
      "cell_type": "code",
      "metadata": {
        "colab": {
          "base_uri": "https://localhost:8080/",
          "height": 824
        },
        "id": "zPbO_rQTX3CH",
        "outputId": "f75781f8-189c-43d8-d980-f2ddbe23c047"
      },
      "source": [
        "rsf.variable_importance\n",
        "rsf.variable_importance_table"
      ],
      "execution_count": 63,
      "outputs": [
        {
          "output_type": "execute_result",
          "data": {
            "text/html": [
              "<div>\n",
              "<style scoped>\n",
              "    .dataframe tbody tr th:only-of-type {\n",
              "        vertical-align: middle;\n",
              "    }\n",
              "\n",
              "    .dataframe tbody tr th {\n",
              "        vertical-align: top;\n",
              "    }\n",
              "\n",
              "    .dataframe thead th {\n",
              "        text-align: right;\n",
              "    }\n",
              "</style>\n",
              "<table border=\"1\" class=\"dataframe\">\n",
              "  <thead>\n",
              "    <tr style=\"text-align: right;\">\n",
              "      <th></th>\n",
              "      <th>feature</th>\n",
              "      <th>importance</th>\n",
              "      <th>pct_importance</th>\n",
              "    </tr>\n",
              "  </thead>\n",
              "  <tbody>\n",
              "    <tr>\n",
              "      <th>0</th>\n",
              "      <td>col10</td>\n",
              "      <td>5.958535</td>\n",
              "      <td>0.064988</td>\n",
              "    </tr>\n",
              "    <tr>\n",
              "      <th>1</th>\n",
              "      <td>col21</td>\n",
              "      <td>5.895842</td>\n",
              "      <td>0.064304</td>\n",
              "    </tr>\n",
              "    <tr>\n",
              "      <th>2</th>\n",
              "      <td>col16</td>\n",
              "      <td>5.841754</td>\n",
              "      <td>0.063714</td>\n",
              "    </tr>\n",
              "    <tr>\n",
              "      <th>3</th>\n",
              "      <td>col4</td>\n",
              "      <td>5.168172</td>\n",
              "      <td>0.056368</td>\n",
              "    </tr>\n",
              "    <tr>\n",
              "      <th>4</th>\n",
              "      <td>col24</td>\n",
              "      <td>5.059488</td>\n",
              "      <td>0.055182</td>\n",
              "    </tr>\n",
              "    <tr>\n",
              "      <th>5</th>\n",
              "      <td>col14</td>\n",
              "      <td>4.647867</td>\n",
              "      <td>0.050693</td>\n",
              "    </tr>\n",
              "    <tr>\n",
              "      <th>6</th>\n",
              "      <td>col19</td>\n",
              "      <td>4.570060</td>\n",
              "      <td>0.049844</td>\n",
              "    </tr>\n",
              "    <tr>\n",
              "      <th>7</th>\n",
              "      <td>col13</td>\n",
              "      <td>4.202935</td>\n",
              "      <td>0.045840</td>\n",
              "    </tr>\n",
              "    <tr>\n",
              "      <th>8</th>\n",
              "      <td>col25</td>\n",
              "      <td>4.006965</td>\n",
              "      <td>0.043703</td>\n",
              "    </tr>\n",
              "    <tr>\n",
              "      <th>9</th>\n",
              "      <td>col22</td>\n",
              "      <td>3.832275</td>\n",
              "      <td>0.041797</td>\n",
              "    </tr>\n",
              "    <tr>\n",
              "      <th>10</th>\n",
              "      <td>col17</td>\n",
              "      <td>3.782371</td>\n",
              "      <td>0.041253</td>\n",
              "    </tr>\n",
              "    <tr>\n",
              "      <th>11</th>\n",
              "      <td>col7</td>\n",
              "      <td>3.761882</td>\n",
              "      <td>0.041030</td>\n",
              "    </tr>\n",
              "    <tr>\n",
              "      <th>12</th>\n",
              "      <td>col2</td>\n",
              "      <td>3.533491</td>\n",
              "      <td>0.038539</td>\n",
              "    </tr>\n",
              "    <tr>\n",
              "      <th>13</th>\n",
              "      <td>col6</td>\n",
              "      <td>3.354176</td>\n",
              "      <td>0.036583</td>\n",
              "    </tr>\n",
              "    <tr>\n",
              "      <th>14</th>\n",
              "      <td>col3</td>\n",
              "      <td>3.327551</td>\n",
              "      <td>0.036292</td>\n",
              "    </tr>\n",
              "    <tr>\n",
              "      <th>15</th>\n",
              "      <td>col8</td>\n",
              "      <td>3.230343</td>\n",
              "      <td>0.035232</td>\n",
              "    </tr>\n",
              "    <tr>\n",
              "      <th>16</th>\n",
              "      <td>col20</td>\n",
              "      <td>3.077906</td>\n",
              "      <td>0.033570</td>\n",
              "    </tr>\n",
              "    <tr>\n",
              "      <th>17</th>\n",
              "      <td>col15</td>\n",
              "      <td>2.786456</td>\n",
              "      <td>0.030391</td>\n",
              "    </tr>\n",
              "    <tr>\n",
              "      <th>18</th>\n",
              "      <td>col5</td>\n",
              "      <td>2.668851</td>\n",
              "      <td>0.029108</td>\n",
              "    </tr>\n",
              "    <tr>\n",
              "      <th>19</th>\n",
              "      <td>col23</td>\n",
              "      <td>2.556776</td>\n",
              "      <td>0.027886</td>\n",
              "    </tr>\n",
              "    <tr>\n",
              "      <th>20</th>\n",
              "      <td>col18</td>\n",
              "      <td>2.527533</td>\n",
              "      <td>0.027567</td>\n",
              "    </tr>\n",
              "    <tr>\n",
              "      <th>21</th>\n",
              "      <td>col11</td>\n",
              "      <td>2.306671</td>\n",
              "      <td>0.025158</td>\n",
              "    </tr>\n",
              "    <tr>\n",
              "      <th>22</th>\n",
              "      <td>col12</td>\n",
              "      <td>2.091645</td>\n",
              "      <td>0.022813</td>\n",
              "    </tr>\n",
              "    <tr>\n",
              "      <th>23</th>\n",
              "      <td>col9</td>\n",
              "      <td>1.868425</td>\n",
              "      <td>0.020378</td>\n",
              "    </tr>\n",
              "    <tr>\n",
              "      <th>24</th>\n",
              "      <td>col1</td>\n",
              "      <td>1.629074</td>\n",
              "      <td>0.017768</td>\n",
              "    </tr>\n",
              "  </tbody>\n",
              "</table>\n",
              "</div>"
            ],
            "text/plain": [
              "   feature  importance  pct_importance\n",
              "0    col10    5.958535        0.064988\n",
              "1    col21    5.895842        0.064304\n",
              "2    col16    5.841754        0.063714\n",
              "3     col4    5.168172        0.056368\n",
              "4    col24    5.059488        0.055182\n",
              "5    col14    4.647867        0.050693\n",
              "6    col19    4.570060        0.049844\n",
              "7    col13    4.202935        0.045840\n",
              "8    col25    4.006965        0.043703\n",
              "9    col22    3.832275        0.041797\n",
              "10   col17    3.782371        0.041253\n",
              "11    col7    3.761882        0.041030\n",
              "12    col2    3.533491        0.038539\n",
              "13    col6    3.354176        0.036583\n",
              "14    col3    3.327551        0.036292\n",
              "15    col8    3.230343        0.035232\n",
              "16   col20    3.077906        0.033570\n",
              "17   col15    2.786456        0.030391\n",
              "18    col5    2.668851        0.029108\n",
              "19   col23    2.556776        0.027886\n",
              "20   col18    2.527533        0.027567\n",
              "21   col11    2.306671        0.025158\n",
              "22   col12    2.091645        0.022813\n",
              "23    col9    1.868425        0.020378\n",
              "24    col1    1.629074        0.017768"
            ]
          },
          "metadata": {},
          "execution_count": 63
        }
      ]
    },
    {
      "cell_type": "code",
      "metadata": {
        "id": "JxjJfRuxb0md",
        "colab": {
          "base_uri": "https://localhost:8080/",
          "height": 384
        },
        "outputId": "5c5e2ef8-37a0-4b7a-eacd-267985f84502"
      },
      "source": [
        "#### 5 - Cross Validation / Model Performances\n",
        "c_index = concordance_index(rsf, X_test, T_test, E_test) #0.81\n",
        "print('C-index: {:.2f}'.format(c_index))\n",
        "\n",
        "ibs = integrated_brier_score(rsf, X_test, T_test, E_test, t_max=30,\n",
        "            figure_size=(20, 6.5) )\n",
        "print('IBS: {:.2f}'.format(ibs))"
      ],
      "execution_count": 61,
      "outputs": [
        {
          "output_type": "stream",
          "name": "stdout",
          "text": [
            "C-index: 0.51\n"
          ]
        },
        {
          "output_type": "display_data",
          "data": {
            "image/png": "[encoded data removed]",
            "text/plain": [
              "<Figure size 1440x468 with 1 Axes>"
            ]
          },
          "metadata": {
            "needs_background": "light"
          }
        },
        {
          "output_type": "stream",
          "name": "stdout",
          "text": [
            "IBS: 0.09\n"
          ]
        }
      ]
    },
    {
      "cell_type": "markdown",
      "metadata": {
        "id": "hIGEwfj_uY5A"
      },
      "source": [
        "Reference: \n",
        "1. https://scikit-survival.readthedocs.io/en/stable/user_guide/random-survival-forest.html\n",
        "\n",
        "2. https://square.github.io/pysurvival/models/random_survival_forest.html"
      ]
    },
    {
      "cell_type": "markdown",
      "metadata": {
        "id": "7e76mE-KuwCU"
      },
      "source": [
        "Debug for data preparation: \n",
        "1. https://github.com/sebp/scikit-survival/issues/40\n",
        "\n",
        "2. https://stackoverflow.com/questions/68869020/valueerror-y-must-be-a-structured-array-with-the-first-field-being-a-binary-cla"
      ]
    },
    {
      "cell_type": "code",
      "metadata": {
        "id": "us-UAtuEu9Gc"
      },
      "source": [
        ""
      ],
      "execution_count": null,
      "outputs": []
    }
  ]
}
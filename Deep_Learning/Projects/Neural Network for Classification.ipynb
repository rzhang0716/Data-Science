{
  "nbformat": 4,
  "nbformat_minor": 0,
  "metadata": {
    "colab": {
      "name": "classification_all.ipynb",
      "provenance": [],
      "collapsed_sections": []
    },
    "kernelspec": {
      "display_name": "Python 3",
      "name": "python3"
    },
    "language_info": {
      "name": "python"
    }
  },
  "cells": [
    {
      "cell_type": "code",
      "metadata": {
        "id": "vZzPyMEQywWc"
      },
      "source": [
        "# for reading data\n",
        "import pandas as pd\n",
        "import numpy as np\n",
        "from sklearn.preprocessing import LabelEncoder\n",
        "from keras.wrappers.scikit_learn import KerasClassifier\n",
        "from keras.utils import np_utils\n",
        "\n",
        "# for modeling\n",
        "from keras.models import Sequential\n",
        "from keras.layers import Dense, Dropout\n",
        "from keras.callbacks import EarlyStopping\n",
        "\n",
        "# for plot\n",
        "import matplotlib.pyplot as plt\n",
        "import seaborn as sns\n",
        "%matplotlib inline\n",
        "\n",
        "# for random\n",
        "import tensorflow as tf\n",
        "tf.random.set_seed(42)"
      ],
      "execution_count": 1,
      "outputs": []
    },
    {
      "cell_type": "code",
      "metadata": {
        "id": "G8rruf87zMrZ"
      },
      "source": [
        "# shuffle the dataset! \n",
        "df = pd.read_excel('dataclus1.xlsx')\n",
        "df = df.sample(frac=1).reset_index(drop=True)\n",
        "\n",
        "# Extract X and Ys from the datasets\n",
        "X = df.iloc[:, 1:5].astype(float)\n",
        "y2 = df[['clus2']]\n",
        "y3 = df[['clus3']]\n",
        "y4 = df[['clus4']]\n",
        "y5 = df[['clus5']]\n",
        "y6 = df[['clus6']]\n",
        "y7 = df[['clus7']]"
      ],
      "execution_count": 2,
      "outputs": []
    },
    {
      "cell_type": "code",
      "metadata": {
        "colab": {
          "base_uri": "https://localhost:8080/"
        },
        "id": "Dtn29tcozPn_",
        "outputId": "24c308fb-a7ca-43d7-caef-adf7f9a40cbb"
      },
      "source": [
        "# work with labels\n",
        "# encode class values as integers\n",
        "encoder = LabelEncoder()\n",
        "encoder.fit(y3)\n",
        "encoded_Y3 = encoder.transform(y3)\n",
        "# convert integers to dummy variables (i.e. one hot encoded)\n",
        "dummy_y3 = np_utils.to_categorical(encoded_Y3)\n",
        "\n",
        "# build a model\n",
        "model = Sequential()\n",
        "model.add(Dense(8, input_shape=(X.shape[1],), activation='relu'))\n",
        "model.add(Dense(4, activation='relu'))\n",
        "model.add(Dense(3, activation='softmax'))\n",
        "\n",
        "# compile the model\n",
        "model.compile(optimizer='rmsprop', \n",
        "              loss='categorical_crossentropy', # this is different instead of binary_crossentropy (for regular classification)\n",
        "              metrics=['accuracy'])\n",
        "\n",
        "import keras\n",
        "from keras.callbacks import EarlyStopping\n",
        "\n",
        "# early stopping callback\n",
        "# This callback will stop the training when there is no improvement in  \n",
        "# the validation loss for 10 consecutive epochs.  \n",
        "es = keras.callbacks.EarlyStopping(monitor='val_loss', \n",
        "                                   mode='min',\n",
        "                                   patience=10, \n",
        "                                   restore_best_weights=True) # important - otherwise you just return the last weigths...\n",
        "\n",
        "# now we just update our model fit call\n",
        "history = model.fit(X,\n",
        "                    dummy_y3,\n",
        "                    callbacks=[es],\n",
        "                    epochs=500, # can set this to a big number!\n",
        "                    batch_size=10,\n",
        "                    shuffle=True,\n",
        "                    validation_split=0.2,\n",
        "                    verbose=0)\n"
      ],
      "execution_count": 3,
      "outputs": [
        {
          "output_type": "stream",
          "name": "stderr",
          "text": [
            "/usr/local/lib/python3.7/dist-packages/sklearn/preprocessing/_label.py:235: DataConversionWarning: A column-vector y was passed when a 1d array was expected. Please change the shape of y to (n_samples, ), for example using ravel().\n",
            "  y = column_or_1d(y, warn=True)\n",
            "/usr/local/lib/python3.7/dist-packages/sklearn/preprocessing/_label.py:268: DataConversionWarning: A column-vector y was passed when a 1d array was expected. Please change the shape of y to (n_samples, ), for example using ravel().\n",
            "  y = column_or_1d(y, warn=True)\n"
          ]
        }
      ]
    },
    {
      "cell_type": "code",
      "metadata": {
        "colab": {
          "base_uri": "https://localhost:8080/",
          "height": 499
        },
        "id": "VwGQn_o_1Pd1",
        "outputId": "2a57c2d3-f21c-4a47-bd65-707ce0ff03c0"
      },
      "source": [
        "history_dict = history.history\n",
        "\n",
        "# learning curve\n",
        "# accuracy\n",
        "acc = history_dict['accuracy']\n",
        "val_acc = history_dict['val_accuracy']\n",
        "\n",
        "# loss\n",
        "loss = history_dict['loss']\n",
        "val_loss = history_dict['val_loss']\n",
        "\n",
        "# range of X (no. of epochs)\n",
        "epochs = range(1, len(acc) + 1)\n",
        "\n",
        "# plot\n",
        "# \"r\" is for \"solid red line\"\n",
        "plt.plot(epochs, acc, 'r', label='Training accuracy')\n",
        "# b is for \"solid blue line\"\n",
        "plt.plot(epochs, val_acc, 'b', label='Validation accuracy')\n",
        "plt.title('Training and validation accuracy')\n",
        "plt.xlabel('Epochs')\n",
        "plt.ylabel('Accuracy')\n",
        "plt.legend()\n",
        "\n",
        "plt.show()\n",
        "\n",
        "from sklearn.metrics import confusion_matrix\n",
        "from sklearn.metrics import classification_report\n",
        "\n",
        "preds = model.predict(X) # see how the model did!\n",
        "print(preds[0]) # i'm spreading that prediction across three nodes and they sum to 1\n",
        "print(np.sum(preds[0])) # sum it up! Should be 1\n",
        "\n",
        "matrix = confusion_matrix(dummy_y3.argmax(axis=1), preds.argmax(axis=1))\n",
        "matrix\n",
        "\n",
        "# more detail on how well things were predicted\n",
        "print(classification_report(dummy_y3.argmax(axis=1), preds.argmax(axis=1)))"
      ],
      "execution_count": 4,
      "outputs": [
        {
          "output_type": "display_data",
          "data": {
            "image/png": "[encoded data removed]",
            "text/plain": [
              "<Figure size 432x288 with 1 Axes>"
            ]
          },
          "metadata": {
            "needs_background": "light"
          }
        },
        {
          "output_type": "stream",
          "name": "stdout",
          "text": [
            "[9.9770302e-01 1.0667884e-14 2.2970235e-03]\n",
            "1.0\n",
            "              precision    recall  f1-score   support\n",
            "\n",
            "           0       0.97      0.99      0.98      1664\n",
            "           1       0.94      0.97      0.95      1095\n",
            "           2       0.92      0.82      0.86       606\n",
            "\n",
            "    accuracy                           0.95      3365\n",
            "   macro avg       0.94      0.92      0.93      3365\n",
            "weighted avg       0.95      0.95      0.95      3365\n",
            "\n"
          ]
        }
      ]
    },
    {
      "cell_type": "code",
      "metadata": {
        "colab": {
          "base_uri": "https://localhost:8080/"
        },
        "id": "ftI8oAtF1QGw",
        "outputId": "2759a2fc-d257-44a6-bf57-7af8db216b64"
      },
      "source": [
        "from sklearn.model_selection import cross_val_score\n",
        "from sklearn.model_selection import KFold\n",
        "from sklearn.preprocessing import LabelEncoder\n",
        "from sklearn.pipeline import Pipeline\n",
        "\n",
        "# define baseline model\n",
        "def baseline_model():\n",
        "\t# create model\n",
        "  model = Sequential()\n",
        "  model.add(Dense(16, input_shape=(X.shape[1],), activation='relu'))\n",
        "  model.add(Dense(8, activation='relu'))\n",
        "  model.add(Dense(3, activation='softmax'))  \n",
        "\t# Compile model\n",
        "  model.compile(loss='categorical_crossentropy', optimizer='adam', metrics=['accuracy'])\n",
        "  return model\n",
        " \n",
        "estimator = KerasClassifier(build_fn=baseline_model, epochs=1000, batch_size=32, verbose=0)\n",
        "kfold = KFold(n_splits=5, shuffle=True)\n",
        "results = cross_val_score(estimator, X, dummy_y3, cv=kfold)\n",
        "print(\"Baseline: %.2f%% (%.2f%%)\" % (results.mean()*100, results.std()*100))"
      ],
      "execution_count": 6,
      "outputs": [
        {
          "output_type": "stream",
          "name": "stdout",
          "text": [
            "Baseline: 97.00% (0.57%)\n"
          ]
        }
      ]
    },
    {
      "cell_type": "code",
      "metadata": {
        "id": "gQHzkINY7TQO"
      },
      "source": [
        "# Four Clusters"
      ],
      "execution_count": 7,
      "outputs": []
    },
    {
      "cell_type": "code",
      "metadata": {
        "colab": {
          "base_uri": "https://localhost:8080/"
        },
        "id": "dvIP5v_d1-j5",
        "outputId": "512478b8-08a9-42f5-cfff-0a4bdac32b4e"
      },
      "source": [
        "# work with labels\n",
        "# encode class values as integers\n",
        "encoder = LabelEncoder()\n",
        "encoder.fit(y4)\n",
        "encoded_Y4 = encoder.transform(y4)\n",
        "# convert integers to dummy variables (i.e. one hot encoded)\n",
        "dummy_y4 = np_utils.to_categorical(encoded_Y4)\n",
        "\n",
        "# define baseline model\n",
        "def baseline_model():\n",
        "\t# create model\n",
        "  model = Sequential()\n",
        "  model.add(Dense(16, input_shape=(X.shape[1],), activation='relu'))\n",
        "  model.add(Dense(8, activation='relu'))\n",
        "  model.add(Dense(4, activation='softmax')) \n",
        "\t# Compile model\n",
        "  model.compile(loss='categorical_crossentropy', optimizer='adam', metrics=['accuracy'])\n",
        "  return model\n",
        " \n",
        "estimator = KerasClassifier(build_fn=baseline_model, epochs=1000, batch_size=32, verbose=0)\n",
        "kfold = KFold(n_splits=5, shuffle=True)\n",
        "results = cross_val_score(estimator, X, dummy_y4, cv=kfold)\n",
        "print(\"Baseline: %.2f%% (%.2f%%)\" % (results.mean()*100, results.std()*100))"
      ],
      "execution_count": 8,
      "outputs": [
        {
          "output_type": "stream",
          "name": "stderr",
          "text": [
            "/usr/local/lib/python3.7/dist-packages/sklearn/preprocessing/_label.py:235: DataConversionWarning: A column-vector y was passed when a 1d array was expected. Please change the shape of y to (n_samples, ), for example using ravel().\n",
            "  y = column_or_1d(y, warn=True)\n",
            "/usr/local/lib/python3.7/dist-packages/sklearn/preprocessing/_label.py:268: DataConversionWarning: A column-vector y was passed when a 1d array was expected. Please change the shape of y to (n_samples, ), for example using ravel().\n",
            "  y = column_or_1d(y, warn=True)\n"
          ]
        },
        {
          "output_type": "stream",
          "name": "stdout",
          "text": [
            "Baseline: 96.17% (0.72%)\n"
          ]
        }
      ]
    },
    {
      "cell_type": "code",
      "metadata": {
        "id": "uAneMaIR7bON"
      },
      "source": [
        "# 5 clusters"
      ],
      "execution_count": null,
      "outputs": []
    },
    {
      "cell_type": "code",
      "metadata": {
        "colab": {
          "base_uri": "https://localhost:8080/"
        },
        "id": "QyaYLyQoHrZ4",
        "outputId": "7d4b8d94-f5fc-4e97-a916-2f39bd959b56"
      },
      "source": [
        "# work with labels\n",
        "# encode class values as integers\n",
        "encoder = LabelEncoder()\n",
        "encoder.fit(y5)\n",
        "encoded_Y5 = encoder.transform(y5)\n",
        "# convert integers to dummy variables (i.e. one hot encoded)\n",
        "dummy_y5 = np_utils.to_categorical(encoded_Y5)\n",
        "\n",
        "# define baseline model\n",
        "def baseline_model():\n",
        "\t# create model\n",
        "  model = Sequential()\n",
        "  model.add(Dense(16, input_shape=(X.shape[1],), activation='relu'))\n",
        "  model.add(Dense(8, activation='relu'))\n",
        "  model.add(Dense(5, activation='softmax')) \n",
        "\t# Compile model\n",
        "  model.compile(loss='categorical_crossentropy', optimizer='adam', metrics=['accuracy'])\n",
        "  return model\n",
        " \n",
        "estimator = KerasClassifier(build_fn=baseline_model, epochs=1000, batch_size=32, verbose=0)\n",
        "kfold = KFold(n_splits=5, shuffle=True)\n",
        "results = cross_val_score(estimator, X, dummy_y5, cv=kfold)\n",
        "print(\"Baseline: %.2f%% (%.2f%%)\" % (results.mean()*100, results.std()*100))"
      ],
      "execution_count": 9,
      "outputs": [
        {
          "output_type": "stream",
          "name": "stderr",
          "text": [
            "/usr/local/lib/python3.7/dist-packages/sklearn/preprocessing/_label.py:235: DataConversionWarning: A column-vector y was passed when a 1d array was expected. Please change the shape of y to (n_samples, ), for example using ravel().\n",
            "  y = column_or_1d(y, warn=True)\n",
            "/usr/local/lib/python3.7/dist-packages/sklearn/preprocessing/_label.py:268: DataConversionWarning: A column-vector y was passed when a 1d array was expected. Please change the shape of y to (n_samples, ), for example using ravel().\n",
            "  y = column_or_1d(y, warn=True)\n"
          ]
        },
        {
          "output_type": "stream",
          "name": "stdout",
          "text": [
            "Baseline: 95.01% (1.34%)\n"
          ]
        }
      ]
    },
    {
      "cell_type": "code",
      "metadata": {
        "id": "NXFaMK9mH3j7",
        "colab": {
          "base_uri": "https://localhost:8080/"
        },
        "outputId": "99775e27-1cfe-4abe-b434-0a1a9e66ba56"
      },
      "source": [
        "# work with labels\n",
        "# encode class values as integers\n",
        "encoder = LabelEncoder()\n",
        "encoder.fit(y6)\n",
        "encoded_Y6 = encoder.transform(y6)\n",
        "# convert integers to dummy variables (i.e. one hot encoded)\n",
        "dummy_y6 = np_utils.to_categorical(encoded_Y6)\n",
        "\n",
        "# define baseline model\n",
        "def baseline_model():\n",
        "\t# create model\n",
        "  model = Sequential()\n",
        "  model.add(Dense(128, input_shape=(X.shape[1],), activation='relu')) # input shape is (features,)\n",
        "  model.add(Dense(64, activation='relu')) # input shape is (features,)\n",
        "  model.add(Dense(32, activation='relu'))\n",
        "  model.add(Dense(16, activation='relu'))\n",
        "  model.add(Dense(8, activation='relu'))\n",
        "  model.add(Dense(6, activation='softmax')) \n",
        "\t# Compile model\n",
        "  model.compile(loss='categorical_crossentropy', optimizer='adam', metrics=['accuracy'])\n",
        "  return model\n",
        " \n",
        "estimator = KerasClassifier(build_fn=baseline_model, epochs=1000, batch_size=32, verbose=0)\n",
        "kfold = KFold(n_splits=5, shuffle=True)\n",
        "results = cross_val_score(estimator, X, dummy_y6, cv=kfold)\n",
        "print(\"Baseline: %.2f%% (%.2f%%)\" % (results.mean()*100, results.std()*100))"
      ],
      "execution_count": 10,
      "outputs": [
        {
          "output_type": "stream",
          "name": "stderr",
          "text": [
            "/usr/local/lib/python3.7/dist-packages/sklearn/preprocessing/_label.py:235: DataConversionWarning: A column-vector y was passed when a 1d array was expected. Please change the shape of y to (n_samples, ), for example using ravel().\n",
            "  y = column_or_1d(y, warn=True)\n",
            "/usr/local/lib/python3.7/dist-packages/sklearn/preprocessing/_label.py:268: DataConversionWarning: A column-vector y was passed when a 1d array was expected. Please change the shape of y to (n_samples, ), for example using ravel().\n",
            "  y = column_or_1d(y, warn=True)\n"
          ]
        },
        {
          "output_type": "stream",
          "name": "stdout",
          "text": [
            "Baseline: 94.62% (1.42%)\n"
          ]
        }
      ]
    },
    {
      "cell_type": "code",
      "metadata": {
        "colab": {
          "base_uri": "https://localhost:8080/"
        },
        "id": "uYfUv_yHMO4b",
        "outputId": "cb00ae36-bdd3-4b49-c768-ddefcd7180ce"
      },
      "source": [
        "# work with labels\n",
        "# encode class values as integers\n",
        "encoder = LabelEncoder()\n",
        "encoder.fit(y7)\n",
        "encoded_Y7 = encoder.transform(y7)\n",
        "# convert integers to dummy variables (i.e. one hot encoded)\n",
        "dummy_y7 = np_utils.to_categorical(encoded_Y7)\n",
        "\n",
        "# define baseline model\n",
        "def baseline_model():\n",
        "\t# create model\n",
        "  model = Sequential()\n",
        "  model.add(Dense(16, input_shape=(X.shape[1],), activation='relu'))\n",
        "  model.add(Dense(8, activation='relu'))\n",
        "  model.add(Dense(7, activation='softmax'))\n",
        "\t# Compile model\n",
        "  model.compile(loss='categorical_crossentropy', optimizer='adam', metrics=['accuracy'])\n",
        "  return model\n",
        " \n",
        "estimator = KerasClassifier(build_fn=baseline_model, epochs=1000, batch_size=32, verbose=0)\n",
        "kfold = KFold(n_splits=5, shuffle=True)\n",
        "results = cross_val_score(estimator, X, dummy_y7, cv=kfold)\n",
        "print(\"Baseline: %.2f%% (%.2f%%)\" % (results.mean()*100, results.std()*100))"
      ],
      "execution_count": 11,
      "outputs": [
        {
          "output_type": "stream",
          "name": "stderr",
          "text": [
            "/usr/local/lib/python3.7/dist-packages/sklearn/preprocessing/_label.py:235: DataConversionWarning: A column-vector y was passed when a 1d array was expected. Please change the shape of y to (n_samples, ), for example using ravel().\n",
            "  y = column_or_1d(y, warn=True)\n",
            "/usr/local/lib/python3.7/dist-packages/sklearn/preprocessing/_label.py:268: DataConversionWarning: A column-vector y was passed when a 1d array was expected. Please change the shape of y to (n_samples, ), for example using ravel().\n",
            "  y = column_or_1d(y, warn=True)\n"
          ]
        },
        {
          "output_type": "stream",
          "name": "stdout",
          "text": [
            "Baseline: 93.91% (0.73%)\n"
          ]
        }
      ]
    },
    {
      "cell_type": "code",
      "metadata": {
        "id": "OD5IbAABVeoi"
      },
      "source": [
        "# Binary Classification"
      ],
      "execution_count": 13,
      "outputs": []
    },
    {
      "cell_type": "code",
      "metadata": {
        "colab": {
          "base_uri": "https://localhost:8080/"
        },
        "id": "jOQneFLiWzIX",
        "outputId": "3d78bb67-82cb-48a3-914b-03db984baea4"
      },
      "source": [
        "def baseline_model():\n",
        "\t# create model\n",
        "  model = Sequential()\n",
        "  model.add(Dense(16, input_shape=(X.shape[1],), activation='relu'))\n",
        "  model.add(Dense(8, activation='relu'))\n",
        "  model.add(Dense(1, activation='sigmoid'))\n",
        "\t# Compile model\n",
        "  model.compile(loss='binary_crossentropy', optimizer='adam', metrics=['accuracy'])\n",
        "  return model\n",
        " \n",
        "estimator = KerasClassifier(build_fn=baseline_model, epochs=1000, batch_size=32, verbose=0)\n",
        "kfold = KFold(n_splits=5, shuffle=True)\n",
        "results = cross_val_score(estimator, X, y2, cv=kfold)\n",
        "print(\"Baseline: %.2f%% (%.2f%%)\" % (results.mean()*100, results.std()*100))"
      ],
      "execution_count": 12,
      "outputs": [
        {
          "output_type": "stream",
          "name": "stdout",
          "text": [
            "Baseline: 98.25% (0.30%)\n"
          ]
        }
      ]
    },
    {
      "cell_type": "markdown",
      "metadata": {
        "id": "kvdRmG0l3sP6"
      },
      "source": [
        "# 3 Layers"
      ]
    },
    {
      "cell_type": "code",
      "metadata": {
        "id": "yf4tea2PYCfM",
        "colab": {
          "base_uri": "https://localhost:8080/"
        },
        "outputId": "f7f4de1e-3c23-4597-a067-899008bbc233"
      },
      "source": [
        "##### 2 clusters #######\n",
        "def baseline_model():\n",
        "\t# create model\n",
        "  model = Sequential()\n",
        "  model.add(Dense(32, input_shape=(X.shape[1],),activation='relu'))\n",
        "  model.add(Dense(16, activation='relu'))\n",
        "  model.add(Dense(8, activation='relu'))\n",
        "  model.add(Dense(1, activation='sigmoid'))\n",
        "\t# Compile model\n",
        "  model.compile(loss='binary_crossentropy', optimizer='adam', metrics=['accuracy'])\n",
        "  return model\n",
        " \n",
        "estimator = KerasClassifier(build_fn=baseline_model, epochs=1000, batch_size=32, verbose=0)\n",
        "kfold = KFold(n_splits=5, shuffle=True)\n",
        "results = cross_val_score(estimator, X, y2, cv=kfold)\n",
        "print(\"Baseline: %.2f%% (%.2f%%)\" % (results.mean()*100, results.std()*100))\n",
        "\n",
        "\n",
        "#### 3 Clusters ######## \n",
        "\n",
        "# define baseline model\n",
        "def baseline_model():\n",
        "\t# create model\n",
        "  model = Sequential()\n",
        "  model.add(Dense(32, input_shape=(X.shape[1],),activation='relu'))\n",
        "  model.add(Dense(16, activation='relu'))\n",
        "  model.add(Dense(8, activation='relu'))\n",
        "  model.add(Dense(3, activation='softmax'))  \n",
        "\t# Compile model\n",
        "  model.compile(loss='categorical_crossentropy', optimizer='adam', metrics=['accuracy'])\n",
        "  return model\n",
        " \n",
        "estimator = KerasClassifier(build_fn=baseline_model, epochs=1000, batch_size=32, verbose=0)\n",
        "kfold = KFold(n_splits=5, shuffle=True)\n",
        "results = cross_val_score(estimator, X, dummy_y3, cv=kfold)\n",
        "print(\"Baseline: %.2f%% (%.2f%%)\" % (results.mean()*100, results.std()*100))\n",
        "\n",
        "\n",
        "##### 4 Clusters #######\n",
        "# define baseline model\n",
        "def baseline_model():\n",
        "\t# create model\n",
        "  model = Sequential()\n",
        "  model.add(Dense(32, input_shape=(X.shape[1],),activation='relu'))\n",
        "  model.add(Dense(16, activation='relu'))\n",
        "  model.add(Dense(8, activation='relu'))\n",
        "  model.add(Dense(4, activation='softmax'))  \n",
        "\t# Compile model\n",
        "  model.compile(loss='categorical_crossentropy', optimizer='adam', metrics=['accuracy'])\n",
        "  return model\n",
        "estimator = KerasClassifier(build_fn=baseline_model, epochs=1000, batch_size=32, verbose=0)\n",
        "kfold = KFold(n_splits=5, shuffle=True)\n",
        "results = cross_val_score(estimator, X, dummy_y4, cv=kfold)\n",
        "print(\"Baseline: %.2f%% (%.2f%%)\" % (results.mean()*100, results.std()*100))\n",
        "\n",
        "\n",
        "##### 5 Clusters ######\n",
        "# define baseline model\n",
        "def baseline_model():\n",
        "\t# create model\n",
        "  model = Sequential()\n",
        "  model.add(Dense(32, input_shape=(X.shape[1],),activation='relu'))\n",
        "  model.add(Dense(16, activation='relu'))\n",
        "  model.add(Dense(8, activation='relu'))\n",
        "  model.add(Dense(5, activation='softmax'))  \n",
        "\t# Compile model\n",
        "  model.compile(loss='categorical_crossentropy', optimizer='adam', metrics=['accuracy'])\n",
        "  return model\n",
        "estimator = KerasClassifier(build_fn=baseline_model, epochs=1000, batch_size=32, verbose=0)\n",
        "kfold = KFold(n_splits=5, shuffle=True)\n",
        "results = cross_val_score(estimator, X, dummy_y5, cv=kfold)\n",
        "print(\"Baseline: %.2f%% (%.2f%%)\" % (results.mean()*100, results.std()*100))\n",
        "\n",
        "##### 6 Clusters ######\n",
        " # define baseline model\n",
        "def baseline_model():\n",
        "\t# create model\n",
        "  model = Sequential()\n",
        "  model.add(Dense(32, input_shape=(X.shape[1],),activation='relu'))\n",
        "  model.add(Dense(16, activation='relu'))\n",
        "  model.add(Dense(8, activation='relu'))\n",
        "  model.add(Dense(6, activation='softmax'))  \n",
        "\t# Compile model\n",
        "  model.compile(loss='categorical_crossentropy', optimizer='adam', metrics=['accuracy'])\n",
        "  return model\n",
        "estimator = KerasClassifier(build_fn=baseline_model, epochs=1000, batch_size=32, verbose=0)\n",
        "kfold = KFold(n_splits=5, shuffle=True)\n",
        "results = cross_val_score(estimator, X, dummy_y6, cv=kfold)\n",
        "print(\"Baseline: %.2f%% (%.2f%%)\" % (results.mean()*100, results.std()*100))\n",
        "\n",
        "\n",
        "##### 7 Clusters #######\n",
        "# define baseline model\n",
        "def baseline_model():\n",
        "\t# create model\n",
        "  model = Sequential()\n",
        "  model.add(Dense(32, input_shape=(X.shape[1],),activation='relu'))\n",
        "  model.add(Dense(16, activation='relu'))\n",
        "  model.add(Dense(8, activation='relu'))\n",
        "  model.add(Dense(7, activation='softmax'))  \n",
        "\t# Compile model\n",
        "  model.compile(loss='categorical_crossentropy', optimizer='adam', metrics=['accuracy'])\n",
        "  return model\n",
        "estimator = KerasClassifier(build_fn=baseline_model, epochs=1000, batch_size=32, verbose=0)\n",
        "kfold = KFold(n_splits=5, shuffle=True)\n",
        "results = cross_val_score(estimator, X, dummy_y7, cv=kfold)\n",
        "print(\"Baseline: %.2f%% (%.2f%%)\" % (results.mean()*100, results.std()*100))"
      ],
      "execution_count": 14,
      "outputs": [
        {
          "output_type": "stream",
          "name": "stdout",
          "text": [
            "Baseline: 98.19% (0.32%)\n",
            "Baseline: 97.56% (0.26%)\n",
            "Baseline: 97.03% (0.75%)\n",
            "Baseline: 95.84% (0.58%)\n",
            "Baseline: 95.78% (0.81%)\n",
            "Baseline: 95.33% (0.82%)\n"
          ]
        }
      ]
    },
    {
      "cell_type": "markdown",
      "metadata": {
        "id": "72T063tT4ibD"
      },
      "source": [
        "# 4 Layers"
      ]
    },
    {
      "cell_type": "code",
      "metadata": {
        "colab": {
          "base_uri": "https://localhost:8080/"
        },
        "id": "T8-cr39K3tmo",
        "outputId": "a80f025a-2f4a-42bf-a277-e85122eefabf"
      },
      "source": [
        "##### 2 clusters #######\n",
        "def baseline_model():\n",
        "\t# create model\n",
        "  model = Sequential()\n",
        "  model.add(Dense(64, input_shape=(X.shape[1],), activation='relu'))\n",
        "  model.add(Dense(32, activation='relu'))\n",
        "  model.add(Dense(16, activation='relu'))\n",
        "  model.add(Dense(8, activation='relu'))\n",
        "  model.add(Dense(1, activation='sigmoid'))\n",
        "\t# Compile model\n",
        "  model.compile(loss='binary_crossentropy', optimizer='adam', metrics=['accuracy'])\n",
        "  return model\n",
        " \n",
        "estimator = KerasClassifier(build_fn=baseline_model, epochs=1000, batch_size=32, verbose=0)\n",
        "kfold = KFold(n_splits=5, shuffle=True)\n",
        "results = cross_val_score(estimator, X, y2, cv=kfold)\n",
        "print(\"Baseline: %.2f%% (%.2f%%)\" % (results.mean()*100, results.std()*100))\n",
        "\n",
        "\n",
        "#### 3 Clusters ######## \n",
        "\n",
        "# define baseline model\n",
        "def baseline_model():\n",
        "\t# create model\n",
        "  model = Sequential()\n",
        "  model.add(Dense(64, input_shape=(X.shape[1],), activation='relu'))\n",
        "  model.add(Dense(32, activation='relu'))\n",
        "  model.add(Dense(16, activation='relu'))\n",
        "  model.add(Dense(8, activation='relu'))\n",
        "  model.add(Dense(3, activation='softmax'))  \n",
        "\t# Compile model\n",
        "  model.compile(loss='categorical_crossentropy', optimizer='adam', metrics=['accuracy'])\n",
        "  return model\n",
        " \n",
        "estimator = KerasClassifier(build_fn=baseline_model, epochs=1000, batch_size=32, verbose=0)\n",
        "kfold = KFold(n_splits=5, shuffle=True)\n",
        "results = cross_val_score(estimator, X, dummy_y3, cv=kfold)\n",
        "print(\"Baseline: %.2f%% (%.2f%%)\" % (results.mean()*100, results.std()*100))\n",
        "\n",
        "\n",
        "##### 4 Clusters #######\n",
        "# define baseline model\n",
        "def baseline_model():\n",
        "\t# create model\n",
        "  model = Sequential()\n",
        "  model.add(Dense(64, input_shape=(X.shape[1],), activation='relu'))\n",
        "  model.add(Dense(32, activation='relu'))\n",
        "  model.add(Dense(16, activation='relu'))\n",
        "  model.add(Dense(8, activation='relu'))\n",
        "  model.add(Dense(4, activation='softmax'))  \n",
        "\t# Compile model\n",
        "  model.compile(loss='categorical_crossentropy', optimizer='adam', metrics=['accuracy'])\n",
        "  return model\n",
        "estimator = KerasClassifier(build_fn=baseline_model, epochs=1000, batch_size=32, verbose=0)\n",
        "kfold = KFold(n_splits=5, shuffle=True)\n",
        "results = cross_val_score(estimator, X, dummy_y4, cv=kfold)\n",
        "print(\"Baseline: %.2f%% (%.2f%%)\" % (results.mean()*100, results.std()*100))\n",
        "\n",
        "\n",
        "##### 5 Clusters ######\n",
        "# define baseline model\n",
        "def baseline_model():\n",
        "\t# create model\n",
        "  model = Sequential()\n",
        "  model.add(Dense(64, input_shape=(X.shape[1],), activation='relu'))\n",
        "  model.add(Dense(32, activation='relu'))\n",
        "  model.add(Dense(16, activation='relu'))\n",
        "  model.add(Dense(8, activation='relu'))\n",
        "  model.add(Dense(5, activation='softmax'))  \n",
        "\t# Compile model\n",
        "  model.compile(loss='categorical_crossentropy', optimizer='adam', metrics=['accuracy'])\n",
        "  return model\n",
        "estimator = KerasClassifier(build_fn=baseline_model, epochs=1000, batch_size=32, verbose=0)\n",
        "kfold = KFold(n_splits=5, shuffle=True)\n",
        "results = cross_val_score(estimator, X, dummy_y5, cv=kfold)\n",
        "print(\"Baseline: %.2f%% (%.2f%%)\" % (results.mean()*100, results.std()*100))\n",
        "\n",
        "##### 6 Clusters ######\n",
        "# define baseline model\n",
        "def baseline_model():\n",
        "\t# create model\n",
        "  model = Sequential()\n",
        "  model.add(Dense(64, input_shape=(X.shape[1],), activation='relu'))\n",
        "  model.add(Dense(32, activation='relu'))\n",
        "  model.add(Dense(16, activation='relu'))\n",
        "  model.add(Dense(8, activation='relu'))\n",
        "  model.add(Dense(6, activation='softmax'))  \n",
        "\t# Compile model\n",
        "  model.compile(loss='categorical_crossentropy', optimizer='adam', metrics=['accuracy'])\n",
        "  return model\n",
        "estimator = KerasClassifier(build_fn=baseline_model, epochs=1000, batch_size=32, verbose=0)\n",
        "kfold = KFold(n_splits=5, shuffle=True)\n",
        "results = cross_val_score(estimator, X, dummy_y6, cv=kfold)\n",
        "print(\"Baseline: %.2f%% (%.2f%%)\" % (results.mean()*100, results.std()*100))\n",
        "\n",
        "\n",
        "##### 7 Clusters #######\n",
        "# define baseline model\n",
        "def baseline_model():\n",
        "\t# create model\n",
        "  model = Sequential()\n",
        "  model.add(Dense(64, input_shape=(X.shape[1],), activation='relu'))\n",
        "  model.add(Dense(32, activation='relu'))\n",
        "  model.add(Dense(16, activation='relu'))\n",
        "  model.add(Dense(8, activation='relu'))\n",
        "  model.add(Dense(7, activation='softmax'))  \n",
        "\t# Compile model\n",
        "  model.compile(loss='categorical_crossentropy', optimizer='adam', metrics=['accuracy'])\n",
        "  return model\n",
        "estimator = KerasClassifier(build_fn=baseline_model, epochs=1000, batch_size=32, verbose=0)\n",
        "kfold = KFold(n_splits=5, shuffle=True)\n",
        "results = cross_val_score(estimator, X, dummy_y7, cv=kfold)\n",
        "print(\"Baseline: %.2f%% (%.2f%%)\" % (results.mean()*100, results.std()*100))"
      ],
      "execution_count": 15,
      "outputs": [
        {
          "output_type": "stream",
          "name": "stdout",
          "text": [
            "Baseline: 98.22% (0.41%)\n",
            "Baseline: 97.65% (0.77%)\n",
            "Baseline: 96.91% (0.47%)\n",
            "Baseline: 95.81% (0.69%)\n",
            "Baseline: 96.05% (0.82%)\n",
            "Baseline: 94.56% (0.43%)\n"
          ]
        }
      ]
    },
    {
      "cell_type": "markdown",
      "metadata": {
        "id": "4mmlSfZU5kSF"
      },
      "source": [
        "# 5 Layers"
      ]
    },
    {
      "cell_type": "code",
      "metadata": {
        "colab": {
          "base_uri": "https://localhost:8080/"
        },
        "id": "YjRlu85w5lbB",
        "outputId": "d8df0de1-61f9-4c02-c4d6-929829e69b6f"
      },
      "source": [
        "##### 2 clusters #######\n",
        "def baseline_model():\n",
        "\t# create model\n",
        "  model = Sequential()\n",
        "  model.add(Dense(128, input_shape=(X.shape[1],), activation='relu'))\n",
        "  model.add(Dense(64, activation='relu'))\n",
        "  model.add(Dense(32, activation='relu'))\n",
        "  model.add(Dense(16, activation='relu'))\n",
        "  model.add(Dense(8, activation='relu'))\n",
        "  model.add(Dense(1, activation='sigmoid'))\n",
        "\t# Compile model\n",
        "  model.compile(loss='binary_crossentropy', optimizer='adam', metrics=['accuracy'])\n",
        "  return model\n",
        " \n",
        "estimator = KerasClassifier(build_fn=baseline_model, epochs=1000, batch_size=32, verbose=0)\n",
        "kfold = KFold(n_splits=5, shuffle=True)\n",
        "results = cross_val_score(estimator, X, y2, cv=kfold)\n",
        "print(\"Baseline: %.2f%% (%.2f%%)\" % (results.mean()*100, results.std()*100))\n",
        "\n",
        "\n",
        "#### 3 Clusters ######## \n",
        "\n",
        "# define baseline model\n",
        "def baseline_model():\n",
        "\t# create model\n",
        "  model = Sequential()\n",
        "  model.add(Dense(128, input_shape=(X.shape[1],), activation='relu'))\n",
        "  model.add(Dense(64, activation='relu'))\n",
        "  model.add(Dense(32, activation='relu'))\n",
        "  model.add(Dense(16, activation='relu'))\n",
        "  model.add(Dense(8, activation='relu'))\n",
        "  model.add(Dense(3, activation='softmax'))  \n",
        "\t# Compile model\n",
        "  model.compile(loss='categorical_crossentropy', optimizer='adam', metrics=['accuracy'])\n",
        "  return model\n",
        " \n",
        "estimator = KerasClassifier(build_fn=baseline_model, epochs=1000, batch_size=32, verbose=0)\n",
        "kfold = KFold(n_splits=5, shuffle=True)\n",
        "results = cross_val_score(estimator, X, dummy_y3, cv=kfold)\n",
        "print(\"Baseline: %.2f%% (%.2f%%)\" % (results.mean()*100, results.std()*100))\n",
        "\n",
        "\n",
        "##### 4 Clusters #######\n",
        "# define baseline model\n",
        "def baseline_model():\n",
        "\t# create model\n",
        "  model = Sequential()\n",
        "  model.add(Dense(128, input_shape=(X.shape[1],), activation='relu'))\n",
        "  model.add(Dense(64, activation='relu'))\n",
        "  model.add(Dense(32, activation='relu'))\n",
        "  model.add(Dense(16, activation='relu'))\n",
        "  model.add(Dense(8, activation='relu'))\n",
        "  model.add(Dense(4, activation='softmax'))  \n",
        "\t# Compile model\n",
        "  model.compile(loss='categorical_crossentropy', optimizer='adam', metrics=['accuracy'])\n",
        "  return model\n",
        "estimator = KerasClassifier(build_fn=baseline_model, epochs=1000, batch_size=32, verbose=0)\n",
        "kfold = KFold(n_splits=5, shuffle=True)\n",
        "results = cross_val_score(estimator, X, dummy_y4, cv=kfold)\n",
        "print(\"Baseline: %.2f%% (%.2f%%)\" % (results.mean()*100, results.std()*100))\n",
        "\n",
        "\n",
        "##### 5 Clusters ######\n",
        "# define baseline model\n",
        "def baseline_model():\n",
        "\t# create model\n",
        "  model = Sequential()\n",
        "  model.add(Dense(128, input_shape=(X.shape[1],), activation='relu'))\n",
        "  model.add(Dense(64, activation='relu'))\n",
        "  model.add(Dense(32, activation='relu'))\n",
        "  model.add(Dense(16, activation='relu'))\n",
        "  model.add(Dense(8, activation='relu'))\n",
        "  model.add(Dense(5, activation='softmax'))  \n",
        "\t# Compile model\n",
        "  model.compile(loss='categorical_crossentropy', optimizer='adam', metrics=['accuracy'])\n",
        "  return model\n",
        "estimator = KerasClassifier(build_fn=baseline_model, epochs=1000, batch_size=32, verbose=0)\n",
        "kfold = KFold(n_splits=5, shuffle=True)\n",
        "results = cross_val_score(estimator, X, dummy_y5, cv=kfold)\n",
        "print(\"Baseline: %.2f%% (%.2f%%)\" % (results.mean()*100, results.std()*100))\n",
        "\n",
        "##### 6 Clusters ######\n",
        "# define baseline model\n",
        "def baseline_model():\n",
        "\t# create model\n",
        "  model = Sequential()\n",
        "  model.add(Dense(128, input_shape=(X.shape[1],), activation='relu'))\n",
        "  model.add(Dense(64, activation='relu'))\n",
        "  model.add(Dense(32, activation='relu'))\n",
        "  model.add(Dense(16, activation='relu'))\n",
        "  model.add(Dense(8, activation='relu'))\n",
        "  model.add(Dense(6, activation='softmax'))  \n",
        "\t# Compile model\n",
        "  model.compile(loss='categorical_crossentropy', optimizer='adam', metrics=['accuracy'])\n",
        "  return model\n",
        "estimator = KerasClassifier(build_fn=baseline_model, epochs=1000, batch_size=32, verbose=0)\n",
        "kfold = KFold(n_splits=5, shuffle=True)\n",
        "results = cross_val_score(estimator, X, dummy_y6, cv=kfold)\n",
        "print(\"Baseline: %.2f%% (%.2f%%)\" % (results.mean()*100, results.std()*100))\n",
        "\n",
        "\n",
        "##### 7 Clusters #######\n",
        "# define baseline model\n",
        "def baseline_model():\n",
        "\t# create model\n",
        "  model = Sequential()\n",
        "  model.add(Dense(128, input_shape=(X.shape[1],), activation='relu'))\n",
        "  model.add(Dense(64, activation='relu'))\n",
        "  model.add(Dense(32, activation='relu'))\n",
        "  model.add(Dense(16, activation='relu'))\n",
        "  model.add(Dense(8, activation='relu'))\n",
        "  model.add(Dense(7, activation='softmax'))  \n",
        "\t# Compile model\n",
        "  model.compile(loss='categorical_crossentropy', optimizer='adam', metrics=['accuracy'])\n",
        "  return model\n",
        "estimator = KerasClassifier(build_fn=baseline_model, epochs=1000, batch_size=32, verbose=0)\n",
        "kfold = KFold(n_splits=5, shuffle=True)\n",
        "results = cross_val_score(estimator, X, dummy_y7, cv=kfold)\n",
        "print(\"Baseline: %.2f%% (%.2f%%)\" % (results.mean()*100, results.std()*100))"
      ],
      "execution_count": 16,
      "outputs": [
        {
          "output_type": "stream",
          "name": "stdout",
          "text": [
            "Baseline: 97.95% (0.51%)\n",
            "Baseline: 97.38% (0.38%)\n",
            "Baseline: 96.64% (0.35%)\n",
            "Baseline: 94.92% (1.04%)\n",
            "Baseline: 96.23% (0.97%)\n",
            "Baseline: 94.71% (0.69%)\n"
          ]
        }
      ]
    },
    {
      "cell_type": "code",
      "metadata": {
        "id": "JtP163wn7WGy"
      },
      "source": [
        ""
      ],
      "execution_count": null,
      "outputs": []
    }
  ]
}
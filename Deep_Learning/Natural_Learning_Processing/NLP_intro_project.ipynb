{
  "nbformat": 4,
  "nbformat_minor": 0,
  "metadata": {
    "colab": {
      "name": "SkimLit.ipynb",
      "provenance": [],
      "collapsed_sections": []
    },
    "kernelspec": {
      "name": "python3",
      "display_name": "Python 3"
    },
    "language_info": {
      "name": "python"
    },
    "accelerator": "GPU"
  },
  "cells": [
    {
      "cell_type": "markdown",
      "source": [
        "# Milestone Project: SkimLit\n",
        "\n",
        "Build an NLP model to make reading medical abstracts easier."
      ],
      "metadata": {
        "id": "1fNM7RZxv43o"
      }
    },
    {
      "cell_type": "markdown",
      "source": [
        "## Confirm access to GPU"
      ],
      "metadata": {
        "id": "BR6dOAzxwbFI"
      }
    },
    {
      "cell_type": "code",
      "execution_count": 1,
      "metadata": {
        "id": "Ig-zI6dIiQds",
        "colab": {
          "base_uri": "https://localhost:8080/"
        },
        "outputId": "b8b8acaf-cf96-485c-e270-ad24d984e737"
      },
      "outputs": [
        {
          "output_type": "stream",
          "name": "stdout",
          "text": [
            "NVIDIA-SMI has failed because it couldn't communicate with the NVIDIA driver. Make sure that the latest NVIDIA driver is installed and running.\n",
            "\n"
          ]
        }
      ],
      "source": [
        "!nvidia-smi -L"
      ]
    },
    {
      "cell_type": "markdown",
      "source": [
        "## Get data"
      ],
      "metadata": {
        "id": "NI9SQ9ZEwjMe"
      }
    },
    {
      "cell_type": "code",
      "source": [
        "!git clone https://github.com/Franck-Dernoncourt/pubmed-rct\n",
        "!ls pubmed-rct"
      ],
      "metadata": {
        "colab": {
          "base_uri": "https://localhost:8080/"
        },
        "id": "lUc5nJW8xJwa",
        "outputId": "946c1240-e04a-4e12-ac1e-5b3d2c131eb4"
      },
      "execution_count": 2,
      "outputs": [
        {
          "output_type": "stream",
          "name": "stdout",
          "text": [
            "Cloning into 'pubmed-rct'...\n",
            "remote: Enumerating objects: 33, done.\u001b[K\n",
            "remote: Counting objects: 100% (3/3), done.\u001b[K\n",
            "remote: Compressing objects: 100% (3/3), done.\u001b[K\n",
            "remote: Total 33 (delta 0), reused 1 (delta 0), pack-reused 30\u001b[K\n",
            "Unpacking objects: 100% (33/33), done.\n",
            "PubMed_200k_RCT\n",
            "PubMed_200k_RCT_numbers_replaced_with_at_sign\n",
            "PubMed_20k_RCT\n",
            "PubMed_20k_RCT_numbers_replaced_with_at_sign\n",
            "README.md\n"
          ]
        }
      ]
    },
    {
      "cell_type": "code",
      "source": [
        "# Check what files are in the PubMeb_20K dataset\n",
        "!ls pubmed-rct/PubMed_20k_RCT_numbers_replaced_with_at_sign/"
      ],
      "metadata": {
        "colab": {
          "base_uri": "https://localhost:8080/"
        },
        "id": "f-uXmFpjx7pk",
        "outputId": "3a8c54b5-2446-4f6d-ffb9-15427d31ed6f"
      },
      "execution_count": 3,
      "outputs": [
        {
          "output_type": "stream",
          "name": "stdout",
          "text": [
            "dev.txt  test.txt  train.txt\n"
          ]
        }
      ]
    },
    {
      "cell_type": "code",
      "source": [
        "# Start our experiments using the 20K dataset with numbers replaced by \"@\" sign\n",
        "data_dir = \"/content/pubmed-rct/PubMed_20k_RCT_numbers_replaced_with_at_sign/\""
      ],
      "metadata": {
        "id": "6nTY2nkMyJmk"
      },
      "execution_count": 4,
      "outputs": []
    },
    {
      "cell_type": "code",
      "source": [
        "# Check all of the filenames in the target directory\n",
        "import os\n",
        "filenames = [data_dir + filename for filename in os.listdir(data_dir)]\n",
        "filenames"
      ],
      "metadata": {
        "colab": {
          "base_uri": "https://localhost:8080/"
        },
        "id": "hSfCKMTCzQa6",
        "outputId": "0d36f444-a5bd-46e5-d2f6-eea629a9156c"
      },
      "execution_count": 5,
      "outputs": [
        {
          "output_type": "execute_result",
          "data": {
            "text/plain": [
              "['/content/pubmed-rct/PubMed_20k_RCT_numbers_replaced_with_at_sign/dev.txt',\n",
              " '/content/pubmed-rct/PubMed_20k_RCT_numbers_replaced_with_at_sign/train.txt',\n",
              " '/content/pubmed-rct/PubMed_20k_RCT_numbers_replaced_with_at_sign/test.txt']"
            ]
          },
          "metadata": {},
          "execution_count": 5
        }
      ]
    },
    {
      "cell_type": "markdown",
      "source": [
        "## Preprocess data\n",
        "\n",
        "We have some text data, and should visualize them.\n",
        "\n",
        "Write a function to read in all of lines of a target text file."
      ],
      "metadata": {
        "id": "XLe4pj_Z21rk"
      }
    },
    {
      "cell_type": "code",
      "source": [
        "# Create function to read lines of a document\n",
        "def get_lines(filename):\n",
        "  \"\"\"\n",
        "  Reads filenames (a text filename) and returns the lines of text as a list.\n",
        "\n",
        "  Args:\n",
        "    filename: a string containing the target filepath.\n",
        "\n",
        "  Returns:\n",
        "    A list of strings with one string per line from the target filename.\n",
        "  \"\"\"\n",
        "  with open(filename, \"r\") as f:\n",
        "    return f.readlines()"
      ],
      "metadata": {
        "id": "06iIp9vxzcLE"
      },
      "execution_count": 6,
      "outputs": []
    },
    {
      "cell_type": "code",
      "source": [
        "# Let's read in the trainingh lines\n",
        "train_lines = get_lines(data_dir+\"train.txt\") # read the lines with the training file\n",
        "train_lines[:20]"
      ],
      "metadata": {
        "colab": {
          "base_uri": "https://localhost:8080/"
        },
        "id": "uE6vIp8N4SYE",
        "outputId": "d4fd5df7-4d28-468b-aac6-e89746f24c45"
      },
      "execution_count": 7,
      "outputs": [
        {
          "output_type": "execute_result",
          "data": {
            "text/plain": [
              "['###24293578\\n',\n",
              " 'OBJECTIVE\\tTo investigate the efficacy of @ weeks of daily low-dose oral prednisolone in improving pain , mobility , and systemic low-grade inflammation in the short term and whether the effect would be sustained at @ weeks in older adults with moderate to severe knee osteoarthritis ( OA ) .\\n',\n",
              " 'METHODS\\tA total of @ patients with primary knee OA were randomized @:@ ; @ received @ mg/day of prednisolone and @ received placebo for @ weeks .\\n',\n",
              " 'METHODS\\tOutcome measures included pain reduction and improvement in function scores and systemic inflammation markers .\\n',\n",
              " 'METHODS\\tPain was assessed using the visual analog pain scale ( @-@ mm ) .\\n',\n",
              " 'METHODS\\tSecondary outcome measures included the Western Ontario and McMaster Universities Osteoarthritis Index scores , patient global assessment ( PGA ) of the severity of knee OA , and @-min walk distance ( @MWD ) .\\n',\n",
              " 'METHODS\\tSerum levels of interleukin @ ( IL-@ ) , IL-@ , tumor necrosis factor ( TNF ) - , and high-sensitivity C-reactive protein ( hsCRP ) were measured .\\n',\n",
              " 'RESULTS\\tThere was a clinically relevant reduction in the intervention group compared to the placebo group for knee pain , physical function , PGA , and @MWD at @ weeks .\\n',\n",
              " 'RESULTS\\tThe mean difference between treatment arms ( @ % CI ) was @ ( @-@ @ ) , p < @ ; @ ( @-@ @ ) , p < @ ; @ ( @-@ @ ) , p < @ ; and @ ( @-@ @ ) , p < @ , respectively .\\n',\n",
              " 'RESULTS\\tFurther , there was a clinically relevant reduction in the serum levels of IL-@ , IL-@ , TNF - , and hsCRP at @ weeks in the intervention group when compared to the placebo group .\\n',\n",
              " 'RESULTS\\tThese differences remained significant at @ weeks .\\n',\n",
              " 'RESULTS\\tThe Outcome Measures in Rheumatology Clinical Trials-Osteoarthritis Research Society International responder rate was @ % in the intervention group and @ % in the placebo group ( p < @ ) .\\n',\n",
              " 'CONCLUSIONS\\tLow-dose oral prednisolone had both a short-term and a longer sustained effect resulting in less knee pain , better physical function , and attenuation of systemic inflammation in older patients with knee OA ( ClinicalTrials.gov identifier NCT@ ) .\\n',\n",
              " '\\n',\n",
              " '###24854809\\n',\n",
              " 'BACKGROUND\\tEmotional eating is associated with overeating and the development of obesity .\\n',\n",
              " 'BACKGROUND\\tYet , empirical evidence for individual ( trait ) differences in emotional eating and cognitive mechanisms that contribute to eating during sad mood remain equivocal .\\n',\n",
              " 'OBJECTIVE\\tThe aim of this study was to test if attention bias for food moderates the effect of self-reported emotional eating during sad mood ( vs neutral mood ) on actual food intake .\\n',\n",
              " 'OBJECTIVE\\tIt was expected that emotional eating is predictive of elevated attention for food and higher food intake after an experimentally induced sad mood and that attentional maintenance on food predicts food intake during a sad versus a neutral mood .\\n',\n",
              " 'METHODS\\tParticipants ( N = @ ) were randomly assigned to one of the two experimental mood induction conditions ( sad/neutral ) .\\n']"
            ]
          },
          "metadata": {},
          "execution_count": 7
        }
      ]
    },
    {
      "cell_type": "markdown",
      "source": [
        "Let's think about how we want our data to look\n",
        "\n",
        "How I think our data would be best represented\n",
        "\n",
        "```\n",
        "[{'line_number': 0,\n",
        "    'target': \"BACKGROUND',\n",
        "    'text': 'xxx \\n',\n",
        "    'total_lines': }, \n",
        "    ...]\n",
        "```"
      ],
      "metadata": {
        "id": "DPxfPk0O5pQJ"
      }
    },
    {
      "cell_type": "code",
      "source": [
        "def preprocess_text_with_line_numbers(filename):\n",
        "  \"\"\"\n",
        "  Returns a list of dictionaries of abstract line data.\n",
        "\n",
        "  Takes in filename, reads it contents and sorts through each line,\n",
        "  extracting things like the target label, text of the sentence, how many\n",
        "  sentences are in the current abstract and what sentence number the target\n",
        "  line is.\n",
        "  \"\"\"\n",
        "\n",
        "  input_lines = get_lines(filename) # get all lines from filename\n",
        "  abstract_lines = \"\" # Create an empty abstract\n",
        "  abstract_samples = [] # create an empty list of abstracts\n",
        "\n",
        "  # Loop through each line in the target file\n",
        "  for line in input_lines:\n",
        "    if line.startswith('###'): # check to see if the id line\n",
        "      abstract_id = line\n",
        "      abstract_lines = \"\" # reset the abstract string if the line is an ID line\n",
        "    elif line.isspace(): # check to see if line is a new line\n",
        "      abstract_line_split = abstract_lines.splitlines() # split abstract \n",
        "\n",
        "      # Iterate through each line in a single abstract and count them at the same time\n",
        "      for abstract_line_number, abstract_line in enumerate(abstract_line_split):\n",
        "        line_data = {} # create an empty dictionary for each line\n",
        "        target_text_split = abstract_line.split(\"\\t\") # split target label from text\n",
        "        line_data[\"target\"] = target_text_split[0] # get target label\n",
        "        line_data[\"text\"] = target_text_split[1].lower() # get target text and lower it\n",
        "        line_data[\"line_number\"] = abstract_line_number # What number line does the line appear in line abstract\n",
        "        line_data[\"total_lines\"] = len(abstract_line_split) - 1 # how many lines are there in the target abstract? (start with 0)\n",
        "        abstract_samples.append(line_data) # add line data to abstract sample list\n",
        "\n",
        "    else: # if the above condistions are not fullfilled, the line contains a labeled sentence\n",
        "      abstract_lines += line\n",
        "  return abstract_samples\n"
      ],
      "metadata": {
        "id": "BvUyo8CY5z16"
      },
      "execution_count": 8,
      "outputs": []
    },
    {
      "cell_type": "code",
      "source": [
        "# Get data from file and preprocess it \n",
        "%%time\n",
        "train_samples = preprocess_text_with_line_numbers(data_dir + \"train.txt\")\n",
        "val_samples = preprocess_text_with_line_numbers(data_dir + \"dev.txt\")\n",
        "test_samples = preprocess_text_with_line_numbers(data_dir + \"test.txt\")\n",
        "print(len(train_samples), len(val_samples), len(test_samples))"
      ],
      "metadata": {
        "colab": {
          "base_uri": "https://localhost:8080/"
        },
        "id": "AwlBLJQ9RKT3",
        "outputId": "5531d176-9d1e-4253-bb9c-1e66670c334f"
      },
      "execution_count": 9,
      "outputs": [
        {
          "output_type": "stream",
          "name": "stdout",
          "text": [
            "180040 30212 30135\n",
            "CPU times: user 562 ms, sys: 116 ms, total: 678 ms\n",
            "Wall time: 681 ms\n"
          ]
        }
      ]
    },
    {
      "cell_type": "code",
      "source": [
        "# Check the first abstract of our training data\n",
        "train_samples[:10]"
      ],
      "metadata": {
        "colab": {
          "base_uri": "https://localhost:8080/"
        },
        "id": "1lop_8rNRmhi",
        "outputId": "c726fcc2-3cf6-4e18-eec5-f1c235b8a598"
      },
      "execution_count": 10,
      "outputs": [
        {
          "output_type": "execute_result",
          "data": {
            "text/plain": [
              "[{'line_number': 0,\n",
              "  'target': 'OBJECTIVE',\n",
              "  'text': 'to investigate the efficacy of @ weeks of daily low-dose oral prednisolone in improving pain , mobility , and systemic low-grade inflammation in the short term and whether the effect would be sustained at @ weeks in older adults with moderate to severe knee osteoarthritis ( oa ) .',\n",
              "  'total_lines': 11},\n",
              " {'line_number': 1,\n",
              "  'target': 'METHODS',\n",
              "  'text': 'a total of @ patients with primary knee oa were randomized @:@ ; @ received @ mg/day of prednisolone and @ received placebo for @ weeks .',\n",
              "  'total_lines': 11},\n",
              " {'line_number': 2,\n",
              "  'target': 'METHODS',\n",
              "  'text': 'outcome measures included pain reduction and improvement in function scores and systemic inflammation markers .',\n",
              "  'total_lines': 11},\n",
              " {'line_number': 3,\n",
              "  'target': 'METHODS',\n",
              "  'text': 'pain was assessed using the visual analog pain scale ( @-@ mm ) .',\n",
              "  'total_lines': 11},\n",
              " {'line_number': 4,\n",
              "  'target': 'METHODS',\n",
              "  'text': 'secondary outcome measures included the western ontario and mcmaster universities osteoarthritis index scores , patient global assessment ( pga ) of the severity of knee oa , and @-min walk distance ( @mwd ) .',\n",
              "  'total_lines': 11},\n",
              " {'line_number': 5,\n",
              "  'target': 'METHODS',\n",
              "  'text': 'serum levels of interleukin @ ( il-@ ) , il-@ , tumor necrosis factor ( tnf ) - , and high-sensitivity c-reactive protein ( hscrp ) were measured .',\n",
              "  'total_lines': 11},\n",
              " {'line_number': 6,\n",
              "  'target': 'RESULTS',\n",
              "  'text': 'there was a clinically relevant reduction in the intervention group compared to the placebo group for knee pain , physical function , pga , and @mwd at @ weeks .',\n",
              "  'total_lines': 11},\n",
              " {'line_number': 7,\n",
              "  'target': 'RESULTS',\n",
              "  'text': 'the mean difference between treatment arms ( @ % ci ) was @ ( @-@ @ ) , p < @ ; @ ( @-@ @ ) , p < @ ; @ ( @-@ @ ) , p < @ ; and @ ( @-@ @ ) , p < @ , respectively .',\n",
              "  'total_lines': 11},\n",
              " {'line_number': 8,\n",
              "  'target': 'RESULTS',\n",
              "  'text': 'further , there was a clinically relevant reduction in the serum levels of il-@ , il-@ , tnf - , and hscrp at @ weeks in the intervention group when compared to the placebo group .',\n",
              "  'total_lines': 11},\n",
              " {'line_number': 9,\n",
              "  'target': 'RESULTS',\n",
              "  'text': 'these differences remained significant at @ weeks .',\n",
              "  'total_lines': 11}]"
            ]
          },
          "metadata": {},
          "execution_count": 10
        }
      ]
    },
    {
      "cell_type": "markdown",
      "source": [
        "Now data is a list of dictionaries, then change to DataFrame to visualize it"
      ],
      "metadata": {
        "id": "F5OZWrMJVj2W"
      }
    },
    {
      "cell_type": "code",
      "source": [
        "import pandas as pd\n",
        "train_df = pd.DataFrame(train_samples)\n",
        "val_df = pd.DataFrame(val_samples)\n",
        "test_df = pd.DataFrame(test_samples) "
      ],
      "metadata": {
        "id": "iUPlyXP5R78N"
      },
      "execution_count": 11,
      "outputs": []
    },
    {
      "cell_type": "code",
      "source": [
        "# Distribution of lables in training data\n",
        "train_df.target.value_counts()"
      ],
      "metadata": {
        "colab": {
          "base_uri": "https://localhost:8080/"
        },
        "id": "arFC9YDvV0jD",
        "outputId": "019c6790-7bff-488c-f2b5-b29704cbaeef"
      },
      "execution_count": 12,
      "outputs": [
        {
          "output_type": "execute_result",
          "data": {
            "text/plain": [
              "METHODS        59353\n",
              "RESULTS        57953\n",
              "CONCLUSIONS    27168\n",
              "BACKGROUND     21727\n",
              "OBJECTIVE      13839\n",
              "Name: target, dtype: int64"
            ]
          },
          "metadata": {},
          "execution_count": 12
        }
      ]
    },
    {
      "cell_type": "code",
      "source": [
        "# Check the length of different lines\n",
        "train_df.total_lines.plot.hist()"
      ],
      "metadata": {
        "colab": {
          "base_uri": "https://localhost:8080/",
          "height": 284
        },
        "id": "sETAjaj2V55E",
        "outputId": "c6f8630d-c67a-4102-9a04-a59f9278e8ed"
      },
      "execution_count": 13,
      "outputs": [
        {
          "output_type": "execute_result",
          "data": {
            "text/plain": [
              "<matplotlib.axes._subplots.AxesSubplot at 0x7f3c737d5090>"
            ]
          },
          "metadata": {},
          "execution_count": 13
        },
        {
          "output_type": "display_data",
          "data": {
            "text/plain": [
              "<Figure size 432x288 with 1 Axes>"
            ],
            "image/png": "[encoded data removed]"
          },
          "metadata": {
            "needs_background": "light"
          }
        }
      ]
    },
    {
      "cell_type": "markdown",
      "source": [
        "### Get lists of sentences"
      ],
      "metadata": {
        "id": "hMygHuTBWwFi"
      }
    },
    {
      "cell_type": "code",
      "source": [
        "# Convert abstract text lines into lists\n",
        "train_sentences = train_df[\"text\"].tolist()\n",
        "val_sentences = val_df[\"text\"].tolist()\n",
        "test_sentences = test_df[\"text\"].tolist()"
      ],
      "metadata": {
        "id": "56hQt_AsWlOi"
      },
      "execution_count": 14,
      "outputs": []
    },
    {
      "cell_type": "code",
      "source": [
        "# View the 10 lines of training sentences\n",
        "train_sentences[:10]"
      ],
      "metadata": {
        "colab": {
          "base_uri": "https://localhost:8080/"
        },
        "id": "a8NRSSR-XBvI",
        "outputId": "f7ac2bc0-3650-4f68-e5cd-c52bdc334a0c"
      },
      "execution_count": 15,
      "outputs": [
        {
          "output_type": "execute_result",
          "data": {
            "text/plain": [
              "['to investigate the efficacy of @ weeks of daily low-dose oral prednisolone in improving pain , mobility , and systemic low-grade inflammation in the short term and whether the effect would be sustained at @ weeks in older adults with moderate to severe knee osteoarthritis ( oa ) .',\n",
              " 'a total of @ patients with primary knee oa were randomized @:@ ; @ received @ mg/day of prednisolone and @ received placebo for @ weeks .',\n",
              " 'outcome measures included pain reduction and improvement in function scores and systemic inflammation markers .',\n",
              " 'pain was assessed using the visual analog pain scale ( @-@ mm ) .',\n",
              " 'secondary outcome measures included the western ontario and mcmaster universities osteoarthritis index scores , patient global assessment ( pga ) of the severity of knee oa , and @-min walk distance ( @mwd ) .',\n",
              " 'serum levels of interleukin @ ( il-@ ) , il-@ , tumor necrosis factor ( tnf ) - , and high-sensitivity c-reactive protein ( hscrp ) were measured .',\n",
              " 'there was a clinically relevant reduction in the intervention group compared to the placebo group for knee pain , physical function , pga , and @mwd at @ weeks .',\n",
              " 'the mean difference between treatment arms ( @ % ci ) was @ ( @-@ @ ) , p < @ ; @ ( @-@ @ ) , p < @ ; @ ( @-@ @ ) , p < @ ; and @ ( @-@ @ ) , p < @ , respectively .',\n",
              " 'further , there was a clinically relevant reduction in the serum levels of il-@ , il-@ , tnf - , and hscrp at @ weeks in the intervention group when compared to the placebo group .',\n",
              " 'these differences remained significant at @ weeks .']"
            ]
          },
          "metadata": {},
          "execution_count": 15
        }
      ]
    },
    {
      "cell_type": "markdown",
      "source": [
        "## Make numeric labels (ML models require numeric labels)"
      ],
      "metadata": {
        "id": "RN9wIcGIYFQe"
      }
    },
    {
      "cell_type": "markdown",
      "source": [
        "### One-Hot encoded labels"
      ],
      "metadata": {
        "id": "sCY0UEWwaaA-"
      }
    },
    {
      "cell_type": "code",
      "source": [
        "# One hot encode labels \n",
        "from sklearn.preprocessing import OneHotEncoder\n",
        "one_hot_encoder = OneHotEncoder(sparse=False) # we want non-sparse matirx for tensorflow\n",
        "train_labels_one_hot = one_hot_encoder.fit_transform(train_df[\"target\"].to_numpy().reshape(-1,1))\n",
        "val_labels_one_hot = one_hot_encoder.transform(val_df[\"target\"].to_numpy().reshape(-1,1))\n",
        "test_labels_one_hot = one_hot_encoder.transform(test_df[\"target\"].to_numpy().reshape(-1,1))\n",
        "\n",
        "# Check what our one-hot encoder looks like\n",
        "train_labels_one_hot\n"
      ],
      "metadata": {
        "colab": {
          "base_uri": "https://localhost:8080/"
        },
        "id": "clqBlpAEXGun",
        "outputId": "3d04f1d1-f3fa-4c67-ac01-35970cdbdf27"
      },
      "execution_count": 16,
      "outputs": [
        {
          "output_type": "execute_result",
          "data": {
            "text/plain": [
              "array([[0., 0., 0., 1., 0.],\n",
              "       [0., 0., 1., 0., 0.],\n",
              "       [0., 0., 1., 0., 0.],\n",
              "       ...,\n",
              "       [0., 0., 0., 0., 1.],\n",
              "       [0., 1., 0., 0., 0.],\n",
              "       [0., 1., 0., 0., 0.]])"
            ]
          },
          "metadata": {},
          "execution_count": 16
        }
      ]
    },
    {
      "cell_type": "markdown",
      "source": [
        "### Label encode labels"
      ],
      "metadata": {
        "id": "rPid7E6RZzhF"
      }
    },
    {
      "cell_type": "code",
      "source": [
        "# Extract labels (\"target\" columns) and encode them into integers\n",
        "from sklearn.preprocessing import LabelEncoder\n",
        "label_encoder = LabelEncoder()\n",
        "train_labels_encoded = label_encoder.fit_transform(train_df[\"target\"].to_numpy())\n",
        "val_labels_encoded = label_encoder.fit_transform(val_df[\"target\"].to_numpy())\n",
        "test_labels_encoded = label_encoder.fit_transform(test_df[\"target\"].to_numpy())\n",
        "\n",
        "# Check what training labels look like\n",
        "train_labels_encoded"
      ],
      "metadata": {
        "colab": {
          "base_uri": "https://localhost:8080/"
        },
        "id": "s34DvxI0ZEnA",
        "outputId": "f37c14a1-4adf-4316-cee9-fb365064778f"
      },
      "execution_count": 17,
      "outputs": [
        {
          "output_type": "execute_result",
          "data": {
            "text/plain": [
              "array([3, 2, 2, ..., 4, 1, 1])"
            ]
          },
          "metadata": {},
          "execution_count": 17
        }
      ]
    },
    {
      "cell_type": "code",
      "source": [
        "# Get class names and number of clasess from LabelEncoder instance\n",
        "num_classes = len(label_encoder.classes_)\n",
        "class_names = label_encoder.classes_\n",
        "num_classes, class_names"
      ],
      "metadata": {
        "colab": {
          "base_uri": "https://localhost:8080/"
        },
        "id": "a8s_G3LYZfQx",
        "outputId": "b50d9a83-ee99-4363-cace-6bd9227adaa6"
      },
      "execution_count": 18,
      "outputs": [
        {
          "output_type": "execute_result",
          "data": {
            "text/plain": [
              "(5, array(['BACKGROUND', 'CONCLUSIONS', 'METHODS', 'OBJECTIVE', 'RESULTS'],\n",
              "       dtype=object))"
            ]
          },
          "metadata": {},
          "execution_count": 18
        }
      ]
    },
    {
      "cell_type": "markdown",
      "source": [
        "## Starting a series of modelling experiments"
      ],
      "metadata": {
        "id": "R3pJi50t3fP-"
      }
    },
    {
      "cell_type": "markdown",
      "source": [
        "## Model 0: Getting a baseline"
      ],
      "metadata": {
        "id": "cJNISKez3jQZ"
      }
    },
    {
      "cell_type": "code",
      "source": [
        "from sklearn.feature_extraction.text import TfidfVectorizer\n",
        "from sklearn.naive_bayes import MultinomialNB\n",
        "from sklearn.pipeline import Pipeline\n",
        "\n",
        "# Create a pipeline\n",
        "model_0 = Pipeline([\n",
        "    (\"tf-idf\", TfidfVectorizer()),\n",
        "    (\"clf\", MultinomialNB())\n",
        "])\n",
        "\n",
        "# Fit the pipeline to the training data\n",
        "model_0.fit(X=train_sentences,\n",
        "            y=train_labels_encoded)"
      ],
      "metadata": {
        "id": "RYQnZdpsavBL",
        "colab": {
          "base_uri": "https://localhost:8080/"
        },
        "outputId": "95524c7b-a730-418a-c98e-2740e6ac5e0a"
      },
      "execution_count": 19,
      "outputs": [
        {
          "output_type": "execute_result",
          "data": {
            "text/plain": [
              "Pipeline(steps=[('tf-idf', TfidfVectorizer()), ('clf', MultinomialNB())])"
            ]
          },
          "metadata": {},
          "execution_count": 19
        }
      ]
    },
    {
      "cell_type": "code",
      "source": [
        "# Evaluate baseline model on validation dataset\n",
        "model_0.score(X=val_sentences,\n",
        "              y=val_labels_encoded)"
      ],
      "metadata": {
        "colab": {
          "base_uri": "https://localhost:8080/"
        },
        "id": "BXxlXMNd7Fxr",
        "outputId": "5e6f9fd4-a05e-4a15-97c4-bd9c5d865999"
      },
      "execution_count": 20,
      "outputs": [
        {
          "output_type": "execute_result",
          "data": {
            "text/plain": [
              "0.7218323844829869"
            ]
          },
          "metadata": {},
          "execution_count": 20
        }
      ]
    },
    {
      "cell_type": "code",
      "source": [
        "# Make predictions using our baseline model\n",
        "baseline_preds = model_0.predict(val_sentences)\n",
        "baseline_preds"
      ],
      "metadata": {
        "colab": {
          "base_uri": "https://localhost:8080/"
        },
        "id": "BXZ_IRY-7XJK",
        "outputId": "d818da8a-ec1c-446a-f266-831ce091357d"
      },
      "execution_count": 21,
      "outputs": [
        {
          "output_type": "execute_result",
          "data": {
            "text/plain": [
              "array([4, 1, 3, ..., 4, 4, 1])"
            ]
          },
          "metadata": {},
          "execution_count": 21
        }
      ]
    },
    {
      "cell_type": "markdown",
      "source": [
        "### Download helper functions scipt"
      ],
      "metadata": {
        "id": "iM8skMGG7pBX"
      }
    },
    {
      "cell_type": "code",
      "source": [
        "!wget https://raw.githubusercontent.com/mrdbourke/tensorflow-deep-learning/main/extras/helper_functions.py"
      ],
      "metadata": {
        "colab": {
          "base_uri": "https://localhost:8080/"
        },
        "id": "nws6vl7c7lSZ",
        "outputId": "e6131b70-b876-423c-a081-85c61eb6500f"
      },
      "execution_count": 22,
      "outputs": [
        {
          "output_type": "stream",
          "name": "stdout",
          "text": [
            "--2022-04-01 14:17:18--  https://raw.githubusercontent.com/mrdbourke/tensorflow-deep-learning/main/extras/helper_functions.py\n",
            "Resolving raw.githubusercontent.com (raw.githubusercontent.com)... 185.199.108.133, 185.199.110.133, 185.199.111.133, ...\n",
            "Connecting to raw.githubusercontent.com (raw.githubusercontent.com)|185.199.108.133|:443... connected.\n",
            "HTTP request sent, awaiting response... 200 OK\n",
            "Length: 10246 (10K) [text/plain]\n",
            "Saving to: ‘helper_functions.py’\n",
            "\n",
            "\rhelper_functions.py   0%[                    ]       0  --.-KB/s               \rhelper_functions.py 100%[===================>]  10.01K  --.-KB/s    in 0s      \n",
            "\n",
            "2022-04-01 14:17:18 (77.4 MB/s) - ‘helper_functions.py’ saved [10246/10246]\n",
            "\n"
          ]
        }
      ]
    },
    {
      "cell_type": "code",
      "source": [
        "from helper_functions import *"
      ],
      "metadata": {
        "id": "lVlWsDtq7x9G"
      },
      "execution_count": 23,
      "outputs": []
    },
    {
      "cell_type": "code",
      "source": [
        "# Calculate baseline results\n",
        "baseline_results = calculate_results(y_true=val_labels_encoded,\n",
        "                                     y_pred=baseline_preds)\n",
        "baseline_results"
      ],
      "metadata": {
        "colab": {
          "base_uri": "https://localhost:8080/"
        },
        "id": "7zwmTKpW70-O",
        "outputId": "a2d536d6-c910-4b0e-f6dc-64c43e224b27"
      },
      "execution_count": 24,
      "outputs": [
        {
          "output_type": "execute_result",
          "data": {
            "text/plain": [
              "{'accuracy': 72.1832384482987,\n",
              " 'f1': 0.6989250353450294,\n",
              " 'precision': 0.7186466952323352,\n",
              " 'recall': 0.7218323844829869}"
            ]
          },
          "metadata": {},
          "execution_count": 24
        }
      ]
    },
    {
      "cell_type": "markdown",
      "source": [
        "## Preparing our data (the text) for deep sequence models\n",
        "\n",
        "Create vectorization and embedding layers before deep learning models"
      ],
      "metadata": {
        "id": "nnrGzaJR8zrf"
      }
    },
    {
      "cell_type": "code",
      "source": [
        "import numpy as np\n",
        "import tensorflow as tf\n",
        "from tensorflow.keras import layers"
      ],
      "metadata": {
        "id": "Mk6xA15V8mFw"
      },
      "execution_count": 25,
      "outputs": []
    },
    {
      "cell_type": "code",
      "source": [
        "# How long is each sentence on avaerage?\n",
        "sent_lens = [len(sentence.split()) for sentence in train_sentences]\n",
        "avg_sent_len = np.mean(sent_lens)\n",
        "avg_sent_len"
      ],
      "metadata": {
        "colab": {
          "base_uri": "https://localhost:8080/"
        },
        "id": "ym0FMtDS9P3k",
        "outputId": "e6b61c5a-3acd-49e8-f76e-fcf5bb46399e"
      },
      "execution_count": 26,
      "outputs": [
        {
          "output_type": "execute_result",
          "data": {
            "text/plain": [
              "26.338269273494777"
            ]
          },
          "metadata": {},
          "execution_count": 26
        }
      ]
    },
    {
      "cell_type": "code",
      "source": [
        "# What's the distribution look like?\n",
        "import matplotlib.pyplot as plt\n",
        "plt.hist(sent_lens, bins=20);"
      ],
      "metadata": {
        "colab": {
          "base_uri": "https://localhost:8080/",
          "height": 265
        },
        "id": "tVxuvWt69n7y",
        "outputId": "2fd070e9-53fb-44ab-c4cf-aca5ac13d21e"
      },
      "execution_count": 27,
      "outputs": [
        {
          "output_type": "display_data",
          "data": {
            "text/plain": [
              "<Figure size 432x288 with 1 Axes>"
            ],
            "image/png": "[encoded data removed]"
          },
          "metadata": {
            "needs_background": "light"
          }
        }
      ]
    },
    {
      "cell_type": "code",
      "source": [
        "# How long of a sentence length covers 95% of examples?\n",
        "output_seq_len = int(np.percentile(sent_lens, 95))\n",
        "output_seq_len"
      ],
      "metadata": {
        "colab": {
          "base_uri": "https://localhost:8080/"
        },
        "id": "Gx5FHHp4ERoy",
        "outputId": "492440a5-eafc-487d-ab71-43d2cf4af687"
      },
      "execution_count": 28,
      "outputs": [
        {
          "output_type": "execute_result",
          "data": {
            "text/plain": [
              "55"
            ]
          },
          "metadata": {},
          "execution_count": 28
        }
      ]
    },
    {
      "cell_type": "code",
      "source": [
        "# Maximum sequence length in the training set\n",
        "max(sent_lens)"
      ],
      "metadata": {
        "colab": {
          "base_uri": "https://localhost:8080/"
        },
        "id": "TQsO9ocZVoTe",
        "outputId": "7d08fbbf-7244-43df-f25d-b5a1c10c687b"
      },
      "execution_count": 29,
      "outputs": [
        {
          "output_type": "execute_result",
          "data": {
            "text/plain": [
              "296"
            ]
          },
          "metadata": {},
          "execution_count": 29
        }
      ]
    },
    {
      "cell_type": "markdown",
      "source": [
        "### Create text vectorizer layer\n",
        "\n",
        "Make a layer which maps our text to numbers"
      ],
      "metadata": {
        "id": "zVk4V8nUc9si"
      }
    },
    {
      "cell_type": "code",
      "source": [
        "max_features = 68000 # Taken from the paper\n",
        "max_len = 55\n",
        "\n",
        "text_vectorizer = tf.keras.layers.TextVectorization(\n",
        " max_tokens=max_features,\n",
        " output_mode='int',\n",
        " output_sequence_length=max_len)"
      ],
      "metadata": {
        "id": "SLR8NCPrYTJy"
      },
      "execution_count": 30,
      "outputs": []
    },
    {
      "cell_type": "code",
      "source": [
        "# Adapt text vectorizer to training sentences\n",
        "text_vectorizer.adapt(train_sentences)"
      ],
      "metadata": {
        "id": "EdQwHDesZ6sU"
      },
      "execution_count": 31,
      "outputs": []
    },
    {
      "cell_type": "code",
      "source": [
        "# Test out text vectorizer on random sentences \n",
        "import random \n",
        "target_sentence = random.choice(train_sentences)\n",
        "print(target_sentence)\n",
        "print(len(target_sentence.split())-1)\n",
        "print(text_vectorizer([target_sentence]))"
      ],
      "metadata": {
        "colab": {
          "base_uri": "https://localhost:8080/"
        },
        "id": "dW3yd6HYbeFY",
        "outputId": "aff18e99-ec3b-495a-f790-bca3dc2150b5"
      },
      "execution_count": 32,
      "outputs": [
        {
          "output_type": "stream",
          "name": "stdout",
          "text": [
            "sixty postmenopausal women consumed butter during the stabilization period and were randomly divided into two groups for the intervention period : the treatment group of @ participants received dietary argan oil , the control group of @ participants received olive oil , and both groups applied cosmetic argan oil in the left volar forearm during a @-day period .\n",
            "58\n",
            "tf.Tensor(\n",
            "[[ 1471  1460    90  1572 11277    52     2  4464   173     3     9    92\n",
            "    471   143    51    24    11     2    38   173     2    19    13     4\n",
            "     60    80   566 21188  1237     2    35    13     4    60    80  3746\n",
            "   1237     3    54    24   551  3224 21188  1237     5     2   601  5310\n",
            "   3664    52     8   108   173     0     0]], shape=(1, 55), dtype=int64)\n"
          ]
        }
      ]
    },
    {
      "cell_type": "code",
      "source": [
        "# How many words in our training vocabulary\n",
        "rct_20k_text_vocab = text_vectorizer.get_vocabulary()\n",
        "print(len(rct_20k_text_vocab))\n",
        "print(rct_20k_text_vocab[:5])"
      ],
      "metadata": {
        "colab": {
          "base_uri": "https://localhost:8080/"
        },
        "id": "jbdKl7P4ld-8",
        "outputId": "b2affeee-512a-4e15-9d1a-e858b0a2ecbf"
      },
      "execution_count": 33,
      "outputs": [
        {
          "output_type": "stream",
          "name": "stdout",
          "text": [
            "64841\n",
            "['', '[UNK]', 'the', 'and', 'of']\n"
          ]
        }
      ]
    },
    {
      "cell_type": "code",
      "source": [
        "# Get the config of our text vectorizer\n",
        "text_vectorizer.get_config()"
      ],
      "metadata": {
        "colab": {
          "base_uri": "https://localhost:8080/"
        },
        "id": "l1Kd3rHApFWM",
        "outputId": "849e1032-b8eb-4ec3-c461-67a06017f7b4"
      },
      "execution_count": 34,
      "outputs": [
        {
          "output_type": "execute_result",
          "data": {
            "text/plain": [
              "{'batch_input_shape': (None,),\n",
              " 'dtype': 'string',\n",
              " 'idf_weights': None,\n",
              " 'max_tokens': 68000,\n",
              " 'name': 'text_vectorization',\n",
              " 'ngrams': None,\n",
              " 'output_mode': 'int',\n",
              " 'output_sequence_length': 55,\n",
              " 'pad_to_max_tokens': False,\n",
              " 'ragged': False,\n",
              " 'sparse': False,\n",
              " 'split': 'whitespace',\n",
              " 'standardize': 'lower_and_strip_punctuation',\n",
              " 'trainable': True,\n",
              " 'vocabulary': None}"
            ]
          },
          "metadata": {},
          "execution_count": 34
        }
      ]
    },
    {
      "cell_type": "markdown",
      "source": [
        "### Create custom text Embedding"
      ],
      "metadata": {
        "id": "bD-CRo_J_rSC"
      }
    },
    {
      "cell_type": "code",
      "source": [
        "# Create token embedding layers\n",
        "token_embed=layers.Embedding(\n",
        "    input_dim = len(rct_20k_text_vocab),\n",
        "    output_dim=128, # Different embedding sizes result in drastically different numbers of parameters to train\n",
        "    mask_zero=True, # use masking to handle variable sequence lengths (save space)\n",
        "    name=\"token_embedding\"\n",
        ")"
      ],
      "metadata": {
        "id": "KUdq6tPN9kK3"
      },
      "execution_count": 35,
      "outputs": []
    },
    {
      "cell_type": "code",
      "source": [
        "# Show examgle embedding \n",
        "print(target_sentence)\n",
        "vectorized_sentence = text_vectorizer([target_sentence])\n",
        "print(vectorized_sentence)\n",
        "embedded_sentence = token_embed(vectorized_sentence)\n",
        "print(embedded_sentence)\n",
        "print(embedded_sentence.shape)"
      ],
      "metadata": {
        "colab": {
          "base_uri": "https://localhost:8080/"
        },
        "id": "CfB5rsjhBoo3",
        "outputId": "35b40067-a3e8-4d6b-b3e8-934a905067eb"
      },
      "execution_count": 36,
      "outputs": [
        {
          "output_type": "stream",
          "name": "stdout",
          "text": [
            "sixty postmenopausal women consumed butter during the stabilization period and were randomly divided into two groups for the intervention period : the treatment group of @ participants received dietary argan oil , the control group of @ participants received olive oil , and both groups applied cosmetic argan oil in the left volar forearm during a @-day period .\n",
            "tf.Tensor(\n",
            "[[ 1471  1460    90  1572 11277    52     2  4464   173     3     9    92\n",
            "    471   143    51    24    11     2    38   173     2    19    13     4\n",
            "     60    80   566 21188  1237     2    35    13     4    60    80  3746\n",
            "   1237     3    54    24   551  3224 21188  1237     5     2   601  5310\n",
            "   3664    52     8   108   173     0     0]], shape=(1, 55), dtype=int64)\n",
            "tf.Tensor(\n",
            "[[[ 0.02972753 -0.00090595  0.0384406  ...  0.01906356 -0.01346297\n",
            "    0.00428538]\n",
            "  [-0.04192774 -0.00467606  0.0283682  ...  0.01954888 -0.04863248\n",
            "    0.02570187]\n",
            "  [-0.01376988  0.01521179  0.0494584  ...  0.01821003  0.04776039\n",
            "   -0.02347056]\n",
            "  ...\n",
            "  [-0.02523389  0.00196338  0.01299251 ...  0.01115791  0.01710242\n",
            "   -0.03295168]\n",
            "  [-0.00781089  0.00164723 -0.020184   ...  0.01698235 -0.02605464\n",
            "   -0.04045312]\n",
            "  [-0.00781089  0.00164723 -0.020184   ...  0.01698235 -0.02605464\n",
            "   -0.04045312]]], shape=(1, 55, 128), dtype=float32)\n",
            "(1, 55, 128)\n"
          ]
        }
      ]
    },
    {
      "cell_type": "markdown",
      "source": [
        "## Creating datasets (make sure our data loads as fast as possible)\n",
        "\n",
        "* tf.data API"
      ],
      "metadata": {
        "id": "THCRFPynDD-z"
      }
    },
    {
      "cell_type": "code",
      "source": [
        "# Turn our data into TensorFlow Datasets\n",
        "train_dataset = tf.data.Dataset.from_tensor_slices((train_sentences,\n",
        "                                                    train_labels_one_hot))\n",
        "valid_dataset = tf.data.Dataset.from_tensor_slices((val_sentences,\n",
        "                                                    val_labels_one_hot))\n",
        "test_dataset = tf.data.Dataset.from_tensor_slices((test_sentences,\n",
        "                                                   test_labels_one_hot))\n",
        "\n",
        "train_dataset"
      ],
      "metadata": {
        "colab": {
          "base_uri": "https://localhost:8080/"
        },
        "id": "dMCBghgCCHaO",
        "outputId": "6260bb41-c3de-45c9-a2f9-a794e06934cf"
      },
      "execution_count": 37,
      "outputs": [
        {
          "output_type": "execute_result",
          "data": {
            "text/plain": [
              "<TensorSliceDataset element_spec=(TensorSpec(shape=(), dtype=tf.string, name=None), TensorSpec(shape=(5,), dtype=tf.float64, name=None))>"
            ]
          },
          "metadata": {},
          "execution_count": 37
        }
      ]
    },
    {
      "cell_type": "code",
      "source": [
        "# Take the TensorSlice Dataset's and turn them into prefected dataset\n",
        "train_dataset = train_dataset.batch(32).prefetch(tf.data.AUTOTUNE) # AUTOTUNE represents as many as can \n",
        "valid_dataset= valid_dataset.batch(32).prefetch(tf.data.AUTOTUNE)\n",
        "test_dataset= test_dataset.batch(32).prefetch(tf.data.AUTOTUNE)"
      ],
      "metadata": {
        "id": "BlwiMq1PD8bj"
      },
      "execution_count": 38,
      "outputs": []
    },
    {
      "cell_type": "code",
      "source": [
        "train_dataset"
      ],
      "metadata": {
        "colab": {
          "base_uri": "https://localhost:8080/"
        },
        "id": "AjN1zA_2EIQ-",
        "outputId": "9deda0e4-9666-4cb0-de75-f2ea1c598927"
      },
      "execution_count": 39,
      "outputs": [
        {
          "output_type": "execute_result",
          "data": {
            "text/plain": [
              "<PrefetchDataset element_spec=(TensorSpec(shape=(None,), dtype=tf.string, name=None), TensorSpec(shape=(None, 5), dtype=tf.float64, name=None))>"
            ]
          },
          "metadata": {},
          "execution_count": 39
        }
      ]
    },
    {
      "cell_type": "markdown",
      "source": [
        "## Model 1: Conv1D with token embeddings"
      ],
      "metadata": {
        "id": "1p54-VYfHJ_m"
      }
    },
    {
      "cell_type": "code",
      "source": [
        "# Create 1D conv model to process sequences\n",
        "inputs = layers.Input(shape=(1,), dtype=tf.string)\n",
        "text_vectors = text_vectorizer(inputs) # vectorize text inputs\n",
        "token_embeddings = token_embed(text_vectors)\n",
        "x = layers.Conv1D(64, kernel_size=5, padding=\"same\", activation=\"relu\")(token_embeddings)\n",
        "x = layers.GlobalAveragePooling1D()(x) # Condense output of our feature vector from conv layer\n",
        "outputs = layers.Dense(num_classes, activation=\"softmax\")(x)\n",
        "model_1 = tf.keras.Model(inputs, outputs)\n",
        "\n",
        "# Compile the model\n",
        "model_1.compile(loss=\"categorical_crossentropy\",\n",
        "                optimizer=tf.keras.optimizers.Adam(),\n",
        "                metrics=[\"accuracy\"])\n",
        "\n"
      ],
      "metadata": {
        "id": "ONT_9ML1EK2C"
      },
      "execution_count": 40,
      "outputs": []
    },
    {
      "cell_type": "code",
      "source": [
        "model_1.summary()"
      ],
      "metadata": {
        "colab": {
          "base_uri": "https://localhost:8080/"
        },
        "id": "K9qco7TVKD-2",
        "outputId": "9c81f068-02a4-46a2-e039-1f1a37d2345f"
      },
      "execution_count": 41,
      "outputs": [
        {
          "output_type": "stream",
          "name": "stdout",
          "text": [
            "Model: \"model\"\n",
            "_________________________________________________________________\n",
            " Layer (type)                Output Shape              Param #   \n",
            "=================================================================\n",
            " input_1 (InputLayer)        [(None, 1)]               0         \n",
            "                                                                 \n",
            " text_vectorization (TextVec  (None, 55)               0         \n",
            " torization)                                                     \n",
            "                                                                 \n",
            " token_embedding (Embedding)  (None, 55, 128)          8299648   \n",
            "                                                                 \n",
            " conv1d (Conv1D)             (None, 55, 64)            41024     \n",
            "                                                                 \n",
            " global_average_pooling1d (G  (None, 64)               0         \n",
            " lobalAveragePooling1D)                                          \n",
            "                                                                 \n",
            " dense (Dense)               (None, 5)                 325       \n",
            "                                                                 \n",
            "=================================================================\n",
            "Total params: 8,340,997\n",
            "Trainable params: 8,340,997\n",
            "Non-trainable params: 0\n",
            "_________________________________________________________________\n"
          ]
        }
      ]
    },
    {
      "cell_type": "code",
      "source": [
        "# Fit the model\n",
        "history_model_1 = model_1.fit(train_dataset,\n",
        "                              steps_per_epoch=int(0.1*len(train_dataset)),\n",
        "                              epochs=3,\n",
        "                              validation_data=valid_dataset,\n",
        "                              validation_steps=int(0.1 * len(valid_dataset))) # only validate on 10% of batches                     "
      ],
      "metadata": {
        "id": "KROiDNCmKLIT",
        "colab": {
          "base_uri": "https://localhost:8080/"
        },
        "outputId": "2401a082-6e9c-4fbd-aaf0-3f9b0222749f"
      },
      "execution_count": 42,
      "outputs": [
        {
          "output_type": "stream",
          "name": "stdout",
          "text": [
            "Epoch 1/3\n",
            "562/562 [==============================] - 60s 105ms/step - loss: 0.9184 - accuracy: 0.6417 - val_loss: 0.6826 - val_accuracy: 0.7410\n",
            "Epoch 2/3\n",
            "562/562 [==============================] - 55s 99ms/step - loss: 0.6620 - accuracy: 0.7541 - val_loss: 0.6397 - val_accuracy: 0.7676\n",
            "Epoch 3/3\n",
            "562/562 [==============================] - 55s 99ms/step - loss: 0.6214 - accuracy: 0.7732 - val_loss: 0.5985 - val_accuracy: 0.7849\n"
          ]
        }
      ]
    },
    {
      "cell_type": "code",
      "source": [
        "# Evaluate on whole valid dataset\n",
        "model_1.evaluate(valid_dataset)"
      ],
      "metadata": {
        "id": "aFD2p_AzRTGE",
        "colab": {
          "base_uri": "https://localhost:8080/"
        },
        "outputId": "d6e4ef02-67f0-47dd-9f78-1232507c47bf"
      },
      "execution_count": 43,
      "outputs": [
        {
          "output_type": "stream",
          "name": "stdout",
          "text": [
            "945/945 [==============================] - 5s 5ms/step - loss: 0.6009 - accuracy: 0.7850\n"
          ]
        },
        {
          "output_type": "execute_result",
          "data": {
            "text/plain": [
              "[0.6009275317192078, 0.7850192189216614]"
            ]
          },
          "metadata": {},
          "execution_count": 43
        }
      ]
    },
    {
      "cell_type": "code",
      "source": [
        "# Make predictions (our model predicts prediction probabilities for each class)\n",
        "model_1_pred_probs = model_1.predict(valid_dataset)\n",
        "model_1_pred_probs, model_1_pred_probs.shape"
      ],
      "metadata": {
        "id": "p2W5odpgRakg",
        "colab": {
          "base_uri": "https://localhost:8080/"
        },
        "outputId": "155dbe35-078c-4acd-82ed-c2302409aeb1"
      },
      "execution_count": 44,
      "outputs": [
        {
          "output_type": "execute_result",
          "data": {
            "text/plain": [
              "(array([[4.2661282e-01, 1.8783458e-01, 8.4207453e-02, 2.7361479e-01,\n",
              "         2.7730366e-02],\n",
              "        [4.3666610e-01, 2.9146957e-01, 1.2154649e-02, 2.5066945e-01,\n",
              "         9.0402113e-03],\n",
              "        [1.4789259e-01, 8.7235728e-03, 2.9031858e-03, 8.4044892e-01,\n",
              "         3.1785170e-05],\n",
              "        ...,\n",
              "        [5.4290454e-06, 9.0871641e-04, 7.8089844e-04, 3.3156846e-06,\n",
              "         9.9830163e-01],\n",
              "        [6.0603753e-02, 5.0582975e-01, 8.5796170e-02, 7.9975612e-02,\n",
              "         2.6779473e-01],\n",
              "        [1.5975073e-01, 6.6635960e-01, 4.3127075e-02, 5.0683025e-02,\n",
              "         8.0079511e-02]], dtype=float32), (30212, 5))"
            ]
          },
          "metadata": {},
          "execution_count": 44
        }
      ]
    },
    {
      "cell_type": "code",
      "source": [
        "# Convet pred probs to classes\n",
        "model_1_preds = tf.argmax(model_1_pred_probs, axis=1)\n",
        "model_1_preds"
      ],
      "metadata": {
        "id": "5jVEVcN0RqJD",
        "colab": {
          "base_uri": "https://localhost:8080/"
        },
        "outputId": "5e834dca-7dac-47eb-fbe7-34a102f39f2a"
      },
      "execution_count": 45,
      "outputs": [
        {
          "output_type": "execute_result",
          "data": {
            "text/plain": [
              "<tf.Tensor: shape=(30212,), dtype=int64, numpy=array([0, 0, 3, ..., 4, 1, 1])>"
            ]
          },
          "metadata": {},
          "execution_count": 45
        }
      ]
    },
    {
      "cell_type": "code",
      "source": [
        "# Calcualte model_1 results\n",
        "model_1_results = calculate_results(y_true=val_labels_encoded,\n",
        "                                    y_pred=model_1_preds)\n",
        "model_1_results"
      ],
      "metadata": {
        "id": "YAAS2AMhSF7Z",
        "colab": {
          "base_uri": "https://localhost:8080/"
        },
        "outputId": "c9c4cf12-e095-466c-abaf-ab418cc34bb6"
      },
      "execution_count": 46,
      "outputs": [
        {
          "output_type": "execute_result",
          "data": {
            "text/plain": [
              "{'accuracy': 78.50191976698001,\n",
              " 'f1': 0.78255592800629,\n",
              " 'precision': 0.7817857160913774,\n",
              " 'recall': 0.7850191976698001}"
            ]
          },
          "metadata": {},
          "execution_count": 46
        }
      ]
    },
    {
      "cell_type": "markdown",
      "source": [
        "## Model 2: Feature extraction with pretrained token embeddings\n",
        "\n",
        "Universal sentence encoder"
      ],
      "metadata": {
        "id": "7zSaCFFd38dN"
      }
    },
    {
      "cell_type": "code",
      "source": [
        "# Download pretrained tensorflow hub use\n",
        "import tensorflow_hub as hub\n",
        "tf_hub_embedding_layer = hub.KerasLayer(\"https://tfhub.dev/google/universal-sentence-encoder/4\",\n",
        "                                        trainable=False,\n",
        "                                        name=\"universal_sentence_encoder\")"
      ],
      "metadata": {
        "id": "0Ab4VJzA3_zI"
      },
      "execution_count": 47,
      "outputs": []
    },
    {
      "cell_type": "code",
      "source": [
        "# Test out the pretrained embedding on a random sentence\n",
        "random_train_sentence = random.choice(train_sentences)\n",
        "print(random_train_sentence)\n",
        "use_embedded_sentence = tf_hub_embedding_layer([random_train_sentence]) # No need to vectorized here \n",
        "print(use_embedded_sentence[:1])\n",
        "print(use_embedded_sentence.shape)"
      ],
      "metadata": {
        "colab": {
          "base_uri": "https://localhost:8080/"
        },
        "id": "wairNAL-6_kT",
        "outputId": "991214f0-482c-4262-d819-28d277115dff"
      },
      "execution_count": 48,
      "outputs": [
        {
          "output_type": "stream",
          "name": "stdout",
          "text": [
            "no significant difference was found for overall pa with an adjusted difference of -@ cpm ( @ % ci : -@ , @ ) or for school time activity with an adjusted difference of @ cpm ( @ % ci : -@ , @ ) .\n",
            "tf.Tensor(\n",
            "[[-6.00540414e-02 -7.28885755e-02 -2.02430952e-02 -3.45089287e-02\n",
            "  -3.39971446e-02  6.93770796e-02  1.04649141e-02 -1.07772192e-02\n",
            "   5.70622720e-02  7.57813230e-02 -1.60350360e-03  4.39571403e-02\n",
            "  -6.25299737e-02  7.04837888e-02  5.78177199e-02  3.89038026e-03\n",
            "  -4.81301360e-02 -9.55128390e-03  6.58906577e-03 -2.84405928e-02\n",
            "   5.93407229e-02  3.74579318e-02 -4.77795191e-02  5.55635877e-02\n",
            "   1.15634240e-02  3.85348569e-03 -5.43687232e-02  5.82684316e-02\n",
            "  -6.08450808e-02  2.30053512e-04 -3.61815691e-02 -2.63261832e-02\n",
            "   9.64026246e-03  4.13006470e-02 -9.54897050e-03  5.56712272e-03\n",
            "  -1.95618775e-02 -6.34231195e-02 -1.98685913e-03  3.32704633e-02\n",
            "   2.59590819e-02  5.53965531e-02  2.05091183e-05  3.33279781e-02\n",
            "   1.89348720e-02  3.17963921e-02  1.93186551e-02 -1.03917308e-02\n",
            "  -2.16160482e-03 -2.10048836e-02 -7.96427205e-02 -4.76836674e-02\n",
            "  -2.14671493e-02 -6.21994473e-02 -5.01812622e-02  6.16198033e-02\n",
            "  -4.03642580e-02  9.71311796e-03  4.56882603e-02 -1.69821363e-02\n",
            "   2.92921308e-02  1.04295136e-02  2.09651869e-02  4.25866917e-02\n",
            "   1.09986542e-02 -2.68844292e-02 -2.47123335e-02 -2.13439465e-02\n",
            "   7.32865930e-02 -1.45031856e-02 -6.48510829e-02 -3.34867612e-02\n",
            "  -7.59369880e-02 -3.19563411e-02 -7.37690628e-02 -2.50621289e-02\n",
            "   1.49721960e-02  1.65449791e-02 -6.48052543e-02 -5.21872304e-02\n",
            "  -3.27630378e-02  3.49574648e-02  2.13662945e-02 -1.12412199e-02\n",
            "   5.49074747e-02  7.45499283e-02  1.12001533e-02 -2.46655867e-02\n",
            "   4.84301262e-02  4.02871333e-02  6.41838238e-02  5.63141592e-02\n",
            "  -5.90270683e-02 -4.06593047e-02  5.47729619e-03 -4.55267075e-03\n",
            "  -2.48233248e-02 -5.11115156e-02 -6.34600446e-02 -6.20851703e-02\n",
            "  -2.16167886e-02  3.62566561e-02  5.48252724e-02  5.47868386e-02\n",
            "  -7.24986270e-02 -6.44178987e-02 -1.50399795e-02  4.50073294e-02\n",
            "   8.14019442e-02 -6.29378036e-02  6.32581934e-02 -2.70946752e-02\n",
            "  -1.45410160e-02 -2.54713446e-02  7.36086890e-02  5.38118407e-02\n",
            "   3.51052010e-03 -2.51442809e-02  7.21237287e-02  2.46953107e-02\n",
            "   6.35186397e-03 -2.49608643e-02  1.61871184e-02  2.21441947e-02\n",
            "   1.07772155e-02  1.51543487e-02  2.15872051e-03  2.78673111e-03\n",
            "   4.47183289e-02 -4.27531498e-03 -6.54794872e-02 -5.37093952e-02\n",
            "   7.13472590e-02 -2.95898877e-02 -7.00418896e-04  1.38742132e-02\n",
            "   6.64375946e-02  4.08053510e-02  1.80894807e-02 -4.43581073e-03\n",
            "   1.03118811e-02  4.28949855e-02 -7.21395165e-02  7.96925742e-03\n",
            "   9.98475589e-03  2.22111512e-02  6.18605055e-02 -4.20878120e-02\n",
            "   6.00191653e-02 -8.33814312e-03  5.38152680e-02  3.39962281e-02\n",
            "  -6.46390542e-02 -3.94336358e-02 -2.43047308e-02  2.58986447e-02\n",
            "   1.26763629e-02  5.04149012e-02  1.62638817e-02  9.07665025e-03\n",
            "   3.19538973e-02  4.24679369e-02 -4.14241552e-02 -1.95589587e-02\n",
            "   9.79919359e-03  2.81512830e-02 -2.08386239e-02  6.95991144e-02\n",
            "   3.20808925e-02 -2.95619965e-02  3.28267328e-02  1.42259916e-04\n",
            "  -3.81223895e-02  5.52857108e-02 -6.65704906e-02 -5.27641252e-02\n",
            "  -3.82454414e-03 -3.34959030e-02 -6.34299032e-03  5.74642979e-02\n",
            "   2.90154647e-02  3.44248079e-02 -4.21068110e-02  6.58617243e-02\n",
            "   2.64251046e-02  7.54455396e-04 -8.84779450e-03 -2.71096174e-03\n",
            "  -3.56428325e-02  2.21920498e-02 -1.35482904e-02 -6.43195212e-02\n",
            "   9.43389907e-03  5.93944378e-02  1.48666545e-03  2.62958277e-02\n",
            "  -1.22367661e-03  3.23311985e-02 -2.91345436e-02 -5.21509424e-02\n",
            "   2.67923772e-02  1.54290646e-02 -5.13056815e-02  6.20553121e-02\n",
            "  -5.25552668e-02  4.65180017e-02 -3.99704985e-02  3.14140469e-02\n",
            "  -2.62207519e-02  2.57380456e-02 -9.23853461e-03  6.54359534e-02\n",
            "  -1.90653894e-02 -6.34974381e-03 -6.24289848e-02 -5.21302894e-02\n",
            "   2.43943427e-02 -4.26653214e-02  2.01350432e-02 -6.50370866e-02\n",
            "   1.04713710e-02  4.03183028e-02  2.92970194e-03 -5.20614609e-02\n",
            "   9.17962566e-03  6.03395626e-02 -7.49629131e-03  4.30718809e-02\n",
            "   3.02348146e-03  6.54443875e-02  4.87208255e-02  8.64204839e-02\n",
            "   5.84863760e-02 -7.09568709e-02  5.00196368e-02 -5.00351414e-02\n",
            "   6.28947914e-02  4.02404219e-02 -8.28130841e-02  7.54563510e-02\n",
            "  -1.57932118e-02 -2.13898122e-02 -8.78755003e-02 -7.14730099e-02\n",
            "   6.10230118e-02 -6.64578304e-02 -2.44468544e-02  4.11547385e-02\n",
            "  -7.54444115e-03 -3.74656357e-02 -8.42445716e-03  6.98403940e-02\n",
            "   6.01219246e-03 -8.52263812e-03  1.06987497e-02  6.78634718e-02\n",
            "  -8.53867978e-02  8.00058693e-02  4.80098948e-02  1.47056300e-02\n",
            "  -4.64534983e-02 -6.95010424e-02 -3.50199901e-02  1.72909163e-02\n",
            "   4.20099311e-02 -3.16965096e-02 -7.90765285e-02  3.01452950e-02\n",
            "   1.33006591e-02  6.06435277e-02 -4.70182905e-03 -7.36031262e-03\n",
            "   3.58627774e-02 -1.62595250e-02  5.07504940e-02  3.88443507e-02\n",
            "  -2.85857115e-02 -6.08547553e-02  1.84970982e-02 -7.63082877e-02\n",
            "  -3.03371483e-03  5.74383028e-02 -4.93103191e-02  6.93380684e-02\n",
            "  -5.96745200e-02 -5.46990335e-02 -6.14734506e-03  1.64775699e-02\n",
            "   2.39969827e-02 -8.04347023e-02  2.69424859e-02  3.11102229e-03\n",
            "  -5.70356250e-02  1.56062273e-02 -7.21723884e-02  4.67555672e-02\n",
            "  -6.99959174e-02 -7.02949762e-02  2.55165864e-02  5.73501084e-03\n",
            "  -6.30224273e-02 -2.20811050e-02 -2.59735510e-02 -6.35211095e-02\n",
            "  -3.71266045e-02 -4.64050062e-02  3.20877209e-02 -7.39577413e-02\n",
            "   1.21091390e-02  5.67658134e-02  3.85276191e-02 -3.52846570e-02\n",
            "   5.54667898e-02  1.05046853e-02  3.73417959e-02 -7.64400139e-02\n",
            "  -1.38824014e-02  3.91521938e-02  1.45825685e-03  7.64565077e-03\n",
            "   4.65915203e-02 -2.32390910e-02 -4.85144034e-02 -1.69710070e-02\n",
            "  -3.66315134e-02 -6.94051012e-02  5.62231950e-02 -3.17137339e-03\n",
            "  -7.56138265e-02 -2.39104554e-02 -4.64940667e-02 -7.34896734e-02\n",
            "  -3.28834206e-02  6.24021553e-02 -1.01554310e-02 -8.12867843e-03\n",
            "   4.70946953e-02 -4.96281348e-02  2.29487307e-02 -4.36255559e-02\n",
            "  -5.14070615e-02 -2.28332840e-02  3.89087461e-02  2.35965922e-02\n",
            "  -6.91125542e-02  8.16096812e-02  8.09633061e-02 -4.47969250e-02\n",
            "   1.60956420e-02 -3.95721160e-02 -2.05277242e-02 -6.09949268e-02\n",
            "   4.58510071e-02  3.40278670e-02  1.83936302e-02 -5.31844236e-02\n",
            "  -4.98533025e-02  2.64002588e-02 -7.20739812e-02 -7.66993165e-02\n",
            "   2.52518952e-02 -7.51983523e-02 -4.08544168e-02 -2.88552847e-02\n",
            "  -2.10087113e-02  4.53498214e-02  1.53598012e-02  7.77975172e-02\n",
            "   1.23411845e-02  9.94315743e-03 -4.45330143e-02  4.78895120e-02\n",
            "  -6.93339035e-02 -4.58314978e-02  3.06856330e-03  1.76397264e-02\n",
            "   5.04918955e-02 -5.47678918e-02  8.13279673e-02 -8.11817199e-02\n",
            "   2.32467130e-02  4.94035967e-02 -7.77958194e-03  1.22332601e-02\n",
            "   7.63297006e-02  5.52363321e-02  7.18331560e-02  2.13631173e-03\n",
            "   4.10048030e-02 -6.49952963e-02  6.84914663e-02  3.53445485e-02\n",
            "  -2.49261707e-02 -1.89217422e-02  1.92768624e-04  2.66674254e-03\n",
            "  -2.76995264e-02 -3.02957427e-02 -2.36048121e-02 -8.22245926e-02\n",
            "   4.93419589e-03  5.59589528e-02 -5.50680012e-02  5.16645573e-02\n",
            "   2.98801288e-02 -2.39603985e-02 -8.60255025e-03  8.15860480e-02\n",
            "   6.57438859e-02  3.86947319e-02  2.98557170e-02  6.36670366e-02\n",
            "   3.54793519e-02 -6.61227703e-02  2.96054743e-02  3.83297615e-02\n",
            "   2.33832095e-02 -1.81775689e-02  2.35021524e-02 -5.15436232e-02\n",
            "  -1.88591462e-02 -3.52941938e-02  8.82537104e-03  1.84833892e-02\n",
            "  -5.24102561e-02  6.53904164e-03  2.24515907e-02 -2.47312281e-02\n",
            "  -8.33867267e-02 -4.47547473e-02 -5.26177697e-03 -4.92818989e-02\n",
            "  -5.12874909e-02  7.46646896e-02 -4.19094674e-02 -5.86764999e-02\n",
            "  -5.84847555e-02 -4.79865149e-02 -3.36549617e-02 -2.28050277e-02\n",
            "   5.15923239e-02  7.74623975e-02 -4.49988283e-02  5.96372187e-02\n",
            "  -4.50756587e-02 -1.06911166e-02  1.36534488e-02 -5.95618337e-02\n",
            "  -5.44225723e-02  4.11077738e-02  8.94279219e-03 -2.28589606e-02\n",
            "  -1.51012689e-02  6.20582886e-02 -2.74910703e-02 -3.41751240e-02\n",
            "   2.97940010e-03  5.96221536e-02  6.18750602e-02  7.50941485e-02\n",
            "  -4.98521887e-02  3.22990231e-02 -1.59565546e-02 -2.85128970e-02\n",
            "  -4.40479256e-02 -6.23327494e-02 -7.10732043e-02 -5.25101498e-02\n",
            "  -2.35283896e-02 -7.83350505e-03  4.39980067e-02  2.43594386e-02\n",
            "   1.09051326e-02  3.93355116e-02 -1.92900337e-02  3.17744985e-02\n",
            "   2.06550565e-02 -6.58563450e-02  1.61340646e-02  4.29124869e-02\n",
            "  -1.14540737e-02  7.08976435e-03 -7.56749697e-03 -5.36326207e-02\n",
            "   1.21796224e-02 -7.62057453e-02 -7.25780427e-02 -2.18645930e-02\n",
            "   2.65403185e-02 -3.32164904e-03  3.28699946e-02  3.17985378e-02\n",
            "   4.67760526e-02 -6.90803006e-02 -4.73743156e-02 -2.75608674e-02\n",
            "   6.02463856e-02 -3.53310592e-02  6.25316724e-02 -8.12422484e-03\n",
            "   1.82874314e-02 -2.45827492e-02  7.87335634e-02 -7.66693503e-02\n",
            "   3.23404968e-02  1.82057172e-02  3.60992067e-02  3.39270197e-02\n",
            "   4.95527275e-02 -4.72939797e-02 -6.19462058e-02 -2.97184065e-02]], shape=(1, 512), dtype=float32)\n",
            "(1, 512)\n"
          ]
        }
      ]
    },
    {
      "cell_type": "markdown",
      "source": [
        "## Building and fitting NLP feature extraction model using pretrained embeddings Tensorflow hub"
      ],
      "metadata": {
        "id": "xR5I0MrMNPE3"
      }
    },
    {
      "cell_type": "code",
      "source": [
        "# Define feature extraction model using TF Hub Layer\n",
        "inputs = layers.Input(shape=[], dtype=tf.string)\n",
        "pretrained_embedding = tf_hub_embedding_layer(inputs) #tokenize text and create embedding of each sequence (512 vector long)\n",
        "x = layers.Dense(128, activation=\"relu\")(pretrained_embedding)\n",
        "# Note: Add more layers here if needed\n",
        "outputs=layers.Dense(5, activation=\"softmax\")(x) # Create the output\n",
        "model_2 = tf.keras.Model(inputs=inputs, outputs=outputs, name=\"model_2_USE_feature_extractor\")\n",
        "\n",
        "# Compile the model\n",
        "model_2.compile(loss=\"categorical_crossentropy\",\n",
        "                optimizer=tf.keras.optimizers.Adam(),\n",
        "                metrics=[\"accuracy\"])"
      ],
      "metadata": {
        "id": "UtBTNcwJNqI4"
      },
      "execution_count": 49,
      "outputs": []
    },
    {
      "cell_type": "code",
      "source": [
        "model_2.summary()"
      ],
      "metadata": {
        "colab": {
          "base_uri": "https://localhost:8080/"
        },
        "id": "UoHDxCLW89sv",
        "outputId": "014d57b5-7238-44c6-a09a-84703f05ea30"
      },
      "execution_count": 50,
      "outputs": [
        {
          "output_type": "stream",
          "name": "stdout",
          "text": [
            "Model: \"model_2_USE_feature_extractor\"\n",
            "_________________________________________________________________\n",
            " Layer (type)                Output Shape              Param #   \n",
            "=================================================================\n",
            " input_2 (InputLayer)        [(None,)]                 0         \n",
            "                                                                 \n",
            " universal_sentence_encoder   (None, 512)              256797824 \n",
            " (KerasLayer)                                                    \n",
            "                                                                 \n",
            " dense_1 (Dense)             (None, 128)               65664     \n",
            "                                                                 \n",
            " dense_2 (Dense)             (None, 5)                 645       \n",
            "                                                                 \n",
            "=================================================================\n",
            "Total params: 256,864,133\n",
            "Trainable params: 66,309\n",
            "Non-trainable params: 256,797,824\n",
            "_________________________________________________________________\n"
          ]
        }
      ]
    },
    {
      "cell_type": "code",
      "source": [
        "# Fit model_2 to the data\n",
        "history_model_2 = model_2.fit(train_dataset,\n",
        "                              epochs=3,\n",
        "                              steps_per_epoch=int(0.1*len(train_dataset)),\n",
        "                              validation_data=valid_dataset,\n",
        "                              validation_steps=int(0.1*len(valid_dataset)))"
      ],
      "metadata": {
        "colab": {
          "base_uri": "https://localhost:8080/"
        },
        "id": "aE61_s5D9RSQ",
        "outputId": "0f6ebce2-5976-436a-ac6b-9aec001c9cdd"
      },
      "execution_count": 51,
      "outputs": [
        {
          "output_type": "stream",
          "name": "stdout",
          "text": [
            "Epoch 1/3\n",
            "562/562 [==============================] - 10s 14ms/step - loss: 0.9209 - accuracy: 0.6454 - val_loss: 0.7982 - val_accuracy: 0.6878\n",
            "Epoch 2/3\n",
            "562/562 [==============================] - 7s 12ms/step - loss: 0.7679 - accuracy: 0.7012 - val_loss: 0.7534 - val_accuracy: 0.7041\n",
            "Epoch 3/3\n",
            "562/562 [==============================] - 7s 13ms/step - loss: 0.7511 - accuracy: 0.7121 - val_loss: 0.7368 - val_accuracy: 0.7161\n"
          ]
        }
      ]
    },
    {
      "cell_type": "code",
      "source": [
        "# Evaluate on the whole validation dataset\n",
        "model_2.evaluate(valid_dataset)"
      ],
      "metadata": {
        "colab": {
          "base_uri": "https://localhost:8080/"
        },
        "id": "5NKvUPyePqK7",
        "outputId": "3b3e1648-dd83-4b6b-e7dc-cfbf392c2325"
      },
      "execution_count": 52,
      "outputs": [
        {
          "output_type": "stream",
          "name": "stdout",
          "text": [
            "945/945 [==============================] - 10s 10ms/step - loss: 0.7389 - accuracy: 0.7146\n"
          ]
        },
        {
          "output_type": "execute_result",
          "data": {
            "text/plain": [
              "[0.7389116883277893, 0.7146497964859009]"
            ]
          },
          "metadata": {},
          "execution_count": 52
        }
      ]
    },
    {
      "cell_type": "code",
      "source": [
        "# Make predictions with feature extraction mode\n",
        "model_2_pred_probs = model_2.predict(valid_dataset)\n",
        "model_2_pred_probs"
      ],
      "metadata": {
        "colab": {
          "base_uri": "https://localhost:8080/"
        },
        "id": "hmOkfb8NQICH",
        "outputId": "a2372f3f-afbc-49d3-824e-ac44ba0e06ed"
      },
      "execution_count": 53,
      "outputs": [
        {
          "output_type": "execute_result",
          "data": {
            "text/plain": [
              "array([[4.0387139e-01, 3.7913337e-01, 2.0899884e-03, 2.0706184e-01,\n",
              "        7.8433957e-03],\n",
              "       [3.7700862e-01, 4.5380828e-01, 3.0958457e-03, 1.6376866e-01,\n",
              "        2.3186337e-03],\n",
              "       [2.1688850e-01, 1.3067724e-01, 1.8256081e-02, 5.9695303e-01,\n",
              "        3.7225101e-02],\n",
              "       ...,\n",
              "       [1.8600258e-03, 6.5064640e-03, 5.1221516e-02, 7.9035485e-04,\n",
              "        9.3962157e-01],\n",
              "       [3.6273042e-03, 4.8565805e-02, 1.9108085e-01, 1.3946299e-03,\n",
              "        7.5533140e-01],\n",
              "       [1.5317312e-01, 2.4886562e-01, 5.2922386e-01, 7.1873367e-03,\n",
              "        6.1550144e-02]], dtype=float32)"
            ]
          },
          "metadata": {},
          "execution_count": 53
        }
      ]
    },
    {
      "cell_type": "code",
      "source": [
        "# Convert the prediction probabilites found with feature extraction model to label \n",
        "model_2_preds = tf.argmax(model_2_pred_probs, axis=1)\n",
        "model_2_preds"
      ],
      "metadata": {
        "colab": {
          "base_uri": "https://localhost:8080/"
        },
        "id": "XoUdv1y2QRVe",
        "outputId": "f0d0e0bc-ed49-4dab-f4f0-e3dbdeaba0a3"
      },
      "execution_count": 54,
      "outputs": [
        {
          "output_type": "execute_result",
          "data": {
            "text/plain": [
              "<tf.Tensor: shape=(30212,), dtype=int64, numpy=array([0, 1, 3, ..., 4, 4, 2])>"
            ]
          },
          "metadata": {},
          "execution_count": 54
        }
      ]
    },
    {
      "cell_type": "code",
      "source": [
        "# Calculate results from TF Hub pretrained embeddings results on the validation dataset\n",
        "model_2_results = calculate_results(y_true=val_labels_encoded,\n",
        "                                    y_pred=model_2_preds)\n",
        "model_2_results"
      ],
      "metadata": {
        "colab": {
          "base_uri": "https://localhost:8080/"
        },
        "id": "RMEAFMW5Qgd5",
        "outputId": "ab5de11d-1e32-43a6-e9f1-c0ce7ea577f8"
      },
      "execution_count": 55,
      "outputs": [
        {
          "output_type": "execute_result",
          "data": {
            "text/plain": [
              "{'accuracy': 71.4649808023302,\n",
              " 'f1': 0.7114585114731669,\n",
              " 'precision': 0.7146406522828269,\n",
              " 'recall': 0.714649808023302}"
            ]
          },
          "metadata": {},
          "execution_count": 55
        }
      ]
    },
    {
      "cell_type": "markdown",
      "source": [
        "## Model 3: Conv1D with character embeddings\n",
        "\n",
        "Combination of token and character embeddings"
      ],
      "metadata": {
        "id": "UFVAoFFWU6l2"
      }
    },
    {
      "cell_type": "markdown",
      "source": [
        "### Creating a character-level tokenizer"
      ],
      "metadata": {
        "id": "JK1Zns8HXoV1"
      }
    },
    {
      "cell_type": "code",
      "source": [
        "# Make function to split sentences into charactrers\n",
        "def split_chars(text):\n",
        "  return \" \".join(list(text)) "
      ],
      "metadata": {
        "id": "InTd3MFdQtWb"
      },
      "execution_count": 56,
      "outputs": []
    },
    {
      "cell_type": "code",
      "source": [
        "# Split sequence-level data splits into character-level data splits\n",
        "train_chars = [split_chars(sentence) for sentence in train_sentences]\n",
        "val_chars = [split_chars(sentence) for sentence in val_sentences]\n",
        "test_chars = [split_chars(sentence) for sentence in test_sentences]"
      ],
      "metadata": {
        "id": "S0CATXO2Ya0W"
      },
      "execution_count": 57,
      "outputs": []
    },
    {
      "cell_type": "code",
      "source": [
        "# What's the average character length?\n",
        "char_lens = [len(sentence) for sentence in train_sentences]\n",
        "mean_char_len = np.mean(char_lens)\n",
        "mean_char_len"
      ],
      "metadata": {
        "colab": {
          "base_uri": "https://localhost:8080/"
        },
        "id": "sCvZ64ntZRt2",
        "outputId": "9af7c210-67d3-4ead-8729-8ee1836e69c1"
      },
      "execution_count": 58,
      "outputs": [
        {
          "output_type": "execute_result",
          "data": {
            "text/plain": [
              "149.3662574983337"
            ]
          },
          "metadata": {},
          "execution_count": 58
        }
      ]
    },
    {
      "cell_type": "code",
      "source": [
        "# Check the distribution of our sequences at a character-level \n",
        "import matplotlib.pyplot as plt\n",
        "plt.hist(char_lens, bins=7);"
      ],
      "metadata": {
        "colab": {
          "base_uri": "https://localhost:8080/",
          "height": 265
        },
        "id": "dRTOLdBhacba",
        "outputId": "e3687f65-22ea-49a9-9296-d07a90c0d413"
      },
      "execution_count": 59,
      "outputs": [
        {
          "output_type": "display_data",
          "data": {
            "text/plain": [
              "<Figure size 432x288 with 1 Axes>"
            ],
            "image/png": "[encoded data removed]"
          },
          "metadata": {
            "needs_background": "light"
          }
        }
      ]
    },
    {
      "cell_type": "code",
      "source": [
        "# Find what character length covers 95% of sequence\n",
        "output_seq_char_len = int(np.percentile(char_lens, 95))\n",
        "output_seq_char_len"
      ],
      "metadata": {
        "colab": {
          "base_uri": "https://localhost:8080/"
        },
        "id": "ChaKe8VBapWu",
        "outputId": "b5fe29ed-d81a-4f29-8a1f-55a5b0a11166"
      },
      "execution_count": 60,
      "outputs": [
        {
          "output_type": "execute_result",
          "data": {
            "text/plain": [
              "290"
            ]
          },
          "metadata": {},
          "execution_count": 60
        }
      ]
    },
    {
      "cell_type": "code",
      "source": [
        "# Get all keyboard characters\n",
        "import string\n",
        "alphabet = string.ascii_lowercase + string.digits + string.punctuation\n",
        "alphabet"
      ],
      "metadata": {
        "colab": {
          "base_uri": "https://localhost:8080/",
          "height": 35
        },
        "id": "AkvkphQobWPZ",
        "outputId": "1d900d98-0a77-4cca-c4c2-a26329e12675"
      },
      "execution_count": 61,
      "outputs": [
        {
          "output_type": "execute_result",
          "data": {
            "text/plain": [
              "'abcdefghijklmnopqrstuvwxyz0123456789!\"#$%&\\'()*+,-./:;<=>?@[\\\\]^_`{|}~'"
            ],
            "application/vnd.google.colaboratory.intrinsic+json": {
              "type": "string"
            }
          },
          "metadata": {},
          "execution_count": 61
        }
      ]
    },
    {
      "cell_type": "code",
      "source": [
        "# Create char-level token vectorizer instance\n",
        "NUM_CHAR_TOKENS = len(alphabet) + 2 # Add 2 for space and OOV token (OOV = out of vocab)\n",
        "char_vectorizer = tf.keras.layers.TextVectorization(max_tokens = NUM_CHAR_TOKENS,\n",
        "                                    output_sequence_length = output_seq_char_len,\n",
        "                                    name=\"char_vectorizer\")"
      ],
      "metadata": {
        "id": "6Uc0gV_McCQQ"
      },
      "execution_count": 62,
      "outputs": []
    },
    {
      "cell_type": "code",
      "source": [
        "## Adapt character vectorizer to training character\n",
        "char_vectorizer.adapt(train_chars)"
      ],
      "metadata": {
        "id": "xo8L9y3gco0x"
      },
      "execution_count": 63,
      "outputs": []
    },
    {
      "cell_type": "code",
      "source": [
        "# Check character vocab stats\n",
        "char_vocab = char_vectorizer.get_vocabulary()\n",
        "print(char_vocab[:5])\n",
        "print(len(char_vocab))\n",
        "print(char_vocab[-5:])"
      ],
      "metadata": {
        "colab": {
          "base_uri": "https://localhost:8080/"
        },
        "id": "krgoRGvfc_d8",
        "outputId": "f944c91d-4ecb-4a83-88a4-b0b6644c36cc"
      },
      "execution_count": 64,
      "outputs": [
        {
          "output_type": "stream",
          "name": "stdout",
          "text": [
            "['', '[UNK]', 'e', 't', 'i']\n",
            "28\n",
            "['k', 'x', 'z', 'q', 'j']\n"
          ]
        }
      ]
    },
    {
      "cell_type": "code",
      "source": [
        "# Test out character vectorizer\n",
        "random_train_chars = random.choice(train_chars)\n",
        "print(random_train_chars)\n",
        "print(len(random_train_chars))\n",
        "vectorized_char = char_vectorizer([random_train_chars])\n",
        "print(vectorized_char) "
      ],
      "metadata": {
        "colab": {
          "base_uri": "https://localhost:8080/"
        },
        "id": "scDzCRrfdHJy",
        "outputId": "02cf54dc-223e-4a0e-f048-68ae8cb40a45"
      },
      "execution_count": 65,
      "outputs": [
        {
          "output_type": "stream",
          "name": "stdout",
          "text": [
            "a n   o v e r a l l   r i s k   s c o r e   w a s   u s e d   a s   o u t c o m e   m e a s u r e   ,   t h e n   e f f e c t s   o n   t h e   @   i n d i v i d u a l   l i f e s t y l e   b e h a v i o r s   w e r e   a s s e s s e d   a n d   a   p r o c e s s   e v a l u a t i o n   w a s   p e r f o r m e d   r e g a r d i n g   e x p o s u r e   t o   a n d   a p p r e c i a t i o n   o f   t h e   i n t e r v e n t i o n   .\n",
            "435\n",
            "tf.Tensor(\n",
            "[[ 5  6  7 21  2  8  5 12 12  8  4  9 23  9 11  7  8  2 20  5  9 16  9  2\n",
            "  10  5  9  7 16  3 11  7 15  2 15  2  5  9 16  8  2  3 13  2  6  2 17 17\n",
            "   2 11  3  9  7  6  3 13  2  4  6 10  4 21  4 10 16  5 12 12  4 17  2  9\n",
            "   3 19 12  2 22  2 13  5 21  4  7  8  9 20  2  8  2  5  9  9  2  9  9  2\n",
            "  10  5  6 10  5 14  8  7 11  2  9  9  2 21  5 12 16  5  3  4  7  6 20  5\n",
            "   9 14  2  8 17  7  8 15  2 10  8  2 18  5  8 10  4  6 18  2 24 14  7  9\n",
            "  16  8  2  3  7  5  6 10  5 14 14  8  2 11  4  5  3  4  7  6  7 17  3 13\n",
            "   2  4  6  3  2  8 21  2  6  3  4  7  6  0  0  0  0  0  0  0  0  0  0  0\n",
            "   0  0  0  0  0  0  0  0  0  0  0  0  0  0  0  0  0  0  0  0  0  0  0  0\n",
            "   0  0  0  0  0  0  0  0  0  0  0  0  0  0  0  0  0  0  0  0  0  0  0  0\n",
            "   0  0  0  0  0  0  0  0  0  0  0  0  0  0  0  0  0  0  0  0  0  0  0  0\n",
            "   0  0  0  0  0  0  0  0  0  0  0  0  0  0  0  0  0  0  0  0  0  0  0  0\n",
            "   0  0]], shape=(1, 290), dtype=int64)\n"
          ]
        }
      ]
    },
    {
      "cell_type": "markdown",
      "source": [
        "### Creating a character-level embedding"
      ],
      "metadata": {
        "id": "hlRH0Sk4gGzD"
      }
    },
    {
      "cell_type": "code",
      "source": [
        "# Create char embedding layer\n",
        "char_embed = layers.Embedding(input_dim=len(char_vocab), # number of different characters\n",
        "                              output_dim=25, # this is the size of char embedding from the paper figure 1\n",
        "                              mask_zero=True,\n",
        "                              name=\"char_embed\")"
      ],
      "metadata": {
        "id": "Kf2XlVOceIwk"
      },
      "execution_count": 66,
      "outputs": []
    },
    {
      "cell_type": "code",
      "source": [
        "# Test out character embedding layer\n",
        "print(char_embed(char_vectorizer([random_train_chars])))\n",
        "print(char_embed(char_vectorizer([random_train_chars])).shape)"
      ],
      "metadata": {
        "colab": {
          "base_uri": "https://localhost:8080/"
        },
        "id": "D6O8bz1niLl2",
        "outputId": "1390ac9d-2eb1-40ea-af5a-889c3149c824"
      },
      "execution_count": 67,
      "outputs": [
        {
          "output_type": "stream",
          "name": "stdout",
          "text": [
            "tf.Tensor(\n",
            "[[[ 0.04732469  0.02863761 -0.04247513 ...  0.02236703  0.02485318\n",
            "    0.00310297]\n",
            "  [ 0.01637092  0.01270202 -0.02061691 ...  0.02217928 -0.04182319\n",
            "   -0.01173253]\n",
            "  [-0.00333672 -0.01749886  0.01031924 ...  0.04518167  0.00505639\n",
            "   -0.00239837]\n",
            "  ...\n",
            "  [-0.0288153  -0.04625154 -0.0183556  ... -0.02506292 -0.04746575\n",
            "   -0.03024693]\n",
            "  [-0.0288153  -0.04625154 -0.0183556  ... -0.02506292 -0.04746575\n",
            "   -0.03024693]\n",
            "  [-0.0288153  -0.04625154 -0.0183556  ... -0.02506292 -0.04746575\n",
            "   -0.03024693]]], shape=(1, 290, 25), dtype=float32)\n",
            "(1, 290, 25)\n"
          ]
        }
      ]
    },
    {
      "cell_type": "markdown",
      "source": [
        "### Build a conv1D to fit on character embedding"
      ],
      "metadata": {
        "id": "u0bZqK02jM1e"
      }
    },
    {
      "cell_type": "code",
      "source": [
        "# Create 1D conv model on chars only\n",
        "inputs = layers.Input(shape=(1,), dtype=tf.string)\n",
        "char_vectors = char_vectorizer(inputs) # vectorize text inputs\n",
        "char_embeddings = char_embed(char_vectors)\n",
        "x = layers.Conv1D(64, kernel_size=5, padding=\"same\", activation=\"relu\")(char_embeddings)\n",
        "x = layers.GlobalAveragePooling1D()(x) # Condense output of our feature vector from conv layer\n",
        "outputs = layers.Dense(num_classes, activation=\"softmax\")(x)\n",
        "model_3 = tf.keras.Model(inputs, outputs)\n",
        "\n",
        "# Compile the model\n",
        "model_3.compile(loss=\"categorical_crossentropy\",\n",
        "                optimizer=tf.keras.optimizers.Adam(),\n",
        "                metrics=[\"accuracy\"])\n"
      ],
      "metadata": {
        "id": "zWZvd9I7iVvL"
      },
      "execution_count": 68,
      "outputs": []
    },
    {
      "cell_type": "code",
      "source": [
        "model_3.summary()"
      ],
      "metadata": {
        "colab": {
          "base_uri": "https://localhost:8080/"
        },
        "id": "OeU-lEr2lErZ",
        "outputId": "da38da45-00ea-45c5-9d6d-f7963a86e950"
      },
      "execution_count": 69,
      "outputs": [
        {
          "output_type": "stream",
          "name": "stdout",
          "text": [
            "Model: \"model_1\"\n",
            "_________________________________________________________________\n",
            " Layer (type)                Output Shape              Param #   \n",
            "=================================================================\n",
            " input_3 (InputLayer)        [(None, 1)]               0         \n",
            "                                                                 \n",
            " char_vectorizer (TextVector  (None, 290)              0         \n",
            " ization)                                                        \n",
            "                                                                 \n",
            " char_embed (Embedding)      (None, 290, 25)           700       \n",
            "                                                                 \n",
            " conv1d_1 (Conv1D)           (None, 290, 64)           8064      \n",
            "                                                                 \n",
            " global_average_pooling1d_1   (None, 64)               0         \n",
            " (GlobalAveragePooling1D)                                        \n",
            "                                                                 \n",
            " dense_3 (Dense)             (None, 5)                 325       \n",
            "                                                                 \n",
            "=================================================================\n",
            "Total params: 9,089\n",
            "Trainable params: 9,089\n",
            "Non-trainable params: 0\n",
            "_________________________________________________________________\n"
          ]
        }
      ]
    },
    {
      "cell_type": "code",
      "source": [
        "# Create char level datasets\n",
        "train_char_dataset =tf.data.Dataset.from_tensor_slices((train_chars, train_labels_one_hot)).batch(32).prefetch(tf.data.AUTOTUNE)\n",
        "val_char_dataset =tf.data.Dataset.from_tensor_slices((val_chars, val_labels_one_hot)).batch(32).prefetch(tf.data.AUTOTUNE)\n",
        "test_char_dataset =tf.data.Dataset.from_tensor_slices((test_chars, test_labels_one_hot)).batch(32).prefetch(tf.data.AUTOTUNE)\n"
      ],
      "metadata": {
        "id": "hZPt_dYnlcHa"
      },
      "execution_count": 70,
      "outputs": []
    },
    {
      "cell_type": "code",
      "source": [
        "# Fit the model on chars only\n",
        "history_model_3 = model_3.fit(train_char_dataset,\n",
        "                              steps_per_epoch=int(0.1*len(train_char_dataset)),\n",
        "                              epochs=3,\n",
        "                              validation_data=val_char_dataset,\n",
        "                              validation_steps=int(0.1 * len(val_char_dataset))) # only validate on 10% of batches                     "
      ],
      "metadata": {
        "colab": {
          "base_uri": "https://localhost:8080/"
        },
        "id": "Sckoh4TYjnqt",
        "outputId": "5d7724c5-dab7-4751-da7d-abcd820b1e3d"
      },
      "execution_count": 71,
      "outputs": [
        {
          "output_type": "stream",
          "name": "stdout",
          "text": [
            "Epoch 1/3\n",
            "562/562 [==============================] - 12s 19ms/step - loss: 1.4569 - accuracy: 0.3551 - val_loss: 1.3970 - val_accuracy: 0.4092\n",
            "Epoch 2/3\n",
            "562/562 [==============================] - 11s 19ms/step - loss: 1.3628 - accuracy: 0.4245 - val_loss: 1.3333 - val_accuracy: 0.4415\n",
            "Epoch 3/3\n",
            "562/562 [==============================] - 11s 19ms/step - loss: 1.3249 - accuracy: 0.4493 - val_loss: 1.3182 - val_accuracy: 0.4392\n"
          ]
        }
      ]
    },
    {
      "cell_type": "code",
      "source": [
        "# Make predictions (our model predicts prediction probabilities for each class)\n",
        "model_3_pred_probs = model_3.predict(val_char_dataset)\n",
        "model_3_pred_probs, model_3_pred_probs.shape\n",
        "\n",
        "# Convet pred probs to classes\n",
        "model_3_preds = tf.argmax(model_3_pred_probs, axis=1)\n",
        "model_3_preds\n",
        "\n",
        "# Calcualte model_1 results\n",
        "model_3_results = calculate_results(y_true=val_labels_encoded,\n",
        "                                    y_pred=model_3_preds)\n",
        "model_3_results"
      ],
      "metadata": {
        "colab": {
          "base_uri": "https://localhost:8080/"
        },
        "id": "fJgZ3ABLkvXV",
        "outputId": "f63f7423-d459-456c-e5fb-f02a0f40d714"
      },
      "execution_count": 72,
      "outputs": [
        {
          "output_type": "stream",
          "name": "stderr",
          "text": [
            "/usr/local/lib/python3.7/dist-packages/sklearn/metrics/_classification.py:1318: UndefinedMetricWarning: Precision and F-score are ill-defined and being set to 0.0 in labels with no predicted samples. Use `zero_division` parameter to control this behavior.\n",
            "  _warn_prf(average, modifier, msg_start, len(result))\n"
          ]
        },
        {
          "output_type": "execute_result",
          "data": {
            "text/plain": [
              "{'accuracy': 44.42274592877003,\n",
              " 'f1': 0.38762670598702065,\n",
              " 'precision': 0.37504674850447794,\n",
              " 'recall': 0.44422745928770024}"
            ]
          },
          "metadata": {},
          "execution_count": 72
        }
      ]
    },
    {
      "cell_type": "markdown",
      "source": [
        "## Model 4: Combining pretrained token embedding + characters (hybrid embeeding)\n",
        "\n",
        "1. Create a token-level embedding model (similar `model_1`)\n",
        "2. Create a character-level model (similar to `model_3` with slight modification)\n",
        "3. Combine 1 & 2 with a concatenate (`layers.Concatnate`).\n",
        "4. Build a series of output layers on top of 3 similar to Figure 1 and section 4.2 in the paper.\n",
        "5. Construct a model which takes token and character level sequences as input and produces sequence label probabilites as output. "
      ],
      "metadata": {
        "id": "QDK47q2fg7DV"
      }
    },
    {
      "cell_type": "code",
      "source": [
        "# 1. Setup token inputs/model\n",
        "token_inputs = layers.Input(shape=[], dtype=tf.string, name=\"token_input\")\n",
        "token_embeddings = tf_hub_embedding_layer(token_inputs)\n",
        "token_outputs = layers.Dense(128, activation=\"relu\")(token_embeddings)\n",
        "token_model = tf.keras.Model(inputs=token_inputs,\n",
        "                             outputs=token_outputs)\n",
        "\n",
        "# 2. Setup char inputs/model\n",
        "char_inputs = layers.Input(shape=(1,), dtype=tf.string, name=\"char_input\")\n",
        "char_vectors = char_vectorizer(char_inputs)\n",
        "char_embeddings = char_embed(char_vectors)\n",
        "char_bi_lstm = layers.Bidirectional(layers.LSTM(24))(char_embeddings) # bi-LSTM show in figure 1 in the paper\n",
        "char_model = tf.keras.Model(inputs=char_inputs, outputs=char_bi_lstm)\n",
        "\n",
        "# 3. Concatenate token and char inputs (create hybrid token embedding)\n",
        "token_char_concat = layers.Concatenate(name=\"token_char_hybird\")([token_model.output,\n",
        "                                                                  char_model.output])\n",
        "\n",
        "# 4. Create output layers - adding in Dropout (0.5)\n",
        "combined_dropout = layers.Dropout(0.5)(token_char_concat)\n",
        "combined_dense = layers.Dense(128, activation=\"relu\")(combined_dropout)\n",
        "final_dropout = layers.Dropout(0.5)(combined_dense)\n",
        "output_layer = layers.Dense(num_classes, activation=\"softmax\")(final_dropout)\n",
        "\n",
        "# 5. Construct model with char and token inputs\n",
        "model_4 = tf.keras.Model(inputs=[token_model.input, char_model.input],\n",
        "                         outputs=output_layer,\n",
        "                         name=\"model_4_token_and_char_embeddings\")"
      ],
      "metadata": {
        "id": "buPC981KlCyk"
      },
      "execution_count": 73,
      "outputs": []
    },
    {
      "cell_type": "code",
      "source": [
        "# Get a summary of our model\n",
        "model_4.summary()"
      ],
      "metadata": {
        "colab": {
          "base_uri": "https://localhost:8080/"
        },
        "id": "2ndcyY32oR6h",
        "outputId": "61754f2a-a564-4d1c-bb06-b77f316f39a0"
      },
      "execution_count": 74,
      "outputs": [
        {
          "output_type": "stream",
          "name": "stdout",
          "text": [
            "Model: \"model_4_token_and_char_embeddings\"\n",
            "__________________________________________________________________________________________________\n",
            " Layer (type)                   Output Shape         Param #     Connected to                     \n",
            "==================================================================================================\n",
            " char_input (InputLayer)        [(None, 1)]          0           []                               \n",
            "                                                                                                  \n",
            " token_input (InputLayer)       [(None,)]            0           []                               \n",
            "                                                                                                  \n",
            " char_vectorizer (TextVectoriza  (None, 290)         0           ['char_input[0][0]']             \n",
            " tion)                                                                                            \n",
            "                                                                                                  \n",
            " universal_sentence_encoder (Ke  (None, 512)         256797824   ['token_input[0][0]']            \n",
            " rasLayer)                                                                                        \n",
            "                                                                                                  \n",
            " char_embed (Embedding)         (None, 290, 25)      700         ['char_vectorizer[1][0]']        \n",
            "                                                                                                  \n",
            " dense_4 (Dense)                (None, 128)          65664       ['universal_sentence_encoder[1][0\n",
            "                                                                 ]']                              \n",
            "                                                                                                  \n",
            " bidirectional (Bidirectional)  (None, 48)           9600        ['char_embed[1][0]']             \n",
            "                                                                                                  \n",
            " token_char_hybird (Concatenate  (None, 176)         0           ['dense_4[0][0]',                \n",
            " )                                                                'bidirectional[0][0]']          \n",
            "                                                                                                  \n",
            " dropout (Dropout)              (None, 176)          0           ['token_char_hybird[0][0]']      \n",
            "                                                                                                  \n",
            " dense_5 (Dense)                (None, 128)          22656       ['dropout[0][0]']                \n",
            "                                                                                                  \n",
            " dropout_1 (Dropout)            (None, 128)          0           ['dense_5[0][0]']                \n",
            "                                                                                                  \n",
            " dense_6 (Dense)                (None, 5)            645         ['dropout_1[0][0]']              \n",
            "                                                                                                  \n",
            "==================================================================================================\n",
            "Total params: 256,897,089\n",
            "Trainable params: 99,265\n",
            "Non-trainable params: 256,797,824\n",
            "__________________________________________________________________________________________________\n"
          ]
        }
      ]
    },
    {
      "cell_type": "code",
      "source": [
        "# Plot hybrid token and character model\n",
        "from tensorflow.keras.utils import plot_model\n",
        "plot_model(model_4, show_shapes=True)"
      ],
      "metadata": {
        "colab": {
          "base_uri": "https://localhost:8080/",
          "height": 892
        },
        "id": "9NDmWcAGolG1",
        "outputId": "0ef3ec3b-1f0b-431e-de06-3a10aa9e5ce6"
      },
      "execution_count": 77,
      "outputs": [
        {
          "output_type": "execute_result",
          "data": {
            "text/plain": [
              "<IPython.core.display.Image object>"
            ],
            "image/png": "[encoded data removed]"
          },
          "metadata": {},
          "execution_count": 77
        }
      ]
    },
    {
      "cell_type": "code",
      "source": [
        "# Compile token char model\n",
        "model_4.compile(loss=\"categorical_crossentropy\",\n",
        "                optimizer=tf.keras.optimizers.Adam(),\n",
        "                metrics=[\"accuracy\"])"
      ],
      "metadata": {
        "id": "by8aDAHTrufy"
      },
      "execution_count": 78,
      "outputs": []
    },
    {
      "cell_type": "markdown",
      "source": [
        "### Combining token and character data into a tf.data Dataset"
      ],
      "metadata": {
        "id": "-NHQnkgvwdJg"
      }
    },
    {
      "cell_type": "code",
      "source": [
        "# Combine chars and tokens into a dataset\n",
        "train_char_token_data = tf.data.Dataset.from_tensor_slices((train_sentences, train_chars)) # make data\n",
        "train_char_token_labels = tf.data.Dataset.from_tensor_slices(train_labels_one_hot) # make labels\n",
        "train_char_token_dataset = tf.data.Dataset.zip((train_char_token_data, train_char_token_labels))\n",
        "\n",
        "# prefetech and batch train data\n",
        "train_char_token_dataset = train_char_token_dataset.batch(32).prefetch(tf.data.AUTOTUNE)"
      ],
      "metadata": {
        "id": "OOXFKeFfv4x2"
      },
      "execution_count": 82,
      "outputs": []
    },
    {
      "cell_type": "code",
      "source": [
        "# Repeat above fopr our validation data\n",
        "# Combine chars and tokens into a dataset\n",
        "val_char_token_data = tf.data.Dataset.from_tensor_slices((val_sentences, val_chars)) # make data\n",
        "val_char_token_labels = tf.data.Dataset.from_tensor_slices(val_labels_one_hot) # make labels\n",
        "val_char_token_dataset = tf.data.Dataset.zip((val_char_token_data, val_char_token_labels))\n",
        "\n",
        "# prefetech and batch train data\n",
        "val_char_token_dataset = val_char_token_dataset.batch(32).prefetch(tf.data.AUTOTUNE)"
      ],
      "metadata": {
        "id": "bK6-uKzkxydI"
      },
      "execution_count": 83,
      "outputs": []
    },
    {
      "cell_type": "code",
      "source": [
        "# Check out our training char and token embedding dataset\n",
        "train_char_token_dataset, val_char_token_dataset"
      ],
      "metadata": {
        "colab": {
          "base_uri": "https://localhost:8080/"
        },
        "id": "dpzQzEeGyG15",
        "outputId": "01d35864-4546-476b-c1e7-7e1d63ee24a5"
      },
      "execution_count": 84,
      "outputs": [
        {
          "output_type": "execute_result",
          "data": {
            "text/plain": [
              "(<PrefetchDataset element_spec=((TensorSpec(shape=(None,), dtype=tf.string, name=None), TensorSpec(shape=(None,), dtype=tf.string, name=None)), TensorSpec(shape=(None, 5), dtype=tf.float64, name=None))>,\n",
              " <PrefetchDataset element_spec=((TensorSpec(shape=(None,), dtype=tf.string, name=None), TensorSpec(shape=(None,), dtype=tf.string, name=None)), TensorSpec(shape=(None, 5), dtype=tf.float64, name=None))>)"
            ]
          },
          "metadata": {},
          "execution_count": 84
        }
      ]
    },
    {
      "cell_type": "markdown",
      "source": [
        "### Fitting a model on token and character-level sequences"
      ],
      "metadata": {
        "id": "hs2SUXbhyyXi"
      }
    },
    {
      "cell_type": "code",
      "source": [
        "# Fit the model \n",
        "history_mdeol_4 = model_4.fit(train_char_token_dataset,\n",
        "                              steps_per_epoch=int(0.1*len(train_char_token_dataset)),\n",
        "                              epochs=3,\n",
        "                              validation_data=val_char_token_dataset,\n",
        "                              validation_steps=int(0.1*len(val_char_token_dataset)))"
      ],
      "metadata": {
        "colab": {
          "base_uri": "https://localhost:8080/"
        },
        "id": "89SBxP2XyXkx",
        "outputId": "0cad74f1-30ff-4cf0-b8d2-b3849532df7b"
      },
      "execution_count": 87,
      "outputs": [
        {
          "output_type": "stream",
          "name": "stdout",
          "text": [
            "Epoch 1/3\n",
            "562/562 [==============================] - 184s 311ms/step - loss: 0.9910 - accuracy: 0.6004 - val_loss: 0.7959 - val_accuracy: 0.6995\n",
            "Epoch 2/3\n",
            "562/562 [==============================] - 156s 278ms/step - loss: 0.8148 - accuracy: 0.6824 - val_loss: 0.7254 - val_accuracy: 0.7227\n",
            "Epoch 3/3\n",
            "562/562 [==============================] - 157s 279ms/step - loss: 0.7847 - accuracy: 0.6995 - val_loss: 0.7002 - val_accuracy: 0.7380\n"
          ]
        }
      ]
    },
    {
      "cell_type": "code",
      "source": [
        "# Evaluate on the whole validation dataset\n",
        "model_4.evaluate(val_char_token_dataset)"
      ],
      "metadata": {
        "colab": {
          "base_uri": "https://localhost:8080/"
        },
        "id": "2ibU-TpGzLXb",
        "outputId": "27f446f8-1730-4564-f59e-f96013ec1c13"
      },
      "execution_count": 88,
      "outputs": [
        {
          "output_type": "stream",
          "name": "stdout",
          "text": [
            "945/945 [==============================] - 53s 56ms/step - loss: 0.7048 - accuracy: 0.7295\n"
          ]
        },
        {
          "output_type": "execute_result",
          "data": {
            "text/plain": [
              "[0.7047801613807678, 0.7295114398002625]"
            ]
          },
          "metadata": {},
          "execution_count": 88
        }
      ]
    },
    {
      "cell_type": "code",
      "source": [
        "# Make predictions using the token_character model hybrid\n",
        "model_4_pred_probs = model_4.predict(val_char_token_dataset)\n",
        "model_4_pred_probs"
      ],
      "metadata": {
        "colab": {
          "base_uri": "https://localhost:8080/"
        },
        "id": "dZsx6LZf0t-L",
        "outputId": "289ade78-d00d-4029-d908-29def9a94cad"
      },
      "execution_count": 89,
      "outputs": [
        {
          "output_type": "execute_result",
          "data": {
            "text/plain": [
              "array([[4.2171007e-01, 3.7886295e-01, 3.3059532e-03, 1.9012617e-01,\n",
              "        5.9948433e-03],\n",
              "       [3.0608577e-01, 4.8057899e-01, 2.0008271e-03, 2.1032426e-01,\n",
              "        1.0101163e-03],\n",
              "       [2.6354751e-01, 1.6641346e-01, 4.5008358e-02, 5.0178283e-01,\n",
              "        2.3247812e-02],\n",
              "       ...,\n",
              "       [7.3419587e-04, 8.1327772e-03, 8.6940944e-02, 2.9325840e-04,\n",
              "        9.0389884e-01],\n",
              "       [5.8554858e-03, 5.0762840e-02, 2.4462254e-01, 2.9849510e-03,\n",
              "        6.9577414e-01],\n",
              "       [2.1367939e-01, 4.6395987e-01, 2.4339591e-01, 1.9956265e-02,\n",
              "        5.9008606e-02]], dtype=float32)"
            ]
          },
          "metadata": {},
          "execution_count": 89
        }
      ]
    },
    {
      "cell_type": "code",
      "source": [
        "# Format pre probs into prd labels\n",
        "model_4_preds = tf.argmax(model_4_pred_probs, axis=1)\n",
        "model_4_preds"
      ],
      "metadata": {
        "colab": {
          "base_uri": "https://localhost:8080/"
        },
        "id": "zc_JZZ6H1B7P",
        "outputId": "acf8c87c-b511-4aaa-ed48-ce742e92e505"
      },
      "execution_count": 90,
      "outputs": [
        {
          "output_type": "execute_result",
          "data": {
            "text/plain": [
              "<tf.Tensor: shape=(30212,), dtype=int64, numpy=array([0, 1, 3, ..., 4, 4, 1])>"
            ]
          },
          "metadata": {},
          "execution_count": 90
        }
      ]
    },
    {
      "cell_type": "code",
      "source": [
        "# get results of token char hybrid model\n",
        "model_4_results = calculate_results(y_true=val_labels_encoded,\n",
        "                                    y_pred=model_4_preds)"
      ],
      "metadata": {
        "id": "xybp-jJN1Vj8"
      },
      "execution_count": 91,
      "outputs": []
    },
    {
      "cell_type": "code",
      "source": [
        "model_4_results"
      ],
      "metadata": {
        "colab": {
          "base_uri": "https://localhost:8080/"
        },
        "id": "6GbizR4A1gYq",
        "outputId": "fb0ddb6b-1148-4548-f16e-ecb1c3718aaf"
      },
      "execution_count": 92,
      "outputs": [
        {
          "output_type": "execute_result",
          "data": {
            "text/plain": [
              "{'accuracy': 72.95114524030186,\n",
              " 'f1': 0.7260275805908427,\n",
              " 'precision': 0.7322788671407523,\n",
              " 'recall': 0.7295114524030186}"
            ]
          },
          "metadata": {},
          "execution_count": 92
        }
      ]
    },
    {
      "cell_type": "markdown",
      "source": [
        "## Model 5: Transfer learning with pretrained token embeddings + character embeddings + positional embeddings\n",
        "\n",
        "* Note: Any enginerred features used to train on the model need to be available on the test time. In our case, line numbers and total lines are available"
      ],
      "metadata": {
        "id": "6mXkk73L5JjP"
      }
    },
    {
      "cell_type": "markdown",
      "source": [
        "### Create positional embeddings"
      ],
      "metadata": {
        "id": "UJAvmDDkEtwd"
      }
    },
    {
      "cell_type": "code",
      "source": [
        "# How many different line numbers are there?\n",
        "train_df[\"line_number\"].value_counts()"
      ],
      "metadata": {
        "colab": {
          "base_uri": "https://localhost:8080/"
        },
        "id": "gEyMfKg01yew",
        "outputId": "69a82882-0a9b-44b8-9d17-bd8020446ce5"
      },
      "execution_count": 93,
      "outputs": [
        {
          "output_type": "execute_result",
          "data": {
            "text/plain": [
              "0     15000\n",
              "1     15000\n",
              "2     15000\n",
              "3     15000\n",
              "4     14992\n",
              "5     14949\n",
              "6     14758\n",
              "7     14279\n",
              "8     13346\n",
              "9     11981\n",
              "10    10041\n",
              "11     7892\n",
              "12     5853\n",
              "13     4152\n",
              "14     2835\n",
              "15     1861\n",
              "16     1188\n",
              "17      751\n",
              "18      462\n",
              "19      286\n",
              "20      162\n",
              "21      101\n",
              "22       66\n",
              "23       33\n",
              "24       22\n",
              "25       14\n",
              "26        7\n",
              "27        4\n",
              "28        3\n",
              "29        1\n",
              "30        1\n",
              "Name: line_number, dtype: int64"
            ]
          },
          "metadata": {},
          "execution_count": 93
        }
      ]
    },
    {
      "cell_type": "code",
      "source": [
        "# Check the distribution of \"line_number\" column\n",
        "train_df.line_number.plot.hist();"
      ],
      "metadata": {
        "colab": {
          "base_uri": "https://localhost:8080/",
          "height": 265
        },
        "id": "dW0Ronj6E6Lf",
        "outputId": "1113d60a-93d7-40c9-aef6-b7efb5e5b66d"
      },
      "execution_count": 95,
      "outputs": [
        {
          "output_type": "display_data",
          "data": {
            "text/plain": [
              "<Figure size 432x288 with 1 Axes>"
            ],
            "image/png": "[encoded data removed]"
          },
          "metadata": {
            "needs_background": "light"
          }
        }
      ]
    },
    {
      "cell_type": "code",
      "source": [
        "# Use TensorFlow to create one-hot-encoded tensors of our \"line_number\" column\n",
        "train_line_numbers_one_hot = tf.one_hot(train_df[\"line_number\"].to_numpy(), depth=15)\n",
        "val_line_numbers_one_hot = tf.one_hot(val_df[\"line_number\"].to_numpy(), depth=15)\n",
        "test_line_numbers_one_hot = tf.one_hot(test_df[\"line_number\"].to_numpy(), depth=15)"
      ],
      "metadata": {
        "id": "T8IqYk0HFVt0"
      },
      "execution_count": 106,
      "outputs": []
    },
    {
      "cell_type": "code",
      "source": [
        "# How many different numbers of lines are there?\n",
        "train_df[\"total_lines\"].value_counts()"
      ],
      "metadata": {
        "colab": {
          "base_uri": "https://localhost:8080/"
        },
        "id": "GtiQdnVMF220",
        "outputId": "d56f0583-de66-4802-83f1-34398e237fcf"
      },
      "execution_count": 98,
      "outputs": [
        {
          "output_type": "execute_result",
          "data": {
            "text/plain": [
              "11    24468\n",
              "10    23639\n",
              "12    22113\n",
              "9     19400\n",
              "13    18438\n",
              "14    14610\n",
              "8     12285\n",
              "15    10768\n",
              "7      7464\n",
              "16     7429\n",
              "17     5202\n",
              "6      3353\n",
              "18     3344\n",
              "19     2480\n",
              "20     1281\n",
              "5      1146\n",
              "21      770\n",
              "22      759\n",
              "23      264\n",
              "4       215\n",
              "24      200\n",
              "25      182\n",
              "26       81\n",
              "28       58\n",
              "3        32\n",
              "30       31\n",
              "27       28\n",
              "Name: total_lines, dtype: int64"
            ]
          },
          "metadata": {},
          "execution_count": 98
        }
      ]
    },
    {
      "cell_type": "code",
      "source": [
        "# Check the distributions of total lines\n",
        "train_df.total_lines.plot.hist();"
      ],
      "metadata": {
        "colab": {
          "base_uri": "https://localhost:8080/",
          "height": 267
        },
        "id": "1Geet-FCKRYZ",
        "outputId": "f01ae52a-7261-48aa-c065-3698542c3013"
      },
      "execution_count": 100,
      "outputs": [
        {
          "output_type": "display_data",
          "data": {
            "text/plain": [
              "<Figure size 432x288 with 1 Axes>"
            ],
            "image/png": "[encoded data removed]"
          },
          "metadata": {
            "needs_background": "light"
          }
        }
      ]
    },
    {
      "cell_type": "code",
      "source": [
        "# Check the coverage of a \"total_lines\" value of 20\n",
        "np.percentile(train_df.total_lines, 98)"
      ],
      "metadata": {
        "colab": {
          "base_uri": "https://localhost:8080/"
        },
        "id": "r3cHrP3pMQHY",
        "outputId": "a1edbc6e-0dc2-44b2-9775-b2e36809cae2"
      },
      "execution_count": 102,
      "outputs": [
        {
          "output_type": "execute_result",
          "data": {
            "text/plain": [
              "20.0"
            ]
          },
          "metadata": {},
          "execution_count": 102
        }
      ]
    },
    {
      "cell_type": "code",
      "source": [
        "# Use TensorFlow to create one-hot-encoded tensors of our \"total_lines\" feature\n",
        "train_total_lines_one_hot = tf.one_hot(train_df[\"total_lines\"].to_numpy(), depth=20)\n",
        "val_total_lines_one_hot = tf.one_hot(val_df[\"total_lines\"].to_numpy(), depth=20)\n",
        "test_total_lines_one_hot = tf.one_hot(test_df[\"total_lines\"].to_numpy(), depth=20)"
      ],
      "metadata": {
        "id": "IRYnOHJRMhhj"
      },
      "execution_count": 105,
      "outputs": []
    },
    {
      "cell_type": "markdown",
      "source": [
        "### Building a tribrid \n",
        "\n",
        "1. Create a token-level model\n",
        "2. Create a character-level model\n",
        "3. Create a model for the \"line_number\" feature\n",
        "4. Create a model for the \"total_lines\" feature\n",
        "5. Combine the outputs of 1 & 2 using tf.keras.layers.Concatenate\n",
        "6. Combine the outputs o f 3 & 4 & 5 using tf.keras.layers.Concatenate\n",
        "7. Create an output layer to accept the tribried embedding and output label probabilities\n",
        "8. Combine the inputs of 1, 2, 3, 4 and outputs of 7 into a tf.keras.Model"
      ],
      "metadata": {
        "id": "D7qk6NMHNmyf"
      }
    },
    {
      "cell_type": "code",
      "source": [
        "# 1. Token inputs\n",
        "token_inputs = layers.Input(shape=[], dtype=\"string\", name=\"token_inputs\")\n",
        "token_embeddings = tf_hub_embedding_layer(token_inputs)\n",
        "token_outputs = layers.Dense(128, activation=\"relu\")(token_embeddings)\n",
        "token_model = tf.keras.Model(inputs=token_inputs,\n",
        "                             outputs=token_outputs)\n",
        "\n",
        "# 2. Char inputs\n",
        "char_inputs = layers.Input(shape=(1,), dtype=\"string\", name=\"char_inputs\")\n",
        "char_vectors = char_vectorizer(char_inputs)\n",
        "char_embeddings = char_embed(char_vectors)\n",
        "char_bi_lstm = layers.Bidirectional(layers.LSTM(24))(char_embeddings)\n",
        "char_model = tf.keras.Model(inputs=char_inputs,\n",
        "                            outputs=char_bi_lstm)\n",
        "\n",
        "# 3. Line numbers\n",
        "line_number_inputs = layers.Input(shape=(15,), dtype=tf.float32, name=\"line_number_input\")\n",
        "x = layers.Dense(32, activation=\"relu\")(line_number_inputs)\n",
        "line_number_model = tf.keras.Model(inputs=line_number_inputs,\n",
        "                                   outputs=x)\n",
        "\n",
        "# 4. Total lines\n",
        "total_lines_inputs = layers.Input(shape=(20,), dtype=tf.float32, name=\"total_lines_input\")\n",
        "y = layers.Dense(32, activation=\"relu\")(total_lines_inputs)\n",
        "total_lines_model = tf.keras.Model(inputs=total_lines_inputs,\n",
        "                                   outputs=y)\n",
        "\n",
        "# 5. Combine token and char embeddings into a hybrid embedding\n",
        "combined_embeddings = layers.Concatenate(name=\"char_token_hybrid_embedding\")([token_model.output,\n",
        "                                                                              char_model.output])\n",
        "\n",
        "z = layers.Dense(256, activation=\"relu\")(combined_embeddings)\n",
        "z = layers.Dropout(0.5)(z)\n",
        "\n",
        "# 6. Combine positional embedding with combined token and char embeddings\n",
        "tribrid_embeddings = layers.Concatenate(name=\"char_token_positional_embedding\")([line_number_model.output,\n",
        "                                                                                total_lines_model.output,\n",
        "                                                                                z]) \n",
        "\n",
        "# 7. Create output layer\n",
        "output_layer = layers.Dense(num_classes, activation=\"softmax\", name=\"output_layer\")(tribrid_embeddings)\n",
        "\n",
        "# 8. Put together model with all kinds of inputs\n",
        "model_5 = tf.keras.Model(inputs=[line_number_model.input,\n",
        "                                 total_lines_model.input,\n",
        "                                 token_model.input,\n",
        "                                 char_model.input],\n",
        "                         outputs=output_layer)"
      ],
      "metadata": {
        "id": "GzxjCSGCM6iY"
      },
      "execution_count": 140,
      "outputs": []
    },
    {
      "cell_type": "code",
      "source": [
        "# Get a summary of tribrid embedding model\n",
        "model_5.summary()"
      ],
      "metadata": {
        "colab": {
          "base_uri": "https://localhost:8080/"
        },
        "id": "Kjx9boVMTA3W",
        "outputId": "0eabfa40-d51e-4f93-87f7-d38508eb41f8"
      },
      "execution_count": 137,
      "outputs": [
        {
          "output_type": "stream",
          "name": "stdout",
          "text": [
            "Model: \"model_37\"\n",
            "__________________________________________________________________________________________________\n",
            " Layer (type)                   Output Shape         Param #     Connected to                     \n",
            "==================================================================================================\n",
            " char_inputs (InputLayer)       [(None, 1)]          0           []                               \n",
            "                                                                                                  \n",
            " token_inputs (InputLayer)      [(None,)]            0           []                               \n",
            "                                                                                                  \n",
            " char_vectorizer (TextVectoriza  (None, 290)         0           ['char_inputs[0][0]']            \n",
            " tion)                                                                                            \n",
            "                                                                                                  \n",
            " universal_sentence_encoder (Ke  (None, 512)         256797824   ['token_inputs[0][0]']           \n",
            " rasLayer)                                                                                        \n",
            "                                                                                                  \n",
            " char_embed (Embedding)         (None, 290, 25)      700         ['char_vectorizer[9][0]']        \n",
            "                                                                                                  \n",
            " dense_31 (Dense)               (None, 128)          65664       ['universal_sentence_encoder[9][0\n",
            "                                                                 ]']                              \n",
            "                                                                                                  \n",
            " bidirectional_8 (Bidirectional  (None, 48)          9600        ['char_embed[9][0]']             \n",
            " )                                                                                                \n",
            "                                                                                                  \n",
            " char_token_hybrid_embedding (C  (None, 176)         0           ['dense_31[0][0]',               \n",
            " oncatenate)                                                      'bidirectional_8[0][0]']        \n",
            "                                                                                                  \n",
            " line_number_input (InputLayer)  [(None, 15)]        0           []                               \n",
            "                                                                                                  \n",
            " total_lines_input (InputLayer)  [(None, 20)]        0           []                               \n",
            "                                                                                                  \n",
            " dense_34 (Dense)               (None, 256)          45312       ['char_token_hybrid_embedding[0][\n",
            "                                                                 0]']                             \n",
            "                                                                                                  \n",
            " dense_32 (Dense)               (None, 32)           512         ['line_number_input[0][0]']      \n",
            "                                                                                                  \n",
            " dense_33 (Dense)               (None, 32)           672         ['total_lines_input[0][0]']      \n",
            "                                                                                                  \n",
            " dropout_6 (Dropout)            (None, 256)          0           ['dense_34[0][0]']               \n",
            "                                                                                                  \n",
            " char_token_positional_embeddin  (None, 320)         0           ['dense_32[0][0]',               \n",
            " g (Concatenate)                                                  'dense_33[0][0]',               \n",
            "                                                                  'dropout_6[0][0]']              \n",
            "                                                                                                  \n",
            " output_layer (Dense)           (None, 5)            1605        ['char_token_positional_embedding\n",
            "                                                                 [0][0]']                         \n",
            "                                                                                                  \n",
            "==================================================================================================\n",
            "Total params: 256,921,889\n",
            "Trainable params: 124,065\n",
            "Non-trainable params: 256,797,824\n",
            "__________________________________________________________________________________________________\n"
          ]
        }
      ]
    },
    {
      "cell_type": "code",
      "source": [
        "# Plot model 5\n",
        "from tensorflow.keras.utils import plot_model\n",
        "plot_model(model_5, show_shapes=True)"
      ],
      "metadata": {
        "colab": {
          "base_uri": "https://localhost:8080/",
          "height": 526
        },
        "id": "dzmtZQsJTkzb",
        "outputId": "da984950-9d7f-441a-93ad-b296af33c09f"
      },
      "execution_count": 114,
      "outputs": [
        {
          "output_type": "execute_result",
          "data": {
            "text/plain": [
              "<IPython.core.display.Image object>"
            ],
            "image/png": "[encoded data removed]"
          },
          "metadata": {},
          "execution_count": 114
        }
      ]
    },
    {
      "cell_type": "markdown",
      "source": [
        "Label smoothing\n",
        "\n",
        "If our model gets too confident on a single calss, it may get stuck on that class and not consider other classes. What label smoothing does is it assigns some of the value from the highest prediction probabilites to other classes, in turn, hopefully improving generalization."
      ],
      "metadata": {
        "id": "twqY88Y0WAmP"
      }
    },
    {
      "cell_type": "code",
      "source": [
        "# Compile the model\n",
        "model_5.compile(loss=tf.keras.losses.CategoricalCrossentropy(label_smoothing=0.2), # help to prevent overfitting\n",
        "                optimizer=tf.keras.optimizers.Adam(),\n",
        "                metrics=[\"accuracy\"])\n"
      ],
      "metadata": {
        "id": "A_H7kpTfT0Fl"
      },
      "execution_count": 142,
      "outputs": []
    },
    {
      "cell_type": "markdown",
      "source": [
        "### Create tribrid embedding datasets using tf.data"
      ],
      "metadata": {
        "id": "JBQZJOsMXdYC"
      }
    },
    {
      "cell_type": "code",
      "source": [
        "# Create training and validation datasets (with all four kinds of input data)\n",
        "train_char_token_pos_data = tf.data.Dataset.from_tensor_slices((train_line_numbers_one_hot,\n",
        "                                                              train_total_lines_one_hot,\n",
        "                                                              train_sentences,\n",
        "                                                              train_chars))\n",
        "\n",
        "\n",
        "train_char_token_pos_labels = tf.data.Dataset.from_tensor_slices(train_labels_one_hot)\n",
        "train_char_token_pos_dataset = tf.data.Dataset.zip((train_char_token_pos_data, train_char_token_pos_labels)) \n",
        "train_char_token_pos_dataset = train_char_token_pos_dataset.batch(32).prefetch(tf.data.AUTOTUNE)\n",
        "\n",
        "# Do the same as above for validation dataset\n",
        "val_char_token_pos_data = tf.data.Dataset.from_tensor_slices((val_line_numbers_one_hot,\n",
        "                                                              val_total_lines_one_hot,\n",
        "                                                              val_sentences,\n",
        "                                                              val_chars))\n",
        "\n",
        "\n",
        "val_char_token_pos_labels = tf.data.Dataset.from_tensor_slices(val_labels_one_hot)\n",
        "val_char_token_pos_dataset = tf.data.Dataset.zip((val_char_token_pos_data, val_char_token_pos_labels)) \n",
        "val_char_token_pos_dataset = val_char_token_pos_dataset.batch(32).prefetch(tf.data.AUTOTUNE)"
      ],
      "metadata": {
        "id": "dZX6X3gLXg_K"
      },
      "execution_count": 141,
      "outputs": []
    },
    {
      "cell_type": "code",
      "source": [
        "# Check input shapes\n",
        "train_char_token_pos_dataset, val_char_token_pos_dataset"
      ],
      "metadata": {
        "colab": {
          "base_uri": "https://localhost:8080/"
        },
        "id": "h7v3eLZcY3KE",
        "outputId": "cc2a97ab-e35c-4262-d50f-af74515e81eb"
      },
      "execution_count": 120,
      "outputs": [
        {
          "output_type": "execute_result",
          "data": {
            "text/plain": [
              "(<PrefetchDataset element_spec=((TensorSpec(shape=(15,), dtype=tf.float32, name=None), TensorSpec(shape=(20,), dtype=tf.float32, name=None), TensorSpec(shape=(), dtype=tf.string, name=None), TensorSpec(shape=(), dtype=tf.string, name=None)), TensorSpec(shape=(5,), dtype=tf.float64, name=None))>,\n",
              " <PrefetchDataset element_spec=((TensorSpec(shape=(15,), dtype=tf.float32, name=None), TensorSpec(shape=(20,), dtype=tf.float32, name=None), TensorSpec(shape=(), dtype=tf.string, name=None), TensorSpec(shape=(), dtype=tf.string, name=None)), TensorSpec(shape=(5,), dtype=tf.float64, name=None))>)"
            ]
          },
          "metadata": {},
          "execution_count": 120
        }
      ]
    },
    {
      "cell_type": "markdown",
      "source": [
        "### Fitting, evaluate and make predictions"
      ],
      "metadata": {
        "id": "R1GJs_xHZ3UB"
      }
    },
    {
      "cell_type": "code",
      "source": [
        "# Fit the model \n",
        "history_mdeol_5 = model_5.fit(train_char_token_pos_dataset,\n",
        "                              steps_per_epoch=int(0.1*len(train_char_token_pos_dataset)),\n",
        "                              epochs=3,\n",
        "                              validation_data=val_char_token_pos_dataset,\n",
        "                              validation_steps=int(0.1 * len(val_char_token_pos_dataset)))"
      ],
      "metadata": {
        "colab": {
          "base_uri": "https://localhost:8080/"
        },
        "id": "35HMmAiNZLNq",
        "outputId": "a2faed94-0664-412d-f31d-073f86401191"
      },
      "execution_count": 143,
      "outputs": [
        {
          "output_type": "stream",
          "name": "stdout",
          "text": [
            "Epoch 1/3\n",
            "562/562 [==============================] - 194s 329ms/step - loss: 1.0937 - accuracy: 0.7209 - val_loss: 0.9848 - val_accuracy: 0.8059\n",
            "Epoch 2/3\n",
            "562/562 [==============================] - 160s 284ms/step - loss: 0.9669 - accuracy: 0.8159 - val_loss: 0.9507 - val_accuracy: 0.8248\n",
            "Epoch 3/3\n",
            "562/562 [==============================] - 163s 290ms/step - loss: 0.9499 - accuracy: 0.8228 - val_loss: 0.9373 - val_accuracy: 0.8338\n"
          ]
        }
      ]
    },
    {
      "cell_type": "code",
      "source": [
        "# make predictions with the char token pos model\n",
        "model_5_pred_probs = model_5.predict(val_char_token_pos_dataset, verbose=1)\n",
        "model_5_pred_probs"
      ],
      "metadata": {
        "colab": {
          "base_uri": "https://localhost:8080/"
        },
        "id": "cYU4iPmKaD2o",
        "outputId": "7909737d-a18b-488e-e0e1-475b3cbdc81a"
      },
      "execution_count": 146,
      "outputs": [
        {
          "output_type": "stream",
          "name": "stdout",
          "text": [
            "945/945 [==============================] - 74s 75ms/step\n"
          ]
        },
        {
          "output_type": "execute_result",
          "data": {
            "text/plain": [
              "array([[0.50459486, 0.11536641, 0.01164727, 0.35207522, 0.01631627],\n",
              "       [0.5219076 , 0.09366676, 0.04582951, 0.3281724 , 0.01042358],\n",
              "       [0.29850414, 0.11822664, 0.14809774, 0.36566556, 0.06950584],\n",
              "       ...,\n",
              "       [0.03320498, 0.11863634, 0.03865127, 0.03135706, 0.7781504 ],\n",
              "       [0.03058549, 0.33607623, 0.07656206, 0.02386878, 0.5329074 ],\n",
              "       [0.24408643, 0.5623124 , 0.08735665, 0.04053567, 0.06570891]],\n",
              "      dtype=float32)"
            ]
          },
          "metadata": {},
          "execution_count": 146
        }
      ]
    },
    {
      "cell_type": "code",
      "source": [
        "# Convert pred probs to pred labels\n",
        "model_5_preds = tf.argmax(model_5_pred_probs, axis=1)\n",
        "model_5_preds"
      ],
      "metadata": {
        "colab": {
          "base_uri": "https://localhost:8080/"
        },
        "id": "ClpmxyHhaRhm",
        "outputId": "0f787a4d-461e-4f1f-8d03-918002edb8e7"
      },
      "execution_count": 147,
      "outputs": [
        {
          "output_type": "execute_result",
          "data": {
            "text/plain": [
              "<tf.Tensor: shape=(30212,), dtype=int64, numpy=array([0, 0, 3, ..., 4, 4, 1])>"
            ]
          },
          "metadata": {},
          "execution_count": 147
        }
      ]
    },
    {
      "cell_type": "code",
      "source": [
        "# Calculate resutls \n",
        "model_5_results = calculate_results(y_true=val_labels_encoded,\n",
        "                                    y_pred =model_5_preds)"
      ],
      "metadata": {
        "id": "xETp3vG8bcxR"
      },
      "execution_count": 148,
      "outputs": []
    },
    {
      "cell_type": "markdown",
      "source": [
        "## Comapre model results"
      ],
      "metadata": {
        "id": "krNRvYwTgrDA"
      }
    },
    {
      "cell_type": "code",
      "source": [
        "# Combine model results into a datafrtame\n",
        "all_model_results = pd.DataFrame({\n",
        "    \"model_0_baseline\": baseline_results,\n",
        "    \"model_1_custom_token_embedding\": model_1_results,\n",
        "    \"model_2_pretrained_token_embedding\": model_2_results,\n",
        "    \"model_3_customer_char_embedding\": model_3_results,\n",
        "    \"model_4_hybrid_char_token_embedding\": model_4_results,\n",
        "    \"model_5_pos_char_token_embedding\": model_5_results\n",
        "})\n",
        "all_model_results = all_model_results.transpose()\n",
        "all_model_results"
      ],
      "metadata": {
        "colab": {
          "base_uri": "https://localhost:8080/",
          "height": 238
        },
        "id": "WnG-GOl0feE2",
        "outputId": "73e1b41f-ef18-47fe-a5ca-bb84c139efb2"
      },
      "execution_count": 153,
      "outputs": [
        {
          "output_type": "execute_result",
          "data": {
            "text/plain": [
              "                                      accuracy  precision    recall        f1\n",
              "model_0_baseline                     72.183238   0.718647  0.721832  0.698925\n",
              "model_1_custom_token_embedding       78.501920   0.781786  0.785019  0.782556\n",
              "model_2_pretrained_token_embedding   71.464981   0.714641  0.714650  0.711459\n",
              "model_3_customer_char_embedding      44.422746   0.375047  0.444227  0.387627\n",
              "model_4_hybrid_char_token_embedding  72.951145   0.732279  0.729511  0.726028\n",
              "model_5_pos_char_token_embedding     83.437045   0.833093  0.834370  0.833319"
            ],
            "text/html": [
              "\n",
              "  <div id=\"df-9491956a-5a9f-4c60-ab10-9d43410493c6\">\n",
              "    <div class=\"colab-df-container\">\n",
              "      <div>\n",
              "<style scoped>\n",
              "    .dataframe tbody tr th:only-of-type {\n",
              "        vertical-align: middle;\n",
              "    }\n",
              "\n",
              "    .dataframe tbody tr th {\n",
              "        vertical-align: top;\n",
              "    }\n",
              "\n",
              "    .dataframe thead th {\n",
              "        text-align: right;\n",
              "    }\n",
              "</style>\n",
              "<table border=\"1\" class=\"dataframe\">\n",
              "  <thead>\n",
              "    <tr style=\"text-align: right;\">\n",
              "      <th></th>\n",
              "      <th>accuracy</th>\n",
              "      <th>precision</th>\n",
              "      <th>recall</th>\n",
              "      <th>f1</th>\n",
              "    </tr>\n",
              "  </thead>\n",
              "  <tbody>\n",
              "    <tr>\n",
              "      <th>model_0_baseline</th>\n",
              "      <td>72.183238</td>\n",
              "      <td>0.718647</td>\n",
              "      <td>0.721832</td>\n",
              "      <td>0.698925</td>\n",
              "    </tr>\n",
              "    <tr>\n",
              "      <th>model_1_custom_token_embedding</th>\n",
              "      <td>78.501920</td>\n",
              "      <td>0.781786</td>\n",
              "      <td>0.785019</td>\n",
              "      <td>0.782556</td>\n",
              "    </tr>\n",
              "    <tr>\n",
              "      <th>model_2_pretrained_token_embedding</th>\n",
              "      <td>71.464981</td>\n",
              "      <td>0.714641</td>\n",
              "      <td>0.714650</td>\n",
              "      <td>0.711459</td>\n",
              "    </tr>\n",
              "    <tr>\n",
              "      <th>model_3_customer_char_embedding</th>\n",
              "      <td>44.422746</td>\n",
              "      <td>0.375047</td>\n",
              "      <td>0.444227</td>\n",
              "      <td>0.387627</td>\n",
              "    </tr>\n",
              "    <tr>\n",
              "      <th>model_4_hybrid_char_token_embedding</th>\n",
              "      <td>72.951145</td>\n",
              "      <td>0.732279</td>\n",
              "      <td>0.729511</td>\n",
              "      <td>0.726028</td>\n",
              "    </tr>\n",
              "    <tr>\n",
              "      <th>model_5_pos_char_token_embedding</th>\n",
              "      <td>83.437045</td>\n",
              "      <td>0.833093</td>\n",
              "      <td>0.834370</td>\n",
              "      <td>0.833319</td>\n",
              "    </tr>\n",
              "  </tbody>\n",
              "</table>\n",
              "</div>\n",
              "      <button class=\"colab-df-convert\" onclick=\"convertToInteractive('df-9491956a-5a9f-4c60-ab10-9d43410493c6')\"\n",
              "              title=\"Convert this dataframe to an interactive table.\"\n",
              "              style=\"display:none;\">\n",
              "        \n",
              "  <svg xmlns=\"http://www.w3.org/2000/svg\" height=\"24px\"viewBox=\"0 0 24 24\"\n",
              "       width=\"24px\">\n",
              "    <path d=\"M0 0h24v24H0V0z\" fill=\"none\"/>\n",
              "    <path d=\"M18.56 5.44l.94 2.06.94-2.06 2.06-.94-2.06-.94-.94-2.06-.94 2.06-2.06.94zm-11 1L8.5 8.5l.94-2.06 2.06-.94-2.06-.94L8.5 2.5l-.94 2.06-2.06.94zm10 10l.94 2.06.94-2.06 2.06-.94-2.06-.94-.94-2.06-.94 2.06-2.06.94z\"/><path d=\"M17.41 7.96l-1.37-1.37c-.4-.4-.92-.59-1.43-.59-.52 0-1.04.2-1.43.59L10.3 9.45l-7.72 7.72c-.78.78-.78 2.05 0 2.83L4 21.41c.39.39.9.59 1.41.59.51 0 1.02-.2 1.41-.59l7.78-7.78 2.81-2.81c.8-.78.8-2.07 0-2.86zM5.41 20L4 18.59l7.72-7.72 1.47 1.35L5.41 20z\"/>\n",
              "  </svg>\n",
              "      </button>\n",
              "      \n",
              "  <style>\n",
              "    .colab-df-container {\n",
              "      display:flex;\n",
              "      flex-wrap:wrap;\n",
              "      gap: 12px;\n",
              "    }\n",
              "\n",
              "    .colab-df-convert {\n",
              "      background-color: #E8F0FE;\n",
              "      border: none;\n",
              "      border-radius: 50%;\n",
              "      cursor: pointer;\n",
              "      display: none;\n",
              "      fill: #1967D2;\n",
              "      height: 32px;\n",
              "      padding: 0 0 0 0;\n",
              "      width: 32px;\n",
              "    }\n",
              "\n",
              "    .colab-df-convert:hover {\n",
              "      background-color: #E2EBFA;\n",
              "      box-shadow: 0px 1px 2px rgba(60, 64, 67, 0.3), 0px 1px 3px 1px rgba(60, 64, 67, 0.15);\n",
              "      fill: #174EA6;\n",
              "    }\n",
              "\n",
              "    [theme=dark] .colab-df-convert {\n",
              "      background-color: #3B4455;\n",
              "      fill: #D2E3FC;\n",
              "    }\n",
              "\n",
              "    [theme=dark] .colab-df-convert:hover {\n",
              "      background-color: #434B5C;\n",
              "      box-shadow: 0px 1px 3px 1px rgba(0, 0, 0, 0.15);\n",
              "      filter: drop-shadow(0px 1px 2px rgba(0, 0, 0, 0.3));\n",
              "      fill: #FFFFFF;\n",
              "    }\n",
              "  </style>\n",
              "\n",
              "      <script>\n",
              "        const buttonEl =\n",
              "          document.querySelector('#df-9491956a-5a9f-4c60-ab10-9d43410493c6 button.colab-df-convert');\n",
              "        buttonEl.style.display =\n",
              "          google.colab.kernel.accessAllowed ? 'block' : 'none';\n",
              "\n",
              "        async function convertToInteractive(key) {\n",
              "          const element = document.querySelector('#df-9491956a-5a9f-4c60-ab10-9d43410493c6');\n",
              "          const dataTable =\n",
              "            await google.colab.kernel.invokeFunction('convertToInteractive',\n",
              "                                                     [key], {});\n",
              "          if (!dataTable) return;\n",
              "\n",
              "          const docLinkHtml = 'Like what you see? Visit the ' +\n",
              "            '<a target=\"_blank\" href=https://colab.research.google.com/notebooks/data_table.ipynb>data table notebook</a>'\n",
              "            + ' to learn more about interactive tables.';\n",
              "          element.innerHTML = '';\n",
              "          dataTable['output_type'] = 'display_data';\n",
              "          await google.colab.output.renderOutput(dataTable, element);\n",
              "          const docLink = document.createElement('div');\n",
              "          docLink.innerHTML = docLinkHtml;\n",
              "          element.appendChild(docLink);\n",
              "        }\n",
              "      </script>\n",
              "    </div>\n",
              "  </div>\n",
              "  "
            ]
          },
          "metadata": {},
          "execution_count": 153
        }
      ]
    },
    {
      "cell_type": "code",
      "source": [
        "# Reduce the accuracy to same scale as other metrics\n",
        "all_model_results[\"accuracy\"] = all_model_results[\"accuracy\"]/100"
      ],
      "metadata": {
        "id": "NrQtmyuuh6C-"
      },
      "execution_count": 154,
      "outputs": []
    },
    {
      "cell_type": "code",
      "source": [
        "# Plot and compare all model results\n",
        "all_model_results.plot(kind=\"bar\", figsize=(10,7)).legend(bbox_to_anchor=(1.0, 1.0));"
      ],
      "metadata": {
        "colab": {
          "base_uri": "https://localhost:8080/",
          "height": 619
        },
        "id": "Wm7upVVkiQG5",
        "outputId": "7ee9ba35-5c3b-4c56-9d99-4a52cbe1a9e0"
      },
      "execution_count": 156,
      "outputs": [
        {
          "output_type": "display_data",
          "data": {
            "text/plain": [
              "<Figure size 720x504 with 1 Axes>"
            ],
            "image/png": "[encoded data removed]"
          },
          "metadata": {
            "needs_background": "light"
          }
        }
      ]
    },
    {
      "cell_type": "code",
      "source": [
        "# Sor models by f1 score\n",
        "all_model_results.sort_values(\"f1\", ascending=True)[\"f1\"].plot(kind=\"bar\", figsize=(10,7));"
      ],
      "metadata": {
        "colab": {
          "base_uri": "https://localhost:8080/",
          "height": 619
        },
        "id": "l5oUPt7oint-",
        "outputId": "bed60d98-75a2-47b6-9877-55e6c76167ea"
      },
      "execution_count": 158,
      "outputs": [
        {
          "output_type": "display_data",
          "data": {
            "text/plain": [
              "<Figure size 720x504 with 1 Axes>"
            ],
            "image/png": "[encoded data removed]"
          },
          "metadata": {
            "needs_background": "light"
          }
        }
      ]
    },
    {
      "cell_type": "code",
      "source": [
        ""
      ],
      "metadata": {
        "id": "in-Ch6qjjNkV"
      },
      "execution_count": null,
      "outputs": []
    }
  ]
}
{
  "nbformat": 4,
  "nbformat_minor": 0,
  "metadata": {
    "colab": {
      "name": "Word_Embeddings.ipynb",
      "provenance": []
    },
    "kernelspec": {
      "name": "python3",
      "display_name": "Python 3"
    },
    "language_info": {
      "name": "python"
    }
  },
  "cells": [
    {
      "cell_type": "code",
      "execution_count": 1,
      "metadata": {
        "colab": {
          "base_uri": "https://localhost:8080/"
        },
        "id": "2eWABUHxXxgr",
        "outputId": "3c43211d-b522-4b86-9630-c47f7baf8fb1"
      },
      "outputs": [
        {
          "output_type": "stream",
          "name": "stdout",
          "text": [
            "--2022-05-10 19:09:01--  https://lazyprogrammer.me/course_files/nlp/GoogleNews-vectors-negative300.bin.gz\n",
            "Resolving lazyprogrammer.me (lazyprogrammer.me)... 104.21.23.210, 172.67.213.166, 2606:4700:3030::ac43:d5a6, ...\n",
            "Connecting to lazyprogrammer.me (lazyprogrammer.me)|104.21.23.210|:443... connected.\n",
            "HTTP request sent, awaiting response... 200 OK\n",
            "Length: 1647046227 (1.5G) [application/x-gzip]\n",
            "Saving to: ‘GoogleNews-vectors-negative300.bin.gz’\n",
            "\n",
            "GoogleNews-vectors- 100%[===================>]   1.53G  32.9MB/s    in 44s     \n",
            "\n",
            "2022-05-10 19:09:45 (35.6 MB/s) - ‘GoogleNews-vectors-negative300.bin.gz’ saved [1647046227/1647046227]\n",
            "\n"
          ]
        }
      ],
      "source": [
        "!wget -nc https://lazyprogrammer.me/course_files/nlp/GoogleNews-vectors-negative300.bin.gz"
      ]
    },
    {
      "cell_type": "code",
      "source": [
        "import gdown\n",
        "!gunzip GoogleNews-vectors-negative300.bin.gz"
      ],
      "metadata": {
        "id": "0xebX749X9yX"
      },
      "execution_count": 2,
      "outputs": []
    },
    {
      "cell_type": "code",
      "source": [
        "from gensim.models import KeyedVectors\n",
        "word_vectors = KeyedVectors.load_word2vec_format(\n",
        "    'GoogleNews-vectors-negative300.bin',\n",
        "    binary=True\n",
        ")"
      ],
      "metadata": {
        "id": "kN22XDGvYngj"
      },
      "execution_count": 4,
      "outputs": []
    },
    {
      "cell_type": "code",
      "source": [
        "def find_analogies(w1, w2, w3):\n",
        "  # w1 - w2 = ? - w3\n",
        "  # e.g. king - man = ? - woman \n",
        "  # ? = + king + women - man\n",
        "  r = word_vectors.most_similar(positive=[w1, w3], negative=[w2])\n",
        "  print(\"%s - %s = % s - %s\" % (w1, w2, r[0][0], w3))"
      ],
      "metadata": {
        "id": "L8r0DRt-Z5us"
      },
      "execution_count": 5,
      "outputs": []
    },
    {
      "cell_type": "code",
      "source": [
        "find_analogies('king', 'man', 'woman')"
      ],
      "metadata": {
        "colab": {
          "base_uri": "https://localhost:8080/"
        },
        "id": "kCScUXQKaiNj",
        "outputId": "1b2f690e-a983-460f-803e-5c64a3431e64"
      },
      "execution_count": 6,
      "outputs": [
        {
          "output_type": "stream",
          "name": "stdout",
          "text": [
            "king - man = queen - woman\n"
          ]
        }
      ]
    },
    {
      "cell_type": "code",
      "source": [
        "def nearest_neighbors(w):\n",
        "  r = word_vectors.most_similar(positive=[w])\n",
        "  print(\"neighbors of: %s\" % w)\n",
        "  for word, score in r:\n",
        "    print(\"\\t%s\" % word)"
      ],
      "metadata": {
        "id": "h6BO2s4Pa1wH"
      },
      "execution_count": 7,
      "outputs": []
    },
    {
      "cell_type": "code",
      "source": [
        "nearest_neighbors('king')"
      ],
      "metadata": {
        "colab": {
          "base_uri": "https://localhost:8080/"
        },
        "id": "XiqDPXirbyrR",
        "outputId": "55b9e7ac-292e-434b-e966-bd9eae36df26"
      },
      "execution_count": 8,
      "outputs": [
        {
          "output_type": "stream",
          "name": "stdout",
          "text": [
            "neighbors of: king\n",
            "\tkings\n",
            "\tqueen\n",
            "\tmonarch\n",
            "\tcrown_prince\n",
            "\tprince\n",
            "\tsultan\n",
            "\truler\n",
            "\tprinces\n",
            "\tPrince_Paras\n",
            "\tthrone\n"
          ]
        }
      ]
    },
    {
      "cell_type": "code",
      "source": [
        ""
      ],
      "metadata": {
        "id": "Ar1tJhM1b0Uh"
      },
      "execution_count": null,
      "outputs": []
    }
  ]
}
{
  "nbformat": 4,
  "nbformat_minor": 0,
  "metadata": {
    "colab": {
      "name": "Classification.ipynb",
      "provenance": [],
      "collapsed_sections": []
    },
    "kernelspec": {
      "name": "python3",
      "display_name": "Python 3"
    },
    "language_info": {
      "name": "python"
    }
  },
  "cells": [
    {
      "cell_type": "markdown",
      "metadata": {
        "id": "nI-PxEfk7UT_"
      },
      "source": [
        "# Prepare the dataset"
      ]
    },
    {
      "cell_type": "code",
      "metadata": {
        "id": "NFhiX6_RI2YS"
      },
      "source": [
        "from sklearn.metrics import confusion_matrix\n",
        "from sklearn.model_selection import train_test_split\n",
        "from sklearn import svm\n",
        "\n",
        "import pandas as pd\n",
        "import numpy as np\n",
        "import matplotlib.pyplot as plt\n",
        "%matplotlib inline\n",
        "\n",
        "import random\n",
        "random.seed(666)"
      ],
      "execution_count": 5,
      "outputs": []
    },
    {
      "cell_type": "code",
      "metadata": {
        "id": "XYq6xnmBKOtl"
      },
      "source": [
        "df = pd.read_excel('dataclus1.xlsx')"
      ],
      "execution_count": 6,
      "outputs": []
    },
    {
      "cell_type": "code",
      "metadata": {
        "id": "QpDXc4vKKU-W"
      },
      "source": [
        "X = df.iloc[:,1:5]"
      ],
      "execution_count": 7,
      "outputs": []
    },
    {
      "cell_type": "code",
      "metadata": {
        "id": "LxUN0rG5Kf1x"
      },
      "source": [
        "y2 = df.iloc[:,5]\n",
        "y3 = df.iloc[:,6]\n",
        "y4 = df.iloc[:,7]\n",
        "y5 = df.iloc[:,8]\n",
        "y6 = df.iloc[:,9]\n",
        "y7 = df.iloc[:,10]"
      ],
      "execution_count": 8,
      "outputs": []
    },
    {
      "cell_type": "markdown",
      "metadata": {
        "id": "w3cH5a5tqhXt"
      },
      "source": [
        "# Multi-classification algorithms\n",
        "## 1. K Nearest Neighbors"
      ]
    },
    {
      "cell_type": "code",
      "metadata": {
        "id": "g0BPPbI8kKOn"
      },
      "source": [
        "from sklearn.neighbors import KNeighborsClassifier\n",
        "X_train, X_test, y_train, y_test = train_test_split(X,y3,train_size=0.8, random_state=666)\n",
        "knn_classifier = KNeighborsClassifier()\n",
        "knn_classifier.fit(X_train, y_train)\n",
        "knn_predictions = knn_classifier.predict(X_test)"
      ],
      "execution_count": 10,
      "outputs": []
    },
    {
      "cell_type": "markdown",
      "metadata": {
        "id": "fxch7AWnxKqf"
      },
      "source": [
        "## 2. Random Forest"
      ]
    },
    {
      "cell_type": "markdown",
      "metadata": {
        "id": "-Ow0M_Y_ATsY"
      },
      "source": [
        "### 2.1 Basic"
      ]
    },
    {
      "cell_type": "code",
      "metadata": {
        "colab": {
          "base_uri": "https://localhost:8080/"
        },
        "id": "WYwhXueZxE9l",
        "outputId": "b8ebf0d3-25f6-4ebb-b128-17bffbdbb13e"
      },
      "source": [
        "from sklearn.ensemble import RandomForestClassifier\n",
        "rf_classifier = RandomForestClassifier()\n",
        "rf_classifier.fit(X_train, y_train)\n",
        "rf_predictions = rf_classifier.predict(X_test)\n",
        "\n",
        "# Cross-validation\n",
        "from sklearn.model_selection import RepeatedStratifiedKFold\n",
        "from sklearn.model_selection import cross_val_score\n",
        "from numpy import mean\n",
        "\n",
        "# Define the model\n",
        "model = RandomForestClassifier()\n",
        "# Evaluate the model\n",
        "cv = RepeatedStratifiedKFold(n_splits=10, n_repeats=3, random_state = 666)\n",
        "n_scores = cross_val_score(model, X, y3, scoring='accuracy',cv=cv, n_jobs=-1,error_score='raise')\n",
        "# Report Performance\n",
        "print(mean(n_scores))"
      ],
      "execution_count": 11,
      "outputs": [
        {
          "output_type": "stream",
          "name": "stdout",
          "text": [
            "0.8903401865197119\n"
          ]
        }
      ]
    },
    {
      "cell_type": "markdown",
      "metadata": {
        "id": "hsj1MDquAV9L"
      },
      "source": [
        "### 2.2 Hyperparameters"
      ]
    },
    {
      "cell_type": "code",
      "metadata": {
        "colab": {
          "base_uri": "https://localhost:8080/",
          "height": 435
        },
        "id": "SkvM5cn5Amma",
        "outputId": "a19addae-0e64-4a9f-cb1a-268fb399fc14"
      },
      "source": [
        "# explore random forest bootstrap sample size on performance\n",
        "from numpy import mean\n",
        "from numpy import std\n",
        "from numpy import arange\n",
        "from sklearn.datasets import make_classification\n",
        "from sklearn.model_selection import cross_val_score\n",
        "from sklearn.model_selection import RepeatedStratifiedKFold\n",
        "from sklearn.ensemble import RandomForestClassifier\n",
        "import  matplotlib.pyplot as plt\n",
        "\n",
        "# Get a list of models to evaluate\n",
        "# max_sample set from 0 to 1 to control the percentage of the size of the trainig dataset\n",
        "# Smaller sample size makes the tree more different\n",
        "def get_models():\n",
        "  models = dict()\n",
        "  # ratios increased from 10% to 100% with 10% incresments\n",
        "  for i in arange(0.1,1.1,0.1):\n",
        "    key = '%.1f' % i\n",
        "    # set max_samples=None to use 100%\n",
        "    if i == 1.0:\n",
        "      i = None\n",
        "    models[key] = RandomForestClassifier(max_samples=i)\n",
        "  return models\n",
        "\n",
        "# evaluate a given model using cross-validation\n",
        "def evaluate_model(model, X,y):\n",
        "  # define the evaluation procedure\n",
        "  cv = RepeatedStratifiedKFold(n_splits=10, n_repeats=3, random_state=666)\n",
        "  # evaluate the model and collect the results\n",
        "  scores = cross_val_score(model, X, y,scoring='accuracy',cv=cv,n_jobs=-1)\n",
        "  return scores\n",
        "\n",
        "# Define the dataset\n",
        "X,y = X, y3\n",
        "\n",
        "# Get the models to evaluate\n",
        "models = get_models()\n",
        "\n",
        "# Evaluate the models and store results\n",
        "results, names = list(), list()\n",
        "for name, model in models.items():\n",
        "  # evaluate the model\n",
        "  scores = evaluate_model(model,X,y)\n",
        "  # store the results\n",
        "  results.append(scores)\n",
        "  names.append(name)\n",
        "  # summarize the performance along the way\n",
        "  print('>%s %.3f (%.3d)' % (name, mean(scores), std(scores)))\n",
        "\n",
        "# plot model performance for comparison\n",
        "plt.boxplot(results, labels=names, showmeans=True)\n",
        "plt.show()\n"
      ],
      "execution_count": 12,
      "outputs": [
        {
          "output_type": "stream",
          "name": "stdout",
          "text": [
            ">0.1 0.881 (000)\n",
            ">0.2 0.884 (000)\n",
            ">0.3 0.888 (000)\n",
            ">0.4 0.887 (000)\n",
            ">0.5 0.887 (000)\n",
            ">0.6 0.889 (000)\n",
            ">0.7 0.890 (000)\n",
            ">0.8 0.889 (000)\n",
            ">0.9 0.889 (000)\n",
            ">1.0 0.891 (000)\n"
          ]
        },
        {
          "output_type": "display_data",
          "data": {
            "image/png": "[encoded data removed]",
            "text/plain": [
              "<Figure size 432x288 with 1 Axes>"
            ]
          },
          "metadata": {
            "needs_background": "light"
          }
        }
      ]
    },
    {
      "cell_type": "markdown",
      "metadata": {
        "id": "LbcTi1dZ44Zi"
      },
      "source": [
        "### 2.3 Explore Number of Trees\n",
        "Very unlikely to overfit and start from 1000 trees"
      ]
    },
    {
      "cell_type": "code",
      "metadata": {
        "colab": {
          "base_uri": "https://localhost:8080/",
          "height": 350
        },
        "id": "I9CHy27h5BW3",
        "outputId": "7b3dfe4b-6f1d-484a-8230-6877b00f43b9"
      },
      "source": [
        "# get a list of models to evaluate\n",
        "from numpy import mean\n",
        "from numpy import std\n",
        "from numpy import arange\n",
        "from sklearn.datasets import make_classification\n",
        "from sklearn.model_selection import cross_val_score\n",
        "from sklearn.model_selection import RepeatedStratifiedKFold\n",
        "from sklearn.ensemble import RandomForestClassifier\n",
        "import  matplotlib.pyplot as plt\n",
        "def get_models():\n",
        "  models = dict()\n",
        "  # define number of trees to consider \n",
        "  n_trees = [10,50,100,500,1000]\n",
        "  for n in n_trees:\n",
        "    models[str(n)] = RandomForestClassifier(n_estimators=n)\n",
        "  return models\n",
        "\n",
        "# evaluate the model with cross validation\n",
        "def evaluate_model(model, X, y):\n",
        "  # define the evaluation procedure\n",
        "  cv = RepeatedStratifiedKFold(n_splits=10, n_repeats=3, random_state=666)\n",
        "  # evaluate the model and collect the results\n",
        "  scores = cross_val_score(model, X, y, scoring='accuracy',cv=cv, n_jobs=-1)\n",
        "  return n_scores\n",
        "\n",
        "# define dataset\n",
        "X,y = X, y3\n",
        "\n",
        "# get the models to evaluate\n",
        "models = get_models()\n",
        "\n",
        "# evaluate the models and store results\n",
        "results, names = list(), list()\n",
        "for name, model in models.items():\n",
        "  # evaluate the model\n",
        "  scores = evaluate_model(model,X,y)\n",
        "  # store the results\n",
        "  results.append(scores)\n",
        "  names.append(name)\n",
        "  # summarize the performance along the way\n",
        "  print('>%s %.3f (%.3d)' % (name, mean(scores), std(scores)))\n",
        "\n",
        "# plot model performance\n",
        "plt.boxplot(results, labels=names, showmeans=True)\n",
        "plt.show()"
      ],
      "execution_count": 17,
      "outputs": [
        {
          "output_type": "stream",
          "name": "stdout",
          "text": [
            ">10 0.890 (000)\n",
            ">50 0.890 (000)\n",
            ">100 0.890 (000)\n",
            ">500 0.890 (000)\n",
            ">1000 0.890 (000)\n"
          ]
        },
        {
          "output_type": "display_data",
          "data": {
            "image/png": "[encoded data removed]",
            "text/plain": [
              "<Figure size 432x288 with 1 Axes>"
            ]
          },
          "metadata": {
            "needs_background": "light"
          }
        }
      ]
    },
    {
      "cell_type": "markdown",
      "metadata": {
        "id": "Od7TJqJqOZ9i"
      },
      "source": [
        "### 2.4 Explore Number of Features\n",
        "For classification: Square root of the features (Choose at each split)\n",
        "\n",
        "For regression: One third of the features"
      ]
    },
    {
      "cell_type": "code",
      "metadata": {
        "colab": {
          "base_uri": "https://localhost:8080/",
          "height": 384
        },
        "id": "5CI6tRLbOeJv",
        "outputId": "dd135f31-faad-4ce5-aae4-a63e66fcf245"
      },
      "source": [
        "from numpy import mean\n",
        "from numpy import std\n",
        "from numpy import arange\n",
        "from sklearn.datasets import make_classification\n",
        "from sklearn.model_selection import cross_val_score\n",
        "from sklearn.model_selection import RepeatedStratifiedKFold\n",
        "from sklearn.ensemble import RandomForestClassifier\n",
        "import  matplotlib.pyplot as plt\n",
        "\n",
        "# get a list of models to evaluate\n",
        "def get_models():\n",
        "\tmodels = dict()\n",
        "\t# explore number of features from 1 to 7\n",
        "\tfor i in range(1,8):\n",
        "\t\tmodels[str(i)] = RandomForestClassifier(max_features=i)\n",
        "\treturn models\n",
        " \n",
        "# evaluate a given model using cross-validation\n",
        "def evaluate_model(model, X, y):\n",
        "\t# define the evaluation procedure\n",
        "\tcv = RepeatedStratifiedKFold(n_splits=10, n_repeats=3, random_state=666)\n",
        "\t# evaluate the model and collect the results\n",
        "\tscores = cross_val_score(model, X, y, scoring='accuracy', cv=cv, n_jobs=-1)\n",
        "\treturn scores\n",
        "# Define dataset\n",
        "X,y = X, y3\n",
        "\n",
        "# get the models to evaluate\n",
        "models = get_models()\n",
        "\n",
        " # evaluate the models and store results\n",
        "results, names = list(), list()\n",
        "for name, model in models.items():\n",
        "\t# evaluate the model\n",
        "\tscores = evaluate_model(model, X, y)\n",
        "\t# store the results\n",
        "\tresults.append(scores)\n",
        "\tnames.append(name)\n",
        "\t# summarize the performance along the way\n",
        "\tprint('>%s %.3f (%.3f)' % (name, mean(scores), std(scores)))\n",
        "\n",
        "# plot model performance for comparison\n",
        "plt.boxplot(results, labels=names, showmeans=True)\n",
        "plt.show()"
      ],
      "execution_count": 37,
      "outputs": [
        {
          "output_type": "stream",
          "name": "stdout",
          "text": [
            ">1 0.889 (0.015)\n",
            ">2 0.890 (0.014)\n",
            ">3 0.889 (0.015)\n",
            ">4 0.886 (0.016)\n",
            ">5 nan (nan)\n",
            ">6 nan (nan)\n",
            ">7 nan (nan)\n"
          ]
        },
        {
          "output_type": "display_data",
          "data": {
            "image/png": "[encoded data removed]",
            "text/plain": [
              "<Figure size 432x288 with 1 Axes>"
            ]
          },
          "metadata": {
            "needs_background": "light"
          }
        }
      ]
    },
    {
      "cell_type": "markdown",
      "metadata": {
        "id": "du-DiI9U77rN"
      },
      "source": [
        "### 2.5 Explore the Tree Depth"
      ]
    },
    {
      "cell_type": "code",
      "metadata": {
        "colab": {
          "base_uri": "https://localhost:8080/",
          "height": 401
        },
        "id": "6hRddZqO7-g8",
        "outputId": "fdc3f95f-71b3-40ca-cd36-ac382b69228b"
      },
      "source": [
        "# get a list of models to evaluate\n",
        "def get_models():\n",
        "\tmodels = dict()\n",
        "\t# consider tree depths from 1 to 7 and None=full\n",
        "\tdepths = [i for i in range(1,8)] + [None]\n",
        "\tfor n in depths:\n",
        "\t\tmodels[str(n)] = RandomForestClassifier(max_depth=n)\n",
        "\treturn models\n",
        " \n",
        "# evaluate a given model using cross-validation\n",
        "def evaluate_model(model, X, y):\n",
        "\t# define the evaluation procedure\n",
        "\tcv = RepeatedStratifiedKFold(n_splits=10, n_repeats=3, random_state=666)\n",
        "\t# evaluate the model and collect the results\n",
        "\tscores = cross_val_score(model, X, y, scoring='accuracy', cv=cv, n_jobs=-1)\n",
        "\treturn scores\n",
        " \n",
        "# define dataset\n",
        "X, y = X, y3\n",
        "# get the models to evaluate\n",
        "models = get_models()\n",
        "# evaluate the models and store results\n",
        "results, names = list(), list()\n",
        "for name, model in models.items():\n",
        "\t# evaluate the model\n",
        "\tscores = evaluate_model(model, X, y)\n",
        "\t# store the results\n",
        "\tresults.append(scores)\n",
        "\tnames.append(name)\n",
        "\t# summarize the performance along the way\n",
        "\tprint('>%s %.3f (%.3f)' % (name, mean(scores), std(scores)))\n",
        "# plot model performance for comparison\n",
        "plt.boxplot(results, labels=names, showmeans=True)\n",
        "plt.show()"
      ],
      "execution_count": 38,
      "outputs": [
        {
          "output_type": "stream",
          "name": "stdout",
          "text": [
            ">1 0.682 (0.018)\n",
            ">2 0.783 (0.023)\n",
            ">3 0.837 (0.018)\n",
            ">4 0.853 (0.016)\n",
            ">5 0.866 (0.018)\n",
            ">6 0.874 (0.016)\n",
            ">7 0.879 (0.016)\n",
            ">None 0.890 (0.014)\n"
          ]
        },
        {
          "output_type": "display_data",
          "data": {
            "image/png": "[encoded data removed]",
            "text/plain": [
              "<Figure size 432x288 with 1 Axes>"
            ]
          },
          "metadata": {
            "needs_background": "light"
          }
        }
      ]
    },
    {
      "cell_type": "markdown",
      "metadata": {
        "id": "89D2ayloWo2h"
      },
      "source": [
        "### Summarize"
      ]
    },
    {
      "cell_type": "code",
      "metadata": {
        "colab": {
          "base_uri": "https://localhost:8080/"
        },
        "id": "1NkFWw7gWrqE",
        "outputId": "29251373-f576-4746-f4ed-f2d2368c320b"
      },
      "source": [
        "# Define the model\n",
        "model = RandomForestClassifier()\n",
        "# Evaluate the model\n",
        "cv = RepeatedStratifiedKFold(n_splits=10, n_repeats=3, random_state = 666)\n",
        "n_scores = cross_val_score(model, X, y3, scoring='accuracy',cv=cv, n_jobs=-1,error_score='raise')\n",
        "# Report Performance\n",
        "print(mean(n_scores))"
      ],
      "execution_count": 34,
      "outputs": [
        {
          "output_type": "stream",
          "name": "stdout",
          "text": [
            "0.8903395977579954\n"
          ]
        }
      ]
    },
    {
      "cell_type": "markdown",
      "metadata": {
        "id": "S99BGx3BxxLH"
      },
      "source": [
        "## 3. SVM – One Vs. One for multi-classification"
      ]
    },
    {
      "cell_type": "markdown",
      "metadata": {
        "id": "99SEqDZO671I"
      },
      "source": [
        "### 3.1 Basic"
      ]
    },
    {
      "cell_type": "code",
      "metadata": {
        "id": "Ub1654lXxcfh"
      },
      "source": [
        "from sklearn.svm import SVC\n",
        "svm_classifier = SVC(decision_function_shape = 'ovo')\n",
        "svm_classifier.fit(X_train, y_train)\n",
        "svm_predictions = svm_classifier.predict(X_test)"
      ],
      "execution_count": 35,
      "outputs": []
    },
    {
      "cell_type": "markdown",
      "metadata": {
        "id": "lKfJdzlc69yl"
      },
      "source": [
        "### 3.2 Train on different kernels"
      ]
    },
    {
      "cell_type": "code",
      "metadata": {
        "colab": {
          "base_uri": "https://localhost:8080/"
        },
        "id": "iXBMUD2W7Ax4",
        "outputId": "977250ab-afdf-4986-eb08-531f42a03d62"
      },
      "source": [
        "X_train, X_test, y_train, y_test = train_test_split(X,y3,train_size=0.8, random_state=666)\n",
        "\n",
        "# Apply different kernel functions\n",
        "linear = svm.SVC(kernel='linear', C=1, decision_function_shape='ovo').fit(X_train, y_train)\n",
        "rbf = svm.SVC(kernel='rbf', gamma = 1, C=1, decision_function_shape='ovo').fit(X_train, y_train)\n",
        "poly = svm.SVC(kernel='poly', degree = 3, C=1, decision_function_shape='ovo').fit(X_train, y_train)\n",
        "sig = svm.SVC(kernel='sigmoid', C=1, decision_function_shape='ovo').fit(X_train, y_train)\n",
        "\n",
        "# Prediction\n",
        "linear_pre = linear.predict(X_test)\n",
        "poly_pred = poly.predict(X_test)\n",
        "rbf_pred = rbf.predict(X_test)\n",
        "sig_pred = sig.predict(X_test)\n",
        "\n",
        "# Retrive the accuracy and print \n",
        "accuracy_lin = linear.score(X_test, y_test)\n",
        "accuracy_poly = poly.score(X_test, y_test)\n",
        "accuracy_rbf = rbf.score(X_test, y_test)\n",
        "accuracy_sig = sig.score(X_test, y_test)\n",
        "\n",
        "print('Accuracy Linear Kernel:', accuracy_lin)\n",
        "print('Accuracy Polynomial Kernel:', accuracy_poly)\n",
        "print('Accuracy Radial Basis Kernel:', accuracy_rbf)\n",
        "print('Accuracy Sigmoid Kernel:', accuracy_sig)\n",
        "\n",
        "# Cross-validation\n",
        "from sklearn.model_selection import cross_val_score\n",
        "print(cross_val_score(rbf, X_train, y_train, cv=5))"
      ],
      "execution_count": 36,
      "outputs": [
        {
          "output_type": "stream",
          "name": "stdout",
          "text": [
            "Accuracy Linear Kernel: 0.8647845468053492\n",
            "Accuracy Polynomial Kernel: 0.8038632986627043\n",
            "Accuracy Radial Basis Kernel: 0.9034175334323923\n",
            "Accuracy Sigmoid Kernel: 0.5824665676077266\n",
            "[0.89795918 0.90723562 0.92193309 0.91078067 0.92379182]\n"
          ]
        }
      ]
    },
    {
      "cell_type": "markdown",
      "metadata": {
        "id": "YYToehVvZk4d"
      },
      "source": [
        "# Reference\n",
        "1. https://scikit-learn.org/stable/modules/generated/sklearn.svm.SVC.html\n",
        "\n",
        "2. https://machinelearningmastery.com/random-forest-ensemble-in-python/\n",
        "\n",
        "3. https://towardsdatascience.com/multiclass-classification-with-support-vector-machines-svm-kernel-trick-kernel-functions-f9d5377d6f02\n",
        "\n"
      ]
    }
  ]
}
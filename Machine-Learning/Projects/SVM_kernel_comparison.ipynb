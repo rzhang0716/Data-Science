{
  "nbformat": 4,
  "nbformat_minor": 0,
  "metadata": {
    "colab": {
      "name": "SVM_kernel.ipynb",
      "provenance": [],
      "collapsed_sections": []
    },
    "kernelspec": {
      "name": "python3",
      "display_name": "Python 3"
    },
    "language_info": {
      "name": "python"
    }
  },
  "cells": [
    {
      "cell_type": "code",
      "metadata": {
        "id": "KEGZ-1t5VreC"
      },
      "source": [
        "# Import packages\n",
        "from sklearn.model_selection import train_test_split\n",
        "from sklearn.svm import SVC\n",
        "\n",
        "import pandas as pd\n",
        "import numpy as np\n",
        "import matplotlib.pyplot as plt\n",
        "%matplotlib inline\n",
        "\n",
        "import random\n",
        "random.seed(666)"
      ],
      "execution_count": 11,
      "outputs": []
    },
    {
      "cell_type": "code",
      "metadata": {
        "id": "dm07pPLrV4L4"
      },
      "source": [
        "# Load data and extract Xs and Ys\n",
        "df = pd.read_excel('dataclus1.xlsx')\n",
        "\n",
        "X = df.iloc[:,1:5]\n",
        "\n",
        "y2 = df.iloc[:,5]\n",
        "y3 = df.iloc[:,6]\n",
        "y4 = df.iloc[:,7]\n",
        "y5 = df.iloc[:,8]\n",
        "y6 = df.iloc[:,9]\n",
        "y7 = df.iloc[:,10]\n",
        "y_all = [y2,y3,y4,y5,y6,y7]"
      ],
      "execution_count": null,
      "outputs": []
    },
    {
      "cell_type": "code",
      "metadata": {
        "id": "9uu_wAIIWKT9"
      },
      "source": [
        "def SVC_kernel(X,y):\n",
        "  X_train, X_test, y_train, y_test = train_test_split(X,y,train_size=0.8, random_state=666)\n",
        "\n",
        "  # Apply different kernel functions\n",
        "  linear = SVC(kernel='linear', C=1, decision_function_shape='ovo').fit(X_train, y_train)\n",
        "  rbf = SVC(kernel='rbf', gamma = 1, C=1, decision_function_shape='ovo').fit(X_train, y_train)\n",
        "  poly = SVC(kernel='poly', degree = 3, C=1, decision_function_shape='ovo').fit(X_train, y_train)\n",
        "  sig = SVC(kernel='sigmoid', C=1, decision_function_shape='ovo').fit(X_train, y_train)\n",
        "\n",
        "  # Prediction\n",
        "  linear_pre = linear.predict(X_test)\n",
        "  poly_pred = poly.predict(X_test)\n",
        "  rbf_pred = rbf.predict(X_test)\n",
        "  sig_pred = sig.predict(X_test)\n",
        "\n",
        "  # Retrive the accuracy and print \n",
        "  accuracy_lin = linear.score(X_test, y_test)\n",
        "  accuracy_poly = poly.score(X_test, y_test)\n",
        "  accuracy_rbf = rbf.score(X_test, y_test)\n",
        "  accuracy_sig = sig.score(X_test, y_test)\n",
        "\n",
        "  print()\n",
        "  print('Accuracy Linear Kernel:', accuracy_lin)\n",
        "  print('Accuracy Polynomial Kernel:', accuracy_poly)\n",
        "  print('Accuracy Radial Basis Kernel:', accuracy_rbf)\n",
        "  print('Accuracy Sigmoid Kernel:', accuracy_sig)\n",
        "  print()"
      ],
      "execution_count": 9,
      "outputs": []
    },
    {
      "cell_type": "code",
      "metadata": {
        "colab": {
          "base_uri": "https://localhost:8080/",
          "height": 0
        },
        "id": "XqeTMA8jYPEA",
        "outputId": "e8b710be-5cff-4f14-a07a-b3dc0e42296c"
      },
      "source": [
        "for y in y_all:\n",
        "  SVC_kernel(X,y)"
      ],
      "execution_count": 10,
      "outputs": [
        {
          "output_type": "stream",
          "name": "stdout",
          "text": [
            "\n",
            "Accuracy Linear Kernel: 0.87518573551263\n",
            "Accuracy Polynomial Kernel: 0.87518573551263\n",
            "Accuracy Radial Basis Kernel: 0.9167904903417533\n",
            "Accuracy Sigmoid Kernel: 0.7399702823179792\n",
            "\n",
            "\n",
            "Accuracy Linear Kernel: 0.8647845468053492\n",
            "Accuracy Polynomial Kernel: 0.8038632986627043\n",
            "Accuracy Radial Basis Kernel: 0.9034175334323923\n",
            "Accuracy Sigmoid Kernel: 0.5824665676077266\n",
            "\n",
            "\n",
            "Accuracy Linear Kernel: 0.8722139673105498\n",
            "Accuracy Polynomial Kernel: 0.8187221396731055\n",
            "Accuracy Radial Basis Kernel: 0.8900445765230312\n",
            "Accuracy Sigmoid Kernel: 0.5304606240713224\n",
            "\n",
            "\n",
            "Accuracy Linear Kernel: 0.7815750371471025\n",
            "Accuracy Polynomial Kernel: 0.7206537890044576\n",
            "Accuracy Radial Basis Kernel: 0.8424962852897474\n",
            "Accuracy Sigmoid Kernel: 0.42050520059435365\n",
            "\n",
            "\n",
            "Accuracy Linear Kernel: 0.8707280832095097\n",
            "Accuracy Polynomial Kernel: 0.763744427934621\n",
            "Accuracy Radial Basis Kernel: 0.8959881129271917\n",
            "Accuracy Sigmoid Kernel: 0.475482912332838\n",
            "\n",
            "\n",
            "Accuracy Linear Kernel: 0.8038632986627043\n",
            "Accuracy Polynomial Kernel: 0.6835066864784547\n",
            "Accuracy Radial Basis Kernel: 0.8335809806835067\n",
            "Accuracy Sigmoid Kernel: 0.40564635958395245\n",
            "\n"
          ]
        }
      ]
    },
    {
      "cell_type": "code",
      "metadata": {
        "id": "ITNAT5oDYcLj"
      },
      "source": [
        ""
      ],
      "execution_count": null,
      "outputs": []
    }
  ]
}
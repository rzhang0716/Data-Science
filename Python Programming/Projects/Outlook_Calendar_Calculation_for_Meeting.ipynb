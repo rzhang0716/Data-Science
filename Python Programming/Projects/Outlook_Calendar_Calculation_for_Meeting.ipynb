{
  "nbformat": 4,
  "nbformat_minor": 0,
  "metadata": {
    "colab": {
      "name": "calendar.ipynb",
      "provenance": [],
      "collapsed_sections": []
    },
    "kernelspec": {
      "name": "python3",
      "display_name": "Python 3"
    },
    "language_info": {
      "name": "python"
    }
  },
  "cells": [
    {
      "cell_type": "code",
      "metadata": {
        "id": "N8YZgxehfLZQ"
      },
      "source": [
        "import pandas as pd"
      ],
      "execution_count": 1,
      "outputs": []
    },
    {
      "cell_type": "code",
      "metadata": {
        "id": "mlNSUdD3qEW3"
      },
      "source": [
        "def meeting_cal(df):\n",
        "  # Give a name to the meeting w/t a title\n",
        "  df[df['Subject'].isnull()] = 'Meeting'\n",
        "\n",
        "  # Find all not canceled meeting\n",
        "  df['Subject'] = df['Subject'].str.lower()\n",
        "  df_notcancel = df[-df['Subject'].str.startswith(tuple(['canceled']))]\n",
        "\n",
        "  # Convert to Starttime and Endtime to datetime type and calculate the difference\n",
        "  time_difference = pd.to_datetime(df_notcancel['End Time'],errors='coerce') - pd.to_datetime(df_notcancel['Start Time'],errors='coerce')   \n",
        "\n",
        "  # Convert the type for calculation\n",
        "  time_in_min = time_difference.astype('timedelta64[m]')\n",
        "  time_df = time_in_min.to_frame().sum(axis=0)\n",
        "  meeting_hours = time_df/60\n",
        "  print(meeting_hours)"
      ],
      "execution_count": 78,
      "outputs": []
    },
    {
      "cell_type": "code",
      "metadata": {
        "id": "gXdDKZ7pr_tX"
      },
      "source": [
        "df_1 = pd.read_csv('january2021.CSV')\n",
        "df_2 = pd.read_csv('February2021.CSV')\n",
        "df_3 = pd.read_csv('March2021.CSV')\n",
        "df_4 = pd.read_csv('April2021.CSV')\n",
        "df_5 = pd.read_csv('May2021.CSV')\n",
        "df_6 = pd.read_csv('June2021.CSV')\n",
        "df_7 = pd.read_csv('July2021.CSV')\n",
        "df_8 = pd.read_csv('August2021.CSV')\n",
        "df_9 = pd.read_csv('September2021.CSV')"
      ],
      "execution_count": 109,
      "outputs": []
    },
    {
      "cell_type": "code",
      "metadata": {
        "colab": {
          "base_uri": "https://localhost:8080/"
        },
        "id": "-mBO9uEtslHD",
        "outputId": "cb3250cb-fc56-4fba-9170-e6e098496d3e"
      },
      "source": [
        "df = [df_1, df_2, df_3, df_4, df_5, df_6, df_7, df_8, df_9]\n",
        "work_hours_2021 = []\n",
        "for i in df:\n",
        "  work_hours_2021.append(meeting_cal(i))\n",
        "print(work_hours_2021)"
      ],
      "execution_count": 110,
      "outputs": [
        {
          "output_type": "stream",
          "name": "stdout",
          "text": [
            "0    34.833333\n",
            "dtype: float64\n",
            "0    40.583333\n",
            "dtype: float64\n",
            "0    54.833333\n",
            "dtype: float64\n",
            "0    70.166667\n",
            "dtype: float64\n",
            "0    50.833333\n",
            "dtype: float64\n",
            "0    76.083333\n",
            "dtype: float64\n",
            "0    52.166667\n",
            "dtype: float64\n",
            "0    63.083333\n",
            "dtype: float64\n",
            "0    63.666667\n",
            "dtype: float64\n",
            "[None, None, None, None, None, None, None, None, None]\n"
          ]
        }
      ]
    }
  ]
}
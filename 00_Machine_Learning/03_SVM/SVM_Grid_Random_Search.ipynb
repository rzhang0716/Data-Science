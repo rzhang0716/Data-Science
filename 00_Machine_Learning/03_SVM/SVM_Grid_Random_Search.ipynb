{
  "nbformat": 4,
  "nbformat_minor": 0,
  "metadata": {
    "colab": {
      "name": "SVM.ipynb",
      "provenance": [],
      "collapsed_sections": []
    },
    "kernelspec": {
      "name": "python3",
      "display_name": "Python 3"
    },
    "language_info": {
      "name": "python"
    }
  },
  "cells": [
    {
      "cell_type": "markdown",
      "metadata": {
        "id": "QF1NElWI3uC-"
      },
      "source": [
        "## Data Preparation"
      ]
    },
    {
      "cell_type": "code",
      "metadata": {
        "id": "5ZZJFRA41bJi"
      },
      "source": [
        "# Import packages\n",
        "from sklearn.metrics import confusion_matrix\n",
        "from sklearn.model_selection import train_test_split\n",
        "from sklearn.metrics import classification_report, confusion_matrix\n",
        "from sklearn.svm import SVC\n",
        "\n",
        "import pandas as pd\n",
        "import numpy as np\n",
        "import matplotlib.pyplot as plt\n",
        "%matplotlib inline\n",
        "\n",
        "from scipy.stats import reciprocal, uniform\n",
        "\n",
        "from sklearn.model_selection import GridSearchCV\n",
        "from sklearn.model_selection import RandomizedSearchCV\n",
        "\n",
        "import random\n",
        "random.seed(666)"
      ],
      "execution_count": 3,
      "outputs": []
    },
    {
      "cell_type": "code",
      "metadata": {
        "id": "lwOgYLxo37fM"
      },
      "source": [
        "# Load data and extract Xs and Ys\n",
        "df = pd.read_excel('dataclus1.xlsx')\n",
        "\n",
        "X = df.iloc[:,1:5]\n",
        "\n",
        "\n",
        "\n",
        "for col in df.columns[6:]:\n",
        "  df[col] = df[col].astype('category')\n",
        "\n",
        "\n",
        "y2 = df.iloc[:,5]\n",
        "y3 = df.iloc[:,6]\n",
        "y4 = df.iloc[:,7]\n",
        "y5 = df.iloc[:,8]\n",
        "y6 = df.iloc[:,9]\n",
        "y7 = df.iloc[:,10]\n",
        "y_all = [y2,y3,y4,y5,y6,y7]"
      ],
      "execution_count": 19,
      "outputs": []
    },
    {
      "cell_type": "markdown",
      "metadata": {
        "id": "GDRG8Aod4U1B"
      },
      "source": [
        "## Implement algorithm"
      ]
    },
    {
      "cell_type": "code",
      "metadata": {
        "colab": {
          "base_uri": "https://localhost:8080/",
          "height": 0
        },
        "id": "Q67USJ-K3_US",
        "outputId": "a0c6a565-f3d7-405c-8c3d-360125343227"
      },
      "source": [
        "# Train and test split\n",
        "X_train, X_test, y_train, y_test = train_test_split(X,y4,test_size = 0.30, random_state = 666)\n",
        "\n",
        "# Train the model on train set\n",
        "model = SVC()\n",
        "model.fit(X_train, y_train)\n",
        " \n",
        "# print prediction results\n",
        "predictions = model.predict(X_test)\n",
        "print(classification_report(y_test, predictions))"
      ],
      "execution_count": 14,
      "outputs": [
        {
          "output_type": "stream",
          "name": "stdout",
          "text": [
            "              precision    recall  f1-score   support\n",
            "\n",
            "           1       0.87      0.58      0.69       151\n",
            "           2       0.92      0.95      0.93       523\n",
            "           3       0.79      0.88      0.83        56\n",
            "           4       0.81      0.90      0.86       280\n",
            "\n",
            "    accuracy                           0.88      1010\n",
            "   macro avg       0.85      0.83      0.83      1010\n",
            "weighted avg       0.88      0.88      0.87      1010\n",
            "\n"
          ]
        }
      ]
    },
    {
      "cell_type": "markdown",
      "metadata": {
        "id": "0F51trRs4tBh"
      },
      "source": [
        "## Hyperparameter Tuning"
      ]
    },
    {
      "cell_type": "markdown",
      "metadata": {
        "id": "RzMtZbkk4xBL"
      },
      "source": [
        "### 1. Grid Search"
      ]
    },
    {
      "cell_type": "code",
      "metadata": {
        "colab": {
          "base_uri": "https://localhost:8080/",
          "height": 0
        },
        "id": "w_3bGYiL4n78",
        "outputId": "03aad231-4d9f-46d2-ba8f-2369ac7584cd"
      },
      "source": [
        "# defining parameter range\n",
        "param_grid = {'C': [0.1, 1, 10, 100, 1000],\n",
        "              'gamma': [1, 0.1, 0.01, 0.001, 0.0001],\n",
        "              'kernel': ['linear','poly','rbf','sigmoid']}\n",
        " \n",
        "grid = GridSearchCV(SVC(), param_grid, refit = True, verbose = 1)\n",
        " \n",
        "# fitting the model for grid search\n",
        "grid.fit(X_train, y_train)"
      ],
      "execution_count": 15,
      "outputs": [
        {
          "output_type": "stream",
          "name": "stdout",
          "text": [
            "Fitting 5 folds for each of 100 candidates, totalling 500 fits\n"
          ]
        },
        {
          "output_type": "stream",
          "name": "stderr",
          "text": [
            "[Parallel(n_jobs=1)]: Using backend SequentialBackend with 1 concurrent workers.\n",
            "[Parallel(n_jobs=1)]: Done 500 out of 500 | elapsed: 57.2min finished\n"
          ]
        },
        {
          "output_type": "execute_result",
          "data": {
            "text/plain": [
              "GridSearchCV(cv=None, error_score=nan,\n",
              "             estimator=SVC(C=1.0, break_ties=False, cache_size=200,\n",
              "                           class_weight=None, coef0=0.0,\n",
              "                           decision_function_shape='ovr', degree=3,\n",
              "                           gamma='scale', kernel='rbf', max_iter=-1,\n",
              "                           probability=False, random_state=None, shrinking=True,\n",
              "                           tol=0.001, verbose=False),\n",
              "             iid='deprecated', n_jobs=None,\n",
              "             param_grid={'C': [0.1, 1, 10, 100, 1000],\n",
              "                         'gamma': [1, 0.1, 0.01, 0.001, 0.0001],\n",
              "                         'kernel': ['linear', 'poly', 'rbf', 'sigmoid']},\n",
              "             pre_dispatch='2*n_jobs', refit=True, return_train_score=False,\n",
              "             scoring=None, verbose=1)"
            ]
          },
          "metadata": {},
          "execution_count": 15
        }
      ]
    },
    {
      "cell_type": "code",
      "metadata": {
        "id": "0_Ecwq5u6LMN",
        "colab": {
          "base_uri": "https://localhost:8080/",
          "height": 0
        },
        "outputId": "fd94eb6e-3114-488f-b049-eddfadfff5ff"
      },
      "source": [
        "# print best parameter after tuning\n",
        "print(grid.best_params_)\n",
        " \n",
        "# print how our model looks after hyper-parameter tuning\n",
        "print(grid.best_estimator_)\n",
        "\n",
        "grid_predictions = grid.predict(X_test)\n",
        " \n",
        "# print classification report\n",
        "print(classification_report(y_test, grid_predictions))"
      ],
      "execution_count": 16,
      "outputs": [
        {
          "output_type": "stream",
          "name": "stdout",
          "text": [
            "{'C': 1000, 'gamma': 0.1, 'kernel': 'rbf'}\n",
            "SVC(C=1000, break_ties=False, cache_size=200, class_weight=None, coef0=0.0,\n",
            "    decision_function_shape='ovr', degree=3, gamma=0.1, kernel='rbf',\n",
            "    max_iter=-1, probability=False, random_state=None, shrinking=True,\n",
            "    tol=0.001, verbose=False)\n",
            "              precision    recall  f1-score   support\n",
            "\n",
            "           1       0.86      0.91      0.88       151\n",
            "           2       0.99      0.97      0.98       523\n",
            "           3       0.93      0.91      0.92        56\n",
            "           4       0.94      0.95      0.95       280\n",
            "\n",
            "    accuracy                           0.95      1010\n",
            "   macro avg       0.93      0.94      0.93      1010\n",
            "weighted avg       0.95      0.95      0.95      1010\n",
            "\n"
          ]
        }
      ]
    },
    {
      "cell_type": "markdown",
      "metadata": {
        "id": "Q7Y6JyVm6HcT"
      },
      "source": [
        "### 2. Randomized Search"
      ]
    },
    {
      "cell_type": "code",
      "metadata": {
        "id": "r302AKrT5OZc",
        "colab": {
          "base_uri": "https://localhost:8080/",
          "height": 0
        },
        "outputId": "a6c3cf0c-cba2-4e3e-d915-31844ae955fa"
      },
      "source": [
        "# defining parameter range\n",
        "param_distributions = {\"gamma\": reciprocal(0.001, 0.1), \"C\": uniform(1, 1000),'kernel': ['linear','poly','rbf','sigmoid']}\n",
        " \n",
        "grid = RandomizedSearchCV(SVC(), param_distributions, refit = True, verbose = 1)\n",
        " \n",
        "# fitting the model for grid search\n",
        "grid.fit(X_train, y_train)\n",
        "\n",
        "# print best parameter after tuning\n",
        "print(grid.best_params_)\n",
        " \n",
        "# print how our model looks after hyper-parameter tuning\n",
        "print(grid.best_estimator_)\n",
        "\n",
        "grid_predictions = grid.predict(X_test)\n",
        " \n",
        "# print classification report\n",
        "print(classification_report(y_test, grid_predictions))"
      ],
      "execution_count": 20,
      "outputs": [
        {
          "output_type": "stream",
          "name": "stdout",
          "text": [
            "Fitting 5 folds for each of 10 candidates, totalling 50 fits\n"
          ]
        },
        {
          "output_type": "stream",
          "name": "stderr",
          "text": [
            "[Parallel(n_jobs=1)]: Using backend SequentialBackend with 1 concurrent workers.\n"
          ]
        },
        {
          "output_type": "stream",
          "name": "stdout",
          "text": [
            "{'C': 968.9793147036413, 'gamma': 0.008726839750960865, 'kernel': 'rbf'}\n",
            "SVC(C=968.9793147036413, break_ties=False, cache_size=200, class_weight=None,\n",
            "    coef0=0.0, decision_function_shape='ovr', degree=3,\n",
            "    gamma=0.008726839750960865, kernel='rbf', max_iter=-1, probability=False,\n",
            "    random_state=None, shrinking=True, tol=0.001, verbose=False)\n",
            "              precision    recall  f1-score   support\n",
            "\n",
            "           1       0.90      0.81      0.85       151\n",
            "           2       0.98      0.99      0.98       523\n",
            "           3       0.96      0.89      0.93        56\n",
            "           4       0.91      0.96      0.94       280\n",
            "\n",
            "    accuracy                           0.95      1010\n",
            "   macro avg       0.94      0.91      0.92      1010\n",
            "weighted avg       0.95      0.95      0.95      1010\n",
            "\n"
          ]
        },
        {
          "output_type": "stream",
          "name": "stderr",
          "text": [
            "[Parallel(n_jobs=1)]: Done  50 out of  50 | elapsed:   14.6s finished\n"
          ]
        }
      ]
    },
    {
      "cell_type": "markdown",
      "metadata": {
        "id": "Z5bCQhP_INfz"
      },
      "source": [
        "## Apply on different clusters"
      ]
    },
    {
      "cell_type": "markdown",
      "metadata": {
        "id": "CvJ1npG3KoCo"
      },
      "source": [
        "### One-vs-Rest"
      ]
    },
    {
      "cell_type": "code",
      "metadata": {
        "id": "tLbfZmfwINAx"
      },
      "source": [
        "# Define a function \n",
        "def SVC_R(X,y):\n",
        "# Train and test split\n",
        "  X_train, X_test, y_train, y_test = train_test_split(X,y,test_size = 0.30, random_state = 666)\n",
        "\n",
        "# Train the model on train set\n",
        "  model = SVC(kernel='rbf', gamma=0.1, C=1000)\n",
        "  model.fit(X_train, y_train)\n",
        " \n",
        "# print prediction results\n",
        "  predictions = model.predict(X_test)\n",
        "  print(f'the accuracy report is')\n",
        "  print(classification_report(y_test, predictions))\n",
        "  print(f'the confusion matrix is')\n",
        "  print(confusion_matrix(y_test, predictions))"
      ],
      "execution_count": 26,
      "outputs": []
    },
    {
      "cell_type": "code",
      "metadata": {
        "colab": {
          "base_uri": "https://localhost:8080/"
        },
        "id": "qNufABwHJiLq",
        "outputId": "9a761f86-4839-4383-90a0-4d11a9fd0768"
      },
      "source": [
        "# Apply on all y values\n",
        "y_all = [y2,y3,y4,y5,y6,y7]\n",
        "\n",
        "for i in y_all:\n",
        "  a = SVC_R(X,i)\n",
        "  print()\n",
        "  print(a)\n",
        "  print()"
      ],
      "execution_count": 27,
      "outputs": [
        {
          "output_type": "stream",
          "name": "stdout",
          "text": [
            "the accuracy report is\n",
            "              precision    recall  f1-score   support\n",
            "\n",
            "           1       0.96      0.89      0.93       223\n",
            "           2       0.97      0.99      0.98       787\n",
            "\n",
            "    accuracy                           0.97      1010\n",
            "   macro avg       0.97      0.94      0.95      1010\n",
            "weighted avg       0.97      0.97      0.97      1010\n",
            "\n",
            "the confusion matrix is\n",
            "[[199  24]\n",
            " [  8 779]]\n",
            "\n",
            "None\n",
            "\n",
            "the accuracy report is\n",
            "              precision    recall  f1-score   support\n",
            "\n",
            "           1       0.96      0.98      0.97       500\n",
            "           2       0.93      0.96      0.94       314\n",
            "           3       0.95      0.85      0.90       196\n",
            "\n",
            "    accuracy                           0.95      1010\n",
            "   macro avg       0.95      0.93      0.94      1010\n",
            "weighted avg       0.95      0.95      0.95      1010\n",
            "\n",
            "the confusion matrix is\n",
            "[[492   5   3]\n",
            " [  8 301   5]\n",
            " [ 11  19 166]]\n",
            "\n",
            "None\n",
            "\n",
            "the accuracy report is\n",
            "              precision    recall  f1-score   support\n",
            "\n",
            "           1       0.86      0.91      0.88       151\n",
            "           2       0.99      0.97      0.98       523\n",
            "           3       0.93      0.91      0.92        56\n",
            "           4       0.94      0.95      0.95       280\n",
            "\n",
            "    accuracy                           0.95      1010\n",
            "   macro avg       0.93      0.94      0.93      1010\n",
            "weighted avg       0.95      0.95      0.95      1010\n",
            "\n",
            "the confusion matrix is\n",
            "[[137   2   2  10]\n",
            " [ 10 507   0   6]\n",
            " [  4   1  51   0]\n",
            " [  8   3   2 267]]\n",
            "\n",
            "None\n",
            "\n",
            "the accuracy report is\n",
            "              precision    recall  f1-score   support\n",
            "\n",
            "           1       0.93      0.86      0.89       138\n",
            "           2       0.83      0.90      0.86       154\n",
            "           3       0.96      0.97      0.96       331\n",
            "           4       0.92      0.89      0.90       295\n",
            "           5       0.92      0.93      0.93        92\n",
            "\n",
            "    accuracy                           0.92      1010\n",
            "   macro avg       0.91      0.91      0.91      1010\n",
            "weighted avg       0.92      0.92      0.92      1010\n",
            "\n",
            "the confusion matrix is\n",
            "[[119   1  10   6   2]\n",
            " [  0 139   0  13   2]\n",
            " [  5   0 321   3   2]\n",
            " [  3  25   4 262   1]\n",
            " [  1   3   0   2  86]]\n",
            "\n",
            "None\n",
            "\n",
            "the accuracy report is\n",
            "              precision    recall  f1-score   support\n",
            "\n",
            "           1       0.89      0.90      0.90       126\n",
            "           2       0.95      0.93      0.94        74\n",
            "           3       0.97      0.98      0.98       291\n",
            "           4       0.97      0.88      0.92        95\n",
            "           5       0.96      0.97      0.97       357\n",
            "           6       0.94      0.94      0.94        67\n",
            "\n",
            "    accuracy                           0.95      1010\n",
            "   macro avg       0.95      0.94      0.94      1010\n",
            "weighted avg       0.95      0.95      0.95      1010\n",
            "\n",
            "the confusion matrix is\n",
            "[[114   0   3   1   7   1]\n",
            " [  1  69   1   0   2   1]\n",
            " [  0   2 286   1   2   0]\n",
            " [  5   2   4  84   0   0]\n",
            " [  7   0   0   1 347   2]\n",
            " [  1   0   1   0   2  63]]\n",
            "\n",
            "None\n",
            "\n",
            "the accuracy report is\n",
            "              precision    recall  f1-score   support\n",
            "\n",
            "           1       0.95      0.93      0.94        88\n",
            "           2       0.97      0.96      0.96       205\n",
            "           3       0.95      0.94      0.95       179\n",
            "           4       0.92      0.98      0.95        57\n",
            "           5       0.88      0.85      0.86       132\n",
            "           6       0.93      0.84      0.89        64\n",
            "           7       0.89      0.93      0.91       285\n",
            "\n",
            "    accuracy                           0.92      1010\n",
            "   macro avg       0.93      0.92      0.92      1010\n",
            "weighted avg       0.92      0.92      0.92      1010\n",
            "\n",
            "the confusion matrix is\n",
            "[[ 82   1   2   0   1   2   0]\n",
            " [  0 197   3   0   0   0   5]\n",
            " [  4   0 168   0   3   0   4]\n",
            " [  0   0   0  56   0   0   1]\n",
            " [  0   0   2   2 112   0  16]\n",
            " [  0   0   0   3   0  54   7]\n",
            " [  0   6   1   0  12   2 264]]\n",
            "\n",
            "None\n",
            "\n"
          ]
        }
      ]
    },
    {
      "cell_type": "markdown",
      "metadata": {
        "id": "ZxMuM_0DKr2m"
      },
      "source": [
        "### One-vs-One"
      ]
    },
    {
      "cell_type": "code",
      "metadata": {
        "id": "R42OjNoXKrXI"
      },
      "source": [
        "# Define a function \n",
        "def SVC_O(X,y):\n",
        "# Train and test split\n",
        "  X_train, X_test, y_train, y_test = train_test_split(X,y,test_size = 0.30, random_state = 666)\n",
        "\n",
        "# Train the model on train set\n",
        "  model = SVC(kernel='rbf', gamma=0.1, C=1000,decision_function_shape='ovo')\n",
        "  model.fit(X_train, y_train)\n",
        " \n",
        "# print prediction results\n",
        "  predictions = model.predict(X_test)\n",
        "  print(f'the accuracy report is')\n",
        "  print(classification_report(y_test, predictions))\n",
        "  print(f'the confusion matrix is')\n",
        "  print(confusion_matrix(y_test, predictions))"
      ],
      "execution_count": 29,
      "outputs": []
    },
    {
      "cell_type": "code",
      "metadata": {
        "colab": {
          "base_uri": "https://localhost:8080/"
        },
        "id": "FwvgMs-tKwmk",
        "outputId": "47a4ff27-fd32-4007-ba28-7d233c8a4709"
      },
      "source": [
        "# Apply on all y values\n",
        "y_all = [y2,y3,y4,y5,y6,y7]\n",
        "\n",
        "for i in y_all:\n",
        "  a = SVC_O(X,i)\n",
        "  print()\n",
        "  print(a)\n",
        "  print()"
      ],
      "execution_count": 30,
      "outputs": [
        {
          "output_type": "stream",
          "name": "stdout",
          "text": [
            "the accuracy report is\n",
            "              precision    recall  f1-score   support\n",
            "\n",
            "           1       0.96      0.89      0.93       223\n",
            "           2       0.97      0.99      0.98       787\n",
            "\n",
            "    accuracy                           0.97      1010\n",
            "   macro avg       0.97      0.94      0.95      1010\n",
            "weighted avg       0.97      0.97      0.97      1010\n",
            "\n",
            "the confusion matrix is\n",
            "[[199  24]\n",
            " [  8 779]]\n",
            "\n",
            "None\n",
            "\n",
            "the accuracy report is\n",
            "              precision    recall  f1-score   support\n",
            "\n",
            "           1       0.96      0.98      0.97       500\n",
            "           2       0.93      0.96      0.94       314\n",
            "           3       0.95      0.85      0.90       196\n",
            "\n",
            "    accuracy                           0.95      1010\n",
            "   macro avg       0.95      0.93      0.94      1010\n",
            "weighted avg       0.95      0.95      0.95      1010\n",
            "\n",
            "the confusion matrix is\n",
            "[[492   5   3]\n",
            " [  8 301   5]\n",
            " [ 11  19 166]]\n",
            "\n",
            "None\n",
            "\n",
            "the accuracy report is\n",
            "              precision    recall  f1-score   support\n",
            "\n",
            "           1       0.86      0.91      0.88       151\n",
            "           2       0.99      0.97      0.98       523\n",
            "           3       0.93      0.91      0.92        56\n",
            "           4       0.94      0.95      0.95       280\n",
            "\n",
            "    accuracy                           0.95      1010\n",
            "   macro avg       0.93      0.94      0.93      1010\n",
            "weighted avg       0.95      0.95      0.95      1010\n",
            "\n",
            "the confusion matrix is\n",
            "[[137   2   2  10]\n",
            " [ 10 507   0   6]\n",
            " [  4   1  51   0]\n",
            " [  8   3   2 267]]\n",
            "\n",
            "None\n",
            "\n",
            "the accuracy report is\n",
            "              precision    recall  f1-score   support\n",
            "\n",
            "           1       0.93      0.86      0.89       138\n",
            "           2       0.83      0.90      0.86       154\n",
            "           3       0.96      0.97      0.96       331\n",
            "           4       0.92      0.89      0.90       295\n",
            "           5       0.92      0.93      0.93        92\n",
            "\n",
            "    accuracy                           0.92      1010\n",
            "   macro avg       0.91      0.91      0.91      1010\n",
            "weighted avg       0.92      0.92      0.92      1010\n",
            "\n",
            "the confusion matrix is\n",
            "[[119   1  10   6   2]\n",
            " [  0 139   0  13   2]\n",
            " [  5   0 321   3   2]\n",
            " [  3  25   4 262   1]\n",
            " [  1   3   0   2  86]]\n",
            "\n",
            "None\n",
            "\n",
            "the accuracy report is\n",
            "              precision    recall  f1-score   support\n",
            "\n",
            "           1       0.89      0.90      0.90       126\n",
            "           2       0.95      0.93      0.94        74\n",
            "           3       0.97      0.98      0.98       291\n",
            "           4       0.97      0.88      0.92        95\n",
            "           5       0.96      0.97      0.97       357\n",
            "           6       0.94      0.94      0.94        67\n",
            "\n",
            "    accuracy                           0.95      1010\n",
            "   macro avg       0.95      0.94      0.94      1010\n",
            "weighted avg       0.95      0.95      0.95      1010\n",
            "\n",
            "the confusion matrix is\n",
            "[[114   0   3   1   7   1]\n",
            " [  1  69   1   0   2   1]\n",
            " [  0   2 286   1   2   0]\n",
            " [  5   2   4  84   0   0]\n",
            " [  7   0   0   1 347   2]\n",
            " [  1   0   1   0   2  63]]\n",
            "\n",
            "None\n",
            "\n",
            "the accuracy report is\n",
            "              precision    recall  f1-score   support\n",
            "\n",
            "           1       0.95      0.93      0.94        88\n",
            "           2       0.97      0.96      0.96       205\n",
            "           3       0.95      0.94      0.95       179\n",
            "           4       0.92      0.98      0.95        57\n",
            "           5       0.88      0.85      0.86       132\n",
            "           6       0.93      0.84      0.89        64\n",
            "           7       0.89      0.93      0.91       285\n",
            "\n",
            "    accuracy                           0.92      1010\n",
            "   macro avg       0.93      0.92      0.92      1010\n",
            "weighted avg       0.92      0.92      0.92      1010\n",
            "\n",
            "the confusion matrix is\n",
            "[[ 82   1   2   0   1   2   0]\n",
            " [  0 197   3   0   0   0   5]\n",
            " [  4   0 168   0   3   0   4]\n",
            " [  0   0   0  56   0   0   1]\n",
            " [  0   0   2   2 112   0  16]\n",
            " [  0   0   0   3   0  54   7]\n",
            " [  0   6   1   0  12   2 264]]\n",
            "\n",
            "None\n",
            "\n"
          ]
        }
      ]
    },
    {
      "cell_type": "markdown",
      "metadata": {
        "id": "cFz_DiDHRtfx"
      },
      "source": [
        "## Reference: \n",
        "1. https://www.geeksforgeeks.org/svm-hyperparameter-tuning-using-gridsearchcv-ml/\n",
        "\n",
        "2. https://towardsdatascience.com/hyperparameter-tuning-with-python-keras-xgboost-guide-7cb3ef480f9c\n",
        "\n",
        "3. https://towardsdatascience.com/gradient-boosting-classification-explained-through-python-60cc980eeb3d\n",
        "\n",
        "4. https://medium.com/analytics-vidhya/hyperparameter-tuning-an-svm-a-demonstration-using-hyperparameter-tuning-cross-validation-on-96b05db54e5b\n",
        "\n",
        "5. https://scikit-learn.org/stable/modules/generated/sklearn.model_selection.RandomizedSearchCV.html\n",
        "\n",
        "6. https://stackoverflow.com/questions/66617194/passing-random-variables-to-sklearn-random-search-randomizedsearchcv\n"
      ]
    }
  ]
}

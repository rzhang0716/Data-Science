{
  "nbformat": 4,
  "nbformat_minor": 0,
  "metadata": {
    "colab": {
      "provenance": []
    },
    "kernelspec": {
      "name": "python3",
      "display_name": "Python 3"
    },
    "language_info": {
      "name": "python"
    }
  },
  "cells": [
    {
      "cell_type": "code",
      "execution_count": 1,
      "metadata": {
        "id": "Ln-ktadIjFKe"
      },
      "outputs": [],
      "source": [
        "import pandas as pd\n",
        "import numpy as np\n",
        "import matplotlib.pyplot as plt\n",
        "import xgboost as xgb"
      ]
    },
    {
      "cell_type": "markdown",
      "source": [
        "## Encoding"
      ],
      "metadata": {
        "id": "M6Of2yE3n1Of"
      }
    },
    {
      "cell_type": "markdown",
      "source": [
        "### 1. LabelEncoder\n",
        "\n",
        "Encode target values from string to labels between 0 to class n-1\n",
        "\n",
        "This transformer should be used to encode target values, y not the input X, from Sklearn as OneHotEncoder now supports string input, so we don't need to do label encoding before one-hot encoding"
      ],
      "metadata": {
        "id": "HtQ2BbMojtx6"
      }
    },
    {
      "cell_type": "code",
      "source": [
        "df = pd.read_csv('ames_unprocessed_data.csv')\n",
        "df.head()"
      ],
      "metadata": {
        "colab": {
          "base_uri": "https://localhost:8080/",
          "height": 299
        },
        "id": "w3QFG2opjr0e",
        "outputId": "76c0eb35-e067-40dc-fdff-221b80c00525"
      },
      "execution_count": 3,
      "outputs": [
        {
          "output_type": "execute_result",
          "data": {
            "text/plain": [
              "   MSSubClass MSZoning  LotFrontage  LotArea Neighborhood BldgType HouseStyle  \\\n",
              "0          60       RL         65.0     8450      CollgCr     1Fam     2Story   \n",
              "1          20       RL         80.0     9600      Veenker     1Fam     1Story   \n",
              "2          60       RL         68.0    11250      CollgCr     1Fam     2Story   \n",
              "3          70       RL         60.0     9550      Crawfor     1Fam     2Story   \n",
              "4          60       RL         84.0    14260      NoRidge     1Fam     2Story   \n",
              "\n",
              "   OverallQual  OverallCond  YearBuilt  ...  GrLivArea  BsmtFullBath  \\\n",
              "0            7            5       2003  ...       1710             1   \n",
              "1            6            8       1976  ...       1262             0   \n",
              "2            7            5       2001  ...       1786             1   \n",
              "3            7            5       1915  ...       1717             1   \n",
              "4            8            5       2000  ...       2198             1   \n",
              "\n",
              "   BsmtHalfBath  FullBath  HalfBath  BedroomAbvGr  Fireplaces  GarageArea  \\\n",
              "0             0         2         1             3           0         548   \n",
              "1             1         2         0             3           1         460   \n",
              "2             0         2         1             3           1         608   \n",
              "3             0         1         0             3           1         642   \n",
              "4             0         2         1             4           1         836   \n",
              "\n",
              "   PavedDrive SalePrice  \n",
              "0           Y    208500  \n",
              "1           Y    181500  \n",
              "2           Y    223500  \n",
              "3           Y    140000  \n",
              "4           Y    250000  \n",
              "\n",
              "[5 rows x 21 columns]"
            ],
            "text/html": [
              "\n",
              "  <div id=\"df-a444fdec-0ae4-4fd2-bef7-4f228c7005a8\">\n",
              "    <div class=\"colab-df-container\">\n",
              "      <div>\n",
              "<style scoped>\n",
              "    .dataframe tbody tr th:only-of-type {\n",
              "        vertical-align: middle;\n",
              "    }\n",
              "\n",
              "    .dataframe tbody tr th {\n",
              "        vertical-align: top;\n",
              "    }\n",
              "\n",
              "    .dataframe thead th {\n",
              "        text-align: right;\n",
              "    }\n",
              "</style>\n",
              "<table border=\"1\" class=\"dataframe\">\n",
              "  <thead>\n",
              "    <tr style=\"text-align: right;\">\n",
              "      <th></th>\n",
              "      <th>MSSubClass</th>\n",
              "      <th>MSZoning</th>\n",
              "      <th>LotFrontage</th>\n",
              "      <th>LotArea</th>\n",
              "      <th>Neighborhood</th>\n",
              "      <th>BldgType</th>\n",
              "      <th>HouseStyle</th>\n",
              "      <th>OverallQual</th>\n",
              "      <th>OverallCond</th>\n",
              "      <th>YearBuilt</th>\n",
              "      <th>...</th>\n",
              "      <th>GrLivArea</th>\n",
              "      <th>BsmtFullBath</th>\n",
              "      <th>BsmtHalfBath</th>\n",
              "      <th>FullBath</th>\n",
              "      <th>HalfBath</th>\n",
              "      <th>BedroomAbvGr</th>\n",
              "      <th>Fireplaces</th>\n",
              "      <th>GarageArea</th>\n",
              "      <th>PavedDrive</th>\n",
              "      <th>SalePrice</th>\n",
              "    </tr>\n",
              "  </thead>\n",
              "  <tbody>\n",
              "    <tr>\n",
              "      <th>0</th>\n",
              "      <td>60</td>\n",
              "      <td>RL</td>\n",
              "      <td>65.0</td>\n",
              "      <td>8450</td>\n",
              "      <td>CollgCr</td>\n",
              "      <td>1Fam</td>\n",
              "      <td>2Story</td>\n",
              "      <td>7</td>\n",
              "      <td>5</td>\n",
              "      <td>2003</td>\n",
              "      <td>...</td>\n",
              "      <td>1710</td>\n",
              "      <td>1</td>\n",
              "      <td>0</td>\n",
              "      <td>2</td>\n",
              "      <td>1</td>\n",
              "      <td>3</td>\n",
              "      <td>0</td>\n",
              "      <td>548</td>\n",
              "      <td>Y</td>\n",
              "      <td>208500</td>\n",
              "    </tr>\n",
              "    <tr>\n",
              "      <th>1</th>\n",
              "      <td>20</td>\n",
              "      <td>RL</td>\n",
              "      <td>80.0</td>\n",
              "      <td>9600</td>\n",
              "      <td>Veenker</td>\n",
              "      <td>1Fam</td>\n",
              "      <td>1Story</td>\n",
              "      <td>6</td>\n",
              "      <td>8</td>\n",
              "      <td>1976</td>\n",
              "      <td>...</td>\n",
              "      <td>1262</td>\n",
              "      <td>0</td>\n",
              "      <td>1</td>\n",
              "      <td>2</td>\n",
              "      <td>0</td>\n",
              "      <td>3</td>\n",
              "      <td>1</td>\n",
              "      <td>460</td>\n",
              "      <td>Y</td>\n",
              "      <td>181500</td>\n",
              "    </tr>\n",
              "    <tr>\n",
              "      <th>2</th>\n",
              "      <td>60</td>\n",
              "      <td>RL</td>\n",
              "      <td>68.0</td>\n",
              "      <td>11250</td>\n",
              "      <td>CollgCr</td>\n",
              "      <td>1Fam</td>\n",
              "      <td>2Story</td>\n",
              "      <td>7</td>\n",
              "      <td>5</td>\n",
              "      <td>2001</td>\n",
              "      <td>...</td>\n",
              "      <td>1786</td>\n",
              "      <td>1</td>\n",
              "      <td>0</td>\n",
              "      <td>2</td>\n",
              "      <td>1</td>\n",
              "      <td>3</td>\n",
              "      <td>1</td>\n",
              "      <td>608</td>\n",
              "      <td>Y</td>\n",
              "      <td>223500</td>\n",
              "    </tr>\n",
              "    <tr>\n",
              "      <th>3</th>\n",
              "      <td>70</td>\n",
              "      <td>RL</td>\n",
              "      <td>60.0</td>\n",
              "      <td>9550</td>\n",
              "      <td>Crawfor</td>\n",
              "      <td>1Fam</td>\n",
              "      <td>2Story</td>\n",
              "      <td>7</td>\n",
              "      <td>5</td>\n",
              "      <td>1915</td>\n",
              "      <td>...</td>\n",
              "      <td>1717</td>\n",
              "      <td>1</td>\n",
              "      <td>0</td>\n",
              "      <td>1</td>\n",
              "      <td>0</td>\n",
              "      <td>3</td>\n",
              "      <td>1</td>\n",
              "      <td>642</td>\n",
              "      <td>Y</td>\n",
              "      <td>140000</td>\n",
              "    </tr>\n",
              "    <tr>\n",
              "      <th>4</th>\n",
              "      <td>60</td>\n",
              "      <td>RL</td>\n",
              "      <td>84.0</td>\n",
              "      <td>14260</td>\n",
              "      <td>NoRidge</td>\n",
              "      <td>1Fam</td>\n",
              "      <td>2Story</td>\n",
              "      <td>8</td>\n",
              "      <td>5</td>\n",
              "      <td>2000</td>\n",
              "      <td>...</td>\n",
              "      <td>2198</td>\n",
              "      <td>1</td>\n",
              "      <td>0</td>\n",
              "      <td>2</td>\n",
              "      <td>1</td>\n",
              "      <td>4</td>\n",
              "      <td>1</td>\n",
              "      <td>836</td>\n",
              "      <td>Y</td>\n",
              "      <td>250000</td>\n",
              "    </tr>\n",
              "  </tbody>\n",
              "</table>\n",
              "<p>5 rows × 21 columns</p>\n",
              "</div>\n",
              "      <button class=\"colab-df-convert\" onclick=\"convertToInteractive('df-a444fdec-0ae4-4fd2-bef7-4f228c7005a8')\"\n",
              "              title=\"Convert this dataframe to an interactive table.\"\n",
              "              style=\"display:none;\">\n",
              "        \n",
              "  <svg xmlns=\"http://www.w3.org/2000/svg\" height=\"24px\"viewBox=\"0 0 24 24\"\n",
              "       width=\"24px\">\n",
              "    <path d=\"M0 0h24v24H0V0z\" fill=\"none\"/>\n",
              "    <path d=\"M18.56 5.44l.94 2.06.94-2.06 2.06-.94-2.06-.94-.94-2.06-.94 2.06-2.06.94zm-11 1L8.5 8.5l.94-2.06 2.06-.94-2.06-.94L8.5 2.5l-.94 2.06-2.06.94zm10 10l.94 2.06.94-2.06 2.06-.94-2.06-.94-.94-2.06-.94 2.06-2.06.94z\"/><path d=\"M17.41 7.96l-1.37-1.37c-.4-.4-.92-.59-1.43-.59-.52 0-1.04.2-1.43.59L10.3 9.45l-7.72 7.72c-.78.78-.78 2.05 0 2.83L4 21.41c.39.39.9.59 1.41.59.51 0 1.02-.2 1.41-.59l7.78-7.78 2.81-2.81c.8-.78.8-2.07 0-2.86zM5.41 20L4 18.59l7.72-7.72 1.47 1.35L5.41 20z\"/>\n",
              "  </svg>\n",
              "      </button>\n",
              "      \n",
              "  <style>\n",
              "    .colab-df-container {\n",
              "      display:flex;\n",
              "      flex-wrap:wrap;\n",
              "      gap: 12px;\n",
              "    }\n",
              "\n",
              "    .colab-df-convert {\n",
              "      background-color: #E8F0FE;\n",
              "      border: none;\n",
              "      border-radius: 50%;\n",
              "      cursor: pointer;\n",
              "      display: none;\n",
              "      fill: #1967D2;\n",
              "      height: 32px;\n",
              "      padding: 0 0 0 0;\n",
              "      width: 32px;\n",
              "    }\n",
              "\n",
              "    .colab-df-convert:hover {\n",
              "      background-color: #E2EBFA;\n",
              "      box-shadow: 0px 1px 2px rgba(60, 64, 67, 0.3), 0px 1px 3px 1px rgba(60, 64, 67, 0.15);\n",
              "      fill: #174EA6;\n",
              "    }\n",
              "\n",
              "    [theme=dark] .colab-df-convert {\n",
              "      background-color: #3B4455;\n",
              "      fill: #D2E3FC;\n",
              "    }\n",
              "\n",
              "    [theme=dark] .colab-df-convert:hover {\n",
              "      background-color: #434B5C;\n",
              "      box-shadow: 0px 1px 3px 1px rgba(0, 0, 0, 0.15);\n",
              "      filter: drop-shadow(0px 1px 2px rgba(0, 0, 0, 0.3));\n",
              "      fill: #FFFFFF;\n",
              "    }\n",
              "  </style>\n",
              "\n",
              "      <script>\n",
              "        const buttonEl =\n",
              "          document.querySelector('#df-a444fdec-0ae4-4fd2-bef7-4f228c7005a8 button.colab-df-convert');\n",
              "        buttonEl.style.display =\n",
              "          google.colab.kernel.accessAllowed ? 'block' : 'none';\n",
              "\n",
              "        async function convertToInteractive(key) {\n",
              "          const element = document.querySelector('#df-a444fdec-0ae4-4fd2-bef7-4f228c7005a8');\n",
              "          const dataTable =\n",
              "            await google.colab.kernel.invokeFunction('convertToInteractive',\n",
              "                                                     [key], {});\n",
              "          if (!dataTable) return;\n",
              "\n",
              "          const docLinkHtml = 'Like what you see? Visit the ' +\n",
              "            '<a target=\"_blank\" href=https://colab.research.google.com/notebooks/data_table.ipynb>data table notebook</a>'\n",
              "            + ' to learn more about interactive tables.';\n",
              "          element.innerHTML = '';\n",
              "          dataTable['output_type'] = 'display_data';\n",
              "          await google.colab.output.renderOutput(dataTable, element);\n",
              "          const docLink = document.createElement('div');\n",
              "          docLink.innerHTML = docLinkHtml;\n",
              "          element.appendChild(docLink);\n",
              "        }\n",
              "      </script>\n",
              "    </div>\n",
              "  </div>\n",
              "  "
            ]
          },
          "metadata": {},
          "execution_count": 3
        }
      ]
    },
    {
      "cell_type": "code",
      "source": [
        "from sklearn.preprocessing import LabelEncoder\n",
        "\n",
        "# Fill missing values with 0\n",
        "df.LotFrontage = df.LotFrontage.fillna(0)\n",
        "\n",
        "# Create a boolean mask for categorical columns\n",
        "categorical_mask = (df.dtypes == 'object')\n",
        "\n",
        "# Get list of categrocial columns names\n",
        "categorical_columns = df.columns[categorical_mask].tolist()\n",
        "\n",
        "# Create LabelEncoder object\n",
        "le = LabelEncoder()\n",
        "\n",
        "# Apply LabelEncode to categorical columns\n",
        "df[categorical_columns] = df[categorical_columns].apply(lambda x:le.fit_transform(x))\n",
        "\n",
        "print(df[categorical_columns].head())"
      ],
      "metadata": {
        "colab": {
          "base_uri": "https://localhost:8080/"
        },
        "id": "Wng6GnlCj-7o",
        "outputId": "89cb1343-637a-4ea3-b634-762406e86e10"
      },
      "execution_count": 4,
      "outputs": [
        {
          "output_type": "stream",
          "name": "stdout",
          "text": [
            "   MSZoning  Neighborhood  BldgType  HouseStyle  PavedDrive\n",
            "0         3             5         0           5           2\n",
            "1         3            24         0           2           2\n",
            "2         3             5         0           5           2\n",
            "3         3             6         0           5           2\n",
            "4         3            15         0           5           2\n"
          ]
        }
      ]
    },
    {
      "cell_type": "markdown",
      "source": [
        "### 2. OneHotEncoder"
      ],
      "metadata": {
        "id": "lI8CrFRNl2lI"
      }
    },
    {
      "cell_type": "code",
      "source": [
        "from sklearn.preprocessing import OneHotEncoder\n",
        "from sklearn.compose import make_column_transformer\n",
        "\n",
        "df = pd.read_csv('ames_unprocessed_data.csv')\n",
        "\n",
        "# Fill missing values with 0\n",
        "df.LotFrontage = df.LotFrontage.fillna(0)\n",
        "\n",
        "# Create a boolean mask for categorical columns\n",
        "categorical_mask = (df.dtypes == 'object')\n",
        "\n",
        "# Get list of categorical columns names\n",
        "categorical_columns = df.columns[categorical_mask].tolist()\n",
        "\n",
        "# Generate unique list of each categorical columns\n",
        "unique_list = [df[c].unique().tolist() for c in categorical_columns]\n",
        "\n",
        "# Create OneHotEncoder: ohe\n",
        "ohe = OneHotEncoder(categories=unique_list)\n",
        "\n",
        "# Create preprocess object for onehotencoding\n",
        "preprocess = make_column_transformer(\n",
        "    (ohe, categorical_columns),\n",
        "    ('passthrough', categorical_mask[~categorical_mask].index.tolist())\n",
        ")\n",
        "\n",
        "# apply OneHotEncoder to categorical columns - output is no longer a dataframe: df_encoded\n",
        "df_encoded = preprocess.fit_transform(df)\n",
        "\n",
        "\n",
        "# Print the shape fo the original DataFrame\n",
        "print(df.shape)"
      ],
      "metadata": {
        "colab": {
          "base_uri": "https://localhost:8080/"
        },
        "id": "fUMdbhWglUvr",
        "outputId": "8395c0e3-6bb4-4aa7-995b-f47dd24bd7ac"
      },
      "execution_count": 7,
      "outputs": [
        {
          "output_type": "stream",
          "name": "stdout",
          "text": [
            "(1460, 21)\n"
          ]
        }
      ]
    },
    {
      "cell_type": "markdown",
      "source": [
        "### 3. DictVectorizer\n",
        "\n",
        "Using a **DictVectorizer** on a Dataframe that has been converted to a dictionary allows you to get label encoding as well as one-hot encoding"
      ],
      "metadata": {
        "id": "Si5ZdC6rm_aA"
      }
    },
    {
      "cell_type": "code",
      "source": [
        "from sklearn.feature_extraction import DictVectorizer\n",
        "\n",
        "# Convert df into a dictionary: df_dict\n",
        "df_dict = df.to_dict(\"records\")\n",
        "\n",
        "# Create the DictVectorizer object: dv\n",
        "dv = DictVectorizer(sparse=False)\n",
        "\n",
        "# Apply dv on df: df_encoded\n",
        "df_encoded2 = dv.fit_transform(df_dict)\n",
        "\n",
        "# Print the vocabulary\n",
        "print(dv.vocabulary_)"
      ],
      "metadata": {
        "colab": {
          "base_uri": "https://localhost:8080/"
        },
        "id": "wqhmd9ncm33k",
        "outputId": "e95f1adf-bd4e-4565-ffcd-eceae050a758"
      },
      "execution_count": 8,
      "outputs": [
        {
          "output_type": "stream",
          "name": "stdout",
          "text": [
            "{'MSSubClass': 23, 'MSZoning=RL': 27, 'LotFrontage': 22, 'LotArea': 21, 'Neighborhood=CollgCr': 34, 'BldgType=1Fam': 1, 'HouseStyle=2Story': 18, 'OverallQual': 55, 'OverallCond': 54, 'YearBuilt': 61, 'Remodeled': 59, 'GrLivArea': 11, 'BsmtFullBath': 6, 'BsmtHalfBath': 7, 'FullBath': 9, 'HalfBath': 12, 'BedroomAbvGr': 0, 'Fireplaces': 8, 'GarageArea': 10, 'PavedDrive=Y': 58, 'SalePrice': 60, 'Neighborhood=Veenker': 53, 'HouseStyle=1Story': 15, 'Neighborhood=Crawfor': 35, 'Neighborhood=NoRidge': 44, 'Neighborhood=Mitchel': 40, 'HouseStyle=1.5Fin': 13, 'Neighborhood=Somerst': 50, 'Neighborhood=NWAmes': 43, 'MSZoning=RM': 28, 'Neighborhood=OldTown': 46, 'Neighborhood=BrkSide': 32, 'BldgType=2fmCon': 2, 'HouseStyle=1.5Unf': 14, 'Neighborhood=Sawyer': 48, 'Neighborhood=NridgHt': 45, 'Neighborhood=NAmes': 41, 'BldgType=Duplex': 3, 'Neighborhood=SawyerW': 49, 'Neighborhood=IDOTRR': 38, 'PavedDrive=N': 56, 'Neighborhood=MeadowV': 39, 'BldgType=TwnhsE': 5, 'MSZoning=C (all)': 24, 'Neighborhood=Edwards': 36, 'Neighborhood=Timber': 52, 'PavedDrive=P': 57, 'HouseStyle=SFoyer': 19, 'MSZoning=FV': 25, 'Neighborhood=Gilbert': 37, 'HouseStyle=SLvl': 20, 'BldgType=Twnhs': 4, 'Neighborhood=StoneBr': 51, 'HouseStyle=2.5Unf': 17, 'Neighborhood=ClearCr': 33, 'Neighborhood=NPkVill': 42, 'HouseStyle=2.5Fin': 16, 'Neighborhood=Blmngtn': 29, 'Neighborhood=BrDale': 31, 'Neighborhood=SWISU': 47, 'MSZoning=RH': 26, 'Neighborhood=Blueste': 30}\n"
          ]
        }
      ]
    },
    {
      "cell_type": "markdown",
      "source": [
        "### 4. Preprocessing within a pipeline"
      ],
      "metadata": {
        "id": "_a5b91PKnmYa"
      }
    },
    {
      "cell_type": "code",
      "source": [
        "X, y = df.iloc[:, :-1], df.iloc[:, -1]\n",
        "\n",
        "from sklearn.pipeline import Pipeline\n",
        "\n",
        "# Fill LotFrontage missing values with 0\n",
        "X.LotFrontage = X.LotFrontage.fillna(0)\n",
        "\n",
        "# Setup the pipeline steps: steps\n",
        "steps = [('ohe_onestep', DictVectorizer(sparse=False)),\n",
        "         ('xgb_model', xgb.XGBRegressor())]\n",
        "\n",
        "# Create the pipeline: xgb_pipeline\n",
        "xgb_pipeline = Pipeline(steps)\n",
        "\n",
        "# Fit the pipeline\n",
        "xgb_pipeline.fit(X.to_dict(\"records\"), y)"
      ],
      "metadata": {
        "colab": {
          "base_uri": "https://localhost:8080/"
        },
        "id": "0GvaOkaZnHgf",
        "outputId": "f58806dc-9780-4c77-baa1-9534ac38c782"
      },
      "execution_count": 9,
      "outputs": [
        {
          "output_type": "stream",
          "name": "stdout",
          "text": [
            "[20:52:08] WARNING: /workspace/src/objective/regression_obj.cu:152: reg:linear is now deprecated in favor of reg:squarederror.\n"
          ]
        },
        {
          "output_type": "execute_result",
          "data": {
            "text/plain": [
              "Pipeline(steps=[('ohe_onestep', DictVectorizer(sparse=False)),\n",
              "                ('xgb_model', XGBRegressor())])"
            ]
          },
          "metadata": {},
          "execution_count": 9
        }
      ]
    },
    {
      "cell_type": "markdown",
      "source": [
        "### 5. Cross-validating XGBoost model"
      ],
      "metadata": {
        "id": "PJ-oGALAol0O"
      }
    },
    {
      "cell_type": "code",
      "source": [
        "from sklearn.feature_extraction import DictVectorizer\n",
        "from sklearn.pipeline import Pipeline\n",
        "from sklearn.model_selection import cross_val_score\n",
        "\n",
        "# Fill LotFrontage missing values with 0\n",
        "X.LotFrontage = X.LotFrontage.fillna(0)\n",
        "\n",
        "# Setup the pipeline steps: steps\n",
        "steps = [(\"ohe_onestep\", DictVectorizer(sparse=False)),\n",
        "         (\"xgb_model\", xgb.XGBRegressor(max_depth=2, objective='reg:squarederror'))]\n",
        "\n",
        "# Create the pipeline: xgb_pipeline\n",
        "xgb_pipeline = Pipeline(steps)\n",
        "\n",
        "# Cross-validate the model\n",
        "cross_val_scores = cross_val_score(xgb_pipeline, X.to_dict('records'), y, \n",
        "                                   scoring='neg_mean_squared_error', cv=10)\n",
        "\n",
        "# Print the 10-fold RMSE\n",
        "print(\"10-fold RMSE: \", np.mean(np.sqrt(np.abs(cross_val_scores))))"
      ],
      "metadata": {
        "colab": {
          "base_uri": "https://localhost:8080/"
        },
        "id": "mZ9TuR6PnszR",
        "outputId": "a93c564b-f6cd-4839-826a-9b9b1fc3201e"
      },
      "execution_count": 10,
      "outputs": [
        {
          "output_type": "stream",
          "name": "stdout",
          "text": [
            "10-fold RMSE:  29867.603720688923\n"
          ]
        }
      ]
    },
    {
      "cell_type": "code",
      "source": [],
      "metadata": {
        "id": "jlisvu3wosSt"
      },
      "execution_count": null,
      "outputs": []
    }
  ]
}
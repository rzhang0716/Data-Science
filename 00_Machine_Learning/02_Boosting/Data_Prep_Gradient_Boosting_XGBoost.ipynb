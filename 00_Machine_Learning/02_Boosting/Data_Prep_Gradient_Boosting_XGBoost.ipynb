{
  "nbformat": 4,
  "nbformat_minor": 0,
  "metadata": {
    "colab": {
      "provenance": []
    },
    "kernelspec": {
      "name": "python3",
      "display_name": "Python 3"
    },
    "language_info": {
      "name": "python"
    }
  },
  "cells": [
    {
      "cell_type": "markdown",
      "source": [
        "# Data Preparation for Gradient Boosting\n",
        "\n",
        "As XGBoost models represent all problems as a regression predictive modeling problem that only takes numerical values as input. Therefore, we need to convert data into the expected format"
      ],
      "metadata": {
        "id": "P5A0Q3CWP5V9"
      }
    },
    {
      "cell_type": "markdown",
      "source": [
        "## 1. Label Encodes String Class Values\n",
        "\n",
        "Here, we used the iris dataset as sample data\n",
        "\n",
        "We can easily convert the string values to integer values using the ***LabelEncoder***"
      ],
      "metadata": {
        "id": "h9a1hoMGQSSG"
      }
    },
    {
      "cell_type": "code",
      "execution_count": 11,
      "metadata": {
        "id": "-r2pNamzPWtH"
      },
      "outputs": [],
      "source": [
        "# Load packages\n",
        "import pandas as pd\n",
        "import xgboost as xgb\n",
        "from sklearn.model_selection import train_test_split\n",
        "from sklearn.metrics import accuracy_score\n",
        "from sklearn.preprocessing import LabelEncoder"
      ]
    },
    {
      "cell_type": "code",
      "source": [
        "# Load data\n",
        "data = pd.read_csv('iris.csv', header=None)\n",
        "dataset = data.values\n",
        "\n",
        "# Split data into X and y \n",
        "X = dataset[:,0:4]\n",
        "y = dataset[:,4]"
      ],
      "metadata": {
        "id": "UbklF_uqRA__"
      },
      "execution_count": 9,
      "outputs": []
    },
    {
      "cell_type": "code",
      "source": [
        "# Encode String calss values as integers\n",
        "label_encoder = LabelEncoder()\n",
        "label_encoder = label_encoder.fit(y)\n",
        "label_encoded_y = label_encoder.transform(y)"
      ],
      "metadata": {
        "id": "F-CwngTjRYAu"
      },
      "execution_count": 12,
      "outputs": []
    },
    {
      "cell_type": "code",
      "source": [
        "# Fit the model\n",
        "X_train, X_test, y_train, y_test = train_test_split(X, label_encoded_y, test_size=0.3, random_state=666)\n",
        "model = xgb.XGBClassifier()\n",
        "model.fit(X_train, y_train)\n",
        "print(model)"
      ],
      "metadata": {
        "colab": {
          "base_uri": "https://localhost:8080/"
        },
        "id": "QI1LqLATSCtx",
        "outputId": "ef11f23f-cced-4e03-f1f1-5fb99639bf84"
      },
      "execution_count": 24,
      "outputs": [
        {
          "output_type": "stream",
          "name": "stdout",
          "text": [
            "XGBClassifier(objective='multi:softprob')\n"
          ]
        }
      ]
    },
    {
      "cell_type": "code",
      "source": [
        "# Predict\n",
        "y_pred = model.predict(X_test)\n",
        "predictions = [round(value) for value in y_pred]"
      ],
      "metadata": {
        "id": "vWhuy77KSjmY"
      },
      "execution_count": 25,
      "outputs": []
    },
    {
      "cell_type": "code",
      "source": [
        "# Evaluate\n",
        "accuracy = accuracy_score(y_test, predictions)\n",
        "print(accuracy)"
      ],
      "metadata": {
        "colab": {
          "base_uri": "https://localhost:8080/"
        },
        "id": "S_HqOaBWSrzm",
        "outputId": "7df00930-4716-4967-a8b3-a371168e76d7"
      },
      "execution_count": 26,
      "outputs": [
        {
          "output_type": "stream",
          "name": "stdout",
          "text": [
            "0.9777777777777777\n"
          ]
        }
      ]
    },
    {
      "cell_type": "markdown",
      "source": [
        "## 2. One Hot Encode Categorical Data\n",
        "\n",
        "One-Hot encoder used on the label encoded variable"
      ],
      "metadata": {
        "id": "f92nnd_KTDDI"
      }
    },
    {
      "cell_type": "code",
      "source": [
        "import numpy as np\n",
        "import pandas as pd\n",
        "from sklearn.preprocessing import OneHotEncoder"
      ],
      "metadata": {
        "id": "2zfy53n3SxD2"
      },
      "execution_count": 27,
      "outputs": []
    },
    {
      "cell_type": "code",
      "source": [
        "# Load the data\n",
        "data = pd.read_csv('breast-cancer.csv', header=None)\n",
        "dataset = data.values\n",
        "\n",
        "# Split data into X and y\n",
        "X = dataset[:, 0:9]\n",
        "X = X.astype(str)\n",
        "Y = dataset[:, 9]"
      ],
      "metadata": {
        "id": "qqzJ60h-UUhI"
      },
      "execution_count": 28,
      "outputs": []
    },
    {
      "cell_type": "code",
      "source": [
        "# Encode string input values as integers\n",
        "encoded_x = None\n",
        "for i in range(0, X.shape[1]):\n",
        "  label_encoder = LabelEncoder()\n",
        "  feature = label_encoder.fit_transform(X[:,i])\n",
        "  feature = feature.reshape(X.shape[0], 1)\n",
        "  onehot_encoder = OneHotEncoder(sparse=False, categories=\"auto\")\n",
        "  feature = onehot_encoder.fit_transform(feature)\n",
        "\n",
        "  if encoded_x is None:\n",
        "    encoded_x = feature\n",
        "  else:\n",
        "    encoded_x = np.concatenate((encoded_x, feature), axis=1)\n",
        "print(\"X shape: \", encoded_x.shape)"
      ],
      "metadata": {
        "colab": {
          "base_uri": "https://localhost:8080/"
        },
        "id": "Gn4dGO4KUnKg",
        "outputId": "7f534fdd-e154-4c34-d0fb-ce8cb05ee0f4"
      },
      "execution_count": 30,
      "outputs": [
        {
          "output_type": "stream",
          "name": "stdout",
          "text": [
            "X shape:  (286, 43)\n"
          ]
        }
      ]
    },
    {
      "cell_type": "code",
      "source": [
        "# encode string class values as integers\n",
        "label_encoder = LabelEncoder()\n",
        "label_encoder = label_encoder.fit(Y)\n",
        "label_encoded_y = label_encoder.transform(Y)\n"
      ],
      "metadata": {
        "id": "4Jo0wvbFVnO8"
      },
      "execution_count": 32,
      "outputs": []
    },
    {
      "cell_type": "code",
      "source": [
        "# split data into train and test sets\n",
        "X_train, X_test, y_train, y_test = train_test_split(encoded_x, label_encoded_y, test_size=0.33, random_state=1)\n",
        "# fit the model\n",
        "model = xgb.XGBClassifier()\n",
        "model.fit(X_train, y_train)\n",
        "print(model)\n",
        "# make predictions for test data\n",
        "y_pred = model.predict(X_test)\n",
        "predictions = [round(value) for value in y_pred]\n",
        "# evaluate predictions\n",
        "accuracy = accuracy_score(y_test, predictions)\n",
        "print(\"Accuracy: %.2f%%\" % (accuracy * 100.0))"
      ],
      "metadata": {
        "colab": {
          "base_uri": "https://localhost:8080/"
        },
        "id": "UDyM2dOhVWNT",
        "outputId": "9d5da3ce-36e7-4c1b-89e1-4d93fa34072d"
      },
      "execution_count": 33,
      "outputs": [
        {
          "output_type": "stream",
          "name": "stdout",
          "text": [
            "XGBClassifier()\n",
            "Accuracy: 71.58%\n"
          ]
        }
      ]
    },
    {
      "cell_type": "markdown",
      "source": [
        "## 3. Support for Missing Data\n",
        "\n",
        "XGBoost can automatically learn how to best handle missing data. \n",
        "\n",
        "Missing data is handled the same way that sparse or zero values are handled, by minimizing the loss function"
      ],
      "metadata": {
        "id": "azfpTx91WI6n"
      }
    },
    {
      "cell_type": "code",
      "source": [
        "from pandas import read_csv\n",
        "from xgboost import XGBClassifier\n",
        "from sklearn.model_selection import train_test_split\n",
        "from sklearn.metrics import accuracy_score\n",
        "from sklearn.preprocessing import LabelEncoder\n",
        "# load data\n",
        "dataframe = read_csv(\"horse-colic.csv\", delim_whitespace=True, header=None)\n",
        "dataset = dataframe.values\n",
        "# split data into X and y\n",
        "X = dataset[:,0:27]\n",
        "Y = dataset[:,27]\n",
        "# set missing values to 0\n",
        "X[X == '?'] = 0\n",
        "# convert to numeric\n",
        "X = X.astype('float32')\n",
        "# encode Y class values as integers\n",
        "label_encoder = LabelEncoder()\n",
        "label_encoder = label_encoder.fit(Y)\n",
        "label_encoded_y = label_encoder.transform(Y)\n",
        "# split data into train and test sets\n",
        "seed = 7\n",
        "test_size = 0.33\n",
        "X_train, X_test, y_train, y_test = train_test_split(X, label_encoded_y, test_size=test_size, random_state=seed)\n",
        "# fit model no training data\n",
        "model = XGBClassifier()\n",
        "model.fit(X_train, y_train)\n",
        "print(model)\n",
        "# make predictions for test data\n",
        "y_pred = model.predict(X_test)\n",
        "predictions = [round(value) for value in y_pred]\n",
        "# evaluate predictions\n",
        "accuracy = accuracy_score(y_test, predictions)\n",
        "print(\"Accuracy: %.2f%%\" % (accuracy * 100.0))"
      ],
      "metadata": {
        "colab": {
          "base_uri": "https://localhost:8080/"
        },
        "id": "Diq5hnNDVh1K",
        "outputId": "da9f9e9e-e715-444a-f6e9-5aaa0d0d4b5e"
      },
      "execution_count": 37,
      "outputs": [
        {
          "output_type": "stream",
          "name": "stdout",
          "text": [
            "XGBClassifier()\n",
            "Accuracy: 83.84%\n"
          ]
        }
      ]
    },
    {
      "cell_type": "markdown",
      "source": [
        "Use ***SimpleImputer*** handle missing data, default is mean"
      ],
      "metadata": {
        "id": "N8Evv_HPbxdC"
      }
    },
    {
      "cell_type": "code",
      "source": [
        "\n",
        "# binary classification, missing data, impute with mean\n",
        "import numpy\n",
        "from pandas import read_csv\n",
        "from xgboost import XGBClassifier\n",
        "from sklearn.model_selection import train_test_split\n",
        "from sklearn.metrics import accuracy_score\n",
        "from sklearn.preprocessing import LabelEncoder\n",
        "from sklearn.impute import SimpleImputer\n",
        "# load data\n",
        "dataframe = read_csv(\"horse-colic.csv\", delim_whitespace=True, header=None)\n",
        "dataset = dataframe.values\n",
        "# split data into X and y\n",
        "X = dataset[:,0:27]\n",
        "Y = dataset[:,27]\n",
        "# set missing values to 0\n",
        "X[X == '?'] = numpy.nan\n",
        "# convert to numeric\n",
        "X = X.astype('float32')\n",
        "# impute missing values as the mean\n",
        "imputer = SimpleImputer()\n",
        "imputed_x = imputer.fit_transform(X)\n",
        "# encode Y class values as integers\n",
        "label_encoder = LabelEncoder()\n",
        "label_encoder = label_encoder.fit(Y)\n",
        "label_encoded_y = label_encoder.transform(Y)\n",
        "# split data into train and test sets\n",
        "seed = 7\n",
        "test_size = 0.33\n",
        "X_train, X_test, y_train, y_test = train_test_split(imputed_x, label_encoded_y, test_size=test_size, random_state=seed)\n",
        "# fit model no training data\n",
        "model = XGBClassifier()\n",
        "model.fit(X_train, y_train)\n",
        "print(model)\n",
        "# make predictions for test data\n",
        "y_pred = model.predict(X_test)\n",
        "predictions = [round(value) for value in y_pred]\n",
        "# evaluate predictions\n",
        "accuracy = accuracy_score(y_test, predictions)\n",
        "print(\"Accuracy: %.2f%%\" % (accuracy * 100.0))"
      ],
      "metadata": {
        "colab": {
          "base_uri": "https://localhost:8080/"
        },
        "id": "ogIjzvKQcBWO",
        "outputId": "d3280172-8d04-4e9f-d694-b1591a908a33"
      },
      "execution_count": 38,
      "outputs": [
        {
          "output_type": "stream",
          "name": "stdout",
          "text": [
            "XGBClassifier()\n",
            "Accuracy: 79.80%\n"
          ]
        }
      ]
    },
    {
      "cell_type": "markdown",
      "source": [
        "Reference:\n",
        "\n",
        "https://machinelearningmastery.com/data-preparation-gradient-boosting-xgboost-python/"
      ],
      "metadata": {
        "id": "vxSC6MFqbpfS"
      }
    }
  ]
}
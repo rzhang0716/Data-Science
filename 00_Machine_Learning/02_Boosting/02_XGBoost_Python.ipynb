{
  "nbformat": 4,
  "nbformat_minor": 0,
  "metadata": {
    "colab": {
      "provenance": []
    },
    "kernelspec": {
      "name": "python3",
      "display_name": "Python 3"
    },
    "language_info": {
      "name": "python"
    }
  },
  "cells": [
    {
      "cell_type": "markdown",
      "source": [
        "# 1. Data Preparation for Gradient Boosting\n",
        "\n",
        "As XGBoost models represent all problems as a regression predictive modeling problem that only takes numerical values as input. Therefore, we need to convert data into the expected format"
      ],
      "metadata": {
        "id": "P5A0Q3CWP5V9"
      }
    },
    {
      "cell_type": "markdown",
      "source": [
        "## 1.1 Label Encodes String Class Values\n",
        "\n",
        "Here, we used the iris dataset as sample data\n",
        "\n",
        "We can easily convert the string values to integer values using the ***LabelEncoder***"
      ],
      "metadata": {
        "id": "h9a1hoMGQSSG"
      }
    },
    {
      "cell_type": "code",
      "execution_count": null,
      "metadata": {
        "id": "-r2pNamzPWtH"
      },
      "outputs": [],
      "source": [
        "# Load packages\n",
        "import pandas as pd\n",
        "import xgboost as xgb\n",
        "from sklearn.model_selection import train_test_split\n",
        "from sklearn.metrics import accuracy_score\n",
        "from sklearn.preprocessing import LabelEncoder"
      ]
    },
    {
      "cell_type": "code",
      "source": [
        "# Load data\n",
        "data = pd.read_csv('iris.csv', header=None)\n",
        "dataset = data.values\n",
        "\n",
        "# Split data into X and y \n",
        "X = dataset[:,0:4]\n",
        "y = dataset[:,4]"
      ],
      "metadata": {
        "id": "UbklF_uqRA__"
      },
      "execution_count": null,
      "outputs": []
    },
    {
      "cell_type": "code",
      "source": [
        "# Encode String calss values as integers\n",
        "label_encoder = LabelEncoder()\n",
        "label_encoder = label_encoder.fit(y)\n",
        "label_encoded_y = label_encoder.transform(y)"
      ],
      "metadata": {
        "id": "F-CwngTjRYAu"
      },
      "execution_count": null,
      "outputs": []
    },
    {
      "cell_type": "code",
      "source": [
        "# Fit the model\n",
        "X_train, X_test, y_train, y_test = train_test_split(X, label_encoded_y, test_size=0.3, random_state=666)\n",
        "model = xgb.XGBClassifier()\n",
        "model.fit(X_train, y_train)\n",
        "print(model)"
      ],
      "metadata": {
        "colab": {
          "base_uri": "https://localhost:8080/"
        },
        "id": "QI1LqLATSCtx",
        "outputId": "ef11f23f-cced-4e03-f1f1-5fb99639bf84"
      },
      "execution_count": null,
      "outputs": [
        {
          "output_type": "stream",
          "name": "stdout",
          "text": [
            "XGBClassifier(objective='multi:softprob')\n"
          ]
        }
      ]
    },
    {
      "cell_type": "code",
      "source": [
        "# Predict\n",
        "y_pred = model.predict(X_test)\n",
        "predictions = [round(value) for value in y_pred]"
      ],
      "metadata": {
        "id": "vWhuy77KSjmY"
      },
      "execution_count": null,
      "outputs": []
    },
    {
      "cell_type": "code",
      "source": [
        "# Evaluate\n",
        "accuracy = accuracy_score(y_test, predictions)\n",
        "print(accuracy)"
      ],
      "metadata": {
        "colab": {
          "base_uri": "https://localhost:8080/"
        },
        "id": "S_HqOaBWSrzm",
        "outputId": "7df00930-4716-4967-a8b3-a371168e76d7"
      },
      "execution_count": null,
      "outputs": [
        {
          "output_type": "stream",
          "name": "stdout",
          "text": [
            "0.9777777777777777\n"
          ]
        }
      ]
    },
    {
      "cell_type": "markdown",
      "source": [
        "## 1.2 One Hot Encode Categorical Data\n",
        "\n",
        "One-Hot encoder used on the label encoded variable"
      ],
      "metadata": {
        "id": "f92nnd_KTDDI"
      }
    },
    {
      "cell_type": "code",
      "source": [
        "import numpy as np\n",
        "import pandas as pd\n",
        "from sklearn.preprocessing import OneHotEncoder"
      ],
      "metadata": {
        "id": "2zfy53n3SxD2"
      },
      "execution_count": null,
      "outputs": []
    },
    {
      "cell_type": "code",
      "source": [
        "# Load the data\n",
        "data = pd.read_csv('breast-cancer.csv', header=None)\n",
        "dataset = data.values\n",
        "\n",
        "# Split data into X and y\n",
        "X = dataset[:, 0:9]\n",
        "X = X.astype(str)\n",
        "Y = dataset[:, 9]"
      ],
      "metadata": {
        "id": "qqzJ60h-UUhI"
      },
      "execution_count": null,
      "outputs": []
    },
    {
      "cell_type": "code",
      "source": [
        "# Encode string input values as integers\n",
        "encoded_x = None\n",
        "for i in range(0, X.shape[1]):\n",
        "  label_encoder = LabelEncoder()\n",
        "  feature = label_encoder.fit_transform(X[:,i])\n",
        "  feature = feature.reshape(X.shape[0], 1)\n",
        "  onehot_encoder = OneHotEncoder(sparse=False, categories=\"auto\")\n",
        "  feature = onehot_encoder.fit_transform(feature)\n",
        "\n",
        "  if encoded_x is None:\n",
        "    encoded_x = feature\n",
        "  else:\n",
        "    encoded_x = np.concatenate((encoded_x, feature), axis=1)\n",
        "print(\"X shape: \", encoded_x.shape)"
      ],
      "metadata": {
        "colab": {
          "base_uri": "https://localhost:8080/"
        },
        "id": "Gn4dGO4KUnKg",
        "outputId": "7f534fdd-e154-4c34-d0fb-ce8cb05ee0f4"
      },
      "execution_count": null,
      "outputs": [
        {
          "output_type": "stream",
          "name": "stdout",
          "text": [
            "X shape:  (286, 43)\n"
          ]
        }
      ]
    },
    {
      "cell_type": "code",
      "source": [
        "# encode string class values as integers\n",
        "label_encoder = LabelEncoder()\n",
        "label_encoder = label_encoder.fit(Y)\n",
        "label_encoded_y = label_encoder.transform(Y)\n"
      ],
      "metadata": {
        "id": "4Jo0wvbFVnO8"
      },
      "execution_count": null,
      "outputs": []
    },
    {
      "cell_type": "code",
      "source": [
        "# split data into train and test sets\n",
        "X_train, X_test, y_train, y_test = train_test_split(encoded_x, label_encoded_y, test_size=0.33, random_state=1)\n",
        "# fit the model\n",
        "model = xgb.XGBClassifier()\n",
        "model.fit(X_train, y_train)\n",
        "print(model)\n",
        "# make predictions for test data\n",
        "y_pred = model.predict(X_test)\n",
        "predictions = [round(value) for value in y_pred]\n",
        "# evaluate predictions\n",
        "accuracy = accuracy_score(y_test, predictions)\n",
        "print(\"Accuracy: %.2f%%\" % (accuracy * 100.0))"
      ],
      "metadata": {
        "colab": {
          "base_uri": "https://localhost:8080/"
        },
        "id": "UDyM2dOhVWNT",
        "outputId": "9d5da3ce-36e7-4c1b-89e1-4d93fa34072d"
      },
      "execution_count": null,
      "outputs": [
        {
          "output_type": "stream",
          "name": "stdout",
          "text": [
            "XGBClassifier()\n",
            "Accuracy: 71.58%\n"
          ]
        }
      ]
    },
    {
      "cell_type": "markdown",
      "source": [
        "## 1.3 Support for Missing Data\n",
        "\n",
        "XGBoost can automatically learn how to best handle missing data. \n",
        "\n",
        "Missing data is handled the same way that sparse or zero values are handled, by minimizing the loss function"
      ],
      "metadata": {
        "id": "azfpTx91WI6n"
      }
    },
    {
      "cell_type": "code",
      "source": [
        "from pandas import read_csv\n",
        "from xgboost import XGBClassifier\n",
        "from sklearn.model_selection import train_test_split\n",
        "from sklearn.metrics import accuracy_score\n",
        "from sklearn.preprocessing import LabelEncoder\n",
        "# load data\n",
        "dataframe = read_csv(\"horse-colic.csv\", delim_whitespace=True, header=None)\n",
        "dataset = dataframe.values\n",
        "# split data into X and y\n",
        "X = dataset[:,0:27]\n",
        "Y = dataset[:,27]\n",
        "# set missing values to 0\n",
        "X[X == '?'] = 0\n",
        "# convert to numeric\n",
        "X = X.astype('float32')\n",
        "# encode Y class values as integers\n",
        "label_encoder = LabelEncoder()\n",
        "label_encoder = label_encoder.fit(Y)\n",
        "label_encoded_y = label_encoder.transform(Y)\n",
        "# split data into train and test sets\n",
        "seed = 7\n",
        "test_size = 0.33\n",
        "X_train, X_test, y_train, y_test = train_test_split(X, label_encoded_y, test_size=test_size, random_state=seed)\n",
        "# fit model no training data\n",
        "model = XGBClassifier()\n",
        "model.fit(X_train, y_train)\n",
        "print(model)\n",
        "# make predictions for test data\n",
        "y_pred = model.predict(X_test)\n",
        "predictions = [round(value) for value in y_pred]\n",
        "# evaluate predictions\n",
        "accuracy = accuracy_score(y_test, predictions)\n",
        "print(\"Accuracy: %.2f%%\" % (accuracy * 100.0))"
      ],
      "metadata": {
        "colab": {
          "base_uri": "https://localhost:8080/"
        },
        "id": "Diq5hnNDVh1K",
        "outputId": "da9f9e9e-e715-444a-f6e9-5aaa0d0d4b5e"
      },
      "execution_count": null,
      "outputs": [
        {
          "output_type": "stream",
          "name": "stdout",
          "text": [
            "XGBClassifier()\n",
            "Accuracy: 83.84%\n"
          ]
        }
      ]
    },
    {
      "cell_type": "markdown",
      "source": [
        "Use ***SimpleImputer*** handle missing data, default is mean"
      ],
      "metadata": {
        "id": "N8Evv_HPbxdC"
      }
    },
    {
      "cell_type": "code",
      "source": [
        "\n",
        "# binary classification, missing data, impute with mean\n",
        "import numpy\n",
        "from pandas import read_csv\n",
        "from xgboost import XGBClassifier\n",
        "from sklearn.model_selection import train_test_split\n",
        "from sklearn.metrics import accuracy_score\n",
        "from sklearn.preprocessing import LabelEncoder\n",
        "from sklearn.impute import SimpleImputer\n",
        "# load data\n",
        "dataframe = read_csv(\"horse-colic.csv\", delim_whitespace=True, header=None)\n",
        "dataset = dataframe.values\n",
        "# split data into X and y\n",
        "X = dataset[:,0:27]\n",
        "Y = dataset[:,27]\n",
        "# set missing values to 0\n",
        "X[X == '?'] = numpy.nan\n",
        "# convert to numeric\n",
        "X = X.astype('float32')\n",
        "# impute missing values as the mean\n",
        "imputer = SimpleImputer()\n",
        "imputed_x = imputer.fit_transform(X)\n",
        "# encode Y class values as integers\n",
        "label_encoder = LabelEncoder()\n",
        "label_encoder = label_encoder.fit(Y)\n",
        "label_encoded_y = label_encoder.transform(Y)\n",
        "# split data into train and test sets\n",
        "seed = 7\n",
        "test_size = 0.33\n",
        "X_train, X_test, y_train, y_test = train_test_split(imputed_x, label_encoded_y, test_size=test_size, random_state=seed)\n",
        "# fit model no training data\n",
        "model = XGBClassifier()\n",
        "model.fit(X_train, y_train)\n",
        "print(model)\n",
        "# make predictions for test data\n",
        "y_pred = model.predict(X_test)\n",
        "predictions = [round(value) for value in y_pred]\n",
        "# evaluate predictions\n",
        "accuracy = accuracy_score(y_test, predictions)\n",
        "print(\"Accuracy: %.2f%%\" % (accuracy * 100.0))"
      ],
      "metadata": {
        "colab": {
          "base_uri": "https://localhost:8080/"
        },
        "id": "ogIjzvKQcBWO",
        "outputId": "d3280172-8d04-4e9f-d694-b1591a908a33"
      },
      "execution_count": null,
      "outputs": [
        {
          "output_type": "stream",
          "name": "stdout",
          "text": [
            "XGBClassifier()\n",
            "Accuracy: 79.80%\n"
          ]
        }
      ]
    },
    {
      "cell_type": "markdown",
      "source": [
        "---"
      ],
      "metadata": {
        "id": "cN9hpUWC5tdB"
      }
    },
    {
      "cell_type": "markdown",
      "source": [
        "# 2. XGBoost Basics"
      ],
      "metadata": {
        "id": "t3nfaY2h5vJb"
      }
    },
    {
      "cell_type": "code",
      "source": [
        "import xgboost\n",
        "print(xgboost.__version__)"
      ],
      "metadata": {
        "id": "6oUg81yS5-jG"
      },
      "execution_count": null,
      "outputs": []
    },
    {
      "cell_type": "markdown",
      "source": [
        "## 2.1 XGBoost Ensemble for Classification"
      ],
      "metadata": {
        "id": "gcJJ5Eig5_YV"
      }
    },
    {
      "cell_type": "code",
      "source": [
        "# evaluate xgboost algorithm for classification\n",
        "from numpy import mean\n",
        "from numpy import std\n",
        "from sklearn.datasets import make_classification\n",
        "from sklearn.model_selection import cross_val_score\n",
        "from sklearn.model_selection import RepeatedStratifiedKFold\n",
        "from xgboost import XGBClassifier\n",
        "# define dataset\n",
        "X, y = make_classification(n_samples=1000, n_features=20, n_informative=15, n_redundant=5, random_state=7)\n",
        "# define the model\n",
        "model = XGBClassifier()\n",
        "# evaluate the model\n",
        "cv = RepeatedStratifiedKFold(n_splits=10, n_repeats=3, random_state=1)\n",
        "n_scores = cross_val_score(model, X, y, scoring='accuracy', cv=cv, n_jobs=-1)\n",
        "# report performance\n",
        "print('Accuracy: %.3f (%.3f)' % (mean(n_scores), std(n_scores)))"
      ],
      "metadata": {
        "id": "Nbha6Nqc6ECt"
      },
      "execution_count": null,
      "outputs": []
    },
    {
      "cell_type": "code",
      "source": [
        "# make predictions using xgboost for classification\n",
        "from numpy import asarray\n",
        "from sklearn.datasets import make_classification\n",
        "from xgboost import XGBClassifier\n",
        "# define dataset\n",
        "X, y = make_classification(n_samples=1000, n_features=20, n_informative=15, n_redundant=5, random_state=7)\n",
        "# define the model\n",
        "model = XGBClassifier()\n",
        "# fit the model on the whole dataset\n",
        "model.fit(X, y)\n",
        "# make a single prediction\n",
        "row = [0.2929949,-4.21223056,-1.288332,-2.17849815,-0.64527665,2.58097719,0.28422388,-7.1827928,-1.91211104,2.73729512,0.81395695,3.96973717,-2.66939799,3.34692332,4.19791821,0.99990998,-0.30201875,-4.43170633,-2.82646737,0.44916808]\n",
        "row = asarray([row])\n",
        "yhat = model.predict(row)\n",
        "print('Predicted Class: %d' % yhat[0])"
      ],
      "metadata": {
        "id": "txyxkN6P7BFN"
      },
      "execution_count": null,
      "outputs": []
    },
    {
      "cell_type": "markdown",
      "source": [
        "## 2.2 XGBoost Ensemble for Regression"
      ],
      "metadata": {
        "id": "1RGTX08_7DM-"
      }
    },
    {
      "cell_type": "code",
      "source": [
        "# evaluate xgboost ensemble for regression\n",
        "from numpy import mean\n",
        "from numpy import std\n",
        "from sklearn.datasets import make_regression\n",
        "from sklearn.model_selection import cross_val_score\n",
        "from sklearn.model_selection import RepeatedKFold\n",
        "from xgboost import XGBRegressor\n",
        "# define dataset\n",
        "X, y = make_regression(n_samples=1000, n_features=20, n_informative=15, noise=0.1, random_state=7)\n",
        "# define the model\n",
        "model = XGBRegressor()\n",
        "# evaluate the model\n",
        "cv = RepeatedKFold(n_splits=10, n_repeats=3, random_state=1)\n",
        "n_scores = cross_val_score(model, X, y, scoring='neg_mean_absolute_error', cv=cv, n_jobs=-1, error_score='raise')\n",
        "# report performance\n",
        "print('MAE: %.3f (%.3f)' % (mean(n_scores), std(n_scores)))"
      ],
      "metadata": {
        "id": "674hIdW17GWT"
      },
      "execution_count": null,
      "outputs": []
    },
    {
      "cell_type": "code",
      "source": [
        "# gradient xgboost for making predictions for regression\n",
        "from numpy import asarray\n",
        "from sklearn.datasets import make_regression\n",
        "from xgboost import XGBRegressor\n",
        "# define dataset\n",
        "X, y = make_regression(n_samples=1000, n_features=20, n_informative=15, noise=0.1, random_state=7)\n",
        "# define the model\n",
        "model = XGBRegressor()\n",
        "# fit the model on the whole dataset\n",
        "model.fit(X, y)\n",
        "# make a single prediction\n",
        "row = [0.20543991,-0.97049844,-0.81403429,-0.23842689,-0.60704084,-0.48541492,0.53113006,2.01834338,-0.90745243,-1.85859731,-1.02334791,-0.6877744,0.60984819,-0.70630121,-1.29161497,1.32385441,1.42150747,1.26567231,2.56569098,-0.11154792]\n",
        "row = asarray([row])\n",
        "yhat = model.predict(row)\n",
        "print('Prediction: %d' % yhat[0])"
      ],
      "metadata": {
        "id": "_Hhr9EOb7IWv"
      },
      "execution_count": null,
      "outputs": []
    },
    {
      "cell_type": "markdown",
      "source": [
        "---"
      ],
      "metadata": {
        "id": "xGCRvQLG7lUw"
      }
    },
    {
      "cell_type": "markdown",
      "source": [
        "# 3. Hyperparameter"
      ],
      "metadata": {
        "id": "cB1wlRbq7KNn"
      }
    },
    {
      "cell_type": "markdown",
      "source": [
        "## 3.1 Explore Number of Trees"
      ],
      "metadata": {
        "id": "tIBOHGlK7RrD"
      }
    },
    {
      "cell_type": "code",
      "source": [
        "# explore xgboost number of trees effect on performance\n",
        "from numpy import mean\n",
        "from numpy import std\n",
        "from sklearn.datasets import make_classification\n",
        "from sklearn.model_selection import cross_val_score\n",
        "from sklearn.model_selection import RepeatedStratifiedKFold\n",
        "from xgboost import XGBClassifier\n",
        "from matplotlib import pyplot\n",
        " \n",
        "# get the dataset\n",
        "def get_dataset():\n",
        "\tX, y = make_classification(n_samples=1000, n_features=20, n_informative=15, n_redundant=5, random_state=7)\n",
        "\treturn X, y\n",
        " \n",
        "# get a list of models to evaluate\n",
        "def get_models():\n",
        "\tmodels = dict()\n",
        "\ttrees = [10, 50, 100, 500, 1000, 5000]\n",
        "\tfor n in trees:\n",
        "\t\tmodels[str(n)] = XGBClassifier(n_estimators=n)\n",
        "\treturn models\n",
        " \n",
        "# evaluate a give model using cross-validation\n",
        "def evaluate_model(model):\n",
        "\tcv = RepeatedStratifiedKFold(n_splits=10, n_repeats=3, random_state=1)\n",
        "\tscores = cross_val_score(model, X, y, scoring='accuracy', cv=cv, n_jobs=-1)\n",
        "\treturn scores\n",
        " \n",
        "# define dataset\n",
        "X, y = get_dataset()\n",
        "# get the models to evaluate\n",
        "models = get_models()\n",
        "# evaluate the models and store results\n",
        "results, names = list(), list()\n",
        "for name, model in models.items():\n",
        "\tscores = evaluate_model(model)\n",
        "\tresults.append(scores)\n",
        "\tnames.append(name)\n",
        "\tprint('>%s %.3f (%.3f)' % (name, mean(scores), std(scores)))\n",
        "# plot model performance for comparison\n",
        "pyplot.boxplot(results, labels=names, showmeans=True)\n",
        "pyplot.show()"
      ],
      "metadata": {
        "colab": {
          "base_uri": "https://localhost:8080/",
          "height": 372
        },
        "id": "2ZerZRVS7U2q",
        "outputId": "8b213d66-9f2d-48da-e7e7-5f468f9d819e"
      },
      "execution_count": 1,
      "outputs": [
        {
          "output_type": "stream",
          "name": "stdout",
          "text": [
            ">10 0.829 (0.037)\n",
            ">50 0.871 (0.027)\n",
            ">100 0.899 (0.029)\n",
            ">500 0.927 (0.025)\n",
            ">1000 0.927 (0.025)\n",
            ">5000 0.927 (0.026)\n"
          ]
        },
        {
          "output_type": "display_data",
          "data": {
            "text/plain": [
              "<Figure size 432x288 with 1 Axes>"
            ],
            "image/png": "[encoded data removed]"
          },
          "metadata": {
            "needs_background": "light"
          }
        }
      ]
    },
    {
      "cell_type": "markdown",
      "source": [
        "## 3.2 Explore Tree Depth"
      ],
      "metadata": {
        "id": "omLnULsv7cG-"
      }
    },
    {
      "cell_type": "code",
      "source": [
        "# explore xgboost tree depth effect on performance\n",
        "from numpy import mean\n",
        "from numpy import std\n",
        "from sklearn.datasets import make_classification\n",
        "from sklearn.model_selection import cross_val_score\n",
        "from sklearn.model_selection import RepeatedStratifiedKFold\n",
        "from xgboost import XGBClassifier\n",
        "from matplotlib import pyplot\n",
        " \n",
        "# get the dataset\n",
        "def get_dataset():\n",
        "\tX, y = make_classification(n_samples=1000, n_features=20, n_informative=15, n_redundant=5, random_state=7)\n",
        "\treturn X, y\n",
        " \n",
        "# get a list of models to evaluate\n",
        "def get_models():\n",
        "\tmodels = dict()\n",
        "\tfor i in range(1,11):\n",
        "\t\tmodels[str(i)] = XGBClassifier(max_depth=i)\n",
        "\treturn models\n",
        " \n",
        "# evaluate a give model using cross-validation\n",
        "def evaluate_model(model):\n",
        "\tcv = RepeatedStratifiedKFold(n_splits=10, n_repeats=3, random_state=1)\n",
        "\tscores = cross_val_score(model, X, y, scoring='accuracy', cv=cv, n_jobs=-1)\n",
        "\treturn scores\n",
        " \n",
        "# define dataset\n",
        "X, y = get_dataset()\n",
        "# get the models to evaluate\n",
        "models = get_models()\n",
        "# evaluate the models and store results\n",
        "results, names = list(), list()\n",
        "for name, model in models.items():\n",
        "\tscores = evaluate_model(model)\n",
        "\tresults.append(scores)\n",
        "\tnames.append(name)\n",
        "\tprint('>%s %.3f (%.3f)' % (name, mean(scores), std(scores)))\n",
        "# plot model performance for comparison\n",
        "pyplot.boxplot(results, labels=names, showmeans=True)\n",
        "pyplot.show()"
      ],
      "metadata": {
        "colab": {
          "base_uri": "https://localhost:8080/",
          "height": 439
        },
        "id": "76B80YfH7dNH",
        "outputId": "bdaa4802-e89c-4e46-8745-d37084efce99"
      },
      "execution_count": 2,
      "outputs": [
        {
          "output_type": "stream",
          "name": "stdout",
          "text": [
            ">1 0.833 (0.029)\n",
            ">2 0.874 (0.031)\n",
            ">3 0.899 (0.029)\n",
            ">4 0.916 (0.030)\n",
            ">5 0.922 (0.030)\n",
            ">6 0.923 (0.030)\n",
            ">7 0.920 (0.026)\n",
            ">8 0.916 (0.032)\n",
            ">9 0.919 (0.028)\n",
            ">10 0.918 (0.029)\n"
          ]
        },
        {
          "output_type": "display_data",
          "data": {
            "text/plain": [
              "<Figure size 432x288 with 1 Axes>"
            ],
            "image/png": "[encoded data removed]"
          },
          "metadata": {
            "needs_background": "light"
          }
        }
      ]
    },
    {
      "cell_type": "markdown",
      "source": [
        "## 3.3 Explore Learning Rate"
      ],
      "metadata": {
        "id": "ehMBQBgF7fT5"
      }
    },
    {
      "cell_type": "code",
      "source": [
        "# explore xgboost learning rate effect on performance\n",
        "from numpy import mean\n",
        "from numpy import std\n",
        "from sklearn.datasets import make_classification\n",
        "from sklearn.model_selection import cross_val_score\n",
        "from sklearn.model_selection import RepeatedStratifiedKFold\n",
        "from xgboost import XGBClassifier\n",
        "from matplotlib import pyplot\n",
        " \n",
        "# get the dataset\n",
        "def get_dataset():\n",
        "\tX, y = make_classification(n_samples=1000, n_features=20, n_informative=15, n_redundant=5, random_state=7)\n",
        "\treturn X, y\n",
        " \n",
        "# get a list of models to evaluate\n",
        "def get_models():\n",
        "\tmodels = dict()\n",
        "\trates = [0.0001, 0.001, 0.01, 0.1, 1.0]\n",
        "\tfor r in rates:\n",
        "\t\tkey = '%.4f' % r\n",
        "\t\tmodels[key] = XGBClassifier(eta=r)\n",
        "\treturn models\n",
        " \n",
        "# evaluate a give model using cross-validation\n",
        "def evaluate_model(model):\n",
        "\tcv = RepeatedStratifiedKFold(n_splits=10, n_repeats=3, random_state=1)\n",
        "\tscores = cross_val_score(model, X, y, scoring='accuracy', cv=cv, n_jobs=-1)\n",
        "\treturn scores\n",
        " \n",
        "# define dataset\n",
        "X, y = get_dataset()\n",
        "# get the models to evaluate\n",
        "models = get_models()\n",
        "# evaluate the models and store results\n",
        "results, names = list(), list()\n",
        "for name, model in models.items():\n",
        "\tscores = evaluate_model(model)\n",
        "\tresults.append(scores)\n",
        "\tnames.append(name)\n",
        "\tprint('>%s %.3f (%.3f)' % (name, mean(scores), std(scores)))\n",
        "# plot model performance for comparison\n",
        "pyplot.boxplot(results, labels=names, showmeans=True)\n",
        "pyplot.show()"
      ],
      "metadata": {
        "colab": {
          "base_uri": "https://localhost:8080/",
          "height": 352
        },
        "id": "ma6ATd6y7oeQ",
        "outputId": "fb985881-74e6-4e63-805c-6951f2ae1c9a"
      },
      "execution_count": 3,
      "outputs": [
        {
          "output_type": "stream",
          "name": "stdout",
          "text": [
            ">0.0001 0.899 (0.029)\n",
            ">0.0010 0.899 (0.029)\n",
            ">0.0100 0.899 (0.029)\n",
            ">0.1000 0.899 (0.029)\n",
            ">1.0000 0.899 (0.029)\n"
          ]
        },
        {
          "output_type": "display_data",
          "data": {
            "text/plain": [
              "<Figure size 432x288 with 1 Axes>"
            ],
            "image/png": "[encoded data removed]"
          },
          "metadata": {
            "needs_background": "light"
          }
        }
      ]
    },
    {
      "cell_type": "markdown",
      "source": [
        "## 3.4 Explore Number of Samples"
      ],
      "metadata": {
        "id": "kOtc5Hms7s1x"
      }
    },
    {
      "cell_type": "code",
      "source": [
        "# explore xgboost subsample ratio effect on performance\n",
        "from numpy import arange\n",
        "from numpy import mean\n",
        "from numpy import std\n",
        "from sklearn.datasets import make_classification\n",
        "from sklearn.model_selection import cross_val_score\n",
        "from sklearn.model_selection import RepeatedStratifiedKFold\n",
        "from xgboost import XGBClassifier\n",
        "from matplotlib import pyplot\n",
        " \n",
        "# get the dataset\n",
        "def get_dataset():\n",
        "\tX, y = make_classification(n_samples=1000, n_features=20, n_informative=15, n_redundant=5, random_state=7)\n",
        "\treturn X, y\n",
        " \n",
        "# get a list of models to evaluate\n",
        "def get_models():\n",
        "\tmodels = dict()\n",
        "\tfor i in arange(0.1, 1.1, 0.1):\n",
        "\t\tkey = '%.1f' % i\n",
        "\t\tmodels[key] = XGBClassifier(subsample=i)\n",
        "\treturn models\n",
        " \n",
        "# evaluate a give model using cross-validation\n",
        "def evaluate_model(model):\n",
        "\tcv = RepeatedStratifiedKFold(n_splits=10, n_repeats=3, random_state=1)\n",
        "\tscores = cross_val_score(model, X, y, scoring='accuracy', cv=cv, n_jobs=-1)\n",
        "\treturn scores\n",
        " \n",
        "# define dataset\n",
        "X, y = get_dataset()\n",
        "# get the models to evaluate\n",
        "models = get_models()\n",
        "# evaluate the models and store results\n",
        "results, names = list(), list()\n",
        "for name, model in models.items():\n",
        "\tscores = evaluate_model(model)\n",
        "\tresults.append(scores)\n",
        "\tnames.append(name)\n",
        "\tprint('>%s %.3f (%.3f)' % (name, mean(scores), std(scores)))\n",
        "# plot model performance for comparison\n",
        "pyplot.boxplot(results, labels=names, showmeans=True)\n",
        "pyplot.show()"
      ],
      "metadata": {
        "colab": {
          "base_uri": "https://localhost:8080/",
          "height": 439
        },
        "id": "Q6yDYm4R7slj",
        "outputId": "fc9612a2-4fca-4c6b-8cd0-2774f7cf059f"
      },
      "execution_count": 4,
      "outputs": [
        {
          "output_type": "stream",
          "name": "stdout",
          "text": [
            ">0.1 0.882 (0.034)\n",
            ">0.2 0.903 (0.028)\n",
            ">0.3 0.909 (0.030)\n",
            ">0.4 0.913 (0.031)\n",
            ">0.5 0.914 (0.026)\n",
            ">0.6 0.908 (0.029)\n",
            ">0.7 0.910 (0.025)\n",
            ">0.8 0.911 (0.029)\n",
            ">0.9 0.906 (0.028)\n",
            ">1.0 0.899 (0.029)\n"
          ]
        },
        {
          "output_type": "display_data",
          "data": {
            "text/plain": [
              "<Figure size 432x288 with 1 Axes>"
            ],
            "image/png": "[encoded data removed]"
          },
          "metadata": {
            "needs_background": "light"
          }
        }
      ]
    },
    {
      "cell_type": "markdown",
      "source": [
        "## 3.5 Explore Number of Features"
      ],
      "metadata": {
        "id": "roWY58Qi7wW0"
      }
    },
    {
      "cell_type": "code",
      "source": [
        "# explore xgboost column ratio per tree effect on performance\n",
        "from numpy import arange\n",
        "from numpy import mean\n",
        "from numpy import std\n",
        "from sklearn.datasets import make_classification\n",
        "from sklearn.model_selection import cross_val_score\n",
        "from sklearn.model_selection import RepeatedStratifiedKFold\n",
        "from xgboost import XGBClassifier\n",
        "from matplotlib import pyplot\n",
        " \n",
        "# get the dataset\n",
        "def get_dataset():\n",
        "\tX, y = make_classification(n_samples=1000, n_features=20, n_informative=15, n_redundant=5, random_state=7)\n",
        "\treturn X, y\n",
        " \n",
        "# get a list of models to evaluate\n",
        "def get_models():\n",
        "\tmodels = dict()\n",
        "\tfor i in arange(0.1, 1.1, 0.1):\n",
        "\t\tkey = '%.1f' % i\n",
        "\t\tmodels[key] = XGBClassifier(colsample_bytree=i)\n",
        "\treturn models\n",
        " \n",
        "# evaluate a give model using cross-validation\n",
        "def evaluate_model(model):\n",
        "\tcv = RepeatedStratifiedKFold(n_splits=10, n_repeats=3, random_state=1)\n",
        "\tscores = cross_val_score(model, X, y, scoring='accuracy', cv=cv, n_jobs=-1)\n",
        "\treturn scores\n",
        " \n",
        "# define dataset\n",
        "X, y = get_dataset()\n",
        "# get the models to evaluate\n",
        "models = get_models()\n",
        "# evaluate the models and store results\n",
        "results, names = list(), list()\n",
        "for name, model in models.items():\n",
        "\tscores = evaluate_model(model)\n",
        "\tresults.append(scores)\n",
        "\tnames.append(name)\n",
        "\tprint('>%s %.3f (%.3f)' % (name, mean(scores), std(scores)))\n",
        "# plot model performance for comparison\n",
        "pyplot.boxplot(results, labels=names, showmeans=True)\n",
        "pyplot.show()"
      ],
      "metadata": {
        "colab": {
          "base_uri": "https://localhost:8080/",
          "height": 439
        },
        "id": "fc4VBND27yuT",
        "outputId": "b1a75631-468a-4d01-faa1-6646849a2245"
      },
      "execution_count": 5,
      "outputs": [
        {
          "output_type": "stream",
          "name": "stdout",
          "text": [
            ">0.1 0.845 (0.038)\n",
            ">0.2 0.883 (0.031)\n",
            ">0.3 0.893 (0.032)\n",
            ">0.4 0.901 (0.033)\n",
            ">0.5 0.900 (0.033)\n",
            ">0.6 0.903 (0.026)\n",
            ">0.7 0.902 (0.028)\n",
            ">0.8 0.902 (0.026)\n",
            ">0.9 0.898 (0.028)\n",
            ">1.0 0.899 (0.029)\n"
          ]
        },
        {
          "output_type": "display_data",
          "data": {
            "text/plain": [
              "<Figure size 432x288 with 1 Axes>"
            ],
            "image/png": "[encoded data removed]"
          },
          "metadata": {
            "needs_background": "light"
          }
        }
      ]
    },
    {
      "cell_type": "markdown",
      "source": [
        "## 3.6 Grid Search"
      ],
      "metadata": {
        "id": "YsYX4skv76Am"
      }
    },
    {
      "cell_type": "code",
      "source": [],
      "metadata": {
        "id": "7IoGrdxh75pv"
      },
      "execution_count": null,
      "outputs": []
    },
    {
      "cell_type": "markdown",
      "source": [
        "---"
      ],
      "metadata": {
        "id": "Fm3x7NOJ72P4"
      }
    },
    {
      "cell_type": "markdown",
      "source": [
        "# 4. Random Forest with XGBoost"
      ],
      "metadata": {
        "id": "0Ip02_5C73xc"
      }
    },
    {
      "cell_type": "markdown",
      "source": [
        "## 4.1 XGBoost Random Forest for Classification"
      ],
      "metadata": {
        "id": "yhATa6SM8BYb"
      }
    },
    {
      "cell_type": "code",
      "source": [
        "# evaluate xgboost random forest algorithm for classification\n",
        "from numpy import mean\n",
        "from numpy import std\n",
        "from sklearn.datasets import make_classification\n",
        "from sklearn.model_selection import cross_val_score\n",
        "from sklearn.model_selection import RepeatedStratifiedKFold\n",
        "from xgboost import XGBRFClassifier\n",
        "# define dataset\n",
        "X, y = make_classification(n_samples=1000, n_features=20, n_informative=15, n_redundant=5, random_state=7)\n",
        "# define the model\n",
        "model = XGBRFClassifier(n_estimators=100, subsample=0.9, colsample_bynode=0.2)\n",
        "# define the model evaluation procedure\n",
        "cv = RepeatedStratifiedKFold(n_splits=10, n_repeats=3, random_state=1)\n",
        "# evaluate the model and collect the scores\n",
        "n_scores = cross_val_score(model, X, y, scoring='accuracy', cv=cv, n_jobs=-1)\n",
        "# report performance\n",
        "print('Mean Accuracy: %.3f (%.3f)' % (mean(n_scores), std(n_scores)))"
      ],
      "metadata": {
        "colab": {
          "base_uri": "https://localhost:8080/"
        },
        "id": "adPwW2fv8G2O",
        "outputId": "cdb201db-68ce-4e37-eb66-0e1978f3ec01"
      },
      "execution_count": 6,
      "outputs": [
        {
          "output_type": "stream",
          "name": "stdout",
          "text": [
            "Mean Accuracy: 0.835 (0.034)\n"
          ]
        }
      ]
    },
    {
      "cell_type": "code",
      "source": [
        "# make predictions using xgboost random forest for classification\n",
        "from numpy import asarray\n",
        "from sklearn.datasets import make_classification\n",
        "from xgboost import XGBRFClassifier\n",
        "# define dataset\n",
        "X, y = make_classification(n_samples=1000, n_features=20, n_informative=15, n_redundant=5, random_state=7)\n",
        "# define the model\n",
        "model = XGBRFClassifier(n_estimators=100, subsample=0.9, colsample_bynode=0.2)\n",
        "# fit the model on the whole dataset\n",
        "model.fit(X, y)\n",
        "# define a row of data\n",
        "row = [0.2929949,-4.21223056,-1.288332,-2.17849815,-0.64527665,2.58097719,0.28422388,-7.1827928,-1.91211104,2.73729512,0.81395695,3.96973717,-2.66939799,3.34692332,4.19791821,0.99990998,-0.30201875,-4.43170633,-2.82646737,0.44916808]\n",
        "row = asarray([row])\n",
        "# make a prediction\n",
        "yhat = model.predict(row)\n",
        "# summarize the prediction\n",
        "print('Predicted Class: %d' % yhat[0])"
      ],
      "metadata": {
        "colab": {
          "base_uri": "https://localhost:8080/"
        },
        "id": "2R9xlx-H8H9b",
        "outputId": "af8348d5-ee2e-4085-d5f2-e601c86bff9a"
      },
      "execution_count": 7,
      "outputs": [
        {
          "output_type": "stream",
          "name": "stdout",
          "text": [
            "Predicted Class: 1\n"
          ]
        }
      ]
    },
    {
      "cell_type": "markdown",
      "source": [
        "## 4.2 XGBoost Random Forest for Regression"
      ],
      "metadata": {
        "id": "TUpGAqXg8Joc"
      }
    },
    {
      "cell_type": "code",
      "source": [
        "# evaluate xgboost random forest ensemble for regression\n",
        "from numpy import mean\n",
        "from numpy import std\n",
        "from sklearn.datasets import make_regression\n",
        "from sklearn.model_selection import cross_val_score\n",
        "from sklearn.model_selection import RepeatedKFold\n",
        "from xgboost import XGBRFRegressor\n",
        "# define dataset\n",
        "X, y = make_regression(n_samples=1000, n_features=20, n_informative=15, noise=0.1, random_state=7)\n",
        "# define the model\n",
        "model = XGBRFRegressor(n_estimators=100, subsample=0.9, colsample_bynode=0.2)\n",
        "# define the model evaluation procedure\n",
        "cv = RepeatedKFold(n_splits=10, n_repeats=3, random_state=1)\n",
        "# evaluate the model and collect the scores\n",
        "n_scores = cross_val_score(model, X, y, scoring='neg_mean_absolute_error', cv=cv, n_jobs=-1)\n",
        "# report performance\n",
        "print('MAE: %.3f (%.3f)' % (mean(n_scores), std(n_scores)))"
      ],
      "metadata": {
        "colab": {
          "base_uri": "https://localhost:8080/"
        },
        "id": "SDzOKHsN8NLL",
        "outputId": "1458bd0c-83c7-4308-c479-d545481f23ec"
      },
      "execution_count": 8,
      "outputs": [
        {
          "output_type": "stream",
          "name": "stdout",
          "text": [
            "MAE: -136.517 (7.248)\n"
          ]
        }
      ]
    },
    {
      "cell_type": "code",
      "source": [
        "# gradient xgboost random forest for making predictions for regression\n",
        "from numpy import asarray\n",
        "from sklearn.datasets import make_regression\n",
        "from xgboost import XGBRFRegressor\n",
        "# define dataset\n",
        "X, y = make_regression(n_samples=1000, n_features=20, n_informative=15, noise=0.1, random_state=7)\n",
        "# define the model\n",
        "model = XGBRFRegressor(n_estimators=100, subsample=0.9, colsample_bynode=0.2)\n",
        "# fit the model on the whole dataset\n",
        "model.fit(X, y)\n",
        "# define a single row of data\n",
        "row = [0.20543991,-0.97049844,-0.81403429,-0.23842689,-0.60704084,-0.48541492,0.53113006,2.01834338,-0.90745243,-1.85859731,-1.02334791,-0.6877744,0.60984819,-0.70630121,-1.29161497,1.32385441,1.42150747,1.26567231,2.56569098,-0.11154792]\n",
        "row = asarray([row])\n",
        "# make a prediction\n",
        "yhat = model.predict(row)\n",
        "# summarize the prediction\n",
        "print('Prediction: %d' % yhat[0])"
      ],
      "metadata": {
        "colab": {
          "base_uri": "https://localhost:8080/"
        },
        "id": "hpOycyBb8PBY",
        "outputId": "17ac0cf9-1831-4fad-d01b-1f8352130d85"
      },
      "execution_count": 9,
      "outputs": [
        {
          "output_type": "stream",
          "name": "stdout",
          "text": [
            "[15:53:14] WARNING: /workspace/src/objective/regression_obj.cu:152: reg:linear is now deprecated in favor of reg:squarederror.\n",
            "Prediction: 14\n"
          ]
        }
      ]
    },
    {
      "cell_type": "markdown",
      "source": [
        "---"
      ],
      "metadata": {
        "id": "W66HbCqg8YCY"
      }
    },
    {
      "cell_type": "markdown",
      "source": [
        "# 5. Feature Importance and Feature Selection"
      ],
      "metadata": {
        "id": "f_Wn6RRa8RR1"
      }
    },
    {
      "cell_type": "markdown",
      "source": [
        "## 5.1 Using the Built-in XGBoost Feature Importance Plot"
      ],
      "metadata": {
        "id": "5sLQfjTo8cfj"
      }
    },
    {
      "cell_type": "code",
      "source": [
        "# plot feature importance using built-in function\n",
        "from numpy import loadtxt\n",
        "from xgboost import XGBClassifier\n",
        "from xgboost import plot_importance\n",
        "from matplotlib import pyplot\n",
        "# load data\n",
        "dataset = loadtxt('pima-indians-diabetes.csv', delimiter=\",\")\n",
        "# split data into X and y\n",
        "X = dataset[:,0:8]\n",
        "y = dataset[:,8]\n",
        "# fit model no training data\n",
        "model = XGBClassifier()\n",
        "model.fit(X, y)\n",
        "# plot feature importance\n",
        "plot_importance(model)\n",
        "pyplot.show()"
      ],
      "metadata": {
        "colab": {
          "base_uri": "https://localhost:8080/",
          "height": 295
        },
        "id": "zmbCZl8J8Qwt",
        "outputId": "1dcd3da3-691f-4be9-9088-179891088407"
      },
      "execution_count": 11,
      "outputs": [
        {
          "output_type": "display_data",
          "data": {
            "text/plain": [
              "<Figure size 432x288 with 1 Axes>"
            ],
            "image/png": "[encoded data removed]"
          },
          "metadata": {
            "needs_background": "light"
          }
        }
      ]
    },
    {
      "cell_type": "markdown",
      "source": [
        "## 5.2 Feature Selection with XGBoost Feature Importance Scores\n",
        "\n",
        "\n",
        "This is done using the SelectFromModel class that takes a model and can transform a dataset into a subset with selected features."
      ],
      "metadata": {
        "id": "gIZG6Q2q8jaJ"
      }
    },
    {
      "cell_type": "code",
      "source": [
        "# use feature importance for feature selection\n",
        "from numpy import loadtxt\n",
        "from numpy import sort\n",
        "from xgboost import XGBClassifier\n",
        "from sklearn.model_selection import train_test_split\n",
        "from sklearn.metrics import accuracy_score\n",
        "from sklearn.feature_selection import SelectFromModel\n",
        "# load data\n",
        "dataset = loadtxt('pima-indians-diabetes.csv', delimiter=\",\")\n",
        "# split data into X and y\n",
        "X = dataset[:,0:8]\n",
        "Y = dataset[:,8]\n",
        "# split data into train and test sets\n",
        "X_train, X_test, y_train, y_test = train_test_split(X, Y, test_size=0.33, random_state=7)\n",
        "# fit model on all training data\n",
        "model = XGBClassifier()\n",
        "model.fit(X_train, y_train)\n",
        "# make predictions for test data and evaluate\n",
        "y_pred = model.predict(X_test)\n",
        "predictions = [round(value) for value in y_pred]\n",
        "accuracy = accuracy_score(y_test, predictions)\n",
        "print(\"Accuracy: %.2f%%\" % (accuracy * 100.0))\n",
        "# Fit model using each importance as a threshold\n",
        "thresholds = sort(model.feature_importances_)\n",
        "for thresh in thresholds:\n",
        "\t# select features using threshold\n",
        "\tselection = SelectFromModel(model, threshold=thresh, prefit=True)\n",
        "\tselect_X_train = selection.transform(X_train)\n",
        "\t# train model\n",
        "\tselection_model = XGBClassifier()\n",
        "\tselection_model.fit(select_X_train, y_train)\n",
        "\t# eval model\n",
        "\tselect_X_test = selection.transform(X_test)\n",
        "\ty_pred = selection_model.predict(select_X_test)\n",
        "\tpredictions = [round(value) for value in y_pred]\n",
        "\taccuracy = accuracy_score(y_test, predictions)\n",
        "\tprint(\"Thresh=%.3f, n=%d, Accuracy: %.2f%%\" % (thresh, select_X_train.shape[1], accuracy*100.0))"
      ],
      "metadata": {
        "colab": {
          "base_uri": "https://localhost:8080/"
        },
        "id": "iW7HPDvA8i36",
        "outputId": "6415a2ca-7631-4878-fdcc-0574edcb6eea"
      },
      "execution_count": 12,
      "outputs": [
        {
          "output_type": "stream",
          "name": "stdout",
          "text": [
            "Accuracy: 77.95%\n",
            "Thresh=0.078, n=8, Accuracy: 77.95%\n",
            "Thresh=0.080, n=7, Accuracy: 76.38%\n",
            "Thresh=0.085, n=6, Accuracy: 77.56%\n",
            "Thresh=0.095, n=5, Accuracy: 76.38%\n",
            "Thresh=0.102, n=4, Accuracy: 76.38%\n",
            "Thresh=0.109, n=3, Accuracy: 74.80%\n",
            "Thresh=0.160, n=2, Accuracy: 75.98%\n",
            "Thresh=0.292, n=1, Accuracy: 70.08%\n"
          ]
        }
      ]
    },
    {
      "cell_type": "markdown",
      "source": [
        "---"
      ],
      "metadata": {
        "id": "--xxdL439oI5"
      }
    },
    {
      "cell_type": "markdown",
      "source": [
        "# 6. Project Overview"
      ],
      "metadata": {
        "id": "4d6mzyiY9QWh"
      }
    },
    {
      "cell_type": "markdown",
      "source": [
        "## 6.1 Create useful functions and load library"
      ],
      "metadata": {
        "id": "TpiaEE259Ufd"
      }
    },
    {
      "cell_type": "code",
      "source": [
        "import numpy as np\n",
        "\n",
        "from scipy.stats import uniform, randint\n",
        "\n",
        "from sklearn.datasets import load_breast_cancer, load_diabetes, load_wine\n",
        "from sklearn.metrics import auc, accuracy_score, confusion_matrix, mean_squared_error\n",
        "from sklearn.model_selection import cross_val_score, GridSearchCV, KFold, RandomizedSearchCV, train_test_split\n",
        "\n",
        "import xgboost as xgb"
      ],
      "metadata": {
        "id": "ZThDn_j09avJ"
      },
      "execution_count": 13,
      "outputs": []
    },
    {
      "cell_type": "code",
      "source": [
        "def display_scores(scores):\n",
        "    print(\"Scores: {0}\\nMean: {1:.3f}\\nStd: {2:.3f}\".format(scores, np.mean(scores), np.std(scores)))"
      ],
      "metadata": {
        "id": "MmCde0LI9c7J"
      },
      "execution_count": 14,
      "outputs": []
    },
    {
      "cell_type": "code",
      "source": [
        "def report_best_scores(results, n_top=3):\n",
        "    for i in range(1, n_top + 1):\n",
        "        candidates = np.flatnonzero(results['rank_test_score'] == i)\n",
        "        for candidate in candidates:\n",
        "            print(\"Model with rank: {0}\".format(i))\n",
        "            print(\"Mean validation score: {0:.3f} (std: {1:.3f})\".format(\n",
        "                  results['mean_test_score'][candidate],\n",
        "                  results['std_test_score'][candidate]))\n",
        "            print(\"Parameters: {0}\".format(results['params'][candidate]))\n",
        "            print(\"\")"
      ],
      "metadata": {
        "id": "XzXH4UJJ9eyx"
      },
      "execution_count": 15,
      "outputs": []
    },
    {
      "cell_type": "markdown",
      "source": [
        "---"
      ],
      "metadata": {
        "id": "W2Ujm4M79mdr"
      }
    },
    {
      "cell_type": "markdown",
      "source": [
        "## 6.2 Modeling"
      ],
      "metadata": {
        "id": "4xjeZlPY9r4R"
      }
    },
    {
      "cell_type": "markdown",
      "source": [
        "### 6.2.1 XGBoost in Regression"
      ],
      "metadata": {
        "id": "AdaMA1Fz9wRF"
      }
    },
    {
      "cell_type": "code",
      "source": [
        "diabetes = load_diabetes()\n",
        "\n",
        "X = diabetes.data\n",
        "y = diabetes.target\n",
        "\n",
        "xgb_model = xgb.XGBRegressor(objective=\"reg:linear\", random_state=42)\n",
        "\n",
        "xgb_model.fit(X, y)\n",
        "\n",
        "y_pred = xgb_model.predict(X)\n",
        "\n",
        "mse=mean_squared_error(y, y_pred)\n",
        "\n",
        "print(np.sqrt(mse))"
      ],
      "metadata": {
        "colab": {
          "base_uri": "https://localhost:8080/"
        },
        "id": "QeOQlbON9vx9",
        "outputId": "26b325b4-492e-436d-e3f1-3c89a0ac9b38"
      },
      "execution_count": 16,
      "outputs": [
        {
          "output_type": "stream",
          "name": "stdout",
          "text": [
            "[15:58:01] WARNING: /workspace/src/objective/regression_obj.cu:152: reg:linear is now deprecated in favor of reg:squarederror.\n",
            "36.271203581682585\n"
          ]
        }
      ]
    },
    {
      "cell_type": "markdown",
      "source": [
        "### 6.2.2 Binary classification"
      ],
      "metadata": {
        "id": "_JxZ_sAr_t2-"
      }
    },
    {
      "cell_type": "code",
      "source": [
        "cancer = load_breast_cancer()\n",
        "\n",
        "X = cancer.data\n",
        "y = cancer.target\n",
        "\n",
        "xgb_model = xgb.XGBClassifier(objective=\"binary:logistic\", random_state=42)\n",
        "xgb_model.fit(X, y)\n",
        "\n",
        "y_pred = xgb_model.predict(X)\n",
        "\n",
        "print(confusion_matrix(y, y_pred))"
      ],
      "metadata": {
        "colab": {
          "base_uri": "https://localhost:8080/"
        },
        "id": "6skEQSD2_ybz",
        "outputId": "54233e03-7e29-40fe-e4c0-f04f54503d51"
      },
      "execution_count": 17,
      "outputs": [
        {
          "output_type": "stream",
          "name": "stdout",
          "text": [
            "[[212   0]\n",
            " [  0 357]]\n"
          ]
        }
      ]
    },
    {
      "cell_type": "markdown",
      "source": [
        "### 6.2.3 Multiclass classification"
      ],
      "metadata": {
        "id": "UZar96hn_3b7"
      }
    },
    {
      "cell_type": "code",
      "source": [
        "wine = load_wine()\n",
        "\n",
        "X = wine.data\n",
        "y = wine.target\n",
        "\n",
        "xgb_model = xgb.XGBClassifier(objective=\"multi:softprob\", random_state=42)\n",
        "xgb_model.fit(X, y)\n",
        "\n",
        "y_pred = xgb_model.predict(X)\n",
        "\n",
        "print(confusion_matrix(y, y_pred))"
      ],
      "metadata": {
        "colab": {
          "base_uri": "https://localhost:8080/"
        },
        "id": "3pXjxgtO_54k",
        "outputId": "ff8377ab-b361-48c0-bdfb-b970a4e67458"
      },
      "execution_count": 18,
      "outputs": [
        {
          "output_type": "stream",
          "name": "stdout",
          "text": [
            "[[59  0  0]\n",
            " [ 0 71  0]\n",
            " [ 0  0 48]]\n"
          ]
        }
      ]
    },
    {
      "cell_type": "markdown",
      "source": [
        "## 6.3 Cross Validation"
      ],
      "metadata": {
        "id": "jR9VZ_gN_9yY"
      }
    },
    {
      "cell_type": "code",
      "source": [
        "diabetes = load_diabetes()\n",
        "\n",
        "X = diabetes.data\n",
        "y = diabetes.target\n",
        "\n",
        "kfold = KFold(n_splits=5, shuffle=True, random_state=42)\n",
        "\n",
        "scores = []\n",
        "\n",
        "for train_index, test_index in kfold.split(X):   \n",
        "    X_train, X_test = X[train_index], X[test_index]\n",
        "    y_train, y_test = y[train_index], y[test_index]\n",
        "\n",
        "    xgb_model = xgb.XGBRegressor(objective=\"reg:squarederror\")\n",
        "    xgb_model.fit(X_train, y_train)\n",
        "    \n",
        "    y_pred = xgb_model.predict(X_test)\n",
        "    \n",
        "    scores.append(mean_squared_error(y_test, y_pred))\n",
        "    \n",
        "display_scores(np.sqrt(scores))"
      ],
      "metadata": {
        "colab": {
          "base_uri": "https://localhost:8080/"
        },
        "id": "xxIjk376__9A",
        "outputId": "ba5db937-c328-4579-db60-8e23805e0eb7"
      },
      "execution_count": 19,
      "outputs": [
        {
          "output_type": "stream",
          "name": "stdout",
          "text": [
            "Scores: [55.30444573 55.59151472 63.44642064 57.82986083 58.71808276]\n",
            "Mean: 58.178\n",
            "Std: 2.937\n"
          ]
        }
      ]
    },
    {
      "cell_type": "code",
      "source": [
        "xgb_model = xgb.XGBRegressor(objective=\"reg:squarederror\", random_state=42)\n",
        "\n",
        "scores = cross_val_score(xgb_model, X, y, scoring=\"neg_mean_squared_error\", cv=5)\n",
        "\n",
        "display_scores(np.sqrt(-scores))"
      ],
      "metadata": {
        "colab": {
          "base_uri": "https://localhost:8080/"
        },
        "id": "vVQvuNwrAC_6",
        "outputId": "c2362123-a9ee-4781-c1cc-63e531b90e3c"
      },
      "execution_count": 20,
      "outputs": [
        {
          "output_type": "stream",
          "name": "stdout",
          "text": [
            "Scores: [56.04057166 56.14039793 60.3213523  59.67532995 60.7722925 ]\n",
            "Mean: 58.590\n",
            "Std: 2.071\n"
          ]
        }
      ]
    },
    {
      "cell_type": "markdown",
      "source": [
        "## 6.4 Grid Search"
      ],
      "metadata": {
        "id": "nwNMYpixACCi"
      }
    },
    {
      "cell_type": "code",
      "source": [
        "diabetes = load_diabetes()\n",
        "\n",
        "X = diabetes.data\n",
        "y = diabetes.target\n",
        "\n",
        "xgb_model = xgb.XGBRegressor(objective=\"reg:squarederror\", random_state=42)\n",
        "\n",
        "params = {\n",
        "    \"colsample_bytree\": uniform(0.7, 0.3),\n",
        "    \"gamma\": uniform(0, 0.5),\n",
        "    \"learning_rate\": uniform(0.03, 0.3), # default 0.1 \n",
        "    \"max_depth\": randint(2, 6), # default 3\n",
        "    \"n_estimators\": randint(100, 150), # default 100\n",
        "    \"subsample\": uniform(0.6, 0.4)\n",
        "}\n",
        "\n",
        "search = RandomizedSearchCV(xgb_model, param_distributions=params, random_state=42, n_iter=200, cv=3, verbose=1, n_jobs=1, return_train_score=True)\n",
        "\n",
        "search.fit(X, y)\n",
        "\n",
        "report_best_scores(search.cv_results_, 1)"
      ],
      "metadata": {
        "colab": {
          "base_uri": "https://localhost:8080/"
        },
        "id": "SjcZbSHyABxm",
        "outputId": "8432b266-6cae-4371-99c3-0a3ccb963ee5"
      },
      "execution_count": 21,
      "outputs": [
        {
          "output_type": "stream",
          "name": "stdout",
          "text": [
            "Fitting 3 folds for each of 200 candidates, totalling 600 fits\n",
            "Model with rank: 1\n",
            "Mean validation score: 0.472 (std: 0.005)\n",
            "Parameters: {'colsample_bytree': 0.753103145283024, 'gamma': 0.044351266878527806, 'learning_rate': 0.06619076133018023, 'max_depth': 2, 'n_estimators': 111, 'subsample': 0.682533487362317}\n",
            "\n"
          ]
        }
      ]
    },
    {
      "cell_type": "markdown",
      "source": [
        "## 6.4 Early Stopping\n",
        "\n",
        "Stop when 5 rounds not improved to avoid uncapped boosted trees"
      ],
      "metadata": {
        "id": "YkT8uONXAV2L"
      }
    },
    {
      "cell_type": "code",
      "source": [
        "cancer = load_breast_cancer()\n",
        "\n",
        "X = cancer.data\n",
        "y = cancer.target\n",
        "\n",
        "# if more than one evaluation metric are given the last one is used for early stopping\n",
        "xgb_model = xgb.XGBClassifier(objective=\"binary:logistic\", random_state=42, eval_metric=\"auc\")\n",
        "\n",
        "X_train, X_test, y_train, y_test = train_test_split(X, y, random_state=42)\n",
        "\n",
        "xgb_model.fit(X_train, y_train, early_stopping_rounds=5, eval_set=[(X_test, y_test)])\n",
        "\n",
        "y_pred = xgb_model.predict(X_test)\n",
        "\n",
        "accuracy_score(y_test, y_pred)"
      ],
      "metadata": {
        "colab": {
          "base_uri": "https://localhost:8080/"
        },
        "id": "lNwhr9CbAai6",
        "outputId": "d980da7f-9f4c-4370-ae62-17159bd6a3e4"
      },
      "execution_count": 22,
      "outputs": [
        {
          "output_type": "stream",
          "name": "stdout",
          "text": [
            "[0]\tvalidation_0-auc:0.964315\n",
            "Will train until validation_0-auc hasn't improved in 5 rounds.\n",
            "[1]\tvalidation_0-auc:0.970662\n",
            "[2]\tvalidation_0-auc:0.976176\n",
            "[3]\tvalidation_0-auc:0.976176\n",
            "[4]\tvalidation_0-auc:0.977216\n",
            "[5]\tvalidation_0-auc:0.977008\n",
            "[6]\tvalidation_0-auc:0.97732\n",
            "[7]\tvalidation_0-auc:0.97732\n",
            "[8]\tvalidation_0-auc:0.973575\n",
            "[9]\tvalidation_0-auc:0.973575\n",
            "[10]\tvalidation_0-auc:0.973575\n",
            "[11]\tvalidation_0-auc:0.973575\n",
            "Stopping. Best iteration:\n",
            "[6]\tvalidation_0-auc:0.97732\n",
            "\n"
          ]
        },
        {
          "output_type": "execute_result",
          "data": {
            "text/plain": [
              "0.958041958041958"
            ]
          },
          "metadata": {},
          "execution_count": 22
        }
      ]
    },
    {
      "cell_type": "code",
      "source": [
        "print(\"best score: {0}, best iteration: {1}, best ntree limit {2}\".format(xgb_model.best_score, xgb_model.best_iteration, xgb_model.best_ntree_limit))"
      ],
      "metadata": {
        "colab": {
          "base_uri": "https://localhost:8080/"
        },
        "id": "Y5uuTXV7AeIV",
        "outputId": "dd3eab92-15a0-4930-8833-658481c92130"
      },
      "execution_count": 23,
      "outputs": [
        {
          "output_type": "stream",
          "name": "stdout",
          "text": [
            "best score: 0.97732, best iteration: 6, best ntree limit 7\n"
          ]
        }
      ]
    },
    {
      "cell_type": "markdown",
      "source": [
        "## 6.5 Evaluation"
      ],
      "metadata": {
        "id": "-UeaDcczAf_j"
      }
    },
    {
      "cell_type": "code",
      "source": [
        "cancer = load_breast_cancer()\n",
        "\n",
        "X = cancer.data\n",
        "y = cancer.target\n",
        "\n",
        "xgb_model = xgb.XGBClassifier(objective=\"binary:logistic\", n_estimators=20, random_state=42, eval_metric=[\"auc\", \"error\", \"error@0.6\"])\n",
        "\n",
        "X_train, X_test, y_train, y_test = train_test_split(X, y, random_state=42)\n",
        "\n",
        "xgb_model.fit(X_train, y_train, eval_set=[(X_test, y_test)])\n",
        "\n",
        "y_pred = xgb_model.predict(X_test)"
      ],
      "metadata": {
        "colab": {
          "base_uri": "https://localhost:8080/"
        },
        "id": "OwR-VWROAizc",
        "outputId": "c14329e9-8b9d-4744-bf9c-49f87b6b1ef4"
      },
      "execution_count": 24,
      "outputs": [
        {
          "output_type": "stream",
          "name": "stdout",
          "text": [
            "[0]\tvalidation_0-auc:0.964315\tvalidation_0-error:0.048951\tvalidation_0-error@0.6:0.622378\n",
            "[1]\tvalidation_0-auc:0.970662\tvalidation_0-error:0.048951\tvalidation_0-error@0.6:0.622378\n",
            "[2]\tvalidation_0-auc:0.976176\tvalidation_0-error:0.041958\tvalidation_0-error@0.6:0.104895\n",
            "[3]\tvalidation_0-auc:0.976176\tvalidation_0-error:0.041958\tvalidation_0-error@0.6:0.076923\n",
            "[4]\tvalidation_0-auc:0.977216\tvalidation_0-error:0.041958\tvalidation_0-error@0.6:0.062937\n",
            "[5]\tvalidation_0-auc:0.977008\tvalidation_0-error:0.041958\tvalidation_0-error@0.6:0.062937\n",
            "[6]\tvalidation_0-auc:0.97732\tvalidation_0-error:0.041958\tvalidation_0-error@0.6:0.055944\n",
            "[7]\tvalidation_0-auc:0.97732\tvalidation_0-error:0.048951\tvalidation_0-error@0.6:0.048951\n",
            "[8]\tvalidation_0-auc:0.973575\tvalidation_0-error:0.048951\tvalidation_0-error@0.6:0.048951\n",
            "[9]\tvalidation_0-auc:0.973575\tvalidation_0-error:0.048951\tvalidation_0-error@0.6:0.048951\n",
            "[10]\tvalidation_0-auc:0.973575\tvalidation_0-error:0.048951\tvalidation_0-error@0.6:0.048951\n",
            "[11]\tvalidation_0-auc:0.973575\tvalidation_0-error:0.048951\tvalidation_0-error@0.6:0.048951\n",
            "[12]\tvalidation_0-auc:0.973575\tvalidation_0-error:0.041958\tvalidation_0-error@0.6:0.048951\n",
            "[13]\tvalidation_0-auc:0.979089\tvalidation_0-error:0.041958\tvalidation_0-error@0.6:0.048951\n",
            "[14]\tvalidation_0-auc:0.978777\tvalidation_0-error:0.041958\tvalidation_0-error@0.6:0.048951\n",
            "[15]\tvalidation_0-auc:0.986059\tvalidation_0-error:0.041958\tvalidation_0-error@0.6:0.041958\n",
            "[16]\tvalidation_0-auc:0.98866\tvalidation_0-error:0.034965\tvalidation_0-error@0.6:0.048951\n",
            "[17]\tvalidation_0-auc:0.989284\tvalidation_0-error:0.034965\tvalidation_0-error@0.6:0.041958\n",
            "[18]\tvalidation_0-auc:0.989284\tvalidation_0-error:0.034965\tvalidation_0-error@0.6:0.041958\n",
            "[19]\tvalidation_0-auc:0.991261\tvalidation_0-error:0.034965\tvalidation_0-error@0.6:0.041958\n"
          ]
        }
      ]
    },
    {
      "cell_type": "markdown",
      "source": [
        "## 6.6 Plotting"
      ],
      "metadata": {
        "id": "9yfN3hwsAkGm"
      }
    },
    {
      "cell_type": "code",
      "source": [
        "# requires graphviz and python-graphviz conda packages\n",
        "import graphviz\n",
        "\n",
        "cancer = load_breast_cancer()\n",
        "\n",
        "X = cancer.data\n",
        "y = cancer.target\n",
        "\n",
        "xgb_model = xgb.XGBClassifier(objective=\"binary:logistic\", random_state=42, eval_metric=\"auc\")\n",
        "\n",
        "X_train, X_test, y_train, y_test = train_test_split(X, y, random_state=42)\n",
        "\n",
        "xgb_model.fit(X_train, y_train, early_stopping_rounds=10, eval_set=[(X_test, y_test)], verbose=False)\n",
        "\n",
        "xgb.plot_importance(xgb_model)\n",
        "\n",
        "# plot the output tree via matplotlib, specifying the ordinal number of the target tree\n",
        "# xgb.plot_tree(xgb_model, num_trees=xgb_model.best_iteration)\n",
        "\n",
        "# converts the target tree to a graphviz instance\n",
        "xgb.to_graphviz(xgb_model, num_trees=xgb_model.best_iteration)"
      ],
      "metadata": {
        "colab": {
          "base_uri": "https://localhost:8080/",
          "height": 706
        },
        "id": "Fe9nB2iGAl1R",
        "outputId": "a26b0b50-516e-4e4e-9841-8b0bb4bf15c1"
      },
      "execution_count": 25,
      "outputs": [
        {
          "output_type": "execute_result",
          "data": {
            "text/plain": [
              "<graphviz.dot.Digraph at 0x7fe0d3f270d0>"
            ],
            "image/svg+xml": "<?xml version=\"1.0\" encoding=\"UTF-8\" standalone=\"no\"?>\n<!DOCTYPE svg PUBLIC \"-//W3C//DTD SVG 1.1//EN\"\n \"http://www.w3.org/Graphics/SVG/1.1/DTD/svg11.dtd\">\n<!-- Generated by graphviz version 2.40.1 (20161225.0304)\n -->\n<!-- Title: %3 Pages: 1 -->\n<svg width=\"728pt\" height=\"305pt\"\n viewBox=\"0.00 0.00 727.99 305.00\" xmlns=\"http://www.w3.org/2000/svg\" xmlns:xlink=\"http://www.w3.org/1999/xlink\">\n<g id=\"graph0\" class=\"graph\" transform=\"scale(1 1) rotate(0) translate(4 301)\">\n<title>%3</title>\n<polygon fill=\"#ffffff\" stroke=\"transparent\" points=\"-4,4 -4,-301 723.985,-301 723.985,4 -4,4\"/>\n<!-- 0 -->\n<g id=\"node1\" class=\"node\">\n<title>0</title>\n<ellipse fill=\"none\" stroke=\"#000000\" cx=\"358.5928\" cy=\"-279\" rx=\"79.8859\" ry=\"18\"/>\n<text text-anchor=\"middle\" x=\"358.5928\" y=\"-275.3\" font-family=\"Times,serif\" font-size=\"14.00\" fill=\"#000000\">f26&lt;0.208200008</text>\n</g>\n<!-- 1 -->\n<g id=\"node2\" class=\"node\">\n<title>1</title>\n<ellipse fill=\"none\" stroke=\"#000000\" cx=\"267.5928\" cy=\"-192\" rx=\"75.2868\" ry=\"18\"/>\n<text text-anchor=\"middle\" x=\"267.5928\" y=\"-188.3\" font-family=\"Times,serif\" font-size=\"14.00\" fill=\"#000000\">f13&lt;42.8250008</text>\n</g>\n<!-- 0&#45;&gt;1 -->\n<g id=\"edge1\" class=\"edge\">\n<title>0&#45;&gt;1</title>\n<path fill=\"none\" stroke=\"#0000ff\" d=\"M340.1776,-261.3943C326.7331,-248.5407 308.328,-230.9446 293.4157,-216.6878\"/>\n<polygon fill=\"#0000ff\" stroke=\"#0000ff\" points=\"295.6275,-213.9602 285.9807,-209.5796 290.7902,-219.0199 295.6275,-213.9602\"/>\n<text text-anchor=\"middle\" x=\"354.0928\" y=\"-231.8\" font-family=\"Times,serif\" font-size=\"14.00\" fill=\"#000000\">yes, missing</text>\n</g>\n<!-- 2 -->\n<g id=\"node3\" class=\"node\">\n<title>2</title>\n<ellipse fill=\"none\" stroke=\"#000000\" cx=\"449.5928\" cy=\"-192\" rx=\"75.2868\" ry=\"18\"/>\n<text text-anchor=\"middle\" x=\"449.5928\" y=\"-188.3\" font-family=\"Times,serif\" font-size=\"14.00\" fill=\"#000000\">f23&lt;953.700012</text>\n</g>\n<!-- 0&#45;&gt;2 -->\n<g id=\"edge2\" class=\"edge\">\n<title>0&#45;&gt;2</title>\n<path fill=\"none\" stroke=\"#ff0000\" d=\"M377.0081,-261.3943C390.4526,-248.5407 408.8577,-230.9446 423.77,-216.6878\"/>\n<polygon fill=\"#ff0000\" stroke=\"#ff0000\" points=\"426.3955,-219.0199 431.205,-209.5796 421.5582,-213.9602 426.3955,-219.0199\"/>\n<text text-anchor=\"middle\" x=\"417.5928\" y=\"-231.8\" font-family=\"Times,serif\" font-size=\"14.00\" fill=\"#000000\">no</text>\n</g>\n<!-- 3 -->\n<g id=\"node4\" class=\"node\">\n<title>3</title>\n<ellipse fill=\"none\" stroke=\"#000000\" cx=\"80.5928\" cy=\"-105\" rx=\"80.6858\" ry=\"18\"/>\n<text text-anchor=\"middle\" x=\"80.5928\" y=\"-101.3\" font-family=\"Times,serif\" font-size=\"14.00\" fill=\"#000000\">leaf=0.090577662</text>\n</g>\n<!-- 1&#45;&gt;3 -->\n<g id=\"edge3\" class=\"edge\">\n<title>1&#45;&gt;3</title>\n<path fill=\"none\" stroke=\"#0000ff\" d=\"M232.8578,-175.8399C202.4797,-161.7067 158.1836,-141.0984 125.1918,-125.7492\"/>\n<polygon fill=\"#0000ff\" stroke=\"#0000ff\" points=\"126.3196,-122.4137 115.7764,-121.3688 123.3668,-128.7605 126.3196,-122.4137\"/>\n<text text-anchor=\"middle\" x=\"221.0928\" y=\"-144.8\" font-family=\"Times,serif\" font-size=\"14.00\" fill=\"#000000\">yes, missing</text>\n</g>\n<!-- 4 -->\n<g id=\"node5\" class=\"node\">\n<title>4</title>\n<ellipse fill=\"none\" stroke=\"#000000\" cx=\"267.5928\" cy=\"-105\" rx=\"88.2844\" ry=\"18\"/>\n<text text-anchor=\"middle\" x=\"267.5928\" y=\"-101.3\" font-family=\"Times,serif\" font-size=\"14.00\" fill=\"#000000\">leaf=&#45;0.0125452532</text>\n</g>\n<!-- 1&#45;&gt;4 -->\n<g id=\"edge4\" class=\"edge\">\n<title>1&#45;&gt;4</title>\n<path fill=\"none\" stroke=\"#ff0000\" d=\"M267.5928,-173.9735C267.5928,-162.1918 267.5928,-146.5607 267.5928,-133.1581\"/>\n<polygon fill=\"#ff0000\" stroke=\"#ff0000\" points=\"271.0929,-133.0033 267.5928,-123.0034 264.0929,-133.0034 271.0929,-133.0033\"/>\n<text text-anchor=\"middle\" x=\"275.5928\" y=\"-144.8\" font-family=\"Times,serif\" font-size=\"14.00\" fill=\"#000000\">no</text>\n</g>\n<!-- 5 -->\n<g id=\"node6\" class=\"node\">\n<title>5</title>\n<ellipse fill=\"none\" stroke=\"#000000\" cx=\"449.5928\" cy=\"-105\" rx=\"75.2868\" ry=\"18\"/>\n<text text-anchor=\"middle\" x=\"449.5928\" y=\"-101.3\" font-family=\"Times,serif\" font-size=\"14.00\" fill=\"#000000\">f21&lt;27.4300003</text>\n</g>\n<!-- 2&#45;&gt;5 -->\n<g id=\"edge5\" class=\"edge\">\n<title>2&#45;&gt;5</title>\n<path fill=\"none\" stroke=\"#0000ff\" d=\"M449.5928,-173.9735C449.5928,-162.1918 449.5928,-146.5607 449.5928,-133.1581\"/>\n<polygon fill=\"#0000ff\" stroke=\"#0000ff\" points=\"453.0929,-133.0033 449.5928,-123.0034 446.0929,-133.0034 453.0929,-133.0033\"/>\n<text text-anchor=\"middle\" x=\"485.0928\" y=\"-144.8\" font-family=\"Times,serif\" font-size=\"14.00\" fill=\"#000000\">yes, missing</text>\n</g>\n<!-- 6 -->\n<g id=\"node7\" class=\"node\">\n<title>6</title>\n<ellipse fill=\"none\" stroke=\"#000000\" cx=\"631.5928\" cy=\"-105\" rx=\"88.2844\" ry=\"18\"/>\n<text text-anchor=\"middle\" x=\"631.5928\" y=\"-101.3\" font-family=\"Times,serif\" font-size=\"14.00\" fill=\"#000000\">leaf=&#45;0.0867691636</text>\n</g>\n<!-- 2&#45;&gt;6 -->\n<g id=\"edge6\" class=\"edge\">\n<title>2&#45;&gt;6</title>\n<path fill=\"none\" stroke=\"#ff0000\" d=\"M483.3991,-175.8399C512.7779,-161.7961 555.5316,-141.359 587.5754,-126.0413\"/>\n<polygon fill=\"#ff0000\" stroke=\"#ff0000\" points=\"589.2158,-129.1365 596.7285,-121.6659 586.1968,-122.821 589.2158,-129.1365\"/>\n<text text-anchor=\"middle\" x=\"559.5928\" y=\"-144.8\" font-family=\"Times,serif\" font-size=\"14.00\" fill=\"#000000\">no</text>\n</g>\n<!-- 7 -->\n<g id=\"node8\" class=\"node\">\n<title>7</title>\n<ellipse fill=\"none\" stroke=\"#000000\" cx=\"353.5928\" cy=\"-18\" rx=\"85.2851\" ry=\"18\"/>\n<text text-anchor=\"middle\" x=\"353.5928\" y=\"-14.3\" font-family=\"Times,serif\" font-size=\"14.00\" fill=\"#000000\">leaf=0.0644017607</text>\n</g>\n<!-- 5&#45;&gt;7 -->\n<g id=\"edge7\" class=\"edge\">\n<title>5&#45;&gt;7</title>\n<path fill=\"none\" stroke=\"#0000ff\" d=\"M430.1658,-87.3943C415.8524,-74.4228 396.2095,-56.6213 380.4025,-42.2962\"/>\n<polygon fill=\"#0000ff\" stroke=\"#0000ff\" points=\"382.7512,-39.7013 372.991,-35.5796 378.0506,-44.8883 382.7512,-39.7013\"/>\n<text text-anchor=\"middle\" x=\"443.0928\" y=\"-57.8\" font-family=\"Times,serif\" font-size=\"14.00\" fill=\"#000000\">yes, missing</text>\n</g>\n<!-- 8 -->\n<g id=\"node9\" class=\"node\">\n<title>8</title>\n<ellipse fill=\"none\" stroke=\"#000000\" cx=\"545.5928\" cy=\"-18\" rx=\"88.2844\" ry=\"18\"/>\n<text text-anchor=\"middle\" x=\"545.5928\" y=\"-14.3\" font-family=\"Times,serif\" font-size=\"14.00\" fill=\"#000000\">leaf=&#45;0.0561203919</text>\n</g>\n<!-- 5&#45;&gt;8 -->\n<g id=\"edge8\" class=\"edge\">\n<title>5&#45;&gt;8</title>\n<path fill=\"none\" stroke=\"#ff0000\" d=\"M469.0199,-87.3943C483.3333,-74.4228 502.9762,-56.6213 518.7832,-42.2962\"/>\n<polygon fill=\"#ff0000\" stroke=\"#ff0000\" points=\"521.1351,-44.8883 526.1947,-35.5796 516.4345,-39.7013 521.1351,-44.8883\"/>\n<text text-anchor=\"middle\" x=\"511.5928\" y=\"-57.8\" font-family=\"Times,serif\" font-size=\"14.00\" fill=\"#000000\">no</text>\n</g>\n</g>\n</svg>\n"
          },
          "metadata": {},
          "execution_count": 25
        },
        {
          "output_type": "display_data",
          "data": {
            "text/plain": [
              "<Figure size 432x288 with 1 Axes>"
            ],
            "image/png": "[encoded data removed]"
          },
          "metadata": {
            "needs_background": "light"
          }
        }
      ]
    },
    {
      "cell_type": "markdown",
      "source": [
        "## 6.7 Pipeline"
      ],
      "metadata": {
        "id": "xjkc2vZBR3ns"
      }
    },
    {
      "cell_type": "markdown",
      "source": [
        "### 6.7.1 Balanced Data"
      ],
      "metadata": {
        "id": "DoWSFbIXaK64"
      }
    },
    {
      "cell_type": "code",
      "source": [
        "from sklearn.base import BaseEstimator, TransformerMixin\n",
        "from sklearn.preprocessing import MinMaxScaler\n",
        "class PreprocessTransformer(BaseEstimator, TransformerMixin):\n",
        "  def __init__(self, cat_features, num_features):\n",
        "    self.cat_features = cat_features\n",
        "    self.num_features = num_features\n",
        "  def fit(self, X, y=None):\n",
        "    return self\n",
        "  def transform(self, X, y=None):\n",
        "    df = X.copy()\n",
        "    # Treat ? workclass as unknown\n",
        "    df.loc[df['workclass'] == '?', 'workclass'] = 'Unknown'\n",
        "    # Too many categories, just convert to US and Non-US\n",
        "    df.loc[df['native_country']!='United-States','native_country']='non_usa'\n",
        "    # Convert columns to categorical\n",
        "    for name in self.cat_features:\n",
        "      col = pd.Categorical(df[name])\n",
        "      df[name] = col.codes\n",
        "    # Normalize numerical features\n",
        "    scaler = MinMaxScaler()\n",
        "    df[self.num_features] = scaler.fit_transform(df[num_features])\n",
        "    return df\n",
        "\n",
        "from sklearn.model_selection import train_test_split\n",
        "# Split the dataset into training and testing\n",
        "X_train, X_test, y_train, y_test = train_test_split(\n",
        "  df.drop('high_income', axis=1),\n",
        "  df['high_income'],\n",
        "  test_size=0.2,\n",
        "  random_state=42,\n",
        "  shuffle=True,\n",
        "  stratify=df['high_income']\n",
        ")\n",
        "\n",
        "from sklearn.pipeline import Pipeline\n",
        "from sklearn.feature_selection import SelectKBest, chi2\n",
        "import xgboost as xgb\n",
        "# Get columns list for categorical and numerical\n",
        "categorical_features = df.select_dtypes('object').columns.tolist()\n",
        "numerical_features = df.select_dtypes('int64').columns.tolist()\n",
        "# Create a pipeline\n",
        "pipe = Pipeline([\n",
        "  ('preproc', PreprocTransformer(categorical_features, numerical_features)),\n",
        "  ('fs', SelectKBest()),\n",
        "  ('clf', xgb.XGBClassifier(objective='binary:logistic'))\n",
        "])\n",
        "\n",
        "\n",
        "from sklearn.model_selection import KFold, GridSearchCV\n",
        "from sklearn.metrics import accuracy_score, make_scorer\n",
        "# Define our search space for grid search\n",
        "search_space = [\n",
        "  {\n",
        "    'clf__n_estimators': [50, 100, 150, 200],\n",
        "    'clf__learning_rate': [0.01, 0.1, 0.2, 0.3],\n",
        "    'clf__max_depth': range(3, 10),\n",
        "    'clf__colsample_bytree': [i/10.0 for i in range(1, 3)],\n",
        "    'clf__gamma': [i/10.0 for i in range(3)],\n",
        "    'fs__score_func': [chi2],\n",
        "    'fs__k': [10],\n",
        "  }\n",
        "]\n",
        "# Define cross validation\n",
        "kfold = KFold(n_splits=10, random_state=42)\n",
        "# AUC and accuracy as score\n",
        "scoring = {'AUC':'roc_auc', 'Accuracy':make_scorer(accuracy_score)}\n",
        "# Define grid search\n",
        "grid = GridSearchCV(\n",
        "  pipe,\n",
        "  param_grid=search_space,\n",
        "  cv=kfold,\n",
        "  scoring=scoring,\n",
        "  refit='AUC',\n",
        "  verbose=1,\n",
        "  n_jobs=-1\n",
        ")\n",
        "# Fit grid search\n",
        "model = grid.fit(X_train, y_train)\n",
        "\n",
        "predict = model.predict(X_test)\n",
        "print('Best AUC Score: {}'.format(model.best_score_))\n",
        "print('Accuracy: {}'.format(accuracy_score(y_test, predict)))\n",
        "print(confusion_matrix(y_test,predict))\n",
        "print(model.best_params_)"
      ],
      "metadata": {
        "id": "0F2zQMenR5nw"
      },
      "execution_count": null,
      "outputs": []
    },
    {
      "cell_type": "markdown",
      "source": [
        "### 6.7.2 Imbalanced Data - SMOTE"
      ],
      "metadata": {
        "id": "GxIvZCz_aSSl"
      }
    },
    {
      "cell_type": "code",
      "source": [
        "import matplotlib\n",
        "from matplotlib import pyplot as plt\n",
        "import seaborn as sns\n",
        "import pandas as pd\n",
        "import numpy as np\n",
        "import itertools\n",
        "import os\n",
        "\n",
        "# Import preprocessing and composing tools\n",
        "from sklearn.model_selection import train_test_split\n",
        "from sklearn.compose import make_column_transformer\n",
        "from sklearn.preprocessing import OrdinalEncoder, OneHotEncoder, StandardScaler\n",
        "from imblearn.over_sampling import SMOTE\n",
        "from imblearn.pipeline import make_pipeline\n",
        "\n",
        "# Import metrics tools\n",
        "from sklearn.metrics import precision_score, recall_score, f1_score, make_scorer, classification_report, confusion_matrix\n",
        "\n",
        "# Import fitting tools\n",
        "from sklearn.model_selection import GridSearchCV\n",
        "from xgboost import XGBClassifier\n",
        "\n",
        "# Calling the encoder classes\n",
        "ord_enc = OrdinalEncoder(categories = [edu_lvl, income_cat, card_cat])\n",
        "one_hot_enc = OneHotEncoder(handle_unknown=\"ignore\")\n",
        "\n",
        "# Make column transformer\n",
        "column_transform = make_column_transformer((ord_enc, ordinal_enc_variables),\n",
        "                                          (one_hot_enc, one_hot_enc_variables),\n",
        "                                           remainder=\"passthrough\")\n",
        "\n",
        "# Make pipeline\n",
        "classifier = XGBClassifier()\n",
        "pipeline = make_pipeline(column_transform, SMOTE(), StandardScaler(), classifier)\n",
        "\n",
        "\n",
        "# Set parameters values for grid\n",
        "param_grid = {\n",
        "    \"xgbclassifier__learning_rate\":[0.01, 0.3, 0.5],\n",
        "    \"xgbclassifier__n_estimators\": [10, 100, 200],\n",
        "    \"xgbclassifier__max_depth\": [1, 3, 5],\n",
        "    \"xgbclassifier__objective\": [\"binary:logistic\"],\n",
        "    \"xgbclassifier__use_label_encoder\": [False],\n",
        "    \"xgbclassifier__booster\": [\"gbtree\"],\n",
        "    \"xgbclassifier__eval_metric\": [\"logloss\"]}\n",
        "\n",
        "# Make custom scoring metric\n",
        "scorer = make_scorer(f1_score, pos_label=1)\n",
        "\n",
        "# Intantiate GridSearchCV\n",
        "grid_search_cv = GridSearchCV(pipeline, param_grid, scoring = scorer)\n",
        "\n",
        "# Fit\n",
        "model = grid_search_cv.fit(x_train, y_train)"
      ],
      "metadata": {
        "id": "y-lyyMyQaRtR"
      },
      "execution_count": null,
      "outputs": []
    },
    {
      "cell_type": "markdown",
      "source": [
        "---"
      ],
      "metadata": {
        "id": "MpdSm43xSbqv"
      }
    },
    {
      "cell_type": "markdown",
      "source": [
        "# 7. Imbalanced Data\n",
        "\n",
        "Difference between `weights` and `scale_pos_weight` (from stackflow, see ref 6)\n",
        "\n",
        "scale_pos_weight is a float (i.e. single value), which allows you to adjust the classification threshold. I.e. to tune the model's tendency to predict positive or negative values across the entire dataset.\n",
        "\n",
        "DMatrix's weight argument requires an array-like object and is used to specify a \"Weight for each instance\". This allows more control over how the classifier makes its predictions, as each weight is used to scale the loss function that is being optimised.\n",
        "\n",
        "**Scenario One**\n",
        "\n",
        "In this scenario, our dataset consists of images either with a cat or with no animal at all. The dataset is imbalanced, with most images having no animal. Here we might use scale_pos_weight to increase the weighting of positive (with cats) images to deal with the imbalance.\n",
        "\n",
        "In general, we tend to set scale_pos_weight proportionally to the imbalance. For example, if 20% of the images contain a cat, we would set scale_positive_weight to 4. (Of course this hyperparameter should be set empirically, e.g. using cross-validation, but this is a sensible initial/default value.)\n",
        "\n",
        "**Scenario Two**\n",
        "\n",
        "In this scenario, our dataset is again imbalanced with similar proportions of cat vs 'no-cat' images. However, this time it also includes some images with a dog. Potentially, our classifier may tend to mistake dogs for cats, decreasing its performance, with a higher false positive rate. In this instance, we may wish to specify per-sample weights using DMatrix's weight argument. In effect we would attempt to penalise dog-related false positives, which would not be possible with a single factor applied to the overall classification threshold. "
      ],
      "metadata": {
        "id": "q3Ju_azoSdE7"
      }
    },
    {
      "cell_type": "markdown",
      "source": [
        "## 8.1 `sample_weights`"
      ],
      "metadata": {
        "id": "KsefL24NTjRP"
      }
    },
    {
      "cell_type": "code",
      "source": [
        "from sklearn.model_selection import train_test_split\n",
        "from sklearn.utils.class_weight import compute_sample_weight\n",
        "\n",
        "from sklearn.model_selection import KFold, GridSearchCV\n",
        "from sklearn.metrics import accuracy_score, make_scorer\n",
        "from sklearn.feature_selection import SelectKBest, chi2\n",
        "from sklearn.model_selection import KFold, GridSearchCV\n",
        "from sklearn.pipeline import Pipeline\n",
        "import xgboost as xgb\n",
        "\n",
        "\n",
        "X = df.drop(['label'], axis=1)\n",
        "y = df.label\n",
        "\n",
        "X_train, X_test, y_train, y_test = train_test_split(X, y, test_size=0.2, random_state=42, stratify=y)\n",
        "\n",
        "sample_weights = compute_sample_weight(class_weight='balanced',y=y_train)\n",
        "\n",
        "model = xgb.XGBClassifier(objective=\"binary:logistic\", random_state=42, sample_weight=sample_weights)\n",
        "\n",
        "params = {\n",
        "'n_estimators': [50, 100, 150, 200],\n",
        "'learning_rate': [0.01, 0.1, 0.2, 0.3],\n",
        "'max_depth': range(3, 10),\n",
        "'colsample_bytree': [i/10.0 for i in range(1, 3)],\n",
        "'gamma': [i/10.0 for i in range(3)],\n",
        "}\n",
        "\n",
        "# Fit grid search\n",
        "search = GridSearchCV(model, params, cv=3, verbose=1, n_jobs=1)\n",
        "\n",
        "search.fit(X_train, y_train) # , fit_params={'sample_weight': sample_weights}\n",
        "print(search.best_params_)"
      ],
      "metadata": {
        "id": "R4Kmf105TnP6"
      },
      "execution_count": null,
      "outputs": []
    },
    {
      "cell_type": "markdown",
      "source": [
        "## 8.2 `scale_pos_weight`\n",
        "\n",
        "A sensible default value to set for the scale_pos_weight hyperparameter is the inverse of the class distribution. For example, for a dataset with a 1 to 100 ratio for examples in the minority to majority classes, the scale_pos_weight can be set to 100. This will give classification errors made by the model on the minority class (positive class) 100 times more impact, and in turn, 100 times more correction than errors made on the majority class."
      ],
      "metadata": {
        "id": "GgKzwjKJT_PU"
      }
    },
    {
      "cell_type": "code",
      "source": [
        "from sklearn.model_selection import train_test_split\n",
        "from sklearn.utils.class_weight import compute_sample_weight\n",
        "\n",
        "from sklearn.model_selection import KFold, GridSearchCV\n",
        "from sklearn.metrics import accuracy_score, make_scorer\n",
        "from sklearn.feature_selection import SelectKBest, chi2\n",
        "from sklearn.model_selection import KFold, GridSearchCV\n",
        "from sklearn.pipeline import Pipeline\n",
        "import xgboost as xgb\n",
        "\n",
        "\n",
        "df = df_encoded_renamed.drop(\"gender\", axis=1)\n",
        "X = df.drop(['label'], axis=1)\n",
        "y = df.label\n",
        "\n",
        "X_train, X_test, y_train, y_test = train_test_split(X, y, test_size=0.2, random_state=42, stratify=y)\n",
        "\n",
        "sample_weights = compute_sample_weight(class_weight='balanced',y=y_train)\n",
        "\n",
        "model = xgb.XGBClassifier(objective=\"binary:logistic\", random_state=42, scale_pos_weight=55)\n",
        "\n",
        "params = {\n",
        "'n_estimators': [50, 100, 150, 200],\n",
        "'earning_rate': [0.01, 0.1, 0.2, 0.3],\n",
        "'max_depth': range(3, 10),\n",
        "'colsample_bytree': [i/10.0 for i in range(1, 3)],\n",
        "'gamma': [i/10.0 for i in range(3)],\n",
        "}\n",
        "\n",
        "# Fit grid search\n",
        "search = GridSearchCV(model, params, cv=3, verbose=1, n_jobs=1)\n",
        "\n",
        "search.fit(X_train, y_train) # , fit_params={'sample_weight': sample_weights}\n",
        "print(search.best_params_)"
      ],
      "metadata": {
        "id": "Tj4AQdZpT-_S"
      },
      "execution_count": null,
      "outputs": []
    },
    {
      "cell_type": "markdown",
      "source": [
        "## 8.3 Tune the class weighting hyperparameter of `scale_pos_weight`"
      ],
      "metadata": {
        "id": "IOFEmGznfUii"
      }
    },
    {
      "cell_type": "code",
      "source": [
        "# grid search positive class weights with xgboost for imbalance classification\n",
        "from numpy import mean\n",
        "from sklearn.datasets import make_classification\n",
        "from sklearn.model_selection import GridSearchCV\n",
        "from sklearn.model_selection import RepeatedStratifiedKFold\n",
        "from xgboost import XGBClassifier\n",
        "# generate dataset\n",
        "X, y = make_classification(n_samples=10000, n_features=2, n_redundant=0,\n",
        "\tn_clusters_per_class=2, weights=[0.99], flip_y=0, random_state=7)\n",
        "# define model\n",
        "model = XGBClassifier()\n",
        "# define grid\n",
        "weights = [1, 10, 25, 50, 75, 99, 100, 1000]\n",
        "param_grid = dict(scale_pos_weight=weights)\n",
        "# define evaluation procedure\n",
        "cv = RepeatedStratifiedKFold(n_splits=10, n_repeats=3, random_state=1)\n",
        "# define grid search\n",
        "grid = GridSearchCV(estimator=model, param_grid=param_grid, n_jobs=-1, cv=cv, scoring='roc_auc')\n",
        "# execute the grid search\n",
        "grid_result = grid.fit(X, y)\n",
        "# report the best configuration\n",
        "print(\"Best: %f using %s\" % (grid_result.best_score_, grid_result.best_params_))\n",
        "# report all configurations\n",
        "means = grid_result.cv_results_['mean_test_score']\n",
        "stds = grid_result.cv_results_['std_test_score']\n",
        "params = grid_result.cv_results_['params']\n",
        "for mean, stdev, param in zip(means, stds, params):\n",
        "    print(\"%f (%f) with: %r\" % (mean, stdev, param))"
      ],
      "metadata": {
        "colab": {
          "base_uri": "https://localhost:8080/"
        },
        "id": "Hh07n3Ekfjp3",
        "outputId": "40534e3b-a5e0-48e2-8bda-6b96ee131774"
      },
      "execution_count": 26,
      "outputs": [
        {
          "output_type": "stream",
          "name": "stdout",
          "text": [
            "Best: 0.960155 using {'scale_pos_weight': 1000}\n",
            "0.953721 (0.035950) with: {'scale_pos_weight': 1}\n",
            "0.958254 (0.028362) with: {'scale_pos_weight': 10}\n",
            "0.957892 (0.027283) with: {'scale_pos_weight': 25}\n",
            "0.959157 (0.027430) with: {'scale_pos_weight': 50}\n",
            "0.959241 (0.028015) with: {'scale_pos_weight': 75}\n",
            "0.959305 (0.028286) with: {'scale_pos_weight': 99}\n",
            "0.959505 (0.028213) with: {'scale_pos_weight': 100}\n",
            "0.960155 (0.028721) with: {'scale_pos_weight': 1000}\n"
          ]
        }
      ]
    },
    {
      "cell_type": "markdown",
      "source": [
        "# Reference:\n",
        "\n",
        "1. https://machinelearningmastery.com/data-preparation-gradient-boosting-xgboost-python/\n",
        "\n",
        "2. https://www.kaggle.com/code/stuarthallows/using-xgboost-with-scikit-learn/notebook\n",
        "\n",
        "3. https://medium.com/@silvaan/ensemble-methods-tuning-a-xgboost-model-with-scikit-learn-54ff669f988a\n",
        "\n",
        "4. https://stats.stackexchange.com/questions/243207/what-is-the-proper-usage-of-scale-pos-weight-in-xgboost-for-imbalanced-datasets\n",
        "\n",
        "5. https://machinelearningmastery.com/xgboost-for-imbalanced-classification/\n",
        "\n",
        "6. https://stackoverflow.com/questions/60764119/xgboost-difference-between-scale-pos-weight-and-class-weights\n",
        "\n",
        "7. https://stackoverflow.com/questions/67868420/xgboost-for-multiclassification-and-imbalanced-data\n",
        "\n",
        "8. https://www.kaggle.com/code/kauvinlucas/xgboost-imblearn-pipeline-for-classification\n",
        "\n",
        "9. https://machinelearningmastery.com/xgboost-for-imbalanced-classification/"
      ],
      "metadata": {
        "id": "vxSC6MFqbpfS"
      }
    },
    {
      "cell_type": "code",
      "source": [],
      "metadata": {
        "id": "9FWXsIf7dPJs"
      },
      "execution_count": null,
      "outputs": []
    }
  ]
}
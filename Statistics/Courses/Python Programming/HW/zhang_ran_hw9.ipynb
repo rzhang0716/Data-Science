{
 "cells": [
  {
   "cell_type": "markdown",
   "metadata": {},
   "source": [
    "# Homework 9\n",
    "\n",
    "## Instructions\n",
    "+ Please write you solutions in cells below each problem. Use multiple cells if necessary. \n",
    "+ The solutions may be in the form of code, markdown, or a combination of both. Make an effort to present the solutions in a clean fashion.\n",
    "+ Please submit this notebook in your git repository, under the folder `problemset`. The notebook should be titled `lastname_firstname_hw9.ipynb` (all lower case). \n",
    "+ All figures should be legible and clearly labelled. Please follow plotting conventions from HW 8."
   ]
  },
  {
   "cell_type": "markdown",
   "metadata": {},
   "source": [
    "### Problem 1: Quadratic functions (5 points)\n",
    "\n",
    "\n",
    " (Exercise 7.5 of Langtangen's book) Consider a quadratic function $f(x; a,b,c) = ax^2 + bx + c$. Your tasks are:\n",
    "1.  Make a class `Quadratic` for representing $f$, where $a, b,$ and $c$ are data attributes, and the methods are\n",
    "\n",
    "    + `__init__` for storing the attributes $a,b$, and $c$,\n",
    "    + `value` for computing a value of $f$ at a point $x$,\n",
    "    + `plot` for plotting the $f$ values in the interval $[L,R]$ at $n$ evenly spaced points,\n",
    "    + `roots` for computing the two roots (possibly complex).\n",
    "2. Write good docstrings to document the class `Quadratic`. Type `help(Quadratic)` to print the docstrings. \n",
    "3. Write a test function `testQuadratic()` for verifying the implementation of `value` and `roots`. Please generate several instances of quadratics and compare with `numpy.roots`.  \n"
   ]
  },
  {
   "cell_type": "code",
   "execution_count": 52,
   "metadata": {},
   "outputs": [],
   "source": [
    "import numpy as np\n",
    "import matplotlib as mpl\n",
    "import matplotlib.pyplot as plt\n",
    "import math\n",
    "%matplotlib inline"
   ]
  },
  {
   "cell_type": "code",
   "execution_count": 31,
   "metadata": {},
   "outputs": [],
   "source": [
    "class Quadratic:\n",
    "    '''\n",
    "    The documentation for the class goes here.\n",
    "    Make a class Qudratic for representing f with a, b and c\n",
    "    '''\n",
    "    def __init__ (self, a, b, c):\n",
    "        '''\n",
    "        parameters for the formula\n",
    "        '''\n",
    "        self.a = a\n",
    "        self.b = b\n",
    "        self.c = c\n",
    "    \n",
    "    def value(self,x):\n",
    "        '''\n",
    "        function of the formula\n",
    "        '''\n",
    "        return self.a*(x**2) + self.b*x + self.c\n",
    "    \n",
    "    def plot(self, L, R, n):\n",
    "        '''\n",
    "        plot the x to y by the formula above\n",
    "        '''\n",
    "        x0 = linspace(L,R,n)\n",
    "        plt.plot(x=x0,y=self.a*(x0**2) + self.b*x0 + self.c)\n",
    "        plt.xlabel('X', fontsize=14)\n",
    "        plt.ylabel('y=f(X)', fontsize=14)\n",
    "        plt.title('X and f(X)', fontsize=18)\n",
    "    \n",
    "    def roots(self):\n",
    "        '''\n",
    "        find the roots of the function\n",
    "        '''\n",
    "        root1 = (-self.b + math.sqrt(self.b**2-4*self.a*self.c))/(2*self.a)\n",
    "        root2 = (-self.b - math.sqrt(self.b**2-4*self.a*self.c))/(2*self.a)\n",
    "        return root1, root2"
   ]
  },
  {
   "cell_type": "code",
   "execution_count": 32,
   "metadata": {},
   "outputs": [
    {
     "name": "stdout",
     "output_type": "stream",
     "text": [
      "Help on class Quadratic in module __main__:\n",
      "\n",
      "class Quadratic(builtins.object)\n",
      " |  Quadratic(a, b, c)\n",
      " |  \n",
      " |  The documentation for the class goes here.\n",
      " |  Make a class Qudratic for representing f with a, b and c\n",
      " |  \n",
      " |  Methods defined here:\n",
      " |  \n",
      " |  __init__(self, a, b, c)\n",
      " |      parameters for the formula\n",
      " |  \n",
      " |  plot(self, L, R, n)\n",
      " |      plot the x to y by the formula above\n",
      " |  \n",
      " |  roots(self)\n",
      " |      find the roots of the function\n",
      " |  \n",
      " |  value(self, x)\n",
      " |      function of the formula\n",
      " |  \n",
      " |  ----------------------------------------------------------------------\n",
      " |  Data descriptors defined here:\n",
      " |  \n",
      " |  __dict__\n",
      " |      dictionary for instance variables (if defined)\n",
      " |  \n",
      " |  __weakref__\n",
      " |      list of weak references to the object (if defined)\n",
      "\n"
     ]
    }
   ],
   "source": [
    "help(Quadratic)"
   ]
  },
  {
   "cell_type": "code",
   "execution_count": 35,
   "metadata": {},
   "outputs": [
    {
     "name": "stdout",
     "output_type": "stream",
     "text": [
      "When x is 4, the value is 35\n",
      "The roots of first function are (-1.0, -3.0)\n",
      "The roots of second function are (-3.4364916731037085, 0.4364916731037085)\n"
     ]
    }
   ],
   "source": [
    "def testQuadratic():\n",
    "    t1 = Quadratic(1,4,3)\n",
    "    t2 = Quadratic(-2,-6,3)\n",
    "    print('When x is 4, the value is', t1.value(4))\n",
    "    print('The roots of first function are', t1.roots())\n",
    "    print('The roots of second function are', t2.roots())\n",
    "testQuadratic()"
   ]
  },
  {
   "cell_type": "code",
   "execution_count": 34,
   "metadata": {},
   "outputs": [
    {
     "name": "stdout",
     "output_type": "stream",
     "text": [
      "The roots of first function are [-3. -1.]\n",
      "The roots of second function are [-3.43649167  0.43649167]\n"
     ]
    }
   ],
   "source": [
    "coeff = [1,4,3]\n",
    "print('The roots of first function are',np.roots(coeff))\n",
    "coeff = [-2,-6,3]\n",
    "print('The roots of second function are',np.roots(coeff))"
   ]
  },
  {
   "cell_type": "markdown",
   "metadata": {},
   "source": [
    "### Problem 2: Derived classes (5 points) \n",
    "\n",
    "Write a base class called `Circle` with the following methods\n",
    "+ `__init__` for storing attributes (radius, center)\n",
    "+ `plot` for plotting the circle\n",
    "+ `area`, for computing the area of the circle\n",
    "+ `perimeter` for computing the perimeter of the circle\n",
    "\n",
    "\n",
    "Then, using `Circle` as a base class, write a derived class called `Ellipse` with the same functionalities. An ellipse is defined by a center, $a$ semi-major axis, and $b$ semi-minor axis.\n",
    "\n",
    "The area of an ellipse is $\\pi a b$, whereas the perimeter of an ellipse is given by the approximate formula (from [wikipedia](https://en.wikipedia.org/wiki/Ellipse))\n",
    "$$ \\text{Perimeter} \\approx \\pi(a + b) \\left( 1 + \\frac{3h}{10 + \\sqrt{4-3h}} \\right) \\qquad h = \\frac{(a-b)^2 }{(a+b)^2}.$$\n",
    "\n",
    "Is it better to derive `Ellipse` from `Circle` or vice versa? Briefly discuss."
   ]
  },
  {
   "cell_type": "code",
   "execution_count": 79,
   "metadata": {},
   "outputs": [],
   "source": [
    "class Circle:\n",
    "    def __init__(self, radius, center):\n",
    "        self.radius = radius\n",
    "        self.center = center\n",
    "    \n",
    "    def plot(self):\n",
    "        cir0 = plt.Circle(self.center, self.radius)\n",
    "        fig, ax = plt.subplots()\n",
    "        plt.xlim(self.center[0]-1.25*self.radius,self.center[0]+1.25*self.radius)\n",
    "        plt.ylim(self.center[1]-1.25*self.radius,self.center[1]+1.25*self.radius)\n",
    "        plt.xlabel('X', fontsize = 14)\n",
    "        plt.ylabel('Y', fontsize = 14)\n",
    "        plt.title('Circle', fontsize=18)\n",
    "        ax.set_aspect(1)\n",
    "        return ax.add_artist(cir0) \n",
    "    \n",
    "    def area(self):\n",
    "        return math.pi*self.radius**2\n",
    "    \n",
    "    def perimeter(self):\n",
    "        return math.pi*self.radius*2 "
   ]
  },
  {
   "cell_type": "code",
   "execution_count": 82,
   "metadata": {},
   "outputs": [
    {
     "name": "stdout",
     "output_type": "stream",
     "text": [
      "28.274333882308138\n",
      "18.84955592153876\n"
     ]
    },
    {
     "data": {
      "text/plain": [
       "<matplotlib.patches.Circle at 0x117c93c10>"
      ]
     },
     "execution_count": 82,
     "metadata": {},
     "output_type": "execute_result"
    },
    {
     "data": {
      "image/png": "[encoded data removed]",
      "text/plain": [
       "<Figure size 432x288 with 1 Axes>"
      ]
     },
     "metadata": {
      "needs_background": "light"
     },
     "output_type": "display_data"
    }
   ],
   "source": [
    "para = Circle(3,[1,1])\n",
    "print(para.area())\n",
    "print(para.perimeter())\n",
    "para.plot()"
   ]
  },
  {
   "cell_type": "code",
   "execution_count": 83,
   "metadata": {},
   "outputs": [],
   "source": [
    "class Ellipse(Circle):\n",
    "    \n",
    "    def __init__(self, a, b,center):\n",
    "        self.a = a\n",
    "        self.b = b\n",
    "        self.center = center\n",
    "    \n",
    "    def plot(self):\n",
    "        plt.figure()\n",
    "        ax = plt.gca()\n",
    "        ellipse = mpl.patches.Ellipse(self.center, self.a, self.b)\n",
    "        ax.add_patch(ellipse)\n",
    "        ax.set_aspect(1)\n",
    "        plt.xlim(self.center[0]-self.a, self.center[0]+self.a)\n",
    "        plt.ylim(self.center[1]-self.b, self.center[1]+self.b)\n",
    "        plt.xlabel('x', fontsize = 14)\n",
    "        plt.ylabel('y', fontsize = 14)\n",
    "        plt.title('Ellipse', fontsize=18)\n",
    "        \n",
    "    \n",
    "    def area(self):\n",
    "        return math.pi*self.a*self.b\n",
    "    \n",
    "    def perimeter(self):\n",
    "        h = (self.a - self.b)**2/ (self.a + self.b)**2\n",
    "        return math.pi*(self.a + self.b)*(1 + 3*h/(10+math.sqrt(4-3*h)))"
   ]
  },
  {
   "cell_type": "code",
   "execution_count": 84,
   "metadata": {},
   "outputs": [
    {
     "name": "stdout",
     "output_type": "stream",
     "text": [
      "157.07963267948966\n",
      "48.44224108065042\n"
     ]
    },
    {
     "data": {
      "image/png": "[encoded data removed]",
      "text/plain": [
       "<Figure size 432x288 with 1 Axes>"
      ]
     },
     "metadata": {
      "needs_background": "light"
     },
     "output_type": "display_data"
    }
   ],
   "source": [
    "para = Ellipse(10,5,[2,2])\n",
    "print(para.area())\n",
    "print(para.perimeter())\n",
    "para.plot()"
   ]
  },
  {
   "cell_type": "markdown",
   "metadata": {},
   "source": [
    "I think ellipse is better as we can set the weight parameter to make the circle as one of the special ellipse. However, we cannot represent the ellipse by using circle. "
   ]
  },
  {
   "cell_type": "markdown",
   "metadata": {},
   "source": [
    "Thanks all your help this semester and thanks again for grading my worksheet1 again as I made the wrong submission as the first time. "
   ]
  }
 ],
 "metadata": {
  "kernelspec": {
   "display_name": "Python 3",
   "language": "python",
   "name": "python3"
  },
  "language_info": {
   "codemirror_mode": {
    "name": "ipython",
    "version": 3
   },
   "file_extension": ".py",
   "mimetype": "text/x-python",
   "name": "python",
   "nbconvert_exporter": "python",
   "pygments_lexer": "ipython3",
   "version": "3.7.6"
  }
 },
 "nbformat": 4,
 "nbformat_minor": 2
}

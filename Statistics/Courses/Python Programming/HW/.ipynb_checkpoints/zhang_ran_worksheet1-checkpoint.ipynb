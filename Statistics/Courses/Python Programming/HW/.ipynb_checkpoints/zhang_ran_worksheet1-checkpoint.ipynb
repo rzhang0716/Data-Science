{
 "cells": [
  {
   "cell_type": "markdown",
   "metadata": {},
   "source": [
    "# Worksheet"
   ]
  },
  {
   "cell_type": "markdown",
   "metadata": {},
   "source": [
    "+ Feel free to work in groups of 2-3. However, you have to submit your own work.\n",
    "+ I have given codes to help you plot but you have to fill in the rest to make the plots work.\n",
    "+ This is due 3/20/2020 before lecture. Submit it as problemset/lastname_firstname_worksheet1.ipynb (all lowercase)."
   ]
  },
  {
   "cell_type": "code",
   "execution_count": null,
   "metadata": {},
   "outputs": [],
   "source": [
    "import numpy as np\n",
    "import matplotlib.pyplot as plt \n",
    "%matplotlib inline\n",
    "\n",
    "plt.rcParams['figure.figsize'] = [7, 5]\n",
    "plt.rcParams['xtick.labelsize'] = 14\n",
    "plt.rcParams['ytick.labelsize'] = 14"
   ]
  },
  {
   "cell_type": "markdown",
   "metadata": {},
   "source": [
    "## 1. Population migration (4 points)\n",
    "Inspired by G. Strang and Game of Thrones. \n",
    "\n",
    "Suppose there is an epidemic in which every month half of those who are Night's watchmen become Free Folk, and a quarter of those who are \n",
    "Free Folk become White Walkers. Let their populations at month $k$ be denoted by $n_k$, $f_k$ and $w_k$. The recurrence can be expressed  as\n",
    "$$ \\qquad \\qquad \\left \\lgroup \n",
    "\\matrix{w_{k+1} \\cr f_{k+1} \\cr n_{k+1} }  \n",
    "\\right\\rgroup= \\left \\lgroup \\matrix{ 1 & 1/4 & 0 \\cr 0 & 3/4& 1/2 \\cr 0 & 0 &  1/2 }\\right\\rgroup \\left \\lgroup \\matrix{w_{k} \\\\ f_{k} \\\\ n_{k}}\\right\\rgroup . $$\n",
    "For short, we write $y_{k+1} = Ay_k$.\n",
    "\n",
    "Suppose, initially, there are a thousand each of Night's watchmen, Free Folk and White Walkers, what happens to their population as $k\\rightarrow \\infty$?\n",
    "\n",
    "1. Compute and plot the populations as a function of $k$ using the recurrence relation $y_{k+1} = Ay_k$ with initial condition $y_0$."
   ]
  },
  {
   "cell_type": "code",
   "execution_count": null,
   "metadata": {},
   "outputs": [],
   "source": [
    "# The solution should be of the form 3 x 101.  \n",
    "# 3 = number of species, 101 = number of time points (including initial condition)\n",
    "\n",
    "y1 = np.zeros((3,101), dtype = 'd') \n",
    "\n",
    "\n",
    "plt.plot(np.arange(101), y1.T, lw = 2.)\n",
    "plt.legend((\"White Walkers\", 'Free Folk', \"Night's watchmen\"), fontsize = 16)\n",
    "plt.xlabel('Time', fontsize = 16); plt.ylabel('Population', fontsize = 16)"
   ]
  },
  {
   "cell_type": "markdown",
   "metadata": {},
   "source": [
    "\n",
    "2. Compute and plot the populations as a function of $k$ using the recurrence relation using the eigendecomposition. The analytical solution is $ y_k = A^k y_0$. Let $A = VDV^{-1}$ be the eigendecomposition of $A$; $A^k = VD^kV^{-1}$ and $$y_k = VD^kV^{-1}y_0.$$ \n"
   ]
  },
  {
   "cell_type": "code",
   "execution_count": null,
   "metadata": {},
   "outputs": [],
   "source": [
    "# Same instructions as before\n",
    "y2 = np.zeros((3,101), dtype = 'd') \n",
    "\n",
    "plt.figure()\n",
    "plt.plot(np.arange(101),y2.T, linewidth = 3.0)\n",
    "plt.legend((\"White Walkers\", 'Free Folk', \"Night's watchmen\"), fontsize = 16)\n",
    "plt.xlabel('Time', fontsize = 16); plt.ylabel('Population', fontsize = 16)"
   ]
  },
  {
   "cell_type": "markdown",
   "metadata": {},
   "source": [
    "## 2. Fit a polynomial to experimental data (6 points)\n",
    "\n",
    "Modified from Langtangen's book.\n",
    "\n",
    "Suppose we have measured the oscillation period $T$ of a simple pendulum with a mass $m$ at the end of a massless rod of length $L$. We have varied $L$ and recorded the corresponding $T$ value. The measurements are found in a [file](https://github.com/hplgit/scipro-primer/blob/master/src/plot/pendulum.dat). The first column in the file contains $L$ values and the second column has the corresponding $T$ values. \n",
    "\n",
    "### Task 1: \n",
    "Download the file and save it as `pendulum.dat` (do not copy the values onto an array). Open the file using `numpy.loadtxt` and plot the data. (The `skiprows` feature may be useful). "
   ]
  },
  {
   "cell_type": "code",
   "execution_count": null,
   "metadata": {},
   "outputs": [],
   "source": [
    "# Vector L should contain the lengths \n",
    "# Vector T should contain the time instances.\n",
    "\n",
    "plt.plot(T, L, 'ks', markersize = 4)\n",
    "plt.xlabel('T', fontsize = 16)\n",
    "plt.ylabel('L', fontsize = 16)\n",
    "plt.title('Data', fontsize = 16)"
   ]
  },
  {
   "cell_type": "markdown",
   "metadata": {},
   "source": [
    "### Task 2: Fitting a line\n",
    "\n",
    "Assume that we can write the length as a linear function\n",
    "$$ L \\approx x_1 + T x_2, $$\n",
    "where $x_2$ is the slope and $x_1$ is the intercept. To find these coefficients, we solve the least squares problem \n",
    "\n",
    "$$ \\min_x \\| Ax - b\\|^2_2  $$\n",
    "where $n$ is the number of data points and \n",
    "$$ x = \\begin{bmatrix} x_1 \\\\ x_2  \\end{bmatrix} \\qquad A = \\begin{bmatrix} 1 & T_1 \\\\ 1 & T_2 \\\\ \\vdots & \\vdots \\\\ 1 & T_n   \\end{bmatrix}  \\qquad b = \\begin{bmatrix} L_1 \\\\ L_2 \\\\  \\vdots L_n  \\end{bmatrix}.$$\n",
    "\n",
    "Setup the matrices and solve the least squares problem using the function `numpy.linalg.lstsq` for the coefficients. Use `rcond=None` to turn off warnings (if any).  "
   ]
  },
  {
   "cell_type": "code",
   "execution_count": null,
   "metadata": {},
   "outputs": [],
   "source": [
    "# Compute the coefficients in the form of the 2 x 1 vector x\n",
    "# This code plots the best fits.\n",
    "\n",
    "Tf = np.linspace(0.6,2.0)\n",
    "Lf = x[0] + Tf*x[1]\n",
    "\n",
    "plt.plot(T, L, 'ks', Tf, Lf, 'r--',  markersize = 4)\n",
    "plt.xlabel('T', fontsize = 16)\n",
    "plt.ylabel('L', fontsize = 16)\n",
    "plt.title('Linear Fit', fontsize = 16)"
   ]
  },
  {
   "cell_type": "markdown",
   "metadata": {},
   "source": [
    "### Bonus part:\n",
    "\n",
    "Implement your own least squares solver using QR factorization/ Singular Value Decomposition."
   ]
  },
  {
   "cell_type": "markdown",
   "metadata": {},
   "source": [
    "### Task 3: Fitting polynomials\n",
    "\n",
    "\n",
    "\n",
    "We shall assume that L as a function of T is a polynomial. Use the NumPy\n",
    "utilities `numpy.polyfit` and `numpy.poly1d` to fit polynomials of degree 2 and 3 to the $L$ and $T$ data. Plot the polynomial curves together with the experimental data. Which polynomial fits the measured data best?\n"
   ]
  },
  {
   "cell_type": "code",
   "execution_count": null,
   "metadata": {},
   "outputs": [],
   "source": [
    "# Tf is the time instances from before to plot the fits\n",
    "# Create two vectors L2f and L3f which evaluate the best fits of degree 2 and 3 respectively at \n",
    "# the time instance Tf.\n",
    "\n",
    "\n",
    "\n",
    "\n",
    "plt.plot(T, L, 'ks', Tf, L2f,'r-', lw = 4., markersize = 4) \n",
    "plt.plot(Tf, L3f, 'b--',  lw = 2.)\n",
    "plt.xlabel('T', fontsize = 16)\n",
    "plt.ylabel('L', fontsize = 16)\n",
    "plt.legend(('Data', 'Quadratic', 'Cubic'), fontsize = 16)\n",
    "plt.title('Polynomial Fit', fontsize = 18)"
   ]
  }
 ],
 "metadata": {
  "kernelspec": {
   "display_name": "Python 3",
   "language": "python",
   "name": "python3"
  },
  "language_info": {
   "codemirror_mode": {
    "name": "ipython",
    "version": 3
   },
   "file_extension": ".py",
   "mimetype": "text/x-python",
   "name": "python",
   "nbconvert_exporter": "python",
   "pygments_lexer": "ipython3",
   "version": "3.7.6"
  }
 },
 "nbformat": 4,
 "nbformat_minor": 2
}

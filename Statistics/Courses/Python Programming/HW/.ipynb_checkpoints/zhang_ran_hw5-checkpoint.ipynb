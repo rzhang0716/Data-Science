{
 "cells": [
  {
   "cell_type": "markdown",
   "metadata": {},
   "source": [
    "# Homework 5\n",
    "\n",
    "## Instructions\n",
    "+ Please write you solutions below each problem. \n",
    "+ The solutions may be in the form of code, markdown, or a combination of both. Make an effort to present the solutions in a clean fashion.\n",
    "+ Please submit this notebook in your git repository, under the folder `problemset`. The notebook should be titled `lastname_firstname_hw5.ipynb` (all lower case).\n",
    "\n",
    "\n",
    "Problems 1 and 2 are from [Project Euler](https://www.projecteuler.net/archives). It has plenty of math problems that are also fun programming exercises."
   ]
  },
  {
   "cell_type": "markdown",
   "metadata": {},
   "source": [
    "### Problem 1 (2 points): \n",
    "\n",
    "If we list all the natural numbers below 10 that are multiples of 3 or 5, we get 3, 5, 6 and 9. The sum of these multiples is 23.\n",
    "\n",
    "Find the sum of all the multiples of 3 or 5 below 1000.\n"
   ]
  },
  {
   "cell_type": "code",
   "execution_count": 12,
   "metadata": {},
   "outputs": [
    {
     "name": "stdout",
     "output_type": "stream",
     "text": [
      "233168\n"
     ]
    }
   ],
   "source": [
    "a = 0\n",
    "for i in range(1000):\n",
    "    if (i % 3 == 0) or (i%5==0):\n",
    "        a = a + i \n",
    "print(a)"
   ]
  },
  {
   "cell_type": "markdown",
   "metadata": {},
   "source": [
    "### Problem 2: (4 points)\n",
    "\n",
    "The following iterative sequence is defined for the set of positive integers:\n",
    "+  $n \\rightarrow n/2$ (n is even)\n",
    "+ $n \\rightarrow 3n + 1$ (n is odd)\n",
    "\n",
    "Using the rule above and starting with 13, we generate the following sequence:\n",
    "$$ 13 \\rightarrow 40 \\rightarrow  20 \\rightarrow  10 \\rightarrow  5 \\rightarrow  16 \\rightarrow  8 \\rightarrow  4 \\rightarrow  2 \\rightarrow  1.$$\n",
    "It can be seen that this sequence (starting at $13$ and finishing at $1$) contains $10$ terms. Although it has not been proved yet (Collatz Problem), it is thought that all starting numbers finish at 1.\n",
    "\n",
    "+ Which starting number, under one million, produces the longest chain? NOTE: Once the chain starts the terms are allowed to go above one million. \n",
    "+ Output the chain that is produced by this number. Hint: What data structure you have learned will be useful for this purpose?\n",
    "\n"
   ]
  },
  {
   "cell_type": "code",
   "execution_count": null,
   "metadata": {},
   "outputs": [],
   "source": [
    "a = list()\n",
    "for i in range(1,1000000,1):\n",
    "    if i % 2 ==0:\n",
    "        i = i\n",
    "\n",
    "        "
   ]
  },
  {
   "cell_type": "code",
   "execution_count": 60,
   "metadata": {},
   "outputs": [
    {
     "name": "stdout",
     "output_type": "stream",
     "text": [
      "1\n",
      "3\n",
      "5\n"
     ]
    }
   ],
   "source": [
    "for n in range(1,6,2):\n",
    "    print(n)"
   ]
  },
  {
   "cell_type": "markdown",
   "metadata": {},
   "source": [
    "\n",
    "    \n",
    "### Problem 3 (4 points):\n",
    "    \n",
    "A formula for computing $\\pi$ is \n",
    "$$ \\pi = \\sum_{k=1}^\\infty \\frac{(-1)^{k+1} 4}{2k-1} = 4 -\\frac{4}{3} + \\frac{4}{5} - \\dots .$$\n",
    "Denote the partial summation of the first $K$ terms as $S_K$.\n",
    "\n",
    "+ Write a loop to estimate $\\pi$ using the partial summation. The iterations should terminate when the difference between the absolute error $|\\pi - S_K| < \\epsilon = 10^{-3}$. For the value of $\\pi$ you can use \n",
    "\n",
    "```\n",
    "import math\n",
    "pi = math.pi\n",
    "```\n",
    "+ Report the number of iterations required for the approximation to reach the desired tolerance."
   ]
  },
  {
   "cell_type": "code",
   "execution_count": 51,
   "metadata": {
    "scrolled": true
   },
   "outputs": [
    {
     "name": "stdout",
     "output_type": "stream",
     "text": [
      "1000\n"
     ]
    }
   ],
   "source": [
    "import math\n",
    "pi = math.pi\n",
    "a = 0\n",
    "i = 0\n",
    "for k in range(1,10000):\n",
    "    S = (((-1)**(k+1))*4)/(2*k-1)\n",
    "    a = a + S\n",
    "    i = i + 1\n",
    "    if abs(pi - a) < 0.001:\n",
    "        print(i)\n",
    "        break"
   ]
  }
 ],
 "metadata": {
  "kernelspec": {
   "display_name": "Python 3",
   "language": "python",
   "name": "python3"
  },
  "language_info": {
   "codemirror_mode": {
    "name": "ipython",
    "version": 3
   },
   "file_extension": ".py",
   "mimetype": "text/x-python",
   "name": "python",
   "nbconvert_exporter": "python",
   "pygments_lexer": "ipython3",
   "version": "3.7.3"
  }
 },
 "nbformat": 4,
 "nbformat_minor": 2
}

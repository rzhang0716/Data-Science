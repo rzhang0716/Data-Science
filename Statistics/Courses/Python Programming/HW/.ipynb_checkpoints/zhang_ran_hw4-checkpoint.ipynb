{
 "cells": [
  {
   "cell_type": "markdown",
   "metadata": {},
   "source": [
    "\n",
    "# Homework 4\n",
    "\n",
    "### Instructions\n",
    "\n",
    "+ This homework is worth 10 points.\n",
    "+ Please write you solutions in the cells below each problem.\n",
    "+ The solutions may be in the form of code, markdown, or a combination of both.\n",
    "+ Please submit this notebook in your git repository, under the folder problemset. The notebook should be titled lastname_firstname_hw4.ipynb (all lower case)."
   ]
  },
  {
   "cell_type": "markdown",
   "metadata": {},
   "source": [
    "### Problem 1: First half and backwards (2 points)\n",
    "\n",
    "Write two new functions `first_half` and `backwards` that use slicing and indexing.\n",
    "    1. `first_half` should accept a list and return the first half. Exclude the middle entry if there are odd number of terms.\n",
    "    2. `backwards` should accept a list and return the list in reverse. Do not use `list.reverse()`.\n",
    "\n",
    "Demonstrate that your functions work, by testing them on at least two different lists of your choice."
   ]
  },
  {
   "cell_type": "code",
   "execution_count": null,
   "metadata": {},
   "outputs": [],
   "source": []
  },
  {
   "cell_type": "markdown",
   "metadata": {},
   "source": [
    "### Problem 2: List the Stark children ( 3 points)\n",
    "\n",
    "Write a function called `list_ops()`. \n",
    "\n",
    "0. Define a list with the entries \"Robb\", \"Sansa\",  \"Arya\", \"Brandon\", \"Rickon\", \"Jon\".\n",
    "1. Append \"Theon\" at the end. \n",
    "2. Remove \"Robb\" and \"Rickon\"  from the list.\n",
    "2. Sort the list in reverse alphabetical order. Hint: look up `list.sort()`\n",
    "3. Remove \"Jon\" from the list.\n",
    "4. Rename \"Brandon\" as \"Three Eyed Raven\"\n",
    "\n",
    "Return the resulting list. It may help to first work it out on paper and print the list at each step to check the intermediate results.\n",
    "\n",
    "Optional: You can also rename Arya as \"No One\" and then rename her Arya. "
   ]
  },
  {
   "cell_type": "code",
   "execution_count": null,
   "metadata": {},
   "outputs": [],
   "source": []
  },
  {
   "cell_type": "markdown",
   "metadata": {},
   "source": [
    "\n",
    "### Problem 3: Nested lists (3 points)\n",
    "    \n",
    "We define the following nested list:\n",
    "``` \n",
    "q = [[’a’, ’b’, ’c’], [’d’, ’e’, ’f’], [’g’, ’h’]]\n",
    "```\n",
    "\n",
    "Index this list to extract \n",
    "+ the letter 'a' \n",
    "+ the list [’d’, ’e’, ’f’]\n",
    "+ the last element 'h' \n",
    "+ the `d' element. \n",
    "\n",
    "\n",
    "Explain why q[-1][-2] has the value g.\n"
   ]
  },
  {
   "cell_type": "code",
   "execution_count": null,
   "metadata": {},
   "outputs": [],
   "source": []
  },
  {
   "cell_type": "markdown",
   "metadata": {},
   "source": [
    "### Problem 4: Area of a triangle (2 points)\n",
    "\n",
    "We can use a dictionary to store the vertices of a triangle. The vertices can be labeled in counterclockwise direction and stored as tuples. Example:\n",
    " \n",
    "```\n",
    "pts = {'1': (0,0), '2': (1,0), '3': (0,2)}\n",
    "```\n",
    "\n",
    "Write a function to compute the area of the triangle defined by this data structure. The function should take in a dictionary of the form above. Recall that the formula for the area of a triangle with vertices $(x_1,y_1), (x_2,y_2), (x_3,y_3)$ is \n",
    "\n",
    "$$ A = \\frac{1}{2} | x_2y_3 - x_3y_2 - x_1y_3 + x_3y_1 + x_1y_2 - x_2y_1|. $$"
   ]
  },
  {
   "cell_type": "code",
   "execution_count": null,
   "metadata": {},
   "outputs": [],
   "source": [
    "def trianglearea(pts):\n",
    "    \"\"\"\n",
    "    This function computes the area of a triangle with pts is a dictionary of the form \n",
    "    pts = {'1': (0,0), '2': (1,0), '3': (0,2)}\n",
    "\n",
    "    The inputs are assumed to be real numbers.\n",
    "    \n",
    "    \"\"\"\n",
    "    \n",
    "    ### Fill in the missing line here\n",
    "    \n",
    "    \n",
    "    return A\n",
    "\n",
    "\n",
    "def testtrianglearea():\n",
    "    \"\"\"\n",
    "    This function tests the correctness of your implementation\n",
    "    \n",
    "    \"\"\"\n",
    "    # Test 1: Vertices (0,0), (1,0), (0,2)\n",
    "    pts1 = {'1': (0,0), '2': (1,0), '3': (0,2)}\n",
    "    Acomp = trianglearea(pts1)\n",
    "    Atrue = 1.0\n",
    "    print('Test 1')\n",
    "    print(\"The computed area is {0}, and the correct area is {1}.\".format(Acomp,Atrue))\n",
    "    print(\"The absolute error is %0.15g\" % (abs(Atrue - Acomp)))\n",
    "    print('\\n')\n",
    "    \n",
    "    # Test 2: Vertices (2,1), (8,9), (1,8)\n",
    "    pts2 = {'1': (2,1), '2': (8,9), '3': (1,8)}\n",
    "    Acomp = trianglearea(pts2)\n",
    "    Atrue = 25.0\n",
    "    print('Test 2')\n",
    "    print(\"The computed area is {0}, and the correct area is {1}.\".format(Acomp,Atrue))\n",
    "    print(\"The absolute error is %0.15g\" % (abs(Atrue - Acomp)))\n",
    "    print('\\n')\n",
    "    \n",
    "    return\n",
    "\n",
    "#Testing your implementation\n",
    "testtrianglearea()"
   ]
  }
 ],
 "metadata": {
  "kernelspec": {
   "display_name": "Python 3",
   "language": "python",
   "name": "python3"
  },
  "language_info": {
   "codemirror_mode": {
    "name": "ipython",
    "version": 3
   },
   "file_extension": ".py",
   "mimetype": "text/x-python",
   "name": "python",
   "nbconvert_exporter": "python",
   "pygments_lexer": "ipython3",
   "version": "3.7.3"
  }
 },
 "nbformat": 4,
 "nbformat_minor": 2
}

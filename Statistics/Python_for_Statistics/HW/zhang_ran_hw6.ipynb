{
 "cells": [
  {
   "cell_type": "markdown",
   "metadata": {},
   "source": [
    "# Homework 6\n",
    "\n",
    "## Instructions\n",
    "+ Please write you solutions in cells below each problem. Use multiple cells if necessary. \n",
    "+ The solutions may be in the form of code, markdown, or a combination of both. Make an effort to present the solutions in a clean fashion.\n",
    "+ Please submit this notebook in your git repository, under the folder `problemset`. The notebook should be titled `lastname_firstname_hw6.ipynb` (all lower case).\n",
    "\n",
    "\n",
    "\n",
    "An important feature of programming is to write functions to test the behavior of the functions (methods) that you will implement. In these exercises, for each function that you implement you will have to write a test function. The function will be named ```test_<function name>()``` and will not take any arguments. This will be a part of *unit testing* which we will also explore in future lectures."
   ]
  },
  {
   "cell_type": "markdown",
   "metadata": {},
   "source": [
    "### Problem 1: Farenheit-Celsius conversion (2 points)\n",
    "    \n",
    "The formula for converting Fahrenheit degrees to Celsius reads\n",
    "$$ C = \\frac{5}{9}(F-32) .$$\n",
    "    \n",
    "1. Write a function ```celsius(f)``` that implements this formula and the inverse function ```farenheit(c)``` for going from Celsius to Farenheit degrees. \n",
    "2. Write a test function ```test_cf``` to check the performance of these functions. Devise your own ways to test the performance of the two functions. For example, ```celcius(farenheit(c))``` should give ```c``` and ```farenheit(celsius(f))``` should give ```f```.  "
   ]
  },
  {
   "cell_type": "code",
   "execution_count": 11,
   "metadata": {},
   "outputs": [
    {
     "name": "stdout",
     "output_type": "stream",
     "text": [
      "79.44444444444444\n",
      "98.60000000000001\n"
     ]
    }
   ],
   "source": [
    "def celsius(f):\n",
    "    C = (5/9)*(f-32)\n",
    "    return C\n",
    "def farenheit(c):\n",
    "    F = (9/5)*c+32\n",
    "    return F\n",
    "print(celsius(175))\n",
    "print(farenheit(37))"
   ]
  },
  {
   "cell_type": "code",
   "execution_count": 9,
   "metadata": {},
   "outputs": [
    {
     "name": "stdout",
     "output_type": "stream",
     "text": [
      "37.00000000000001\n",
      "37.0\n"
     ]
    }
   ],
   "source": [
    "def test_cf():\n",
    "    print(celsius(farenheit(37)))\n",
    "    print(farenheit(celsius(37)))\n",
    "test_cf()"
   ]
  },
  {
   "cell_type": "markdown",
   "metadata": {},
   "source": [
    "### Problem 2: Numerical Differentiation (4 points)\n",
    "    \n",
    "The formula\n",
    "\\begin{equation}\\label{eqn:cent}  f'(x)  \\approx \\frac{f(x+h) - f(x-h)}{2h} \\end{equation}\n",
    " can be used to find an approximate derivative of a mathematical function $f(x)$ if h is small.\n",
    "\n",
    "1. Write a function ```diff(f, x, h=1e-5)``` that returns the approximation of the derivative of a mathematical function represented by a Python function $f(x)$.\n",
    "2. Write a test function ```test_diff_quad()```  that verifies the implementation of the function ```diff```.  Use the fact that the approximation is exact for quadratic functions (at least for not so small h values that rounding errors  become significant – you have to experiment with finding a suitable tolerance and h). Try at least **3 different quadratics**. \n",
    "3. Write a function ```test_diff_fun()``` that computes the derivative of the function \n",
    "$$ f(x) = e^{-x} - e^{-2x}. $$\n",
    "Compute the absolute error with the true derivative for 6 different values of $x$, and $h = 10^{-15},10^{-14},\\dots,10^{-2},10^{-1}$. Display the result in the form of a table.\n",
    "\n",
    "| x = |  0.0  | 0.2 | 0.4| 0.6 | 0.8 | 1.0 | \n",
    "| ------------- |-------------| -----| ---- | --- | --- | --- |\n",
    "|h =  1e-1 | | | | | | | \n",
    "|h =  1e-2 | | | | | | | \n",
    "| ... | | | | | | | \n",
    "|h =  1e-14 | | | | | | | \n",
    "|h =  1e-15 | | | | | | | \n"
   ]
  },
  {
   "cell_type": "markdown",
   "metadata": {},
   "source": [
    "# Question a"
   ]
  },
  {
   "cell_type": "code",
   "execution_count": 14,
   "metadata": {},
   "outputs": [],
   "source": [
    "def diff(f,x,h=1e-5):\n",
    "    c = (f(x+h)-f(x-h))/(2*h)\n",
    "    print(c)"
   ]
  },
  {
   "cell_type": "markdown",
   "metadata": {},
   "source": [
    "# Question b"
   ]
  },
  {
   "cell_type": "code",
   "execution_count": 17,
   "metadata": {
    "scrolled": true
   },
   "outputs": [
    {
     "name": "stdout",
     "output_type": "stream",
     "text": [
      "The approximation of 1st quadratic is 19.999999999242846 and true derivative of 1st quadratic is 20 the difference is -7.571543392259628e-10\n"
     ]
    }
   ],
   "source": [
    "# 1st:\n",
    "def f1(x):\n",
    "    return(x**2)\n",
    "def test_diff_quad():\n",
    "    x=10\n",
    "    h=10**(-5)\n",
    "    c1=((f1(x+h)-f1(x-h))/2/h)\n",
    "    c2=2*x\n",
    "    print('The approximation of 1st is', c1, 'and true derivative of 1st is', c2, 'the difference is', c1-c2)\n",
    "test_diff_quad()    "
   ]
  },
  {
   "cell_type": "code",
   "execution_count": 18,
   "metadata": {},
   "outputs": [
    {
     "name": "stdout",
     "output_type": "stream",
     "text": [
      "The approximation of 1st is 383.9999999854626 and true derivative of 1st is 384 the difference is -1.4537420156557346e-08\n"
     ]
    }
   ],
   "source": [
    "# 2nd:\n",
    "def f2(x):\n",
    "    return(x**2)*8+2\n",
    "def test_diff_quad():\n",
    "    x=24\n",
    "    h=10**(-5)\n",
    "    c1=((f2(x+h)-f2(x-h))/2/h)\n",
    "    c2=16*x\n",
    "    print('The approximation of 1st is', c1, 'and true derivative of 1st is', c2, 'the difference is', c1-c2)\n",
    "test_diff_quad() "
   ]
  },
  {
   "cell_type": "code",
   "execution_count": 20,
   "metadata": {},
   "outputs": [
    {
     "name": "stdout",
     "output_type": "stream",
     "text": [
      "The approximation of 1st is -2.0000000001019203 and true derivative of 1st is -2 the difference is -1.0192025001742877e-10\n"
     ]
    }
   ],
   "source": [
    "def f3(x):\n",
    "    return((x-3)**2)+24\n",
    "def test_diff_quad():\n",
    "    x=2\n",
    "    h=10**(-5)\n",
    "    c1=((f3(x+h)-f3(x-h))/2/h)\n",
    "    c2=2*(x-3)\n",
    "    print('The approximation of 1st is', c1, 'and true derivative of 1st is', c2, 'the difference is', c1-c2)\n",
    "test_diff_quad() "
   ]
  },
  {
   "cell_type": "markdown",
   "metadata": {},
   "source": [
    "# Question c"
   ]
  },
  {
   "cell_type": "code",
   "execution_count": 33,
   "metadata": {},
   "outputs": [],
   "source": [
    "def f1(x):\n",
    "    return exp(-1*x)-exp(-2*x)\n",
    "def f2(x):\n",
    "    return -exp(-1*x)+2*exp(-2*x)"
   ]
  },
  {
   "cell_type": "code",
   "execution_count": 186,
   "metadata": {
    "scrolled": false
   },
   "outputs": [],
   "source": [
    "l1 = []\n",
    "for i in range(1,16):\n",
    "    l1.append(10**(-i))"
   ]
  },
  {
   "cell_type": "code",
   "execution_count": 170,
   "metadata": {},
   "outputs": [],
   "source": [
    "f = lambda x:exp(-1*x)-exp(-2*x)\n",
    "g = lambda x:-exp(-1*x)+2*exp(-2*x) "
   ]
  },
  {
   "cell_type": "code",
   "execution_count": 188,
   "metadata": {},
   "outputs": [
    {
     "data": {
      "text/plain": [
       "array([0. , 0.2, 0.4, 0.6, 0.8, 1. ])"
      ]
     },
     "execution_count": 188,
     "metadata": {},
     "output_type": "execute_result"
    }
   ],
   "source": [
    "import numpy as np\n",
    "x = np.linspace(0,1,6)"
   ]
  },
  {
   "cell_type": "code",
   "execution_count": 195,
   "metadata": {},
   "outputs": [],
   "source": [
    "l2=list()\n",
    "def test_diff_fun():\n",
    "    for i in range(len(x)):\n",
    "        for j in range(len(l1)):\n",
    "            l2.append(abs((f(x[i]+l1[j])-f(x[i]-l1[j]))/2/h[j]-g(x[i])))\n",
    "    return l2\n",
    "result = test_diff_fun()\n",
    "import pandas as pd\n",
    "from pandas import Series, DataFrame\n",
    "df = DataFrame(np.array(result).reshape(15,6))"
   ]
  },
  {
   "cell_type": "markdown",
   "metadata": {},
   "source": [
    "# For row name, under this way df = df.rename(columns=lambda x:x/5) Only apply once as it will always change"
   ]
  },
  {
   "cell_type": "code",
   "execution_count": 207,
   "metadata": {},
   "outputs": [
    {
     "data": {
      "text/html": [
       "<div>\n",
       "<style scoped>\n",
       "    .dataframe tbody tr th:only-of-type {\n",
       "        vertical-align: middle;\n",
       "    }\n",
       "\n",
       "    .dataframe tbody tr th {\n",
       "        vertical-align: top;\n",
       "    }\n",
       "\n",
       "    .dataframe thead th {\n",
       "        text-align: right;\n",
       "    }\n",
       "</style>\n",
       "<table border=\"1\" class=\"dataframe\">\n",
       "  <thead>\n",
       "    <tr style=\"text-align: right;\">\n",
       "      <th></th>\n",
       "      <th>0.0</th>\n",
       "      <th>0.2</th>\n",
       "      <th>0.4</th>\n",
       "      <th>0.6</th>\n",
       "      <th>0.8</th>\n",
       "      <th>1.0</th>\n",
       "    </tr>\n",
       "  </thead>\n",
       "  <tbody>\n",
       "    <tr>\n",
       "      <th>h = 1e-1</th>\n",
       "      <td>0.0116925252124991</td>\n",
       "      <td>0.000116669250034063</td>\n",
       "      <td>1.16666693061873e-6</td>\n",
       "      <td>1.16666685201494e-8</td>\n",
       "      <td>1.17573506486224e-10</td>\n",
       "      <td>2.87556645162113e-11</td>\n",
       "    </tr>\n",
       "    <tr>\n",
       "      <th>h = 1e-2</th>\n",
       "      <td>1.13897868914137e-9</td>\n",
       "      <td>5.26355847796367e-10</td>\n",
       "      <td>8.37930828057054e-8</td>\n",
       "      <td>8.27403709990904e-8</td>\n",
       "      <td>8.27403709990904e-8</td>\n",
       "      <td>7.76328713527619e-5</td>\n",
       "    </tr>\n",
       "    <tr>\n",
       "      <th>h = 1e-3</th>\n",
       "      <td>0.000866056699578621</td>\n",
       "      <td>0.000799277837359114</td>\n",
       "      <td>0.0547118733938987</td>\n",
       "      <td>0.00759025915527212</td>\n",
       "      <td>7.57322128966953e-5</td>\n",
       "      <td>7.57305131160457e-7</td>\n",
       "    </tr>\n",
       "    <tr>\n",
       "      <th>h = 1e-4</th>\n",
       "      <td>7.57363205483585e-9</td>\n",
       "      <td>7.51857465175476e-11</td>\n",
       "      <td>3.07768255325414e-11</td>\n",
       "      <td>8.62879767637992e-11</td>\n",
       "      <td>1.02393504786136e-9</td>\n",
       "      <td>1.00782951983902e-8</td>\n",
       "    </tr>\n",
       "    <tr>\n",
       "      <th>h = 1e-5</th>\n",
       "      <td>3.98656353817195e-7</td>\n",
       "      <td>9.53767866129773e-7</td>\n",
       "      <td>6.50488298925556e-6</td>\n",
       "      <td>0.000104517419473260</td>\n",
       "      <td>0.000104517419473260</td>\n",
       "      <td>0.0223089779119764</td>\n",
       "    </tr>\n",
       "    <tr>\n",
       "      <th>h = 1e-6</th>\n",
       "      <td>0.00488528756869422</td>\n",
       "      <td>4.87396701412957e-5</td>\n",
       "      <td>4.87385415137709e-7</td>\n",
       "      <td>4.87413420735550e-9</td>\n",
       "      <td>4.77171357982087e-11</td>\n",
       "      <td>4.21660484306585e-11</td>\n",
       "    </tr>\n",
       "    <tr>\n",
       "      <th>h = 1e-7</th>\n",
       "      <td>2.63145283341260e-10</td>\n",
       "      <td>2.51241227822163e-9</td>\n",
       "      <td>5.81426043422262e-9</td>\n",
       "      <td>2.19413152091619e-8</td>\n",
       "      <td>3.86383927097889e-6</td>\n",
       "      <td>7.23839097527268e-6</td>\n",
       "    </tr>\n",
       "    <tr>\n",
       "      <th>h = 1e-8</th>\n",
       "      <td>9.05051178221594e-5</td>\n",
       "      <td>0.000742162150646708</td>\n",
       "      <td>0.00629327727377252</td>\n",
       "      <td>0.00310881881268207</td>\n",
       "      <td>3.10131251097800e-5</td>\n",
       "      <td>3.10123735136614e-7</td>\n",
       "    </tr>\n",
       "    <tr>\n",
       "      <th>h = 1e-9</th>\n",
       "      <td>3.10096681666039e-9</td>\n",
       "      <td>3.42532599506562e-11</td>\n",
       "      <td>5.36821698204903e-11</td>\n",
       "      <td>2.75726774745522e-10</td>\n",
       "      <td>3.05494229912995e-9</td>\n",
       "      <td>3.35860754763218e-8</td>\n",
       "    </tr>\n",
       "    <tr>\n",
       "      <th>h = 1e-10</th>\n",
       "      <td>4.77675285326384e-7</td>\n",
       "      <td>5.75123465229588e-6</td>\n",
       "      <td>1.92287834017701e-5</td>\n",
       "      <td>8.52679221385877e-6</td>\n",
       "      <td>0.00470992106244306</td>\n",
       "      <td>0.00193436350088016</td>\n",
       "    </tr>\n",
       "    <tr>\n",
       "      <th>h = 1e-11</th>\n",
       "      <td>0.00194808647395850</td>\n",
       "      <td>1.94312206139302e-5</td>\n",
       "      <td>1.94307226697443e-7</td>\n",
       "      <td>1.94318533486282e-9</td>\n",
       "      <td>1.91688401263157e-11</td>\n",
       "      <td>2.51548781804445e-12</td>\n",
       "    </tr>\n",
       "    <tr>\n",
       "      <th>h = 1e-12</th>\n",
       "      <td>1.82926729319632e-10</td>\n",
       "      <td>3.21704607397777e-10</td>\n",
       "      <td>8.00496807729090e-9</td>\n",
       "      <td>1.30772910000854e-7</td>\n",
       "      <td>1.30772910000854e-7</td>\n",
       "      <td>1.67841182793782e-5</td>\n",
       "    </tr>\n",
       "    <tr>\n",
       "      <th>h = 1e-13</th>\n",
       "      <td>0.000260771637876911</td>\n",
       "      <td>0.000260771637876911</td>\n",
       "      <td>0.00390256470446743</td>\n",
       "      <td>0.00119464378188217</td>\n",
       "      <td>1.19137106530109e-5</td>\n",
       "      <td>1.19133854448172e-7</td>\n",
       "    </tr>\n",
       "    <tr>\n",
       "      <th>h = 1e-14</th>\n",
       "      <td>1.19137921750223e-9</td>\n",
       "      <td>1.37101580088839e-11</td>\n",
       "      <td>1.55542245749984e-12</td>\n",
       "      <td>1.55542245749984e-12</td>\n",
       "      <td>4.14778211776934e-10</td>\n",
       "      <td>5.13633691134885e-9</td>\n",
       "    </tr>\n",
       "    <tr>\n",
       "      <th>h = 1e-15</th>\n",
       "      <td>1.05885965551167e-7</td>\n",
       "      <td>8.65559180995845e-7</td>\n",
       "      <td>1.89066833311546e-5</td>\n",
       "      <td>6.43600435157321e-5</td>\n",
       "      <td>0.00145213882429718</td>\n",
       "      <td>0.0138134277642987</td>\n",
       "    </tr>\n",
       "  </tbody>\n",
       "</table>\n",
       "</div>"
      ],
      "text/plain": [
       "                            0.0                   0.2                   0.4  \\\n",
       "h = 1e-1     0.0116925252124991  0.000116669250034063   1.16666693061873e-6   \n",
       "h = 1e-2    1.13897868914137e-9  5.26355847796367e-10   8.37930828057054e-8   \n",
       "h = 1e-3   0.000866056699578621  0.000799277837359114    0.0547118733938987   \n",
       "h = 1e-4    7.57363205483585e-9  7.51857465175476e-11  3.07768255325414e-11   \n",
       "h = 1e-5    3.98656353817195e-7   9.53767866129773e-7   6.50488298925556e-6   \n",
       "h = 1e-6    0.00488528756869422   4.87396701412957e-5   4.87385415137709e-7   \n",
       "h = 1e-7   2.63145283341260e-10   2.51241227822163e-9   5.81426043422262e-9   \n",
       "h = 1e-8    9.05051178221594e-5  0.000742162150646708   0.00629327727377252   \n",
       "h = 1e-9    3.10096681666039e-9  3.42532599506562e-11  5.36821698204903e-11   \n",
       "h = 1e-10   4.77675285326384e-7   5.75123465229588e-6   1.92287834017701e-5   \n",
       "h = 1e-11   0.00194808647395850   1.94312206139302e-5   1.94307226697443e-7   \n",
       "h = 1e-12  1.82926729319632e-10  3.21704607397777e-10   8.00496807729090e-9   \n",
       "h = 1e-13  0.000260771637876911  0.000260771637876911   0.00390256470446743   \n",
       "h = 1e-14   1.19137921750223e-9  1.37101580088839e-11  1.55542245749984e-12   \n",
       "h = 1e-15   1.05885965551167e-7   8.65559180995845e-7   1.89066833311546e-5   \n",
       "\n",
       "                            0.6                   0.8                   1.0  \n",
       "h = 1e-1    1.16666685201494e-8  1.17573506486224e-10  2.87556645162113e-11  \n",
       "h = 1e-2    8.27403709990904e-8   8.27403709990904e-8   7.76328713527619e-5  \n",
       "h = 1e-3    0.00759025915527212   7.57322128966953e-5   7.57305131160457e-7  \n",
       "h = 1e-4   8.62879767637992e-11   1.02393504786136e-9   1.00782951983902e-8  \n",
       "h = 1e-5   0.000104517419473260  0.000104517419473260    0.0223089779119764  \n",
       "h = 1e-6    4.87413420735550e-9  4.77171357982087e-11  4.21660484306585e-11  \n",
       "h = 1e-7    2.19413152091619e-8   3.86383927097889e-6   7.23839097527268e-6  \n",
       "h = 1e-8    0.00310881881268207   3.10131251097800e-5   3.10123735136614e-7  \n",
       "h = 1e-9   2.75726774745522e-10   3.05494229912995e-9   3.35860754763218e-8  \n",
       "h = 1e-10   8.52679221385877e-6   0.00470992106244306   0.00193436350088016  \n",
       "h = 1e-11   1.94318533486282e-9  1.91688401263157e-11  2.51548781804445e-12  \n",
       "h = 1e-12   1.30772910000854e-7   1.30772910000854e-7   1.67841182793782e-5  \n",
       "h = 1e-13   0.00119464378188217   1.19137106530109e-5   1.19133854448172e-7  \n",
       "h = 1e-14  1.55542245749984e-12  4.14778211776934e-10   5.13633691134885e-9  \n",
       "h = 1e-15   6.43600435157321e-5   0.00145213882429718    0.0138134277642987  "
      ]
     },
     "execution_count": 207,
     "metadata": {},
     "output_type": "execute_result"
    }
   ],
   "source": [
    "df.index = ['h = 1e-1','h = 1e-2','h = 1e-3','h = 1e-4','h = 1e-5','h = 1e-6','h = 1e-7','h = 1e-8','h = 1e-9','h = 1e-10','h = 1e-11','h = 1e-12','h = 1e-13','h = 1e-14','h = 1e-15']\n",
    "df"
   ]
  },
  {
   "cell_type": "markdown",
   "metadata": {},
   "source": [
    "### Problem 3: Numerical integration using Trapezoidal rule (4 points)\n",
    "    \n",
    "An approximation to the integral of a function $f(x)$ over an interval $(a,b)$ can be found by first approximating $f(x)$ by the straight line that goes through the end points $(a,f(a))$ and $(b,f(b))$, and then finding the area under the straight line, which is the area of a trapezoid. The resulting formula becomes\n",
    "\n",
    "$$ \\int_a^b f(x) dx \\approx \\frac{b-a}{2}(f(b)+f(a)). $$\n",
    "\n",
    "1. Write a function ```trapezint1(f, a, b)``` that returns this approximation to the integral. The argument f is a Python implementation $f(x)$ of the mathematical function $f(x)$.\n",
    "2. Use the approximation above to compute the following integrals: $\\int_0^\\pi \\cos(x) dx$,  and $\\int_0^{\\pi/2}\\sin(x)dx$. In each case, write out the absolute error between the exact integral and its approximation.\n",
    "3. A further improvement of the approximate integration method from c) is to divide the area under the $f(x)$ curve into $n$ equal-sized trapezoids. Based on this idea, derive the following formula for approximating the integral:\n",
    " $$ \\int_a^b f(x) dx \\approx \\frac{b-a}{2n} \\sum_{i=1}^{n-1}(f(x_i) + f(x_{i+1})), $$\n",
    "where $x_i = a +i(b-a)/n$ for $i=0,\\dots,n$ are the coordinates of the trapezoids. Implement this approximation in a Python function `trapezint(f, a, b, n)`. \n",
    "4. Verify the implementation of the function `trapezint`. You could use the examples from part 2 with $n=10, 50$, and $100$. Report the resulting accuracy."
   ]
  },
  {
   "cell_type": "markdown",
   "metadata": {},
   "source": [
    "# Question 1"
   ]
  },
  {
   "cell_type": "code",
   "execution_count": 134,
   "metadata": {},
   "outputs": [],
   "source": [
    "def trapezint1(f,a,b):\n",
    "    return((b-a)/2*(f(b)+f(a)))"
   ]
  },
  {
   "cell_type": "markdown",
   "metadata": {},
   "source": [
    "# Question 2"
   ]
  },
  {
   "cell_type": "code",
   "execution_count": 118,
   "metadata": {},
   "outputs": [],
   "source": [
    "from math import sin, cos, pi\n",
    "from scipy.integrate import quad"
   ]
  },
  {
   "cell_type": "code",
   "execution_count": 135,
   "metadata": {},
   "outputs": [],
   "source": [
    "f1 = lambda x:cos(x)\n",
    "a1,e1 = quad(f1,0,pi)\n",
    "asy1 = trapezint1(f1,0,pi)"
   ]
  },
  {
   "cell_type": "code",
   "execution_count": 136,
   "metadata": {
    "scrolled": true
   },
   "outputs": [],
   "source": [
    "f2 = lambda x:sin(x)\n",
    "a2,e2 = quad(f2,0,pi/2)\n",
    "asy2 = trapezint1(f2,0,pi/2)"
   ]
  },
  {
   "cell_type": "code",
   "execution_count": 122,
   "metadata": {
    "scrolled": true
   },
   "outputs": [
    {
     "name": "stdout",
     "output_type": "stream",
     "text": [
      "The asympototic value is 0.0 , The true answer 4.402786869117102e-17 , The absolute error is 4.402786869117102e-17\n",
      "The asympototic value is 0.7853981633974483 , The true answer 0.9999999999999999 , The absolute error is 0.2146018366025516\n"
     ]
    }
   ],
   "source": [
    "print('The asympototic value is', asy1, ', The true answer', a1,', The absolute error is',abs(asy1-a1))\n",
    "print('The asympototic value is', asy2, ', The true answer', a2,', The absolute error is',abs(asy2-a2))"
   ]
  },
  {
   "cell_type": "markdown",
   "metadata": {},
   "source": [
    "# Question 3"
   ]
  },
  {
   "cell_type": "code",
   "execution_count": 143,
   "metadata": {},
   "outputs": [],
   "source": [
    "def trapezint(f, a, b, n):\n",
    "    s = 0\n",
    "    for i in range(1,n):\n",
    "        x1 = a+(i)*(b-a)/n\n",
    "        x2 = a+(i+1)*(b-a)/n\n",
    "        s += f(x1)+f(x2)\n",
    "    return (b-a)/2/n*s"
   ]
  },
  {
   "cell_type": "markdown",
   "metadata": {},
   "source": [
    "# Question 4"
   ]
  },
  {
   "cell_type": "code",
   "execution_count": 147,
   "metadata": {},
   "outputs": [],
   "source": [
    "f = lambda x:cos(x)\n",
    "as1 = trapezint(f, 0, pi, 10)\n",
    "as2 = trapezint(f, 0, pi, 50)\n",
    "as3 = trapezint(f, 0, pi, 100)"
   ]
  },
  {
   "cell_type": "code",
   "execution_count": 150,
   "metadata": {},
   "outputs": [
    {
     "name": "stdout",
     "output_type": "stream",
     "text": [
      "n=10: The appro is -0.3064712409165673 The true value is 4.402786869117102e-17 , The error is 0.30647124091656736\n"
     ]
    }
   ],
   "source": [
    "print('n=10: The appro is', as1, 'The true value is', a1,', The error is',abs(as1-a1))"
   ]
  },
  {
   "cell_type": "code",
   "execution_count": 152,
   "metadata": {},
   "outputs": [
    {
     "name": "stdout",
     "output_type": "stream",
     "text": [
      "n=50: The appro is -0.06276986091706308 The true value is 4.402786869117102e-17 , The error is 0.06276986091706312\n"
     ]
    }
   ],
   "source": [
    "print('n=50: The appro is', as2, 'The true value is', a1,', The error is',abs(as2-a1))"
   ]
  },
  {
   "cell_type": "code",
   "execution_count": 153,
   "metadata": {},
   "outputs": [
    {
     "name": "stdout",
     "output_type": "stream",
     "text": [
      "n=50: The appro is -0.03140817560424781 The true value is 4.402786869117102e-17 , The error is 0.03140817560424785\n"
     ]
    }
   ],
   "source": [
    "print('n=50: The appro is', as3, 'The true value is', a1,', The error is',abs(as3-a1))"
   ]
  },
  {
   "cell_type": "markdown",
   "metadata": {},
   "source": [
    "# So as sample size increased, the accuracy increased"
   ]
  }
 ],
 "metadata": {
  "kernelspec": {
   "display_name": "Python 3",
   "language": "python",
   "name": "python3"
  },
  "language_info": {
   "codemirror_mode": {
    "name": "ipython",
    "version": 3
   },
   "file_extension": ".py",
   "mimetype": "text/x-python",
   "name": "python",
   "nbconvert_exporter": "python",
   "pygments_lexer": "ipython3",
   "version": "3.7.3"
  }
 },
 "nbformat": 4,
 "nbformat_minor": 2
}

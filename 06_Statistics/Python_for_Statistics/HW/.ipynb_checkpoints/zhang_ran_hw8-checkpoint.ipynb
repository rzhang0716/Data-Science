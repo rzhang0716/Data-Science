{
 "cells": [
  {
   "cell_type": "markdown",
   "metadata": {},
   "source": [
    "# Homework 8\n",
    "\n",
    "## Instructions\n",
    "+ Please write you solutions in cells below each problem. Use multiple cells if necessary. \n",
    "+ The solutions may be in the form of code, markdown, or a combination of both. Make an effort to present the solutions in a clean fashion.\n",
    "+ Please submit this notebook in your git repository, under the folder `problemset`. The notebook should be titled `lastname_firstname_hw8.ipynb` (all lower case).\n",
    "\n",
    "\n",
    "For all the plots below: please label each axes, add a legend (where appropriate), and title the plot. All the fontsizes should be at least $14$.\n"
   ]
  },
  {
   "cell_type": "markdown",
   "metadata": {},
   "source": [
    "### Problem 1: Project (2 points)\n",
    "\n",
    "Let me know in a cell below which project option you plan to choose. If you're proposing your own project, please give the appropriate details. "
   ]
  },
  {
   "cell_type": "code",
   "execution_count": null,
   "metadata": {},
   "outputs": [],
   "source": []
  },
  {
   "cell_type": "markdown",
   "metadata": {},
   "source": [
    "### Problem 2: 1D plotting (3 points)\n",
    "\n",
    "Problem 1: The file [src/plot/xy.dat](https://github.com/hplgit/scipro-primer/blob/master/src/plot/xy.dat) contains two columns of numbers, corresponding to x and y coordinates on a curve.\n",
    "\n",
    "\n",
    "Save the file in a local folder as `xy.dat`. You can read the data as \n",
    "```\n",
    "import numpy as np\n",
    "# Read table of floats\n",
    "data = np.loadtxt(’xy.dat’, dtype=np.float) # Extract one-dim arrays from two-dim data \n",
    "x = data[:,0] # column with index 0\n",
    "y = data[:,1] # column with index 1\n",
    "```\n",
    "\n",
    "\n",
    "1. Plot the data points as a black curve (with linewidth 3). \n",
    "2. Plot the global minimizer and maximizer as red points on the curve. Compute these points by searching through the y-coordinates (you do not need an optimization routine). \n",
    "3. Add a legend entry for the curve, the minimizer, and the maximizer."
   ]
  },
  {
   "cell_type": "code",
   "execution_count": null,
   "metadata": {},
   "outputs": [],
   "source": [
    "import numpy as np\n",
    "data = n"
   ]
  },
  {
   "cell_type": "markdown",
   "metadata": {},
   "source": [
    "### Problem 3: 2D Plotting (5 points) \n",
    "Consider the Rosenbrock function \n",
    "$$ f(x_1,x_2) = (x_1-1)^2  + 100(x_2-x_1^2)^2.$$\n",
    "\n",
    "1. Plot the function as three different subplots using `pcolormesh`, `contour` or `contourf`, `surf` (you need to use `mplot3d`).\n",
    "2. Find the global minimum using `scipy.optimize.minimize`.\n",
    "3. Plot the optimization path (i.e., the sequence of iterates) on a contour plot. Note that to get the optimization history use the `callback` option. Here is an example of a callback function; the list `hist` has the iteration history.  \n",
    "\n",
    "```\n",
    "hist = []\n",
    "def callback(xk):\n",
    "    hist.append(xk)\n",
    "    return \n",
    "```"
   ]
  },
  {
   "cell_type": "code",
   "execution_count": null,
   "metadata": {},
   "outputs": [],
   "source": []
  }
 ],
 "metadata": {
  "kernelspec": {
   "display_name": "Python 3",
   "language": "python",
   "name": "python3"
  },
  "language_info": {
   "codemirror_mode": {
    "name": "ipython",
    "version": 3
   },
   "file_extension": ".py",
   "mimetype": "text/x-python",
   "name": "python",
   "nbconvert_exporter": "python",
   "pygments_lexer": "ipython3",
   "version": "3.7.6"
  }
 },
 "nbformat": 4,
 "nbformat_minor": 2
}
